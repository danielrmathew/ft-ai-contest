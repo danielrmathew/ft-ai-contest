{
 "cells": [
  {
   "cell_type": "code",
   "execution_count": 1,
   "id": "4234d763",
   "metadata": {},
   "outputs": [],
   "source": [
    "# !pip install accelerate\n",
    "# !pip install -i https://pypi.org/simple/ bitsandbytes\n",
    "\n",
    "# !pip install llama-index-embeddings-huggingface\n",
    "\n",
    "# !pip install llama-index\n",
    "\n",
    "# !pip install llama-index-llms-huggingface"
   ]
  },
  {
   "cell_type": "code",
   "execution_count": 1,
   "id": "c8ba0413",
   "metadata": {},
   "outputs": [],
   "source": [
    "from llama_index.core import SimpleDirectoryReader, VectorStoreIndex\n",
    "from llama_index.core import set_global_tokenizer\n",
    "from transformers import AutoTokenizer\n",
    "from llama_index.embeddings.huggingface import HuggingFaceEmbedding"
   ]
  },
  {
   "cell_type": "code",
   "execution_count": 2,
   "id": "b4d6cb0d",
   "metadata": {},
   "outputs": [
    {
     "name": "stderr",
     "output_type": "stream",
     "text": [
      "/home/drmathew/.local/lib/python3.9/site-packages/pydantic/_internal/_fields.py:160: UserWarning: Field \"model_id\" has conflict with protected namespace \"model_\".\n",
      "\n",
      "You may be able to resolve this warning by setting `model_config['protected_namespaces'] = ()`.\n",
      "  warnings.warn(\n"
     ]
    }
   ],
   "source": [
    "import torch\n",
    "from llama_index.llms.huggingface import HuggingFaceLLM\n",
    "from llama_index.core import PromptTemplate"
   ]
  },
  {
   "cell_type": "code",
   "execution_count": 3,
   "id": "643d78a3",
   "metadata": {},
   "outputs": [],
   "source": [
    "LLAMA2_7B_CHAT = \"meta-llama/Llama-2-7b-chat-hf\""
   ]
  },
  {
   "cell_type": "code",
   "execution_count": 4,
   "id": "10e04263",
   "metadata": {},
   "outputs": [],
   "source": [
    "selected_model = LLAMA2_7B_CHAT"
   ]
  },
  {
   "cell_type": "code",
   "execution_count": null,
   "id": "13df77e0",
   "metadata": {},
   "outputs": [],
   "source": [
    "SYSTEM_PROMPT = \"\"\"You are an AI assistant that answers questions in a friendly manner, based on the given source documents. Here are some rules you always follow:\n",
    "- Generate human readable output, avoid creating output with gibberish text.\n",
    "- Generate only the requested output, don't include any other language before or after the requested output.\n",
    "- Never say thank you, that you are happy to help, that you are an AI agent, etc. Just answer directly.\n",
    "- Generate professional language typically used in business documents in North America.\n",
    "- Never generate offensive or foul language.\n",
    "\"\"\"\n",
    "\n",
    "query_wrapper_prompt = PromptTemplate(\n",
    "    \"[INST]<<SYS>>\\n\" + SYSTEM_PROMPT + \"<</SYS>>\\n\\n{query_str}[/INST] \"\n",
    ")\n",
    "\n",
    "llm = HuggingFaceLLM(\n",
    "    context_window=4096,\n",
    "    max_new_tokens=2048,\n",
    "    generate_kwargs={\"temperature\": 0.1, \"do_sample\": True},\n",
    "    query_wrapper_prompt=query_wrapper_prompt,\n",
    "    tokenizer_name=selected_model,\n",
    "    model_name=selected_model,\n",
    "    device_map=\"auto\",\n",
    "    # change these settings below depending on your GPU\n",
    "    model_kwargs={\"torch_dtype\": torch.float16, \"load_in_8bit\": True},\n",
    ")"
   ]
  },
  {
   "cell_type": "code",
   "execution_count": null,
   "id": "d785f018",
   "metadata": {},
   "outputs": [],
   "source": [
    "import time"
   ]
  },
  {
   "cell_type": "code",
   "execution_count": null,
   "id": "fd220f07",
   "metadata": {},
   "outputs": [],
   "source": [
    "start = time.time()\n",
    "\n",
    "print(llm.complete(\"In Python, make a function that prints all even numbers between 0 and 10 inclusive.\").text)\n",
    "\n",
    "print(f\"Time elapsed: {time.time() - start}\")"
   ]
  },
  {
   "cell_type": "code",
   "execution_count": null,
   "id": "318a0f03",
   "metadata": {},
   "outputs": [],
   "source": [
    "set_global_tokenizer(\n",
    "    AutoTokenizer.from_pretrained(\"NousResearch/Llama-2-7b-chat-hf\").encode\n",
    ")"
   ]
  },
  {
   "cell_type": "code",
   "execution_count": null,
   "id": "f501ab62",
   "metadata": {},
   "outputs": [],
   "source": [
    "embed_model = HuggingFaceEmbedding(model_name=\"BAAI/bge-small-en-v1.5\")"
   ]
  },
  {
   "cell_type": "code",
   "execution_count": null,
   "id": "b24798c3",
   "metadata": {},
   "outputs": [],
   "source": [
    "document = SimpleDirectoryReader(input_files=[\"essay-data/\" + 'essay.txt']).load_data()\n",
    "index = VectorStoreIndex.from_documents(document, embed_model=embed_model)\n",
    "query_engine = index.as_query_engine(llm=llm)"
   ]
  },
  {
   "cell_type": "code",
   "execution_count": 12,
   "id": "1c44b5ba",
   "metadata": {},
   "outputs": [
    {
     "name": "stdout",
     "output_type": "stream",
     "text": [
      "Based on the given context, the author grew up writing short stories and programming on the IBM 1401 computer in 9th grade. Later, he got his first microcomputer, a TRS-80, in about 1980, which he used to write simple games, a program to predict how high model rockets would fly, and a word processor that his father used to write at least one book. The author also studied philosophy in college but found it boring, so he switched to AI and spent 4 years writing a new Lisp, called Bel, in itself in Arc.\n",
      "\n",
      "19.522247791290283\n"
     ]
    }
   ],
   "source": [
    "start = time.time()\n",
    "r = query_engine.query(\"What did the author do growing up?\")\n",
    "# r.print_response_stream()\n",
    "print(r.response)\n",
    "print()\n",
    "print(time.time() - start)"
   ]
  },
  {
   "cell_type": "code",
   "execution_count": 13,
   "id": "228811ed",
   "metadata": {},
   "outputs": [],
   "source": [
    "import requests\n",
    "import json\n",
    "from bs4 import BeautifulSoup\n",
    "import os"
   ]
  },
  {
   "cell_type": "code",
   "execution_count": 14,
   "id": "a402fc96",
   "metadata": {},
   "outputs": [],
   "source": [
    "API_TOKEN = \"rxfMXxfsdsKGb8urL8shecBbBp37ZBuvU5zo39sm\"\n",
    "API_ENDPOINT = f\"https://api.marketaux.com/v1/news/all\"\n",
    "\n",
    "payload = {\n",
    "    \"api_token\": API_TOKEN,\n",
    "    \"entity_types\": \"equity,index,etf\", # should include industries parameter\n",
    "    \"industries\": \"Technology\",\n",
    "    \"countries\": \"us\",\n",
    "    \"published_after\": \"2024-05-10T15:00\",\n",
    "    \"domains\": \"finance.yahoo.com\"\n",
    "}"
   ]
  },
  {
   "cell_type": "code",
   "execution_count": 15,
   "id": "faf237f1",
   "metadata": {},
   "outputs": [],
   "source": [
    "payload = {\n",
    "    \"api_token\": API_TOKEN,\n",
    "    \"entity_types\": \"equity,index,etf\", # should include industries parameter\n",
    "#     \"industries\": \"Technology\",\n",
    "    \"countries\": \"us\",\n",
    "    \"published_after\": \"2024-05-10T13:00\",\n",
    "    \"published_before\": \"2024-05-10T14:00\",\n",
    "    \"domains\": \"finance.yahoo.com\"\n",
    "}"
   ]
  },
  {
   "cell_type": "code",
   "execution_count": 16,
   "id": "cbda32a4",
   "metadata": {},
   "outputs": [],
   "source": [
    "def get_urls(payload):\n",
    "    r = requests.get(\"https://api.marketaux.com/v1/news/all\", params=payload)\n",
    "    output = r.text\n",
    "    json_output = json.loads(output)\n",
    "    data = json_output['data']\n",
    "    \n",
    "    urls = []\n",
    "    \n",
    "    for i in range(len(data)):\n",
    "        url = data[i]['url']\n",
    "        if url.startswith(\"https://finance.yahoo.com/news\"):\n",
    "            urls.append(url)\n",
    "        \n",
    "    return urls"
   ]
  },
  {
   "cell_type": "code",
   "execution_count": 17,
   "id": "14925e30",
   "metadata": {},
   "outputs": [],
   "source": [
    "def get_article_content(url):\n",
    "    r = requests.get(url)\n",
    "    \n",
    "    if r.status_code != 200:\n",
    "        return 'Invalid Response'\n",
    "    \n",
    "    soup = BeautifulSoup(r.content)\n",
    "    body = soup.find('div', attrs={'class': 'caas-body'})\n",
    "    content = \"\"\n",
    "    \n",
    "    for text in body.find_all('p'):\n",
    "        content += text.text\n",
    "    \n",
    "    return content"
   ]
  },
  {
   "cell_type": "code",
   "execution_count": 18,
   "id": "6e6bdbf9",
   "metadata": {},
   "outputs": [],
   "source": [
    "def write_to_file(filename, content):\n",
    "    with open(filename, 'w', encoding='utf-8') as file:\n",
    "        file.write(content)"
   ]
  },
  {
   "cell_type": "code",
   "execution_count": 20,
   "id": "0c76752e",
   "metadata": {},
   "outputs": [],
   "source": [
    "def create_documents():\n",
    "    payload = {\n",
    "        \"api_token\": API_TOKEN,\n",
    "        \"entity_types\": \"equity,index,etf\", # should include industries parameter\n",
    "    #     \"industries\": \"Technology\",\n",
    "        \"countries\": \"us\",\n",
    "#         \"published_after\": \"2024-05-10T13:00\",\n",
    "#         \"published_before\": \"2024-05-10T14:00\",\n",
    "        \"domains\": \"finance.yahoo.com\"\n",
    "    }\n",
    "    \n",
    "    for add_day in range(5):\n",
    "        for add_hour in range(7):\n",
    "            start = \"2024-05-\" + str(15 + add_day) + \"T\" + str(13 + add_hour) + \":00\"\n",
    "            finish = \"2024-05-\" + str(15 + add_day) + \"T\" + str(13 + add_hour + 1) + \":00\"\n",
    "            payload[\"published_after\"] = start\n",
    "            payload[\"published_before\"] = finish\n",
    "            \n",
    "            urls = get_urls(payload)\n",
    "            for i in range(len(urls)):\n",
    "                print(urls[i])\n",
    "                content = get_article_content(urls[i])\n",
    "                if content != \"Invalid Response\": \n",
    "                    filename = os.path.join(\"articles\", \"article\" + str(add_day) + str(add_hour) + str(i) + \"_.txt\")\n",
    "                    write_to_file(filename, content)\n",
    "                else:\n",
    "                    print(\"Above URL Skipped\")"
   ]
  },
  {
   "cell_type": "code",
   "execution_count": 19,
   "id": "aab81ff5",
   "metadata": {
    "scrolled": true
   },
   "outputs": [],
   "source": [
    "# create_documents()"
   ]
  },
  {
   "cell_type": "code",
   "execution_count": 21,
   "id": "a348efa6",
   "metadata": {},
   "outputs": [],
   "source": [
    "risk_options = [\"very_risk_averse\", \"risk_averse\", \"risk_tolerant\", \"very_risk_tolerant\"]\n",
    "industry_options = [\"Energy\", \"Materials\", \"Industrials\", \"Utilities\", \"Healthcare\", \"Financials\", \"Consumer Discretionary\",\n",
    "                    \"Consumer Staples\", \"Information Technology\", \"Communication Services\", \"Real Estate\"]\n",
    "return_goals = []\n",
    "user_prefs = {\"risk\": None, \"industry\": None, \"return_goals\": None}"
   ]
  },
  {
   "cell_type": "code",
   "execution_count": 22,
   "id": "06d4509d",
   "metadata": {},
   "outputs": [],
   "source": [
    "yf_documents = SimpleDirectoryReader(input_dir=\"articles\").load_data()\n",
    "yf_index = VectorStoreIndex.from_documents(yf_documents, embed_model=embed_model)\n",
    "yf_query_engine = yf_index.as_query_engine(llm=llm, streaming=True)"
   ]
  },
  {
   "cell_type": "code",
   "execution_count": 21,
   "id": "f9c95eb6",
   "metadata": {},
   "outputs": [],
   "source": [
    "# stocks = yf_query_engine.query(\"Based on the ingested articles, return the best stocks to invest in and give reasons why.\")\n",
    "# stocks.print_response_stream()"
   ]
  },
  {
   "cell_type": "code",
   "execution_count": 22,
   "id": "a35451de",
   "metadata": {},
   "outputs": [],
   "source": [
    "# response_2 = yf_query_engine.query(\"Based on the ingested articles, return the 5 best stocks to invest in and give reasons why.\")\n",
    "# response_2.print_response_stream()"
   ]
  },
  {
   "cell_type": "code",
   "execution_count": 23,
   "id": "510ebacb",
   "metadata": {},
   "outputs": [],
   "source": [
    "# response_3 = yf_query_engine.query(\"Based on the ingested articles, return a set of stocks that would best diversify a portfolio with the best returns.\")\n",
    "# response_3.print_response_stream()"
   ]
  },
  {
   "cell_type": "code",
   "execution_count": null,
   "id": "f452a656",
   "metadata": {},
   "outputs": [],
   "source": [
    "# only tech stocks except for one"
   ]
  },
  {
   "cell_type": "code",
   "execution_count": 23,
   "id": "e3de7168",
   "metadata": {
    "scrolled": true
   },
   "outputs": [
    {
     "name": "stdout",
     "output_type": "stream",
     "text": [
      "Based on the provided context information, the following financial securities are most mentioned in a positive sentiment across the articles:\n",
      "\n",
      "1. Stock: NVIDIA (NVDA) - Industry: Technology\n",
      "2. Stock: Advanced Micro Devices (AMD) - Industry: Technology\n",
      "3. Stock: Intel (INTC) - Industry: Technology\n",
      "4. ETF: SPDR S&P 500 ETF Trust (SPY) - Industry: Finance\n",
      "5. Stock: Micron Technology (MU) - Industry: Technology\n",
      "6. Stock: Qualcomm (QCOM) - Industry: Technology\n",
      "7. ETF: iShares Semiconductor ETF (SOXX) - Industry: Technology\n",
      "8. Stock: Taiwan Semiconductor Manufacturing (TSM) - Industry: Technology\n",
      "9. Stock: Broadcom (AVGO) - Industry: Technology\n",
      "10. Stock: Intel (INTC) - Industry: Technology\n",
      "\n",
      "These securities are from different industries and can be put together to make a diversified portfolio. A majority of the industries are not the same, ensuring that the portfolio is well-diversified."
     ]
    }
   ],
   "source": [
    "new_prompt = \"Return the financial securities that are most mentioned across the articles in a positive sentiment.\" + \\\n",
    "\"The securities returned can be stocks or ETFs. Ensure that the securities returned are of different industries \" + \\\n",
    "\"that can be put together to make a diversified portfolio. List the stock and the industry associated with it\" + \\\n",
    "\"and double check that a majority of the industries aren't the same.\"\n",
    "\n",
    "response_3 = yf_query_engine.query(new_prompt)\n",
    "response_3.print_response_stream()"
   ]
  },
  {
   "cell_type": "code",
   "execution_count": null,
   "id": "ce276170",
   "metadata": {},
   "outputs": [],
   "source": [
    "# this prompt only gave tech stocks excpet for one"
   ]
  },
  {
   "cell_type": "code",
   "execution_count": 24,
   "id": "feb2bb72",
   "metadata": {},
   "outputs": [
    {
     "name": "stdout",
     "output_type": "stream",
     "text": [
      "Based on the provided articles, the following are the financial securities that are most mentioned in a positive sentiment:\n",
      "\n",
      "1. NVIDIA (NVDA) - Technology\n",
      "2. Advanced Micro Devices (AMD) - Technology\n",
      "3. Intel (INTC) - Technology\n",
      "4. Micron Technology (MU) - Technology\n",
      "5. Qualcomm (QCOM) - Technology\n",
      "6. Broadcom (AVGO) - Technology\n",
      "7. Texas Instruments (TXN) - Technology\n",
      "8. Vanguard S&P 500 ETF (VOO) - Financials\n",
      "9. iShares Trust - iShares Semiconductor ETF (SOXX) - Technology\n",
      "10. Micron Technology (MU) - Technology\n",
      "\n",
      "Note: The industries listed are based on the classification of the companies in the articles and may not align with their actual industries.\n",
      "\n",
      "This list includes a mix of technology stocks and ETFs, which are mentioned positively in the articles. No more than half of the securities are from the technology industry, providing a diversified portfolio."
     ]
    }
   ],
   "source": [
    "new_prompt_2 = \"Gather the financial securities that are most mentioned across the articles in a positive sentiment.\" + \\\n",
    "\"The securities gathered can be stocks or ETFs. Return a list of 10 securities in which no more than half of the \" + \\\n",
    "\"securities are from the same industry. Create this list so that they \" + \\\n",
    "\"can be put together to make a diversified portfolio. List the stock and the industry associated with it\" + \\\n",
    "\"and double check that a majority of the industries aren't the same.\"\n",
    "\n",
    "response_4 = yf_query_engine.query(new_prompt_2)\n",
    "response_4.print_response_stream()"
   ]
  },
  {
   "cell_type": "code",
   "execution_count": null,
   "id": "bdeb96ba",
   "metadata": {},
   "outputs": [],
   "source": [
    "# below prompt seems to provide best portfolio so far"
   ]
  },
  {
   "cell_type": "code",
   "execution_count": 25,
   "id": "36b5d979",
   "metadata": {},
   "outputs": [
    {
     "name": "stdout",
     "output_type": "stream",
     "text": [
      "Based on the provided articles, the following are the financial securities that are most mentioned in a positive sentiment:\n",
      "\n",
      "1. SPDR S&P 500 ETF Trust (SPY) - Financials\n",
      "2. Vanguard S&P 500 ETF (VOO) - Financials\n",
      "3. NextEra Energy, Inc. (NEE) - Energy\n",
      "4. The Procter & Gamble Company (PG) - Consumer Goods\n",
      "5. Johnson & Johnson (JNJ) - Healthcare\n",
      "6. McDonald's Corporation (MCD) - Consumer Goods\n",
      "7. Cisco Systems, Inc. (CSCO) - Technology\n",
      "8. Intel Corporation (INTC) - Technology\n",
      "9. Visa, Inc. (V) - Financials\n",
      "10. Mastercard Incorporated (MA) - Financials\n",
      "11. The Home Depot, Inc. (HD) - Consumer Goods\n",
      "12. 3M Company (MMM) - Industrials\n",
      "\n",
      "These securities are tailored to a very risk-averse investor who is more focused on stability instead of rapid growth. They are diversified across different industries, with no more than half of the securities coming from the same industry. This list can be used to create a diversified portfolio that provides a balance of stability and growth."
     ]
    }
   ],
   "source": [
    "new_prompt_risk_averse = \"Gather the financial securities that are most mentioned across the articles in a positive sentiment.\" + \\\n",
    "\"The securities gathered can be stocks or ETFs. Return a list of 12 securities in which no more than half of the \" + \\\n",
    "\"securities are from the same industry. This list of securities should also be tailored to a very risk averse investor who \" + \\\n",
    "\"is more focused on stability instead of rapid growth. \" + \\\n",
    "\"Create this list so that they \" + \\\n",
    "\"can be put together to make a diversified portfolio. List the stock and the industry associated with it\" + \\\n",
    "\"and double check that a majority of the industries aren't the same.\"\n",
    "\n",
    "response_risk = yf_query_engine.query(new_prompt_risk_averse)\n",
    "response_risk.print_response_stream()"
   ]
  },
  {
   "cell_type": "code",
   "execution_count": 32,
   "id": "f9f21c86",
   "metadata": {},
   "outputs": [
    {
     "name": "stdout",
     "output_type": "stream",
     "text": [
      "Based on the provided articles, the following are the financial securities that are most mentioned in a positive sentiment:\n",
      "\n",
      "1. SPDR S&P 500 ETF Trust (SPY) - Financials\n",
      "2. Vanguard S&P 500 ETF (VOO) - Financials\n",
      "3. NVIDIA Corporation (NVDA) - Technology\n",
      "4. NextEra Energy, Inc. (NEE) - Energy\n",
      "5. The Procter & Gamble Company (PG) - Consumer Goods\n",
      "6. The Home Depot, Inc. (HD) - Consumer Goods\n",
      "7. Johnson & Johnson (JNJ) - Healthcare\n",
      "8. McDonald's Corporation (MCD) - Consumer Goods\n",
      "9. Visa, Inc. (V) - Financials\n",
      "10. Mastercard Incorporated (MA) - Financials\n",
      "11. Amazon.com, Inc. (AMZN) - Technology\n",
      "12. Shopify Inc. (SHOP) - Technology\n",
      "\n",
      "Note that these securities are not necessarily the most stable or risk-free, but rather have been identified as having the most positive sentiment in the provided articles. It is important to conduct thorough research and consider other factors before making investment decisions. Additionally, it is important to diversify a portfolio to manage risk, and it is not recommended to invest more than half of a portfolio in a single industry."
     ]
    }
   ],
   "source": [
    "new_prompt_risk_tolerant = \"Gather the financial securities that are most mentioned across the articles in a positive sentiment.\" + \\\n",
    "\"The securities gathered can be stocks or ETFs. Return a list of 12 securities in which no more than half of the \" + \\\n",
    "\"securities are from the same industry. This list of securities should also be tailored to a very risk tolerant investor who \" + \\\n",
    "\"is more focused on rapid growth instead of stability. \" + \\\n",
    "\"Create this list so that they \" + \\\n",
    "\"can be put together to make a diversified portfolio. List the stock and the industry associated with it\" + \\\n",
    "\"and double check that a majority of the industries aren't the same.\"\n",
    "\n",
    "response_no_risk = yf_query_engine.query(new_prompt_risk_tolerant)\n",
    "response_no_risk.print_response_stream()"
   ]
  },
  {
   "cell_type": "code",
   "execution_count": 56,
   "id": "e431b466",
   "metadata": {},
   "outputs": [
    {
     "name": "stdout",
     "output_type": "stream",
     "text": [
      "['response_synthesizer:text_qa_template', 'response_synthesizer:refine_template']\n"
     ]
    }
   ],
   "source": [
    "prompts_dict = yf_query_engine.get_prompts()\n",
    "print(list(prompts_dict.keys()))"
   ]
  },
  {
   "cell_type": "code",
   "execution_count": 57,
   "id": "9c72f349",
   "metadata": {},
   "outputs": [
    {
     "data": {
      "text/plain": [
       "SelectorPromptTemplate(metadata={'prompt_type': <PromptType.QUESTION_ANSWER: 'text_qa'>}, template_vars=['context_str', 'query_str'], kwargs={}, output_parser=None, template_var_mappings={}, function_mappings={}, default_template=PromptTemplate(metadata={'prompt_type': <PromptType.QUESTION_ANSWER: 'text_qa'>}, template_vars=['context_str', 'query_str'], kwargs={}, output_parser=None, template_var_mappings=None, function_mappings=None, template='Context information is below.\\n---------------------\\n{context_str}\\n---------------------\\nGiven the context information and not prior knowledge, answer the query.\\nQuery: {query_str}\\nAnswer: '), conditionals=[(<function is_chat_model at 0x7f94df2645e0>, ChatPromptTemplate(metadata={'prompt_type': <PromptType.CUSTOM: 'custom'>}, template_vars=['context_str', 'query_str'], kwargs={}, output_parser=None, template_var_mappings=None, function_mappings=None, message_templates=[ChatMessage(role=<MessageRole.SYSTEM: 'system'>, content=\"You are an expert Q&A system that is trusted around the world.\\nAlways answer the query using the provided context information, and not prior knowledge.\\nSome rules to follow:\\n1. Never directly reference the given context in your answer.\\n2. Avoid statements like 'Based on the context, ...' or 'The context information ...' or anything along those lines.\", additional_kwargs={}), ChatMessage(role=<MessageRole.USER: 'user'>, content='Context information is below.\\n---------------------\\n{context_str}\\n---------------------\\nGiven the context information and not prior knowledge, answer the query.\\nQuery: {query_str}\\nAnswer: ', additional_kwargs={})]))])"
      ]
     },
     "execution_count": 57,
     "metadata": {},
     "output_type": "execute_result"
    }
   ],
   "source": [
    "prompts_dict['response_synthesizer:text_qa_template']"
   ]
  },
  {
   "cell_type": "code",
   "execution_count": 63,
   "id": "4a5f5028",
   "metadata": {},
   "outputs": [],
   "source": [
    "import re\n",
    "\n",
    "pattern = r'\\(([^)]+)\\)'\n",
    "matches = re.findall(pattern, response_risk.response_txt)"
   ]
  },
  {
   "cell_type": "code",
   "execution_count": 65,
   "id": "07b58e1f",
   "metadata": {},
   "outputs": [
    {
     "name": "stdout",
     "output_type": "stream",
     "text": [
      "SPY\n",
      "VOO\n",
      "NEE\n",
      "PG\n",
      "JNJ\n",
      "MCD\n",
      "KO\n",
      "V\n",
      "MA\n",
      "INTC\n",
      "MMM\n",
      "UNH\n",
      "SPY, VOO, INTC\n",
      "NEE\n",
      "MCD, JNJ, KO, PG\n",
      "INTC\n",
      "MMM, UNH\n",
      "3\n",
      "1\n",
      "4\n",
      "1\n",
      "2\n"
     ]
    }
   ],
   "source": [
    "for match in matches:\n",
    "    print(match) # regex needs to be alphabetical and no commas"
   ]
  },
  {
   "cell_type": "code",
   "execution_count": null,
   "id": "b253e744",
   "metadata": {},
   "outputs": [],
   "source": []
  },
  {
   "cell_type": "code",
   "execution_count": null,
   "id": "00f72f29",
   "metadata": {},
   "outputs": [],
   "source": [
    "from llama_index.core import PromptTemplate\n",
    "\n",
    "text_qa_template_str = (\n",
    "    \"Context information is\"\n",
    "    \" below.\\n---------------------\\n{context_str}\\n---------------------\\nUsing\"\n",
    "    \" both the context information and also using your own knowledge, answer\"\n",
    "    \" the question: {query_str}\\na.\\n\"\n",
    ")\n",
    "text_qa_template = PromptTemplate(text_qa_template_str)\n",
    "\n",
    "refine_template_str = (\n",
    "    \"The original question is as follows: {query_str}\\nWe have provided an\"\n",
    "    \" existing answer: {existing_answer}\\nWe have the opportunity to refine\"\n",
    "    \" the existing answer (only if needed) with some more context\"\n",
    "    \" below.\\n------------\\n{context_msg}\\n------------\\nUsing both the new\"\n",
    "    \" context and your own knowledge, update or repeat the existing answer.\\n\"\n",
    ")\n",
    "refine_template = PromptTemplate(refine_template_str)"
   ]
  },
  {
   "cell_type": "code",
   "execution_count": 47,
   "id": "a211e700",
   "metadata": {},
   "outputs": [],
   "source": [
    "text_qa_template_str = (\n",
    "    \"Context information is\"\n",
    "    \" below.\\n---------------------\\n{context_str}\\n---------------------\\nUsing\"\n",
    "    \" both the context information and also using your own knowledge, answer\"\n",
    "    \" the request: {query_str}\\nIf the context isn't helpful, you can also\"\n",
    "    \" answer the request on your own.\\nWhen answering questions about portfolio recommendations,\"\n",
    "    \" respond in the following format:\\nSTOCK NAME (TICKER) - INDUSTRY\\n and\"\n",
    "    \" follow that format for each stock. The words in all capitals should be replaced with\"\n",
    "    \" the actual stock name, ticker, and industry.\"\n",
    ")\n",
    "text_qa_template = PromptTemplate(text_qa_template_str)"
   ]
  },
  {
   "cell_type": "code",
   "execution_count": 48,
   "id": "4ec01d01",
   "metadata": {},
   "outputs": [],
   "source": [
    "# should test adding system prompt and incorporating user preferences like risk aversion and industry preferences"
   ]
  },
  {
   "cell_type": "code",
   "execution_count": 49,
   "id": "08fee3f9",
   "metadata": {},
   "outputs": [],
   "source": [
    "yf_query_engine_prompt = yf_index.as_query_engine(llm=llm, streaming=True, text_qa_template=text_qa_template)"
   ]
  },
  {
   "cell_type": "code",
   "execution_count": null,
   "id": "161f10fe",
   "metadata": {},
   "outputs": [],
   "source": [
    "response_risk_prompt = yf_query_engine.query(new_prompt_risk_averse)\n",
    "response_risk_prompt.print_response_stream()"
   ]
  },
  {
   "cell_type": "code",
   "execution_count": 40,
   "id": "62400485",
   "metadata": {},
   "outputs": [
    {
     "ename": "ModuleNotFoundError",
     "evalue": "No module named 'prophet_model_forecast'",
     "output_type": "error",
     "traceback": [
      "\u001b[0;31m---------------------------------------------------------------------------\u001b[0m",
      "\u001b[0;31mModuleNotFoundError\u001b[0m                       Traceback (most recent call last)",
      "\u001b[0;32m/tmp/ipykernel_7648/3914920921.py\u001b[0m in \u001b[0;36m<module>\u001b[0;34m\u001b[0m\n\u001b[0;32m----> 1\u001b[0;31m \u001b[0;32mfrom\u001b[0m \u001b[0mprophet_model_forecast\u001b[0m \u001b[0;32mimport\u001b[0m \u001b[0mgen_stock_forecast_original\u001b[0m\u001b[0;34m\u001b[0m\u001b[0;34m\u001b[0m\u001b[0m\n\u001b[0m",
      "\u001b[0;31mModuleNotFoundError\u001b[0m: No module named 'prophet_model_forecast'"
     ]
    }
   ],
   "source": [
    "from prophet_model_forecast import gen_stock_forecast_original"
   ]
  },
  {
   "cell_type": "code",
   "execution_count": 41,
   "id": "a3f27f06",
   "metadata": {},
   "outputs": [],
   "source": [
    "from dual_dcf_model import discounted_cash_flow"
   ]
  },
  {
   "cell_type": "code",
   "execution_count": 39,
   "id": "966e301e",
   "metadata": {},
   "outputs": [],
   "source": [
    "from dual_dcf_model import portfolio_dist"
   ]
  },
  {
   "cell_type": "code",
   "execution_count": 36,
   "id": "1ca2bded",
   "metadata": {},
   "outputs": [
    {
     "name": "stdout",
     "output_type": "stream",
     "text": [
      "X Unavailable Cash Flow: AccountsPayableCurrent\n",
      "X Strong Sell 0\n",
      "AAPL Strong Buy 5\n",
      "META Strong Buy 5\n",
      "MA Sell 0\n",
      "BA Strong Buy 3\n"
     ]
    }
   ],
   "source": [
    "stock_recs, stock_weights = portfolio_dist(['X', 'AAPL', 'META', 'MA', 'BA'], 10000, \"moderate\")"
   ]
  },
  {
   "cell_type": "code",
   "execution_count": 38,
   "id": "a296605a",
   "metadata": {},
   "outputs": [
    {
     "data": {
      "text/plain": [
       "({'X': 'Strong Sell',\n",
       "  'AAPL': 'Strong Buy',\n",
       "  'META': 'Strong Buy',\n",
       "  'MA': 'Sell',\n",
       "  'BA': 'Strong Buy'},\n",
       " {'X': 0.0,\n",
       "  'AAPL': 3846.153846153846,\n",
       "  'META': 3846.153846153846,\n",
       "  'MA': 0.0,\n",
       "  'BA': 2307.6923076923076})"
      ]
     },
     "execution_count": 38,
     "metadata": {},
     "output_type": "execute_result"
    }
   ],
   "source": [
    "stock_recs, stock_weights"
   ]
  }
 ],
 "metadata": {
  "kernelspec": {
   "display_name": "Python 3 (ipykernel)",
   "language": "python",
   "name": "python3"
  },
  "language_info": {
   "codemirror_mode": {
    "name": "ipython",
    "version": 3
   },
   "file_extension": ".py",
   "mimetype": "text/x-python",
   "name": "python",
   "nbconvert_exporter": "python",
   "pygments_lexer": "ipython3",
   "version": "3.9.5"
  }
 },
 "nbformat": 4,
 "nbformat_minor": 5
}
