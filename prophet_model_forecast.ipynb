{
 "cells": [
  {
   "cell_type": "code",
   "execution_count": 1,
   "id": "b49da47d",
   "metadata": {},
   "outputs": [],
   "source": [
    "# !pip install prophet"
   ]
  },
  {
   "cell_type": "code",
   "execution_count": 2,
   "id": "e8ab8c3f",
   "metadata": {},
   "outputs": [],
   "source": [
    "import yfinance as yf\n",
    "import pandas as pd\n",
    "import matplotlib.pyplot as plt\n",
    "import numpy as np\n",
    "from datetime import datetime, timedelta\n",
    "\n",
    "from prophet import Prophet\n",
    "from prophet.diagnostics import cross_validation, performance_metrics\n",
    "from sklearn.model_selection import ParameterGrid\n"
   ]
  },
  {
   "cell_type": "code",
   "execution_count": 3,
   "id": "2303f34f",
   "metadata": {},
   "outputs": [],
   "source": [
    "def fetch_stock_data(symbol, start_date, end_date):\n",
    "    \"\"\"\n",
    "    Fetches historical stock prices for a given symbol from start_date to end_date.\n",
    "    Dates are exclusive\n",
    "    \n",
    "    :param symbol: str, stock symbol\n",
    "    :param start_date: str, start date (YYYY-MM-DD format)\n",
    "    :param end_date: str, end date (YYYY-MM-DD format)\n",
    "    :return: DataFrame with historical stock data\n",
    "    \"\"\"\n",
    "    stock = yf.Ticker(symbol)\n",
    "    data = stock.history(start=start_date, end=end_date)\n",
    "    data.reset_index(inplace=True) \n",
    "    data['ds'] = data['Date'].dt.tz_localize(None)\n",
    "    data.rename(columns={'Close': 'y'}, inplace=True)\n",
    "    data = data[['ds', 'y']]\n",
    "    data.drop_duplicates(subset=['ds'], inplace=True)\n",
    "    return data\n",
    "\n",
    "\n",
    "def model_param_evaluation(data, params):\n",
    "    model = Prophet(\n",
    "        changepoint_prior_scale=params['changepoint_prior_scale'],\n",
    "        changepoint_range=params['changepoint_range'],\n",
    "        holidays_prior_scale=25,\n",
    "        seasonality_prior_scale=10,\n",
    "        weekly_seasonality=True,\n",
    "        yearly_seasonality=True,\n",
    "        daily_seasonality=False\n",
    "    )\n",
    "    model.add_country_holidays(country_name='US')\n",
    "    model.fit(data)\n",
    "    \n",
    "    # Perform cross-validation\n",
    "    df_cv = cross_validation(model, initial='730 days', period='180 days', horizon = '365 days')\n",
    "    df_p = performance_metrics(df_cv)\n",
    "    return df_p['rmse'].mean()\n",
    "\n",
    "\n",
    "def hyperparameter_tuning(data, param_grid):\n",
    "    grid = ParameterGrid(param_grid)\n",
    "    best_params = None\n",
    "    best_rmse = float('inf')\n",
    "    \n",
    "    for params in grid:\n",
    "        rmse = model_param_evaluation(data, params)\n",
    "#         print(f\"Tested params: {params}, RMSE: {rmse}\")\n",
    "        \n",
    "        if rmse < best_rmse:\n",
    "            best_rmse = rmse\n",
    "            best_params = params\n",
    "    \n",
    "    print(f\"Best parameters: {best_params}, Best RMSE: {best_rmse}\")\n",
    "    return best_params\n",
    "\n",
    "\n",
    "\n",
    "def train_prophet_model(data):\n",
    "    param_grid = {\n",
    "    'changepoint_prior_scale': [0.01, 0.015, 0.020, 0.025],\n",
    "    'changepoint_range': [0.2, 0.4, 0.5, 0.8]\n",
    "\n",
    "    }\n",
    "    \n",
    "    best_params = hyperparameter_tuning(data, param_grid)\n",
    "\n",
    "    model = Prophet(\n",
    "        changepoint_prior_scale=best_params['changepoint_prior_scale'],\n",
    "        changepoint_range=best_params['changepoint_range'],\n",
    "        holidays_prior_scale=25,\n",
    "        seasonality_prior_scale=10,\n",
    "        weekly_seasonality=True,\n",
    "        yearly_seasonality=True,\n",
    "        daily_seasonality=False\n",
    "    )\n",
    "    \n",
    "    model.add_country_holidays(country_name='US')\n",
    "    model.fit(data)\n",
    "    return model\n",
    "\n",
    "def train_prophet_original_model(data):\n",
    "\n",
    "    model = Prophet(\n",
    "        changepoint_prior_scale=0.02,\n",
    "        changepoint_range=0.95,\n",
    "        holidays_prior_scale=25,\n",
    "        seasonality_prior_scale=10,\n",
    "        weekly_seasonality=True,\n",
    "        yearly_seasonality=True,\n",
    "        daily_seasonality=False\n",
    "    )\n",
    "    \n",
    "    model.add_country_holidays(country_name='US')\n",
    "    model.fit(data)\n",
    "    return model    \n",
    "    \n",
    "\n",
    "def gen_stock_forecast(symbol, start_date, end_date, num_days):\n",
    "    # Fetch data\n",
    "    data = fetch_stock_data(symbol, start_date, end_date)\n",
    "\n",
    "    # Train Prophet model\n",
    "    model = train_prophet_model(data)\n",
    "\n",
    "    # Make future dataframe for prediction\n",
    "    future = model.make_future_dataframe(periods=num_days)\n",
    "\n",
    "    # Predict future values\n",
    "    forecast = model.predict(future)\n",
    "    \n",
    "    prev_avg = data.tail(num_days)['y'].mean()\n",
    "    next_avg = forecast['yhat'].mean()\n",
    "    \n",
    "    trend = (prev_avg + next_avg) / 2\n",
    "#     model.plot(forecast.to_numpy())\n",
    "\n",
    "    return model, forecast[['ds', 'yhat', 'yhat_lower', 'yhat_upper']].tail(num_days), forecast, trend\n",
    "\n",
    "def gen_stock_forecast_original(symbol, start_date, end_date, num_days):\n",
    "    # Fetch data\n",
    "    data = fetch_stock_data(symbol, start_date, end_date)\n",
    "\n",
    "    # Train Prophet model\n",
    "    model = train_prophet_original_model(data)\n",
    "\n",
    "    # Make future dataframe for prediction\n",
    "    future = model.make_future_dataframe(periods=num_days)\n",
    "\n",
    "    # Predict future values\n",
    "    forecast = model.predict(future)\n",
    "    \n",
    "    prev_avg = data.tail(num_days)['y'].mean()\n",
    "    next_avg = forecast['yhat'].mean()\n",
    "    \n",
    "    trend = (prev_avg + next_avg) / 2\n",
    "#     model.plot(forecast.to_numpy())\n",
    "\n",
    "    return model, forecast[['ds', 'yhat', 'yhat_lower', 'yhat_upper']].tail(num_days), forecast, trend\n",
    "\n",
    "\n",
    "    "
   ]
  },
  {
   "cell_type": "code",
   "execution_count": 4,
   "id": "276d003a",
   "metadata": {},
   "outputs": [
    {
     "name": "stderr",
     "output_type": "stream",
     "text": [
      "16:31:09 - cmdstanpy - INFO - Chain [1] start processing\n",
      "16:31:10 - cmdstanpy - INFO - Chain [1] done processing\n"
     ]
    },
    {
     "data": {
      "image/png": "[encoded data removed]",
      "text/plain": [
       "<Figure size 720x360 with 1 Axes>"
      ]
     },
     "metadata": {
      "needs_background": "light"
     },
     "output_type": "display_data"
    }
   ],
   "source": [
    "sym = 'AMZN'\n",
    "start = '2020-01-01'\n",
    "end = '2024-01-01'\n",
    "num_days = 92\n",
    "\n",
    "model, amzn_fc, amzn_all, amzn_trend = gen_stock_forecast_original(sym, start, end, num_days)\n",
    "amzn_true = fetch_stock_data('AMZN', '2024-01-01', '2024-05-01')\n",
    "\n",
    "plt.figure(figsize=(10, 5))\n",
    "\n",
    "\n",
    "plt.plot(np.array(amzn_fc['ds']), np.array(amzn_fc['yhat']), label='Forecast', color='blue')\n",
    "plt.plot(np.array(amzn_true['ds']), np.array(amzn_true['y']), label='True Y', color='green')\n",
    "\n",
    "plt.title('Stock Price Forecast')\n",
    "plt.xlabel('Date')\n",
    "plt.ylabel('Price')\n",
    "plt.legend()\n",
    "plt.show()"
   ]
  },
  {
   "cell_type": "code",
   "execution_count": 5,
   "id": "87a54be6",
   "metadata": {},
   "outputs": [
    {
     "name": "stderr",
     "output_type": "stream",
     "text": [
      "16:31:11 - cmdstanpy - INFO - Chain [1] start processing\n",
      "16:31:11 - cmdstanpy - INFO - Chain [1] done processing\n"
     ]
    },
    {
     "data": {
      "application/vnd.jupyter.widget-view+json": {
       "model_id": "95681e917b3f44008b10225244ae6084",
       "version_major": 2,
       "version_minor": 0
      },
      "text/plain": [
       "  0%|          | 0/3 [00:00<?, ?it/s]"
      ]
     },
     "metadata": {},
     "output_type": "display_data"
    },
    {
     "name": "stderr",
     "output_type": "stream",
     "text": [
      "16:31:11 - cmdstanpy - INFO - Chain [1] start processing\n",
      "16:31:11 - cmdstanpy - INFO - Chain [1] done processing\n",
      "16:31:12 - cmdstanpy - INFO - Chain [1] start processing\n",
      "16:31:12 - cmdstanpy - INFO - Chain [1] done processing\n",
      "16:31:13 - cmdstanpy - INFO - Chain [1] start processing\n",
      "16:31:13 - cmdstanpy - INFO - Chain [1] done processing\n",
      "16:31:14 - cmdstanpy - INFO - Chain [1] start processing\n",
      "16:31:14 - cmdstanpy - INFO - Chain [1] done processing\n"
     ]
    },
    {
     "data": {
      "application/vnd.jupyter.widget-view+json": {
       "model_id": "06661c1194914874a186cb0be3aae14c",
       "version_major": 2,
       "version_minor": 0
      },
      "text/plain": [
       "  0%|          | 0/3 [00:00<?, ?it/s]"
      ]
     },
     "metadata": {},
     "output_type": "display_data"
    },
    {
     "name": "stderr",
     "output_type": "stream",
     "text": [
      "16:31:14 - cmdstanpy - INFO - Chain [1] start processing\n",
      "16:31:14 - cmdstanpy - INFO - Chain [1] done processing\n",
      "16:31:15 - cmdstanpy - INFO - Chain [1] start processing\n",
      "16:31:15 - cmdstanpy - INFO - Chain [1] done processing\n",
      "16:31:16 - cmdstanpy - INFO - Chain [1] start processing\n",
      "16:31:16 - cmdstanpy - INFO - Chain [1] done processing\n",
      "16:31:17 - cmdstanpy - INFO - Chain [1] start processing\n",
      "16:31:18 - cmdstanpy - INFO - Chain [1] done processing\n"
     ]
    },
    {
     "data": {
      "application/vnd.jupyter.widget-view+json": {
       "model_id": "01117015fcb54d8f951f828bf86cc705",
       "version_major": 2,
       "version_minor": 0
      },
      "text/plain": [
       "  0%|          | 0/3 [00:00<?, ?it/s]"
      ]
     },
     "metadata": {},
     "output_type": "display_data"
    },
    {
     "name": "stderr",
     "output_type": "stream",
     "text": [
      "16:31:18 - cmdstanpy - INFO - Chain [1] start processing\n",
      "16:31:18 - cmdstanpy - INFO - Chain [1] done processing\n",
      "16:31:19 - cmdstanpy - INFO - Chain [1] start processing\n",
      "16:31:19 - cmdstanpy - INFO - Chain [1] done processing\n",
      "16:31:20 - cmdstanpy - INFO - Chain [1] start processing\n",
      "16:31:20 - cmdstanpy - INFO - Chain [1] done processing\n",
      "16:31:21 - cmdstanpy - INFO - Chain [1] start processing\n",
      "16:31:21 - cmdstanpy - INFO - Chain [1] done processing\n"
     ]
    },
    {
     "data": {
      "application/vnd.jupyter.widget-view+json": {
       "model_id": "7a435ab6f8914c4190c4312a003477c5",
       "version_major": 2,
       "version_minor": 0
      },
      "text/plain": [
       "  0%|          | 0/3 [00:00<?, ?it/s]"
      ]
     },
     "metadata": {},
     "output_type": "display_data"
    },
    {
     "name": "stderr",
     "output_type": "stream",
     "text": [
      "16:31:21 - cmdstanpy - INFO - Chain [1] start processing\n",
      "16:31:21 - cmdstanpy - INFO - Chain [1] done processing\n",
      "16:31:22 - cmdstanpy - INFO - Chain [1] start processing\n",
      "16:31:22 - cmdstanpy - INFO - Chain [1] done processing\n",
      "16:31:23 - cmdstanpy - INFO - Chain [1] start processing\n",
      "16:31:23 - cmdstanpy - INFO - Chain [1] done processing\n",
      "16:31:24 - cmdstanpy - INFO - Chain [1] start processing\n",
      "16:31:24 - cmdstanpy - INFO - Chain [1] done processing\n"
     ]
    },
    {
     "data": {
      "application/vnd.jupyter.widget-view+json": {
       "model_id": "3b03efd91aa7462786e59cc7ffa1477a",
       "version_major": 2,
       "version_minor": 0
      },
      "text/plain": [
       "  0%|          | 0/3 [00:00<?, ?it/s]"
      ]
     },
     "metadata": {},
     "output_type": "display_data"
    },
    {
     "name": "stderr",
     "output_type": "stream",
     "text": [
      "16:31:25 - cmdstanpy - INFO - Chain [1] start processing\n",
      "16:31:25 - cmdstanpy - INFO - Chain [1] done processing\n",
      "16:31:26 - cmdstanpy - INFO - Chain [1] start processing\n",
      "16:31:26 - cmdstanpy - INFO - Chain [1] done processing\n",
      "16:31:26 - cmdstanpy - INFO - Chain [1] start processing\n",
      "16:31:26 - cmdstanpy - INFO - Chain [1] done processing\n",
      "16:31:27 - cmdstanpy - INFO - Chain [1] start processing\n",
      "16:31:28 - cmdstanpy - INFO - Chain [1] done processing\n"
     ]
    },
    {
     "data": {
      "application/vnd.jupyter.widget-view+json": {
       "model_id": "0da7130a68a4442d8000369565439749",
       "version_major": 2,
       "version_minor": 0
      },
      "text/plain": [
       "  0%|          | 0/3 [00:00<?, ?it/s]"
      ]
     },
     "metadata": {},
     "output_type": "display_data"
    },
    {
     "name": "stderr",
     "output_type": "stream",
     "text": [
      "16:31:28 - cmdstanpy - INFO - Chain [1] start processing\n",
      "16:31:28 - cmdstanpy - INFO - Chain [1] done processing\n",
      "16:31:29 - cmdstanpy - INFO - Chain [1] start processing\n",
      "16:31:29 - cmdstanpy - INFO - Chain [1] done processing\n",
      "16:31:30 - cmdstanpy - INFO - Chain [1] start processing\n",
      "16:31:30 - cmdstanpy - INFO - Chain [1] done processing\n",
      "16:31:31 - cmdstanpy - INFO - Chain [1] start processing\n",
      "16:31:31 - cmdstanpy - INFO - Chain [1] done processing\n"
     ]
    },
    {
     "data": {
      "application/vnd.jupyter.widget-view+json": {
       "model_id": "9b18dd2236c54a30b3a3c370af28344e",
       "version_major": 2,
       "version_minor": 0
      },
      "text/plain": [
       "  0%|          | 0/3 [00:00<?, ?it/s]"
      ]
     },
     "metadata": {},
     "output_type": "display_data"
    },
    {
     "name": "stderr",
     "output_type": "stream",
     "text": [
      "16:31:31 - cmdstanpy - INFO - Chain [1] start processing\n",
      "16:31:31 - cmdstanpy - INFO - Chain [1] done processing\n",
      "16:31:32 - cmdstanpy - INFO - Chain [1] start processing\n",
      "16:31:32 - cmdstanpy - INFO - Chain [1] done processing\n",
      "16:31:33 - cmdstanpy - INFO - Chain [1] start processing\n",
      "16:31:33 - cmdstanpy - INFO - Chain [1] done processing\n",
      "16:31:34 - cmdstanpy - INFO - Chain [1] start processing\n",
      "16:31:35 - cmdstanpy - INFO - Chain [1] done processing\n"
     ]
    },
    {
     "data": {
      "application/vnd.jupyter.widget-view+json": {
       "model_id": "06214431e3194469b845ed7bd86d3a2e",
       "version_major": 2,
       "version_minor": 0
      },
      "text/plain": [
       "  0%|          | 0/3 [00:00<?, ?it/s]"
      ]
     },
     "metadata": {},
     "output_type": "display_data"
    },
    {
     "name": "stderr",
     "output_type": "stream",
     "text": [
      "16:31:35 - cmdstanpy - INFO - Chain [1] start processing\n",
      "16:31:35 - cmdstanpy - INFO - Chain [1] done processing\n",
      "16:31:36 - cmdstanpy - INFO - Chain [1] start processing\n",
      "16:31:36 - cmdstanpy - INFO - Chain [1] done processing\n",
      "16:31:36 - cmdstanpy - INFO - Chain [1] start processing\n",
      "16:31:37 - cmdstanpy - INFO - Chain [1] done processing\n",
      "16:31:38 - cmdstanpy - INFO - Chain [1] start processing\n",
      "16:31:38 - cmdstanpy - INFO - Chain [1] done processing\n"
     ]
    },
    {
     "data": {
      "application/vnd.jupyter.widget-view+json": {
       "model_id": "550a50270ff142ceace64cf1ff5ba4d0",
       "version_major": 2,
       "version_minor": 0
      },
      "text/plain": [
       "  0%|          | 0/3 [00:00<?, ?it/s]"
      ]
     },
     "metadata": {},
     "output_type": "display_data"
    },
    {
     "name": "stderr",
     "output_type": "stream",
     "text": [
      "16:31:38 - cmdstanpy - INFO - Chain [1] start processing\n",
      "16:31:38 - cmdstanpy - INFO - Chain [1] done processing\n",
      "16:31:39 - cmdstanpy - INFO - Chain [1] start processing\n",
      "16:31:39 - cmdstanpy - INFO - Chain [1] done processing\n",
      "16:31:40 - cmdstanpy - INFO - Chain [1] start processing\n",
      "16:31:40 - cmdstanpy - INFO - Chain [1] done processing\n",
      "16:31:41 - cmdstanpy - INFO - Chain [1] start processing\n",
      "16:31:41 - cmdstanpy - INFO - Chain [1] done processing\n"
     ]
    },
    {
     "data": {
      "application/vnd.jupyter.widget-view+json": {
       "model_id": "498e986dfdbc4d52b14edb93d34e7a16",
       "version_major": 2,
       "version_minor": 0
      },
      "text/plain": [
       "  0%|          | 0/3 [00:00<?, ?it/s]"
      ]
     },
     "metadata": {},
     "output_type": "display_data"
    },
    {
     "name": "stderr",
     "output_type": "stream",
     "text": [
      "16:31:41 - cmdstanpy - INFO - Chain [1] start processing\n",
      "16:31:41 - cmdstanpy - INFO - Chain [1] done processing\n",
      "16:31:42 - cmdstanpy - INFO - Chain [1] start processing\n",
      "16:31:42 - cmdstanpy - INFO - Chain [1] done processing\n",
      "16:31:43 - cmdstanpy - INFO - Chain [1] start processing\n",
      "16:31:43 - cmdstanpy - INFO - Chain [1] done processing\n",
      "16:31:44 - cmdstanpy - INFO - Chain [1] start processing\n",
      "16:31:45 - cmdstanpy - INFO - Chain [1] done processing\n"
     ]
    },
    {
     "data": {
      "application/vnd.jupyter.widget-view+json": {
       "model_id": "7ff72143f1884dddb9a7ee16a5672abb",
       "version_major": 2,
       "version_minor": 0
      },
      "text/plain": [
       "  0%|          | 0/3 [00:00<?, ?it/s]"
      ]
     },
     "metadata": {},
     "output_type": "display_data"
    },
    {
     "name": "stderr",
     "output_type": "stream",
     "text": [
      "16:31:45 - cmdstanpy - INFO - Chain [1] start processing\n",
      "16:31:45 - cmdstanpy - INFO - Chain [1] done processing\n",
      "16:31:46 - cmdstanpy - INFO - Chain [1] start processing\n",
      "16:31:46 - cmdstanpy - INFO - Chain [1] done processing\n",
      "16:31:46 - cmdstanpy - INFO - Chain [1] start processing\n",
      "16:31:47 - cmdstanpy - INFO - Chain [1] done processing\n",
      "16:31:48 - cmdstanpy - INFO - Chain [1] start processing\n",
      "16:31:48 - cmdstanpy - INFO - Chain [1] done processing\n"
     ]
    },
    {
     "data": {
      "application/vnd.jupyter.widget-view+json": {
       "model_id": "22398b47e4704afdb0e2a51c6f7d7a99",
       "version_major": 2,
       "version_minor": 0
      },
      "text/plain": [
       "  0%|          | 0/3 [00:00<?, ?it/s]"
      ]
     },
     "metadata": {},
     "output_type": "display_data"
    },
    {
     "name": "stderr",
     "output_type": "stream",
     "text": [
      "16:31:48 - cmdstanpy - INFO - Chain [1] start processing\n",
      "16:31:48 - cmdstanpy - INFO - Chain [1] done processing\n",
      "16:31:49 - cmdstanpy - INFO - Chain [1] start processing\n",
      "16:31:49 - cmdstanpy - INFO - Chain [1] done processing\n",
      "16:31:50 - cmdstanpy - INFO - Chain [1] start processing\n",
      "16:31:50 - cmdstanpy - INFO - Chain [1] done processing\n",
      "16:31:51 - cmdstanpy - INFO - Chain [1] start processing\n",
      "16:31:51 - cmdstanpy - INFO - Chain [1] done processing\n"
     ]
    },
    {
     "data": {
      "application/vnd.jupyter.widget-view+json": {
       "model_id": "ee0890fc6c1a4c12ae4a9234d62027eb",
       "version_major": 2,
       "version_minor": 0
      },
      "text/plain": [
       "  0%|          | 0/3 [00:00<?, ?it/s]"
      ]
     },
     "metadata": {},
     "output_type": "display_data"
    },
    {
     "name": "stderr",
     "output_type": "stream",
     "text": [
      "16:31:51 - cmdstanpy - INFO - Chain [1] start processing\n",
      "16:31:52 - cmdstanpy - INFO - Chain [1] done processing\n",
      "16:31:52 - cmdstanpy - INFO - Chain [1] start processing\n",
      "16:31:52 - cmdstanpy - INFO - Chain [1] done processing\n",
      "16:31:53 - cmdstanpy - INFO - Chain [1] start processing\n",
      "16:31:53 - cmdstanpy - INFO - Chain [1] done processing\n",
      "16:31:54 - cmdstanpy - INFO - Chain [1] start processing\n",
      "16:31:55 - cmdstanpy - INFO - Chain [1] done processing\n"
     ]
    },
    {
     "data": {
      "application/vnd.jupyter.widget-view+json": {
       "model_id": "b3cf72d9e0734e6482f2b2a31435ac11",
       "version_major": 2,
       "version_minor": 0
      },
      "text/plain": [
       "  0%|          | 0/3 [00:00<?, ?it/s]"
      ]
     },
     "metadata": {},
     "output_type": "display_data"
    },
    {
     "name": "stderr",
     "output_type": "stream",
     "text": [
      "16:31:55 - cmdstanpy - INFO - Chain [1] start processing\n",
      "16:31:55 - cmdstanpy - INFO - Chain [1] done processing\n",
      "16:31:56 - cmdstanpy - INFO - Chain [1] start processing\n",
      "16:31:56 - cmdstanpy - INFO - Chain [1] done processing\n",
      "16:31:56 - cmdstanpy - INFO - Chain [1] start processing\n",
      "16:31:57 - cmdstanpy - INFO - Chain [1] done processing\n",
      "16:31:58 - cmdstanpy - INFO - Chain [1] start processing\n",
      "16:31:58 - cmdstanpy - INFO - Chain [1] done processing\n"
     ]
    },
    {
     "data": {
      "application/vnd.jupyter.widget-view+json": {
       "model_id": "a35510a3da664667ba55dc7b389cba4b",
       "version_major": 2,
       "version_minor": 0
      },
      "text/plain": [
       "  0%|          | 0/3 [00:00<?, ?it/s]"
      ]
     },
     "metadata": {},
     "output_type": "display_data"
    },
    {
     "name": "stderr",
     "output_type": "stream",
     "text": [
      "16:31:58 - cmdstanpy - INFO - Chain [1] start processing\n",
      "16:31:58 - cmdstanpy - INFO - Chain [1] done processing\n",
      "16:31:59 - cmdstanpy - INFO - Chain [1] start processing\n",
      "16:31:59 - cmdstanpy - INFO - Chain [1] done processing\n",
      "16:32:00 - cmdstanpy - INFO - Chain [1] start processing\n",
      "16:32:00 - cmdstanpy - INFO - Chain [1] done processing\n",
      "16:32:01 - cmdstanpy - INFO - Chain [1] start processing\n",
      "16:32:01 - cmdstanpy - INFO - Chain [1] done processing\n"
     ]
    },
    {
     "data": {
      "application/vnd.jupyter.widget-view+json": {
       "model_id": "33f7444b1487482082e053beeb352fc3",
       "version_major": 2,
       "version_minor": 0
      },
      "text/plain": [
       "  0%|          | 0/3 [00:00<?, ?it/s]"
      ]
     },
     "metadata": {},
     "output_type": "display_data"
    },
    {
     "name": "stderr",
     "output_type": "stream",
     "text": [
      "16:32:02 - cmdstanpy - INFO - Chain [1] start processing\n",
      "16:32:02 - cmdstanpy - INFO - Chain [1] done processing\n",
      "16:32:02 - cmdstanpy - INFO - Chain [1] start processing\n",
      "16:32:03 - cmdstanpy - INFO - Chain [1] done processing\n",
      "16:32:03 - cmdstanpy - INFO - Chain [1] start processing\n",
      "16:32:04 - cmdstanpy - INFO - Chain [1] done processing\n",
      "16:32:05 - cmdstanpy - INFO - Chain [1] start processing\n"
     ]
    },
    {
     "name": "stdout",
     "output_type": "stream",
     "text": [
      "Best parameters: {'changepoint_prior_scale': 0.015, 'changepoint_range': 0.4}, Best RMSE: 44.48570016135032\n"
     ]
    },
    {
     "name": "stderr",
     "output_type": "stream",
     "text": [
      "16:32:05 - cmdstanpy - INFO - Chain [1] done processing\n"
     ]
    },
    {
     "data": {
      "image/png": "[encoded data removed]",
      "text/plain": [
       "<Figure size 720x360 with 1 Axes>"
      ]
     },
     "metadata": {
      "needs_background": "light"
     },
     "output_type": "display_data"
    }
   ],
   "source": [
    "sym = 'AMZN'\n",
    "start = '2020-01-01'\n",
    "end = '2024-01-01'\n",
    "num_days = 100\n",
    "\n",
    "model, amzn_fc, amzn_all, amzn_trend = gen_stock_forecast(sym, start, end, num_days)\n",
    "amzn_true = fetch_stock_data('AMZN', '2024-01-01', '2024-05-01')\n",
    "\n",
    "plt.figure(figsize=(10, 5))\n",
    "\n",
    "\n",
    "plt.plot(np.array(amzn_fc['ds']), np.array(amzn_fc['yhat']), label='Forecast', color='blue')\n",
    "plt.plot(np.array(amzn_true['ds']), np.array(amzn_true['y']), label='True Y', color='green')\n",
    "\n",
    "plt.title('Stock Price Forecast')\n",
    "plt.xlabel('Date')\n",
    "plt.ylabel('Price')\n",
    "plt.legend()\n",
    "plt.show()"
   ]
  },
  {
   "cell_type": "code",
   "execution_count": 6,
   "id": "fdf10c83",
   "metadata": {},
   "outputs": [
    {
     "name": "stderr",
     "output_type": "stream",
     "text": [
      "16:32:06 - cmdstanpy - INFO - Chain [1] start processing\n",
      "16:32:07 - cmdstanpy - INFO - Chain [1] done processing\n"
     ]
    },
    {
     "data": {
      "application/vnd.jupyter.widget-view+json": {
       "model_id": "31c4c45e9e894138845ead38071164e4",
       "version_major": 2,
       "version_minor": 0
      },
      "text/plain": [
       "  0%|          | 0/3 [00:00<?, ?it/s]"
      ]
     },
     "metadata": {},
     "output_type": "display_data"
    },
    {
     "name": "stderr",
     "output_type": "stream",
     "text": [
      "16:32:07 - cmdstanpy - INFO - Chain [1] start processing\n",
      "16:32:07 - cmdstanpy - INFO - Chain [1] done processing\n",
      "16:32:08 - cmdstanpy - INFO - Chain [1] start processing\n",
      "16:32:08 - cmdstanpy - INFO - Chain [1] done processing\n",
      "16:32:08 - cmdstanpy - INFO - Chain [1] start processing\n",
      "16:32:09 - cmdstanpy - INFO - Chain [1] done processing\n",
      "16:32:10 - cmdstanpy - INFO - Chain [1] start processing\n",
      "16:32:10 - cmdstanpy - INFO - Chain [1] done processing\n"
     ]
    },
    {
     "data": {
      "application/vnd.jupyter.widget-view+json": {
       "model_id": "470390d559b74f20bfd3ae01894e185d",
       "version_major": 2,
       "version_minor": 0
      },
      "text/plain": [
       "  0%|          | 0/3 [00:00<?, ?it/s]"
      ]
     },
     "metadata": {},
     "output_type": "display_data"
    },
    {
     "name": "stderr",
     "output_type": "stream",
     "text": [
      "16:32:10 - cmdstanpy - INFO - Chain [1] start processing\n",
      "16:32:10 - cmdstanpy - INFO - Chain [1] done processing\n",
      "16:32:11 - cmdstanpy - INFO - Chain [1] start processing\n",
      "16:32:11 - cmdstanpy - INFO - Chain [1] done processing\n",
      "16:32:12 - cmdstanpy - INFO - Chain [1] start processing\n",
      "16:32:12 - cmdstanpy - INFO - Chain [1] done processing\n",
      "16:32:13 - cmdstanpy - INFO - Chain [1] start processing\n",
      "16:32:13 - cmdstanpy - INFO - Chain [1] done processing\n"
     ]
    },
    {
     "data": {
      "application/vnd.jupyter.widget-view+json": {
       "model_id": "81b57dbd0e7c453dbe5441049a2a563a",
       "version_major": 2,
       "version_minor": 0
      },
      "text/plain": [
       "  0%|          | 0/3 [00:00<?, ?it/s]"
      ]
     },
     "metadata": {},
     "output_type": "display_data"
    },
    {
     "name": "stderr",
     "output_type": "stream",
     "text": [
      "16:32:13 - cmdstanpy - INFO - Chain [1] start processing\n",
      "16:32:13 - cmdstanpy - INFO - Chain [1] done processing\n",
      "16:32:14 - cmdstanpy - INFO - Chain [1] start processing\n",
      "16:32:14 - cmdstanpy - INFO - Chain [1] done processing\n",
      "16:32:15 - cmdstanpy - INFO - Chain [1] start processing\n",
      "16:32:15 - cmdstanpy - INFO - Chain [1] done processing\n",
      "16:32:16 - cmdstanpy - INFO - Chain [1] start processing\n",
      "16:32:16 - cmdstanpy - INFO - Chain [1] done processing\n"
     ]
    },
    {
     "data": {
      "application/vnd.jupyter.widget-view+json": {
       "model_id": "05c8b9c8fe1d4e6f9277e74d4c13c1ad",
       "version_major": 2,
       "version_minor": 0
      },
      "text/plain": [
       "  0%|          | 0/3 [00:00<?, ?it/s]"
      ]
     },
     "metadata": {},
     "output_type": "display_data"
    },
    {
     "name": "stderr",
     "output_type": "stream",
     "text": [
      "16:32:17 - cmdstanpy - INFO - Chain [1] start processing\n",
      "16:32:17 - cmdstanpy - INFO - Chain [1] done processing\n",
      "16:32:17 - cmdstanpy - INFO - Chain [1] start processing\n",
      "16:32:17 - cmdstanpy - INFO - Chain [1] done processing\n",
      "16:32:18 - cmdstanpy - INFO - Chain [1] start processing\n",
      "16:32:18 - cmdstanpy - INFO - Chain [1] done processing\n",
      "16:32:19 - cmdstanpy - INFO - Chain [1] start processing\n",
      "16:32:20 - cmdstanpy - INFO - Chain [1] done processing\n"
     ]
    },
    {
     "data": {
      "application/vnd.jupyter.widget-view+json": {
       "model_id": "48ee6077e7814bb985eac5956d18d900",
       "version_major": 2,
       "version_minor": 0
      },
      "text/plain": [
       "  0%|          | 0/3 [00:00<?, ?it/s]"
      ]
     },
     "metadata": {},
     "output_type": "display_data"
    },
    {
     "name": "stderr",
     "output_type": "stream",
     "text": [
      "16:32:20 - cmdstanpy - INFO - Chain [1] start processing\n",
      "16:32:20 - cmdstanpy - INFO - Chain [1] done processing\n",
      "16:32:21 - cmdstanpy - INFO - Chain [1] start processing\n",
      "16:32:21 - cmdstanpy - INFO - Chain [1] done processing\n",
      "16:32:21 - cmdstanpy - INFO - Chain [1] start processing\n",
      "16:32:22 - cmdstanpy - INFO - Chain [1] done processing\n",
      "16:32:22 - cmdstanpy - INFO - Chain [1] start processing\n",
      "16:32:23 - cmdstanpy - INFO - Chain [1] done processing\n"
     ]
    },
    {
     "data": {
      "application/vnd.jupyter.widget-view+json": {
       "model_id": "6a40bc33b2d9443eb729c124cd7eec54",
       "version_major": 2,
       "version_minor": 0
      },
      "text/plain": [
       "  0%|          | 0/3 [00:00<?, ?it/s]"
      ]
     },
     "metadata": {},
     "output_type": "display_data"
    },
    {
     "name": "stderr",
     "output_type": "stream",
     "text": [
      "16:32:23 - cmdstanpy - INFO - Chain [1] start processing\n",
      "16:32:23 - cmdstanpy - INFO - Chain [1] done processing\n",
      "16:32:24 - cmdstanpy - INFO - Chain [1] start processing\n",
      "16:32:24 - cmdstanpy - INFO - Chain [1] done processing\n",
      "16:32:25 - cmdstanpy - INFO - Chain [1] start processing\n",
      "16:32:25 - cmdstanpy - INFO - Chain [1] done processing\n",
      "16:32:26 - cmdstanpy - INFO - Chain [1] start processing\n",
      "16:32:26 - cmdstanpy - INFO - Chain [1] done processing\n"
     ]
    },
    {
     "data": {
      "application/vnd.jupyter.widget-view+json": {
       "model_id": "05d8c58419654b089d82133711b74e29",
       "version_major": 2,
       "version_minor": 0
      },
      "text/plain": [
       "  0%|          | 0/3 [00:00<?, ?it/s]"
      ]
     },
     "metadata": {},
     "output_type": "display_data"
    },
    {
     "name": "stderr",
     "output_type": "stream",
     "text": [
      "16:32:26 - cmdstanpy - INFO - Chain [1] start processing\n",
      "16:32:26 - cmdstanpy - INFO - Chain [1] done processing\n",
      "16:32:27 - cmdstanpy - INFO - Chain [1] start processing\n",
      "16:32:27 - cmdstanpy - INFO - Chain [1] done processing\n",
      "16:32:28 - cmdstanpy - INFO - Chain [1] start processing\n",
      "16:32:28 - cmdstanpy - INFO - Chain [1] done processing\n",
      "16:32:29 - cmdstanpy - INFO - Chain [1] start processing\n",
      "16:32:29 - cmdstanpy - INFO - Chain [1] done processing\n"
     ]
    },
    {
     "data": {
      "application/vnd.jupyter.widget-view+json": {
       "model_id": "0a0a4d74303645298c7d0993e342c186",
       "version_major": 2,
       "version_minor": 0
      },
      "text/plain": [
       "  0%|          | 0/3 [00:00<?, ?it/s]"
      ]
     },
     "metadata": {},
     "output_type": "display_data"
    },
    {
     "name": "stderr",
     "output_type": "stream",
     "text": [
      "16:32:29 - cmdstanpy - INFO - Chain [1] start processing\n",
      "16:32:29 - cmdstanpy - INFO - Chain [1] done processing\n",
      "16:32:30 - cmdstanpy - INFO - Chain [1] start processing\n",
      "16:32:30 - cmdstanpy - INFO - Chain [1] done processing\n",
      "16:32:31 - cmdstanpy - INFO - Chain [1] start processing\n",
      "16:32:31 - cmdstanpy - INFO - Chain [1] done processing\n",
      "16:32:32 - cmdstanpy - INFO - Chain [1] start processing\n",
      "16:32:33 - cmdstanpy - INFO - Chain [1] done processing\n"
     ]
    },
    {
     "data": {
      "application/vnd.jupyter.widget-view+json": {
       "model_id": "1402c19abae04cdfa161f829de146b49",
       "version_major": 2,
       "version_minor": 0
      },
      "text/plain": [
       "  0%|          | 0/3 [00:00<?, ?it/s]"
      ]
     },
     "metadata": {},
     "output_type": "display_data"
    },
    {
     "name": "stderr",
     "output_type": "stream",
     "text": [
      "16:32:33 - cmdstanpy - INFO - Chain [1] start processing\n",
      "16:32:33 - cmdstanpy - INFO - Chain [1] done processing\n",
      "16:32:34 - cmdstanpy - INFO - Chain [1] start processing\n",
      "16:32:34 - cmdstanpy - INFO - Chain [1] done processing\n",
      "16:32:35 - cmdstanpy - INFO - Chain [1] start processing\n",
      "16:32:35 - cmdstanpy - INFO - Chain [1] done processing\n",
      "16:32:36 - cmdstanpy - INFO - Chain [1] start processing\n",
      "16:32:36 - cmdstanpy - INFO - Chain [1] done processing\n"
     ]
    },
    {
     "data": {
      "application/vnd.jupyter.widget-view+json": {
       "model_id": "4e01e1f3fd6a4f09bf50745c9f735d63",
       "version_major": 2,
       "version_minor": 0
      },
      "text/plain": [
       "  0%|          | 0/3 [00:00<?, ?it/s]"
      ]
     },
     "metadata": {},
     "output_type": "display_data"
    },
    {
     "name": "stderr",
     "output_type": "stream",
     "text": [
      "16:32:36 - cmdstanpy - INFO - Chain [1] start processing\n",
      "16:32:36 - cmdstanpy - INFO - Chain [1] done processing\n",
      "16:32:37 - cmdstanpy - INFO - Chain [1] start processing\n",
      "16:32:37 - cmdstanpy - INFO - Chain [1] done processing\n",
      "16:32:38 - cmdstanpy - INFO - Chain [1] start processing\n",
      "16:32:38 - cmdstanpy - INFO - Chain [1] done processing\n",
      "16:32:39 - cmdstanpy - INFO - Chain [1] start processing\n",
      "16:32:39 - cmdstanpy - INFO - Chain [1] done processing\n"
     ]
    },
    {
     "data": {
      "application/vnd.jupyter.widget-view+json": {
       "model_id": "c54c0b7b7e984876af50dbddf4ace03a",
       "version_major": 2,
       "version_minor": 0
      },
      "text/plain": [
       "  0%|          | 0/3 [00:00<?, ?it/s]"
      ]
     },
     "metadata": {},
     "output_type": "display_data"
    },
    {
     "name": "stderr",
     "output_type": "stream",
     "text": [
      "16:32:39 - cmdstanpy - INFO - Chain [1] start processing\n",
      "16:32:39 - cmdstanpy - INFO - Chain [1] done processing\n",
      "16:32:40 - cmdstanpy - INFO - Chain [1] start processing\n",
      "16:32:40 - cmdstanpy - INFO - Chain [1] done processing\n",
      "16:32:41 - cmdstanpy - INFO - Chain [1] start processing\n",
      "16:32:41 - cmdstanpy - INFO - Chain [1] done processing\n",
      "16:32:42 - cmdstanpy - INFO - Chain [1] start processing\n",
      "16:32:42 - cmdstanpy - INFO - Chain [1] done processing\n"
     ]
    },
    {
     "data": {
      "application/vnd.jupyter.widget-view+json": {
       "model_id": "5538dbc7f3344a5cb9721559b15e7421",
       "version_major": 2,
       "version_minor": 0
      },
      "text/plain": [
       "  0%|          | 0/3 [00:00<?, ?it/s]"
      ]
     },
     "metadata": {},
     "output_type": "display_data"
    },
    {
     "name": "stderr",
     "output_type": "stream",
     "text": [
      "16:32:43 - cmdstanpy - INFO - Chain [1] start processing\n",
      "16:32:43 - cmdstanpy - INFO - Chain [1] done processing\n",
      "16:32:43 - cmdstanpy - INFO - Chain [1] start processing\n",
      "16:32:43 - cmdstanpy - INFO - Chain [1] done processing\n",
      "16:32:44 - cmdstanpy - INFO - Chain [1] start processing\n",
      "16:32:44 - cmdstanpy - INFO - Chain [1] done processing\n",
      "16:32:45 - cmdstanpy - INFO - Chain [1] start processing\n",
      "16:32:46 - cmdstanpy - INFO - Chain [1] done processing\n"
     ]
    },
    {
     "data": {
      "application/vnd.jupyter.widget-view+json": {
       "model_id": "418700839356439b8c20dae7f93fa34d",
       "version_major": 2,
       "version_minor": 0
      },
      "text/plain": [
       "  0%|          | 0/3 [00:00<?, ?it/s]"
      ]
     },
     "metadata": {},
     "output_type": "display_data"
    },
    {
     "name": "stderr",
     "output_type": "stream",
     "text": [
      "16:32:46 - cmdstanpy - INFO - Chain [1] start processing\n",
      "16:32:46 - cmdstanpy - INFO - Chain [1] done processing\n",
      "16:32:47 - cmdstanpy - INFO - Chain [1] start processing\n",
      "16:32:47 - cmdstanpy - INFO - Chain [1] done processing\n",
      "16:32:48 - cmdstanpy - INFO - Chain [1] start processing\n",
      "16:32:48 - cmdstanpy - INFO - Chain [1] done processing\n",
      "16:32:49 - cmdstanpy - INFO - Chain [1] start processing\n",
      "16:32:49 - cmdstanpy - INFO - Chain [1] done processing\n"
     ]
    },
    {
     "data": {
      "application/vnd.jupyter.widget-view+json": {
       "model_id": "f73d96b6125446c28da1edc6a414a12f",
       "version_major": 2,
       "version_minor": 0
      },
      "text/plain": [
       "  0%|          | 0/3 [00:00<?, ?it/s]"
      ]
     },
     "metadata": {},
     "output_type": "display_data"
    },
    {
     "name": "stderr",
     "output_type": "stream",
     "text": [
      "16:32:49 - cmdstanpy - INFO - Chain [1] start processing\n",
      "16:32:49 - cmdstanpy - INFO - Chain [1] done processing\n",
      "16:32:50 - cmdstanpy - INFO - Chain [1] start processing\n",
      "16:32:50 - cmdstanpy - INFO - Chain [1] done processing\n",
      "16:32:51 - cmdstanpy - INFO - Chain [1] start processing\n",
      "16:32:51 - cmdstanpy - INFO - Chain [1] done processing\n",
      "16:32:52 - cmdstanpy - INFO - Chain [1] start processing\n",
      "16:32:52 - cmdstanpy - INFO - Chain [1] done processing\n"
     ]
    },
    {
     "data": {
      "application/vnd.jupyter.widget-view+json": {
       "model_id": "affba93c441041b498bb045ac5de31c2",
       "version_major": 2,
       "version_minor": 0
      },
      "text/plain": [
       "  0%|          | 0/3 [00:00<?, ?it/s]"
      ]
     },
     "metadata": {},
     "output_type": "display_data"
    },
    {
     "name": "stderr",
     "output_type": "stream",
     "text": [
      "16:32:53 - cmdstanpy - INFO - Chain [1] start processing\n",
      "16:32:53 - cmdstanpy - INFO - Chain [1] done processing\n",
      "16:32:53 - cmdstanpy - INFO - Chain [1] start processing\n",
      "16:32:54 - cmdstanpy - INFO - Chain [1] done processing\n",
      "16:32:54 - cmdstanpy - INFO - Chain [1] start processing\n",
      "16:32:54 - cmdstanpy - INFO - Chain [1] done processing\n",
      "16:32:55 - cmdstanpy - INFO - Chain [1] start processing\n",
      "16:32:56 - cmdstanpy - INFO - Chain [1] done processing\n"
     ]
    },
    {
     "data": {
      "application/vnd.jupyter.widget-view+json": {
       "model_id": "2d786db6c2ea40f7a571c219a155bbc8",
       "version_major": 2,
       "version_minor": 0
      },
      "text/plain": [
       "  0%|          | 0/3 [00:00<?, ?it/s]"
      ]
     },
     "metadata": {},
     "output_type": "display_data"
    },
    {
     "name": "stderr",
     "output_type": "stream",
     "text": [
      "16:32:56 - cmdstanpy - INFO - Chain [1] start processing\n",
      "16:32:56 - cmdstanpy - INFO - Chain [1] done processing\n",
      "16:32:57 - cmdstanpy - INFO - Chain [1] start processing\n",
      "16:32:57 - cmdstanpy - INFO - Chain [1] done processing\n",
      "16:32:58 - cmdstanpy - INFO - Chain [1] start processing\n",
      "16:32:58 - cmdstanpy - INFO - Chain [1] done processing\n",
      "16:32:59 - cmdstanpy - INFO - Chain [1] start processing\n"
     ]
    },
    {
     "name": "stdout",
     "output_type": "stream",
     "text": [
      "Best parameters: {'changepoint_prior_scale': 0.025, 'changepoint_range': 0.4}, Best RMSE: 28.83535738752637\n"
     ]
    },
    {
     "name": "stderr",
     "output_type": "stream",
     "text": [
      "16:32:59 - cmdstanpy - INFO - Chain [1] done processing\n"
     ]
    },
    {
     "data": {
      "image/png": "[encoded data removed]",
      "text/plain": [
       "<Figure size 720x360 with 1 Axes>"
      ]
     },
     "metadata": {
      "needs_background": "light"
     },
     "output_type": "display_data"
    }
   ],
   "source": [
    "sym = 'AAPL'\n",
    "start = '2020-01-01'\n",
    "end = '2024-01-01'\n",
    "num_days = 92\n",
    "\n",
    "model, aapl_fc, aapl_all, aapl_trend = gen_stock_forecast(sym, start, end, num_days)\n",
    "aapl_true = fetch_stock_data('AAPL', '2024-01-01', '2024-05-01')\n",
    "\n",
    "plt.figure(figsize=(10, 5))\n",
    "plt.plot(np.array(aapl_fc['ds']), np.array(aapl_fc['yhat']), label='Forecast', color='blue')\n",
    "plt.plot(np.array(aapl_true['ds']), np.array(aapl_true['y']), label='True Y', color='green')\n",
    "\n",
    "plt.title('Stock Price Forecast')\n",
    "plt.xlabel('Date')\n",
    "plt.ylabel('Price')\n",
    "plt.legend()\n",
    "plt.show()"
   ]
  },
  {
   "cell_type": "code",
   "execution_count": 7,
   "id": "ceb3c800",
   "metadata": {},
   "outputs": [
    {
     "name": "stderr",
     "output_type": "stream",
     "text": [
      "16:33:01 - cmdstanpy - INFO - Chain [1] start processing\n",
      "16:33:01 - cmdstanpy - INFO - Chain [1] done processing\n"
     ]
    },
    {
     "data": {
      "image/png": "[encoded data removed]",
      "text/plain": [
       "<Figure size 720x360 with 1 Axes>"
      ]
     },
     "metadata": {
      "needs_background": "light"
     },
     "output_type": "display_data"
    }
   ],
   "source": [
    "sym = 'AAPL'\n",
    "start = '2020-01-01'\n",
    "end = '2024-01-01'\n",
    "num_days = 92\n",
    "\n",
    "model, aapl_fc, aapl_all, aapl_trend = gen_stock_forecast_original(sym, start, end, num_days)\n",
    "aapl_true = fetch_stock_data('AAPL', '2024-01-01', '2024-05-01')\n",
    "\n",
    "plt.figure(figsize=(10, 5))\n",
    "plt.plot(np.array(aapl_fc['ds']), np.array(aapl_fc['yhat']), label='Forecast', color='blue')\n",
    "plt.plot(np.array(aapl_true['ds']), np.array(aapl_true['y']), label='True Y', color='green')\n",
    "\n",
    "plt.title('Stock Price Forecast')\n",
    "plt.xlabel('Date')\n",
    "plt.ylabel('Price')\n",
    "plt.legend()\n",
    "plt.show()"
   ]
  },
  {
   "cell_type": "code",
   "execution_count": 8,
   "id": "83e57d24",
   "metadata": {},
   "outputs": [
    {
     "data": {
      "text/plain": [
       "135.60835690963373"
      ]
     },
     "execution_count": 8,
     "metadata": {},
     "output_type": "execute_result"
    }
   ],
   "source": [
    "amzn_trend"
   ]
  },
  {
   "cell_type": "code",
   "execution_count": 9,
   "id": "2d76fd1f",
   "metadata": {},
   "outputs": [
    {
     "data": {
      "text/plain": [
       "162.93932722852702"
      ]
     },
     "execution_count": 9,
     "metadata": {},
     "output_type": "execute_result"
    }
   ],
   "source": [
    "aapl_trend"
   ]
  },
  {
   "cell_type": "code",
   "execution_count": null,
   "id": "8e97931d",
   "metadata": {},
   "outputs": [],
   "source": []
  },
  {
   "cell_type": "code",
   "execution_count": 10,
   "id": "5d22d766",
   "metadata": {},
   "outputs": [],
   "source": [
    "def main_forecast(ticker, start_date, end_date, days_to_predict):\n",
    "    model, fc, fc_all, fc_trend = gen_stock_forecast(ticker, start_date, end_date, days_to_predict)\n",
    "    \n",
    "    pred_date = datetime.strptime(end_date, '%Y-%m-%d') + timedelta(days=92)\n",
    "    pred_date = pred_date.strftime('%Y-%m-%d')\n",
    "    \n",
    "    cl = (fc['yhat_upper'] - fc['yhat_lower']).mean()\n",
    "    \n",
    "    \n",
    "#     fc_true = fetch_stock_data(ticker, end_date, pred_date)\n",
    "\n",
    "    \n",
    "#     plt.figure(figsize=(10, 5))\n",
    "#     plt.plot(np.array(fc['ds']), np.array(fc['yhat']), label='Forecast', color='blue')\n",
    "#     plt.plot(np.array(fc_true['ds']), np.array(fc_true['y']), label='True Y', color='green')\n",
    "\n",
    "#     plt.title(f'{ticker} Price Forecast')\n",
    "#     plt.xlabel('Date')\n",
    "#     plt.ylabel('Price')\n",
    "#     plt.legend()\n",
    "#     plt.show()\n",
    "    \n",
    "    # smaller confidence level range means greater confidence\n",
    "    return fc_trend, cl"
   ]
  },
  {
   "cell_type": "code",
   "execution_count": 11,
   "id": "bcc892ce",
   "metadata": {},
   "outputs": [],
   "source": [
    "def stock_options_weights(tick1, tick2, tick3, start_date, end_date, days_to_predict):\n",
    "    def calculate_weights(x1, x2, x3):\n",
    "        # Calculate the inverse of each value\n",
    "        inverse1 = 1 / (x1 + 1e-10)  # Adding a small epsilon to avoid division by zero\n",
    "        inverse2 = 1 / (x2 + 1e-10)\n",
    "        inverse3 = 1 / (x3 + 1e-10)\n",
    "\n",
    "        # Sum of inverses\n",
    "        total_inverse = inverse1 + inverse2 + inverse3\n",
    "\n",
    "        # Calculate weights as the proportion of each inverse to the total sum of inverses\n",
    "        weight1 = inverse1 / total_inverse\n",
    "        weight2 = inverse2 / total_inverse\n",
    "        weight3 = inverse3 / total_inverse\n",
    "\n",
    "        # Scale weights to sum to 100\n",
    "        scaled_weights = [weight1 * 100, weight2 * 100, weight3 * 100]\n",
    "\n",
    "        return scaled_weights\n",
    "    \n",
    "    trend_1, cl_1 = main_forecast(tick1, start_date, end_date, days_to_predict)\n",
    "    trend_2, cl_2 = main_forecast(tick2, start_date, end_date, days_to_predict)\n",
    "    trend_3, cl_3 = main_forecast(tick3, start_date, end_date, days_to_predict)\n",
    "    \n",
    "    weights = calculate_weights(cl_1, cl_2, cl_3)\n",
    "    return {tick1: (trend_1, weights[0]), tick2: (trend_2, weights[1]), tick3: (trend_3, weights[2])}\n",
    "    \n",
    "    "
   ]
  },
  {
   "cell_type": "code",
   "execution_count": 12,
   "id": "3bbe30c5",
   "metadata": {},
   "outputs": [
    {
     "name": "stderr",
     "output_type": "stream",
     "text": [
      "16:33:02 - cmdstanpy - INFO - Chain [1] start processing\n",
      "16:33:02 - cmdstanpy - INFO - Chain [1] done processing\n"
     ]
    },
    {
     "data": {
      "application/vnd.jupyter.widget-view+json": {
       "model_id": "8c61490d073d43de855aa17e85b28fb1",
       "version_major": 2,
       "version_minor": 0
      },
      "text/plain": [
       "  0%|          | 0/3 [00:00<?, ?it/s]"
      ]
     },
     "metadata": {},
     "output_type": "display_data"
    },
    {
     "name": "stderr",
     "output_type": "stream",
     "text": [
      "16:33:03 - cmdstanpy - INFO - Chain [1] start processing\n",
      "16:33:03 - cmdstanpy - INFO - Chain [1] done processing\n",
      "16:33:04 - cmdstanpy - INFO - Chain [1] start processing\n",
      "16:33:04 - cmdstanpy - INFO - Chain [1] done processing\n",
      "16:33:04 - cmdstanpy - INFO - Chain [1] start processing\n",
      "16:33:04 - cmdstanpy - INFO - Chain [1] done processing\n",
      "16:33:05 - cmdstanpy - INFO - Chain [1] start processing\n",
      "16:33:06 - cmdstanpy - INFO - Chain [1] done processing\n"
     ]
    },
    {
     "data": {
      "application/vnd.jupyter.widget-view+json": {
       "model_id": "1e80dc8d9432493089a24fd0b760e897",
       "version_major": 2,
       "version_minor": 0
      },
      "text/plain": [
       "  0%|          | 0/3 [00:00<?, ?it/s]"
      ]
     },
     "metadata": {},
     "output_type": "display_data"
    },
    {
     "name": "stderr",
     "output_type": "stream",
     "text": [
      "16:33:06 - cmdstanpy - INFO - Chain [1] start processing\n",
      "16:33:06 - cmdstanpy - INFO - Chain [1] done processing\n",
      "16:33:07 - cmdstanpy - INFO - Chain [1] start processing\n",
      "16:33:07 - cmdstanpy - INFO - Chain [1] done processing\n",
      "16:33:07 - cmdstanpy - INFO - Chain [1] start processing\n",
      "16:33:08 - cmdstanpy - INFO - Chain [1] done processing\n",
      "16:33:09 - cmdstanpy - INFO - Chain [1] start processing\n",
      "16:33:09 - cmdstanpy - INFO - Chain [1] done processing\n"
     ]
    },
    {
     "data": {
      "application/vnd.jupyter.widget-view+json": {
       "model_id": "7b4139973a714a8498e133a635c9789b",
       "version_major": 2,
       "version_minor": 0
      },
      "text/plain": [
       "  0%|          | 0/3 [00:00<?, ?it/s]"
      ]
     },
     "metadata": {},
     "output_type": "display_data"
    },
    {
     "name": "stderr",
     "output_type": "stream",
     "text": [
      "16:33:09 - cmdstanpy - INFO - Chain [1] start processing\n",
      "16:33:09 - cmdstanpy - INFO - Chain [1] done processing\n",
      "16:33:10 - cmdstanpy - INFO - Chain [1] start processing\n",
      "16:33:10 - cmdstanpy - INFO - Chain [1] done processing\n",
      "16:33:11 - cmdstanpy - INFO - Chain [1] start processing\n",
      "16:33:11 - cmdstanpy - INFO - Chain [1] done processing\n",
      "16:33:12 - cmdstanpy - INFO - Chain [1] start processing\n",
      "16:33:12 - cmdstanpy - INFO - Chain [1] done processing\n"
     ]
    },
    {
     "data": {
      "application/vnd.jupyter.widget-view+json": {
       "model_id": "e8641940b76947f891588e0fea4126d7",
       "version_major": 2,
       "version_minor": 0
      },
      "text/plain": [
       "  0%|          | 0/3 [00:00<?, ?it/s]"
      ]
     },
     "metadata": {},
     "output_type": "display_data"
    },
    {
     "name": "stderr",
     "output_type": "stream",
     "text": [
      "16:33:12 - cmdstanpy - INFO - Chain [1] start processing\n",
      "16:33:13 - cmdstanpy - INFO - Chain [1] done processing\n",
      "16:33:13 - cmdstanpy - INFO - Chain [1] start processing\n",
      "16:33:13 - cmdstanpy - INFO - Chain [1] done processing\n",
      "16:33:14 - cmdstanpy - INFO - Chain [1] start processing\n",
      "16:33:14 - cmdstanpy - INFO - Chain [1] done processing\n",
      "16:33:15 - cmdstanpy - INFO - Chain [1] start processing\n",
      "16:33:16 - cmdstanpy - INFO - Chain [1] done processing\n"
     ]
    },
    {
     "data": {
      "application/vnd.jupyter.widget-view+json": {
       "model_id": "2a42504a63da4702928435a4961faa89",
       "version_major": 2,
       "version_minor": 0
      },
      "text/plain": [
       "  0%|          | 0/3 [00:00<?, ?it/s]"
      ]
     },
     "metadata": {},
     "output_type": "display_data"
    },
    {
     "name": "stderr",
     "output_type": "stream",
     "text": [
      "16:33:16 - cmdstanpy - INFO - Chain [1] start processing\n",
      "16:33:16 - cmdstanpy - INFO - Chain [1] done processing\n",
      "16:33:17 - cmdstanpy - INFO - Chain [1] start processing\n",
      "16:33:17 - cmdstanpy - INFO - Chain [1] done processing\n",
      "16:33:17 - cmdstanpy - INFO - Chain [1] start processing\n",
      "16:33:17 - cmdstanpy - INFO - Chain [1] done processing\n",
      "16:33:18 - cmdstanpy - INFO - Chain [1] start processing\n",
      "16:33:19 - cmdstanpy - INFO - Chain [1] done processing\n"
     ]
    },
    {
     "data": {
      "application/vnd.jupyter.widget-view+json": {
       "model_id": "ee8c95ae8a0042d98643f94fc5862d4b",
       "version_major": 2,
       "version_minor": 0
      },
      "text/plain": [
       "  0%|          | 0/3 [00:00<?, ?it/s]"
      ]
     },
     "metadata": {},
     "output_type": "display_data"
    },
    {
     "name": "stderr",
     "output_type": "stream",
     "text": [
      "16:33:19 - cmdstanpy - INFO - Chain [1] start processing\n",
      "16:33:19 - cmdstanpy - INFO - Chain [1] done processing\n",
      "16:33:20 - cmdstanpy - INFO - Chain [1] start processing\n",
      "16:33:20 - cmdstanpy - INFO - Chain [1] done processing\n",
      "16:33:21 - cmdstanpy - INFO - Chain [1] start processing\n",
      "16:33:21 - cmdstanpy - INFO - Chain [1] done processing\n",
      "16:33:22 - cmdstanpy - INFO - Chain [1] start processing\n",
      "16:33:22 - cmdstanpy - INFO - Chain [1] done processing\n"
     ]
    },
    {
     "data": {
      "application/vnd.jupyter.widget-view+json": {
       "model_id": "f837476db5e5404e8e497af392c45af7",
       "version_major": 2,
       "version_minor": 0
      },
      "text/plain": [
       "  0%|          | 0/3 [00:00<?, ?it/s]"
      ]
     },
     "metadata": {},
     "output_type": "display_data"
    },
    {
     "name": "stderr",
     "output_type": "stream",
     "text": [
      "16:33:22 - cmdstanpy - INFO - Chain [1] start processing\n",
      "16:33:22 - cmdstanpy - INFO - Chain [1] done processing\n",
      "16:33:23 - cmdstanpy - INFO - Chain [1] start processing\n",
      "16:33:23 - cmdstanpy - INFO - Chain [1] done processing\n",
      "16:33:24 - cmdstanpy - INFO - Chain [1] start processing\n",
      "16:33:24 - cmdstanpy - INFO - Chain [1] done processing\n",
      "16:33:25 - cmdstanpy - INFO - Chain [1] start processing\n",
      "16:33:25 - cmdstanpy - INFO - Chain [1] done processing\n"
     ]
    },
    {
     "data": {
      "application/vnd.jupyter.widget-view+json": {
       "model_id": "12c08cc963db49d99312fb25eb07f3ed",
       "version_major": 2,
       "version_minor": 0
      },
      "text/plain": [
       "  0%|          | 0/3 [00:00<?, ?it/s]"
      ]
     },
     "metadata": {},
     "output_type": "display_data"
    },
    {
     "name": "stderr",
     "output_type": "stream",
     "text": [
      "16:33:25 - cmdstanpy - INFO - Chain [1] start processing\n",
      "16:33:25 - cmdstanpy - INFO - Chain [1] done processing\n",
      "16:33:26 - cmdstanpy - INFO - Chain [1] start processing\n",
      "16:33:26 - cmdstanpy - INFO - Chain [1] done processing\n",
      "16:33:27 - cmdstanpy - INFO - Chain [1] start processing\n",
      "16:33:27 - cmdstanpy - INFO - Chain [1] done processing\n",
      "16:33:28 - cmdstanpy - INFO - Chain [1] start processing\n",
      "16:33:29 - cmdstanpy - INFO - Chain [1] done processing\n"
     ]
    },
    {
     "data": {
      "application/vnd.jupyter.widget-view+json": {
       "model_id": "376819c4d0d74c44b732136f37da4131",
       "version_major": 2,
       "version_minor": 0
      },
      "text/plain": [
       "  0%|          | 0/3 [00:00<?, ?it/s]"
      ]
     },
     "metadata": {},
     "output_type": "display_data"
    },
    {
     "name": "stderr",
     "output_type": "stream",
     "text": [
      "16:33:29 - cmdstanpy - INFO - Chain [1] start processing\n",
      "16:33:29 - cmdstanpy - INFO - Chain [1] done processing\n",
      "16:33:30 - cmdstanpy - INFO - Chain [1] start processing\n",
      "16:33:30 - cmdstanpy - INFO - Chain [1] done processing\n",
      "16:33:31 - cmdstanpy - INFO - Chain [1] start processing\n",
      "16:33:31 - cmdstanpy - INFO - Chain [1] done processing\n",
      "16:33:32 - cmdstanpy - INFO - Chain [1] start processing\n",
      "16:33:32 - cmdstanpy - INFO - Chain [1] done processing\n"
     ]
    },
    {
     "data": {
      "application/vnd.jupyter.widget-view+json": {
       "model_id": "1ced453d062049cbb0947c5a5ee02d9d",
       "version_major": 2,
       "version_minor": 0
      },
      "text/plain": [
       "  0%|          | 0/3 [00:00<?, ?it/s]"
      ]
     },
     "metadata": {},
     "output_type": "display_data"
    },
    {
     "name": "stderr",
     "output_type": "stream",
     "text": [
      "16:33:32 - cmdstanpy - INFO - Chain [1] start processing\n",
      "16:33:32 - cmdstanpy - INFO - Chain [1] done processing\n",
      "16:33:33 - cmdstanpy - INFO - Chain [1] start processing\n",
      "16:33:33 - cmdstanpy - INFO - Chain [1] done processing\n",
      "16:33:34 - cmdstanpy - INFO - Chain [1] start processing\n",
      "16:33:34 - cmdstanpy - INFO - Chain [1] done processing\n",
      "16:33:35 - cmdstanpy - INFO - Chain [1] start processing\n",
      "16:33:35 - cmdstanpy - INFO - Chain [1] done processing\n"
     ]
    },
    {
     "data": {
      "application/vnd.jupyter.widget-view+json": {
       "model_id": "56b1ec727645422bad452290a4cfdb4b",
       "version_major": 2,
       "version_minor": 0
      },
      "text/plain": [
       "  0%|          | 0/3 [00:00<?, ?it/s]"
      ]
     },
     "metadata": {},
     "output_type": "display_data"
    },
    {
     "name": "stderr",
     "output_type": "stream",
     "text": [
      "16:33:35 - cmdstanpy - INFO - Chain [1] start processing\n",
      "16:33:35 - cmdstanpy - INFO - Chain [1] done processing\n",
      "16:33:36 - cmdstanpy - INFO - Chain [1] start processing\n",
      "16:33:36 - cmdstanpy - INFO - Chain [1] done processing\n",
      "16:33:37 - cmdstanpy - INFO - Chain [1] start processing\n",
      "16:33:37 - cmdstanpy - INFO - Chain [1] done processing\n",
      "16:33:38 - cmdstanpy - INFO - Chain [1] start processing\n",
      "16:33:38 - cmdstanpy - INFO - Chain [1] done processing\n"
     ]
    },
    {
     "data": {
      "application/vnd.jupyter.widget-view+json": {
       "model_id": "366bb322000a47b78be47e24931f41a9",
       "version_major": 2,
       "version_minor": 0
      },
      "text/plain": [
       "  0%|          | 0/3 [00:00<?, ?it/s]"
      ]
     },
     "metadata": {},
     "output_type": "display_data"
    },
    {
     "name": "stderr",
     "output_type": "stream",
     "text": [
      "16:33:38 - cmdstanpy - INFO - Chain [1] start processing\n",
      "16:33:38 - cmdstanpy - INFO - Chain [1] done processing\n",
      "16:33:39 - cmdstanpy - INFO - Chain [1] start processing\n",
      "16:33:39 - cmdstanpy - INFO - Chain [1] done processing\n",
      "16:33:40 - cmdstanpy - INFO - Chain [1] start processing\n",
      "16:33:40 - cmdstanpy - INFO - Chain [1] done processing\n",
      "16:33:41 - cmdstanpy - INFO - Chain [1] start processing\n",
      "16:33:41 - cmdstanpy - INFO - Chain [1] done processing\n"
     ]
    },
    {
     "data": {
      "application/vnd.jupyter.widget-view+json": {
       "model_id": "1e8ec56024514047a8424a232427f719",
       "version_major": 2,
       "version_minor": 0
      },
      "text/plain": [
       "  0%|          | 0/3 [00:00<?, ?it/s]"
      ]
     },
     "metadata": {},
     "output_type": "display_data"
    },
    {
     "name": "stderr",
     "output_type": "stream",
     "text": [
      "16:33:41 - cmdstanpy - INFO - Chain [1] start processing\n",
      "16:33:42 - cmdstanpy - INFO - Chain [1] done processing\n",
      "16:33:42 - cmdstanpy - INFO - Chain [1] start processing\n",
      "16:33:42 - cmdstanpy - INFO - Chain [1] done processing\n",
      "16:33:43 - cmdstanpy - INFO - Chain [1] start processing\n",
      "16:33:43 - cmdstanpy - INFO - Chain [1] done processing\n",
      "16:33:44 - cmdstanpy - INFO - Chain [1] start processing\n",
      "16:33:44 - cmdstanpy - INFO - Chain [1] done processing\n"
     ]
    },
    {
     "data": {
      "application/vnd.jupyter.widget-view+json": {
       "model_id": "6fafd2df938a4680b1f4a7fdcf210f9f",
       "version_major": 2,
       "version_minor": 0
      },
      "text/plain": [
       "  0%|          | 0/3 [00:00<?, ?it/s]"
      ]
     },
     "metadata": {},
     "output_type": "display_data"
    },
    {
     "name": "stderr",
     "output_type": "stream",
     "text": [
      "16:33:45 - cmdstanpy - INFO - Chain [1] start processing\n",
      "16:33:45 - cmdstanpy - INFO - Chain [1] done processing\n",
      "16:33:46 - cmdstanpy - INFO - Chain [1] start processing\n",
      "16:33:46 - cmdstanpy - INFO - Chain [1] done processing\n",
      "16:33:46 - cmdstanpy - INFO - Chain [1] start processing\n",
      "16:33:47 - cmdstanpy - INFO - Chain [1] done processing\n",
      "16:33:48 - cmdstanpy - INFO - Chain [1] start processing\n",
      "16:33:48 - cmdstanpy - INFO - Chain [1] done processing\n"
     ]
    },
    {
     "data": {
      "application/vnd.jupyter.widget-view+json": {
       "model_id": "2198b88c253a43d0b7f8688fffe63210",
       "version_major": 2,
       "version_minor": 0
      },
      "text/plain": [
       "  0%|          | 0/3 [00:00<?, ?it/s]"
      ]
     },
     "metadata": {},
     "output_type": "display_data"
    },
    {
     "name": "stderr",
     "output_type": "stream",
     "text": [
      "16:33:48 - cmdstanpy - INFO - Chain [1] start processing\n",
      "16:33:48 - cmdstanpy - INFO - Chain [1] done processing\n",
      "16:33:49 - cmdstanpy - INFO - Chain [1] start processing\n",
      "16:33:49 - cmdstanpy - INFO - Chain [1] done processing\n",
      "16:33:50 - cmdstanpy - INFO - Chain [1] start processing\n",
      "16:33:50 - cmdstanpy - INFO - Chain [1] done processing\n",
      "16:33:51 - cmdstanpy - INFO - Chain [1] start processing\n",
      "16:33:51 - cmdstanpy - INFO - Chain [1] done processing\n"
     ]
    },
    {
     "data": {
      "application/vnd.jupyter.widget-view+json": {
       "model_id": "e2332a1b316b4015a5fcac59c7d64a15",
       "version_major": 2,
       "version_minor": 0
      },
      "text/plain": [
       "  0%|          | 0/3 [00:00<?, ?it/s]"
      ]
     },
     "metadata": {},
     "output_type": "display_data"
    },
    {
     "name": "stderr",
     "output_type": "stream",
     "text": [
      "16:33:51 - cmdstanpy - INFO - Chain [1] start processing\n",
      "16:33:51 - cmdstanpy - INFO - Chain [1] done processing\n",
      "16:33:52 - cmdstanpy - INFO - Chain [1] start processing\n",
      "16:33:52 - cmdstanpy - INFO - Chain [1] done processing\n",
      "16:33:53 - cmdstanpy - INFO - Chain [1] start processing\n",
      "16:33:53 - cmdstanpy - INFO - Chain [1] done processing\n",
      "16:33:54 - cmdstanpy - INFO - Chain [1] start processing\n"
     ]
    },
    {
     "name": "stdout",
     "output_type": "stream",
     "text": [
      "Best parameters: {'changepoint_prior_scale': 0.025, 'changepoint_range': 0.4}, Best RMSE: 28.83535738752637\n"
     ]
    },
    {
     "name": "stderr",
     "output_type": "stream",
     "text": [
      "16:33:54 - cmdstanpy - INFO - Chain [1] done processing\n",
      "16:33:55 - cmdstanpy - INFO - Chain [1] start processing\n",
      "16:33:56 - cmdstanpy - INFO - Chain [1] done processing\n"
     ]
    },
    {
     "data": {
      "application/vnd.jupyter.widget-view+json": {
       "model_id": "90bb4255ad224e4a913e345e65be12f1",
       "version_major": 2,
       "version_minor": 0
      },
      "text/plain": [
       "  0%|          | 0/3 [00:00<?, ?it/s]"
      ]
     },
     "metadata": {},
     "output_type": "display_data"
    },
    {
     "name": "stderr",
     "output_type": "stream",
     "text": [
      "16:33:56 - cmdstanpy - INFO - Chain [1] start processing\n",
      "16:33:56 - cmdstanpy - INFO - Chain [1] done processing\n",
      "16:33:57 - cmdstanpy - INFO - Chain [1] start processing\n",
      "16:33:57 - cmdstanpy - INFO - Chain [1] done processing\n",
      "16:33:57 - cmdstanpy - INFO - Chain [1] start processing\n",
      "16:33:58 - cmdstanpy - INFO - Chain [1] done processing\n",
      "16:33:59 - cmdstanpy - INFO - Chain [1] start processing\n",
      "16:33:59 - cmdstanpy - INFO - Chain [1] done processing\n"
     ]
    },
    {
     "data": {
      "application/vnd.jupyter.widget-view+json": {
       "model_id": "c9473b9d2cb54e0cb6abcf9489bf5237",
       "version_major": 2,
       "version_minor": 0
      },
      "text/plain": [
       "  0%|          | 0/3 [00:00<?, ?it/s]"
      ]
     },
     "metadata": {},
     "output_type": "display_data"
    },
    {
     "name": "stderr",
     "output_type": "stream",
     "text": [
      "16:33:59 - cmdstanpy - INFO - Chain [1] start processing\n",
      "16:33:59 - cmdstanpy - INFO - Chain [1] done processing\n",
      "16:34:00 - cmdstanpy - INFO - Chain [1] start processing\n",
      "16:34:00 - cmdstanpy - INFO - Chain [1] done processing\n",
      "16:34:01 - cmdstanpy - INFO - Chain [1] start processing\n",
      "16:34:01 - cmdstanpy - INFO - Chain [1] done processing\n",
      "16:34:02 - cmdstanpy - INFO - Chain [1] start processing\n",
      "16:34:02 - cmdstanpy - INFO - Chain [1] done processing\n"
     ]
    },
    {
     "data": {
      "application/vnd.jupyter.widget-view+json": {
       "model_id": "e8d3a6fb60d14d83bc75bf8ef876bfb8",
       "version_major": 2,
       "version_minor": 0
      },
      "text/plain": [
       "  0%|          | 0/3 [00:00<?, ?it/s]"
      ]
     },
     "metadata": {},
     "output_type": "display_data"
    },
    {
     "name": "stderr",
     "output_type": "stream",
     "text": [
      "16:34:02 - cmdstanpy - INFO - Chain [1] start processing\n",
      "16:34:02 - cmdstanpy - INFO - Chain [1] done processing\n",
      "16:34:03 - cmdstanpy - INFO - Chain [1] start processing\n",
      "16:34:03 - cmdstanpy - INFO - Chain [1] done processing\n",
      "16:34:04 - cmdstanpy - INFO - Chain [1] start processing\n",
      "16:34:04 - cmdstanpy - INFO - Chain [1] done processing\n",
      "16:34:05 - cmdstanpy - INFO - Chain [1] start processing\n",
      "16:34:06 - cmdstanpy - INFO - Chain [1] done processing\n"
     ]
    },
    {
     "data": {
      "application/vnd.jupyter.widget-view+json": {
       "model_id": "98f32c678cc1414799b2d874c628197d",
       "version_major": 2,
       "version_minor": 0
      },
      "text/plain": [
       "  0%|          | 0/3 [00:00<?, ?it/s]"
      ]
     },
     "metadata": {},
     "output_type": "display_data"
    },
    {
     "name": "stderr",
     "output_type": "stream",
     "text": [
      "16:34:06 - cmdstanpy - INFO - Chain [1] start processing\n",
      "16:34:06 - cmdstanpy - INFO - Chain [1] done processing\n",
      "16:34:06 - cmdstanpy - INFO - Chain [1] start processing\n",
      "16:34:07 - cmdstanpy - INFO - Chain [1] done processing\n",
      "16:34:07 - cmdstanpy - INFO - Chain [1] start processing\n",
      "16:34:08 - cmdstanpy - INFO - Chain [1] done processing\n",
      "16:34:09 - cmdstanpy - INFO - Chain [1] start processing\n",
      "16:34:09 - cmdstanpy - INFO - Chain [1] done processing\n"
     ]
    },
    {
     "data": {
      "application/vnd.jupyter.widget-view+json": {
       "model_id": "f49608e333ac4ecc96c5e59b9fc35ff3",
       "version_major": 2,
       "version_minor": 0
      },
      "text/plain": [
       "  0%|          | 0/3 [00:00<?, ?it/s]"
      ]
     },
     "metadata": {},
     "output_type": "display_data"
    },
    {
     "name": "stderr",
     "output_type": "stream",
     "text": [
      "16:34:09 - cmdstanpy - INFO - Chain [1] start processing\n",
      "16:34:09 - cmdstanpy - INFO - Chain [1] done processing\n",
      "16:34:10 - cmdstanpy - INFO - Chain [1] start processing\n",
      "16:34:10 - cmdstanpy - INFO - Chain [1] done processing\n",
      "16:34:11 - cmdstanpy - INFO - Chain [1] start processing\n",
      "16:34:11 - cmdstanpy - INFO - Chain [1] done processing\n",
      "16:34:12 - cmdstanpy - INFO - Chain [1] start processing\n",
      "16:34:12 - cmdstanpy - INFO - Chain [1] done processing\n"
     ]
    },
    {
     "data": {
      "application/vnd.jupyter.widget-view+json": {
       "model_id": "08b77fc6b02a457abf777527581ab4f8",
       "version_major": 2,
       "version_minor": 0
      },
      "text/plain": [
       "  0%|          | 0/3 [00:00<?, ?it/s]"
      ]
     },
     "metadata": {},
     "output_type": "display_data"
    },
    {
     "name": "stderr",
     "output_type": "stream",
     "text": [
      "16:34:12 - cmdstanpy - INFO - Chain [1] start processing\n",
      "16:34:12 - cmdstanpy - INFO - Chain [1] done processing\n",
      "16:34:13 - cmdstanpy - INFO - Chain [1] start processing\n",
      "16:34:13 - cmdstanpy - INFO - Chain [1] done processing\n",
      "16:34:14 - cmdstanpy - INFO - Chain [1] start processing\n",
      "16:34:14 - cmdstanpy - INFO - Chain [1] done processing\n",
      "16:34:15 - cmdstanpy - INFO - Chain [1] start processing\n",
      "16:34:15 - cmdstanpy - INFO - Chain [1] done processing\n"
     ]
    },
    {
     "data": {
      "application/vnd.jupyter.widget-view+json": {
       "model_id": "f8e99b89d9c84d57ab70d2908449ad02",
       "version_major": 2,
       "version_minor": 0
      },
      "text/plain": [
       "  0%|          | 0/3 [00:00<?, ?it/s]"
      ]
     },
     "metadata": {},
     "output_type": "display_data"
    },
    {
     "name": "stderr",
     "output_type": "stream",
     "text": [
      "16:34:15 - cmdstanpy - INFO - Chain [1] start processing\n",
      "16:34:15 - cmdstanpy - INFO - Chain [1] done processing\n",
      "16:34:16 - cmdstanpy - INFO - Chain [1] start processing\n",
      "16:34:16 - cmdstanpy - INFO - Chain [1] done processing\n",
      "16:34:17 - cmdstanpy - INFO - Chain [1] start processing\n",
      "16:34:17 - cmdstanpy - INFO - Chain [1] done processing\n",
      "16:34:18 - cmdstanpy - INFO - Chain [1] start processing\n",
      "16:34:19 - cmdstanpy - INFO - Chain [1] done processing\n"
     ]
    },
    {
     "data": {
      "application/vnd.jupyter.widget-view+json": {
       "model_id": "cea1f5d2bc194119b1e98e05fea8940e",
       "version_major": 2,
       "version_minor": 0
      },
      "text/plain": [
       "  0%|          | 0/3 [00:00<?, ?it/s]"
      ]
     },
     "metadata": {},
     "output_type": "display_data"
    },
    {
     "name": "stderr",
     "output_type": "stream",
     "text": [
      "16:34:19 - cmdstanpy - INFO - Chain [1] start processing\n",
      "16:34:19 - cmdstanpy - INFO - Chain [1] done processing\n",
      "16:34:20 - cmdstanpy - INFO - Chain [1] start processing\n",
      "16:34:20 - cmdstanpy - INFO - Chain [1] done processing\n",
      "16:34:21 - cmdstanpy - INFO - Chain [1] start processing\n",
      "16:34:21 - cmdstanpy - INFO - Chain [1] done processing\n",
      "16:34:22 - cmdstanpy - INFO - Chain [1] start processing\n",
      "16:34:22 - cmdstanpy - INFO - Chain [1] done processing\n"
     ]
    },
    {
     "data": {
      "application/vnd.jupyter.widget-view+json": {
       "model_id": "c143ff081d8744959ec974e1e7a06cec",
       "version_major": 2,
       "version_minor": 0
      },
      "text/plain": [
       "  0%|          | 0/3 [00:00<?, ?it/s]"
      ]
     },
     "metadata": {},
     "output_type": "display_data"
    },
    {
     "name": "stderr",
     "output_type": "stream",
     "text": [
      "16:34:22 - cmdstanpy - INFO - Chain [1] start processing\n",
      "16:34:22 - cmdstanpy - INFO - Chain [1] done processing\n",
      "16:34:23 - cmdstanpy - INFO - Chain [1] start processing\n",
      "16:34:23 - cmdstanpy - INFO - Chain [1] done processing\n",
      "16:34:24 - cmdstanpy - INFO - Chain [1] start processing\n",
      "16:34:24 - cmdstanpy - INFO - Chain [1] done processing\n",
      "16:34:25 - cmdstanpy - INFO - Chain [1] start processing\n",
      "16:34:25 - cmdstanpy - INFO - Chain [1] done processing\n"
     ]
    },
    {
     "data": {
      "application/vnd.jupyter.widget-view+json": {
       "model_id": "c2f180095a014d46a6ad82d3f9a545ba",
       "version_major": 2,
       "version_minor": 0
      },
      "text/plain": [
       "  0%|          | 0/3 [00:00<?, ?it/s]"
      ]
     },
     "metadata": {},
     "output_type": "display_data"
    },
    {
     "name": "stderr",
     "output_type": "stream",
     "text": [
      "16:34:25 - cmdstanpy - INFO - Chain [1] start processing\n",
      "16:34:25 - cmdstanpy - INFO - Chain [1] done processing\n",
      "16:34:26 - cmdstanpy - INFO - Chain [1] start processing\n",
      "16:34:26 - cmdstanpy - INFO - Chain [1] done processing\n",
      "16:34:27 - cmdstanpy - INFO - Chain [1] start processing\n",
      "16:34:27 - cmdstanpy - INFO - Chain [1] done processing\n",
      "16:34:28 - cmdstanpy - INFO - Chain [1] start processing\n",
      "16:34:28 - cmdstanpy - INFO - Chain [1] done processing\n"
     ]
    },
    {
     "data": {
      "application/vnd.jupyter.widget-view+json": {
       "model_id": "8c9a0d08d2774ddba0934fccfe52e3a6",
       "version_major": 2,
       "version_minor": 0
      },
      "text/plain": [
       "  0%|          | 0/3 [00:00<?, ?it/s]"
      ]
     },
     "metadata": {},
     "output_type": "display_data"
    },
    {
     "name": "stderr",
     "output_type": "stream",
     "text": [
      "16:34:29 - cmdstanpy - INFO - Chain [1] start processing\n",
      "16:34:29 - cmdstanpy - INFO - Chain [1] done processing\n",
      "16:34:29 - cmdstanpy - INFO - Chain [1] start processing\n",
      "16:34:29 - cmdstanpy - INFO - Chain [1] done processing\n",
      "16:34:30 - cmdstanpy - INFO - Chain [1] start processing\n",
      "16:34:30 - cmdstanpy - INFO - Chain [1] done processing\n",
      "16:34:31 - cmdstanpy - INFO - Chain [1] start processing\n",
      "16:34:32 - cmdstanpy - INFO - Chain [1] done processing\n"
     ]
    },
    {
     "data": {
      "application/vnd.jupyter.widget-view+json": {
       "model_id": "f867ae6cfea844c1b9185b27360bc92c",
       "version_major": 2,
       "version_minor": 0
      },
      "text/plain": [
       "  0%|          | 0/3 [00:00<?, ?it/s]"
      ]
     },
     "metadata": {},
     "output_type": "display_data"
    },
    {
     "name": "stderr",
     "output_type": "stream",
     "text": [
      "16:34:32 - cmdstanpy - INFO - Chain [1] start processing\n",
      "16:34:32 - cmdstanpy - INFO - Chain [1] done processing\n",
      "16:34:33 - cmdstanpy - INFO - Chain [1] start processing\n",
      "16:34:33 - cmdstanpy - INFO - Chain [1] done processing\n",
      "16:34:34 - cmdstanpy - INFO - Chain [1] start processing\n",
      "16:34:34 - cmdstanpy - INFO - Chain [1] done processing\n",
      "16:34:35 - cmdstanpy - INFO - Chain [1] start processing\n",
      "16:34:35 - cmdstanpy - INFO - Chain [1] done processing\n"
     ]
    },
    {
     "data": {
      "application/vnd.jupyter.widget-view+json": {
       "model_id": "3edde3e8da984634b76b67b1db5186c0",
       "version_major": 2,
       "version_minor": 0
      },
      "text/plain": [
       "  0%|          | 0/3 [00:00<?, ?it/s]"
      ]
     },
     "metadata": {},
     "output_type": "display_data"
    },
    {
     "name": "stderr",
     "output_type": "stream",
     "text": [
      "16:34:35 - cmdstanpy - INFO - Chain [1] start processing\n",
      "16:34:36 - cmdstanpy - INFO - Chain [1] done processing\n",
      "16:34:36 - cmdstanpy - INFO - Chain [1] start processing\n",
      "16:34:36 - cmdstanpy - INFO - Chain [1] done processing\n",
      "16:34:37 - cmdstanpy - INFO - Chain [1] start processing\n",
      "16:34:37 - cmdstanpy - INFO - Chain [1] done processing\n",
      "16:34:38 - cmdstanpy - INFO - Chain [1] start processing\n",
      "16:34:38 - cmdstanpy - INFO - Chain [1] done processing\n"
     ]
    },
    {
     "data": {
      "application/vnd.jupyter.widget-view+json": {
       "model_id": "4de99bffb3864f3daad68736217801c4",
       "version_major": 2,
       "version_minor": 0
      },
      "text/plain": [
       "  0%|          | 0/3 [00:00<?, ?it/s]"
      ]
     },
     "metadata": {},
     "output_type": "display_data"
    },
    {
     "name": "stderr",
     "output_type": "stream",
     "text": [
      "16:34:39 - cmdstanpy - INFO - Chain [1] start processing\n",
      "16:34:39 - cmdstanpy - INFO - Chain [1] done processing\n",
      "16:34:40 - cmdstanpy - INFO - Chain [1] start processing\n",
      "16:34:40 - cmdstanpy - INFO - Chain [1] done processing\n",
      "16:34:40 - cmdstanpy - INFO - Chain [1] start processing\n",
      "16:34:41 - cmdstanpy - INFO - Chain [1] done processing\n",
      "16:34:42 - cmdstanpy - INFO - Chain [1] start processing\n",
      "16:34:42 - cmdstanpy - INFO - Chain [1] done processing\n"
     ]
    },
    {
     "data": {
      "application/vnd.jupyter.widget-view+json": {
       "model_id": "ade2a975f950437aa315ef6d0b745b1d",
       "version_major": 2,
       "version_minor": 0
      },
      "text/plain": [
       "  0%|          | 0/3 [00:00<?, ?it/s]"
      ]
     },
     "metadata": {},
     "output_type": "display_data"
    },
    {
     "name": "stderr",
     "output_type": "stream",
     "text": [
      "16:34:42 - cmdstanpy - INFO - Chain [1] start processing\n",
      "16:34:42 - cmdstanpy - INFO - Chain [1] done processing\n",
      "16:34:43 - cmdstanpy - INFO - Chain [1] start processing\n",
      "16:34:43 - cmdstanpy - INFO - Chain [1] done processing\n",
      "16:34:44 - cmdstanpy - INFO - Chain [1] start processing\n",
      "16:34:44 - cmdstanpy - INFO - Chain [1] done processing\n",
      "16:34:45 - cmdstanpy - INFO - Chain [1] start processing\n",
      "16:34:45 - cmdstanpy - INFO - Chain [1] done processing\n"
     ]
    },
    {
     "data": {
      "application/vnd.jupyter.widget-view+json": {
       "model_id": "3ee6c755d9204e559eff71525a839059",
       "version_major": 2,
       "version_minor": 0
      },
      "text/plain": [
       "  0%|          | 0/3 [00:00<?, ?it/s]"
      ]
     },
     "metadata": {},
     "output_type": "display_data"
    },
    {
     "name": "stderr",
     "output_type": "stream",
     "text": [
      "16:34:45 - cmdstanpy - INFO - Chain [1] start processing\n",
      "16:34:45 - cmdstanpy - INFO - Chain [1] done processing\n",
      "16:34:46 - cmdstanpy - INFO - Chain [1] start processing\n",
      "16:34:46 - cmdstanpy - INFO - Chain [1] done processing\n",
      "16:34:47 - cmdstanpy - INFO - Chain [1] start processing\n",
      "16:34:47 - cmdstanpy - INFO - Chain [1] done processing\n",
      "16:34:48 - cmdstanpy - INFO - Chain [1] start processing\n"
     ]
    },
    {
     "name": "stdout",
     "output_type": "stream",
     "text": [
      "Best parameters: {'changepoint_prior_scale': 0.015, 'changepoint_range': 0.4}, Best RMSE: 44.48570016135032\n"
     ]
    },
    {
     "name": "stderr",
     "output_type": "stream",
     "text": [
      "16:34:48 - cmdstanpy - INFO - Chain [1] done processing\n",
      "16:34:49 - cmdstanpy - INFO - Chain [1] start processing\n",
      "16:34:49 - cmdstanpy - INFO - Chain [1] done processing\n"
     ]
    },
    {
     "data": {
      "application/vnd.jupyter.widget-view+json": {
       "model_id": "5e5b4c87dd1b429bac2175349a5ff8bd",
       "version_major": 2,
       "version_minor": 0
      },
      "text/plain": [
       "  0%|          | 0/3 [00:00<?, ?it/s]"
      ]
     },
     "metadata": {},
     "output_type": "display_data"
    },
    {
     "name": "stderr",
     "output_type": "stream",
     "text": [
      "16:34:50 - cmdstanpy - INFO - Chain [1] start processing\n",
      "16:34:50 - cmdstanpy - INFO - Chain [1] done processing\n",
      "16:34:50 - cmdstanpy - INFO - Chain [1] start processing\n",
      "16:34:50 - cmdstanpy - INFO - Chain [1] done processing\n",
      "16:34:51 - cmdstanpy - INFO - Chain [1] start processing\n",
      "16:34:51 - cmdstanpy - INFO - Chain [1] done processing\n",
      "16:34:52 - cmdstanpy - INFO - Chain [1] start processing\n",
      "16:34:52 - cmdstanpy - INFO - Chain [1] done processing\n"
     ]
    },
    {
     "data": {
      "application/vnd.jupyter.widget-view+json": {
       "model_id": "8f9b5b2c63de49e59d85c44f55282de5",
       "version_major": 2,
       "version_minor": 0
      },
      "text/plain": [
       "  0%|          | 0/3 [00:00<?, ?it/s]"
      ]
     },
     "metadata": {},
     "output_type": "display_data"
    },
    {
     "name": "stderr",
     "output_type": "stream",
     "text": [
      "16:34:53 - cmdstanpy - INFO - Chain [1] start processing\n",
      "16:34:53 - cmdstanpy - INFO - Chain [1] done processing\n",
      "16:34:53 - cmdstanpy - INFO - Chain [1] start processing\n",
      "16:34:54 - cmdstanpy - INFO - Chain [1] done processing\n",
      "16:34:54 - cmdstanpy - INFO - Chain [1] start processing\n",
      "16:34:54 - cmdstanpy - INFO - Chain [1] done processing\n",
      "16:34:55 - cmdstanpy - INFO - Chain [1] start processing\n",
      "16:34:55 - cmdstanpy - INFO - Chain [1] done processing\n"
     ]
    },
    {
     "data": {
      "application/vnd.jupyter.widget-view+json": {
       "model_id": "85bd4511cebc453e830303832fa51b38",
       "version_major": 2,
       "version_minor": 0
      },
      "text/plain": [
       "  0%|          | 0/3 [00:00<?, ?it/s]"
      ]
     },
     "metadata": {},
     "output_type": "display_data"
    },
    {
     "name": "stderr",
     "output_type": "stream",
     "text": [
      "16:34:56 - cmdstanpy - INFO - Chain [1] start processing\n",
      "16:34:56 - cmdstanpy - INFO - Chain [1] done processing\n",
      "16:34:56 - cmdstanpy - INFO - Chain [1] start processing\n",
      "16:34:57 - cmdstanpy - INFO - Chain [1] done processing\n",
      "16:34:57 - cmdstanpy - INFO - Chain [1] start processing\n",
      "16:34:57 - cmdstanpy - INFO - Chain [1] done processing\n",
      "16:34:58 - cmdstanpy - INFO - Chain [1] start processing\n",
      "16:34:59 - cmdstanpy - INFO - Chain [1] done processing\n"
     ]
    },
    {
     "data": {
      "application/vnd.jupyter.widget-view+json": {
       "model_id": "5c76d828e5f6472a885c875bab379789",
       "version_major": 2,
       "version_minor": 0
      },
      "text/plain": [
       "  0%|          | 0/3 [00:00<?, ?it/s]"
      ]
     },
     "metadata": {},
     "output_type": "display_data"
    },
    {
     "name": "stderr",
     "output_type": "stream",
     "text": [
      "16:34:59 - cmdstanpy - INFO - Chain [1] start processing\n",
      "16:34:59 - cmdstanpy - INFO - Chain [1] done processing\n",
      "16:35:00 - cmdstanpy - INFO - Chain [1] start processing\n",
      "16:35:00 - cmdstanpy - INFO - Chain [1] done processing\n",
      "16:35:00 - cmdstanpy - INFO - Chain [1] start processing\n",
      "16:35:01 - cmdstanpy - INFO - Chain [1] done processing\n",
      "16:35:02 - cmdstanpy - INFO - Chain [1] start processing\n",
      "16:35:02 - cmdstanpy - INFO - Chain [1] done processing\n"
     ]
    },
    {
     "data": {
      "application/vnd.jupyter.widget-view+json": {
       "model_id": "b30ccb637301498a847cca4ab3288c31",
       "version_major": 2,
       "version_minor": 0
      },
      "text/plain": [
       "  0%|          | 0/3 [00:00<?, ?it/s]"
      ]
     },
     "metadata": {},
     "output_type": "display_data"
    },
    {
     "name": "stderr",
     "output_type": "stream",
     "text": [
      "16:35:02 - cmdstanpy - INFO - Chain [1] start processing\n",
      "16:35:02 - cmdstanpy - INFO - Chain [1] done processing\n",
      "16:35:03 - cmdstanpy - INFO - Chain [1] start processing\n",
      "16:35:03 - cmdstanpy - INFO - Chain [1] done processing\n",
      "16:35:04 - cmdstanpy - INFO - Chain [1] start processing\n",
      "16:35:04 - cmdstanpy - INFO - Chain [1] done processing\n",
      "16:35:05 - cmdstanpy - INFO - Chain [1] start processing\n",
      "16:35:05 - cmdstanpy - INFO - Chain [1] done processing\n"
     ]
    },
    {
     "data": {
      "application/vnd.jupyter.widget-view+json": {
       "model_id": "438ce6c3d637405f807b308af7a9c444",
       "version_major": 2,
       "version_minor": 0
      },
      "text/plain": [
       "  0%|          | 0/3 [00:00<?, ?it/s]"
      ]
     },
     "metadata": {},
     "output_type": "display_data"
    },
    {
     "name": "stderr",
     "output_type": "stream",
     "text": [
      "16:35:05 - cmdstanpy - INFO - Chain [1] start processing\n",
      "16:35:05 - cmdstanpy - INFO - Chain [1] done processing\n",
      "16:35:06 - cmdstanpy - INFO - Chain [1] start processing\n",
      "16:35:06 - cmdstanpy - INFO - Chain [1] done processing\n",
      "16:35:07 - cmdstanpy - INFO - Chain [1] start processing\n",
      "16:35:07 - cmdstanpy - INFO - Chain [1] done processing\n",
      "16:35:08 - cmdstanpy - INFO - Chain [1] start processing\n",
      "16:35:08 - cmdstanpy - INFO - Chain [1] done processing\n"
     ]
    },
    {
     "data": {
      "application/vnd.jupyter.widget-view+json": {
       "model_id": "a6270b523a414f78b37d8db6f8ce18e7",
       "version_major": 2,
       "version_minor": 0
      },
      "text/plain": [
       "  0%|          | 0/3 [00:00<?, ?it/s]"
      ]
     },
     "metadata": {},
     "output_type": "display_data"
    },
    {
     "name": "stderr",
     "output_type": "stream",
     "text": [
      "16:35:08 - cmdstanpy - INFO - Chain [1] start processing\n",
      "16:35:08 - cmdstanpy - INFO - Chain [1] done processing\n",
      "16:35:09 - cmdstanpy - INFO - Chain [1] start processing\n",
      "16:35:09 - cmdstanpy - INFO - Chain [1] done processing\n",
      "16:35:10 - cmdstanpy - INFO - Chain [1] start processing\n",
      "16:35:10 - cmdstanpy - INFO - Chain [1] done processing\n",
      "16:35:11 - cmdstanpy - INFO - Chain [1] start processing\n",
      "16:35:11 - cmdstanpy - INFO - Chain [1] done processing\n"
     ]
    },
    {
     "data": {
      "application/vnd.jupyter.widget-view+json": {
       "model_id": "086689dc4adc4eec91b9eff62ef01ada",
       "version_major": 2,
       "version_minor": 0
      },
      "text/plain": [
       "  0%|          | 0/3 [00:00<?, ?it/s]"
      ]
     },
     "metadata": {},
     "output_type": "display_data"
    },
    {
     "name": "stderr",
     "output_type": "stream",
     "text": [
      "16:35:11 - cmdstanpy - INFO - Chain [1] start processing\n",
      "16:35:12 - cmdstanpy - INFO - Chain [1] done processing\n",
      "16:35:12 - cmdstanpy - INFO - Chain [1] start processing\n",
      "16:35:12 - cmdstanpy - INFO - Chain [1] done processing\n",
      "16:35:13 - cmdstanpy - INFO - Chain [1] start processing\n",
      "16:35:13 - cmdstanpy - INFO - Chain [1] done processing\n",
      "16:35:14 - cmdstanpy - INFO - Chain [1] start processing\n",
      "16:35:15 - cmdstanpy - INFO - Chain [1] done processing\n"
     ]
    },
    {
     "data": {
      "application/vnd.jupyter.widget-view+json": {
       "model_id": "30fb79f1964643499a437c0c6f5271ea",
       "version_major": 2,
       "version_minor": 0
      },
      "text/plain": [
       "  0%|          | 0/3 [00:00<?, ?it/s]"
      ]
     },
     "metadata": {},
     "output_type": "display_data"
    },
    {
     "name": "stderr",
     "output_type": "stream",
     "text": [
      "16:35:15 - cmdstanpy - INFO - Chain [1] start processing\n",
      "16:35:15 - cmdstanpy - INFO - Chain [1] done processing\n",
      "16:35:16 - cmdstanpy - INFO - Chain [1] start processing\n",
      "16:35:16 - cmdstanpy - INFO - Chain [1] done processing\n",
      "16:35:16 - cmdstanpy - INFO - Chain [1] start processing\n",
      "16:35:17 - cmdstanpy - INFO - Chain [1] done processing\n",
      "16:35:18 - cmdstanpy - INFO - Chain [1] start processing\n",
      "16:35:18 - cmdstanpy - INFO - Chain [1] done processing\n"
     ]
    },
    {
     "data": {
      "application/vnd.jupyter.widget-view+json": {
       "model_id": "69165dfea5c0416eb9622a8dc13f758b",
       "version_major": 2,
       "version_minor": 0
      },
      "text/plain": [
       "  0%|          | 0/3 [00:00<?, ?it/s]"
      ]
     },
     "metadata": {},
     "output_type": "display_data"
    },
    {
     "name": "stderr",
     "output_type": "stream",
     "text": [
      "16:35:18 - cmdstanpy - INFO - Chain [1] start processing\n",
      "16:35:18 - cmdstanpy - INFO - Chain [1] done processing\n",
      "16:35:19 - cmdstanpy - INFO - Chain [1] start processing\n",
      "16:35:19 - cmdstanpy - INFO - Chain [1] done processing\n",
      "16:35:20 - cmdstanpy - INFO - Chain [1] start processing\n",
      "16:35:20 - cmdstanpy - INFO - Chain [1] done processing\n",
      "16:35:21 - cmdstanpy - INFO - Chain [1] start processing\n",
      "16:35:21 - cmdstanpy - INFO - Chain [1] done processing\n"
     ]
    },
    {
     "data": {
      "application/vnd.jupyter.widget-view+json": {
       "model_id": "5f2b64bc09444b65bf4694e989573a4c",
       "version_major": 2,
       "version_minor": 0
      },
      "text/plain": [
       "  0%|          | 0/3 [00:00<?, ?it/s]"
      ]
     },
     "metadata": {},
     "output_type": "display_data"
    },
    {
     "name": "stderr",
     "output_type": "stream",
     "text": [
      "16:35:21 - cmdstanpy - INFO - Chain [1] start processing\n",
      "16:35:22 - cmdstanpy - INFO - Chain [1] done processing\n",
      "16:35:22 - cmdstanpy - INFO - Chain [1] start processing\n",
      "16:35:22 - cmdstanpy - INFO - Chain [1] done processing\n",
      "16:35:23 - cmdstanpy - INFO - Chain [1] start processing\n",
      "16:35:23 - cmdstanpy - INFO - Chain [1] done processing\n",
      "16:35:24 - cmdstanpy - INFO - Chain [1] start processing\n",
      "16:35:24 - cmdstanpy - INFO - Chain [1] done processing\n"
     ]
    },
    {
     "data": {
      "application/vnd.jupyter.widget-view+json": {
       "model_id": "04a6cd968da544aca9169717b2e26cb2",
       "version_major": 2,
       "version_minor": 0
      },
      "text/plain": [
       "  0%|          | 0/3 [00:00<?, ?it/s]"
      ]
     },
     "metadata": {},
     "output_type": "display_data"
    },
    {
     "name": "stderr",
     "output_type": "stream",
     "text": [
      "16:35:25 - cmdstanpy - INFO - Chain [1] start processing\n",
      "16:35:25 - cmdstanpy - INFO - Chain [1] done processing\n",
      "16:35:25 - cmdstanpy - INFO - Chain [1] start processing\n",
      "16:35:26 - cmdstanpy - INFO - Chain [1] done processing\n",
      "16:35:26 - cmdstanpy - INFO - Chain [1] start processing\n",
      "16:35:26 - cmdstanpy - INFO - Chain [1] done processing\n",
      "16:35:27 - cmdstanpy - INFO - Chain [1] start processing\n",
      "16:35:28 - cmdstanpy - INFO - Chain [1] done processing\n"
     ]
    },
    {
     "data": {
      "application/vnd.jupyter.widget-view+json": {
       "model_id": "4423bc8e12014a56ab0d4a41eb0bf83b",
       "version_major": 2,
       "version_minor": 0
      },
      "text/plain": [
       "  0%|          | 0/3 [00:00<?, ?it/s]"
      ]
     },
     "metadata": {},
     "output_type": "display_data"
    },
    {
     "name": "stderr",
     "output_type": "stream",
     "text": [
      "16:35:28 - cmdstanpy - INFO - Chain [1] start processing\n",
      "16:35:28 - cmdstanpy - INFO - Chain [1] done processing\n",
      "16:35:29 - cmdstanpy - INFO - Chain [1] start processing\n",
      "16:35:29 - cmdstanpy - INFO - Chain [1] done processing\n",
      "16:35:29 - cmdstanpy - INFO - Chain [1] start processing\n",
      "16:35:30 - cmdstanpy - INFO - Chain [1] done processing\n",
      "16:35:31 - cmdstanpy - INFO - Chain [1] start processing\n",
      "16:35:31 - cmdstanpy - INFO - Chain [1] done processing\n"
     ]
    },
    {
     "data": {
      "application/vnd.jupyter.widget-view+json": {
       "model_id": "8f2605c817c747bca6089d5ac9caaca4",
       "version_major": 2,
       "version_minor": 0
      },
      "text/plain": [
       "  0%|          | 0/3 [00:00<?, ?it/s]"
      ]
     },
     "metadata": {},
     "output_type": "display_data"
    },
    {
     "name": "stderr",
     "output_type": "stream",
     "text": [
      "16:35:31 - cmdstanpy - INFO - Chain [1] start processing\n",
      "16:35:31 - cmdstanpy - INFO - Chain [1] done processing\n",
      "16:35:32 - cmdstanpy - INFO - Chain [1] start processing\n",
      "16:35:32 - cmdstanpy - INFO - Chain [1] done processing\n",
      "16:35:33 - cmdstanpy - INFO - Chain [1] start processing\n",
      "16:35:33 - cmdstanpy - INFO - Chain [1] done processing\n",
      "16:35:34 - cmdstanpy - INFO - Chain [1] start processing\n",
      "16:35:34 - cmdstanpy - INFO - Chain [1] done processing\n"
     ]
    },
    {
     "data": {
      "application/vnd.jupyter.widget-view+json": {
       "model_id": "4509f79fb22a4ade8add6e60b4bc300f",
       "version_major": 2,
       "version_minor": 0
      },
      "text/plain": [
       "  0%|          | 0/3 [00:00<?, ?it/s]"
      ]
     },
     "metadata": {},
     "output_type": "display_data"
    },
    {
     "name": "stderr",
     "output_type": "stream",
     "text": [
      "16:35:34 - cmdstanpy - INFO - Chain [1] start processing\n",
      "16:35:35 - cmdstanpy - INFO - Chain [1] done processing\n",
      "16:35:35 - cmdstanpy - INFO - Chain [1] start processing\n",
      "16:35:35 - cmdstanpy - INFO - Chain [1] done processing\n",
      "16:35:36 - cmdstanpy - INFO - Chain [1] start processing\n",
      "16:35:36 - cmdstanpy - INFO - Chain [1] done processing\n",
      "16:35:37 - cmdstanpy - INFO - Chain [1] start processing\n",
      "16:35:38 - cmdstanpy - INFO - Chain [1] done processing\n"
     ]
    },
    {
     "data": {
      "application/vnd.jupyter.widget-view+json": {
       "model_id": "015fbf56e4f140eba6a786138523e1e1",
       "version_major": 2,
       "version_minor": 0
      },
      "text/plain": [
       "  0%|          | 0/3 [00:00<?, ?it/s]"
      ]
     },
     "metadata": {},
     "output_type": "display_data"
    },
    {
     "name": "stderr",
     "output_type": "stream",
     "text": [
      "16:35:38 - cmdstanpy - INFO - Chain [1] start processing\n",
      "16:35:38 - cmdstanpy - INFO - Chain [1] done processing\n",
      "16:35:39 - cmdstanpy - INFO - Chain [1] start processing\n",
      "16:35:39 - cmdstanpy - INFO - Chain [1] done processing\n",
      "16:35:39 - cmdstanpy - INFO - Chain [1] start processing\n",
      "16:35:39 - cmdstanpy - INFO - Chain [1] done processing\n",
      "16:35:41 - cmdstanpy - INFO - Chain [1] start processing\n"
     ]
    },
    {
     "name": "stdout",
     "output_type": "stream",
     "text": [
      "Best parameters: {'changepoint_prior_scale': 0.01, 'changepoint_range': 0.8}, Best RMSE: 132.54079641180874\n"
     ]
    },
    {
     "name": "stderr",
     "output_type": "stream",
     "text": [
      "16:35:41 - cmdstanpy - INFO - Chain [1] done processing\n"
     ]
    },
    {
     "name": "stdout",
     "output_type": "stream",
     "text": [
      "{'AAPL': (162.25413945927937, 51.354248913923385), 'AMZN': (135.83958120011582, 34.147883491859474), 'TSLA': (225.47236766939122, 14.497867594217146)}\n"
     ]
    }
   ],
   "source": [
    "tick1 = 'AAPL'\n",
    "tick2 = 'AMZN'\n",
    "tick3 = 'TSLA'\n",
    "start = '2020-01-01'\n",
    "end = '2024-01-01'\n",
    "days_to_predict = 92\n",
    "\n",
    "stock_prediction = stock_options_weights(tick1, tick2, tick3, start, end, days_to_predict)\n",
    "\n",
    "print(stock_prediction)"
   ]
  },
  {
   "cell_type": "code",
   "execution_count": 13,
   "id": "c601c96f",
   "metadata": {},
   "outputs": [
    {
     "name": "stderr",
     "output_type": "stream",
     "text": [
      "16:35:42 - cmdstanpy - INFO - Chain [1] start processing\n",
      "16:35:42 - cmdstanpy - INFO - Chain [1] done processing\n"
     ]
    },
    {
     "data": {
      "application/vnd.jupyter.widget-view+json": {
       "model_id": "caee239818384152929f6ef9b68d4542",
       "version_major": 2,
       "version_minor": 0
      },
      "text/plain": [
       "  0%|          | 0/3 [00:00<?, ?it/s]"
      ]
     },
     "metadata": {},
     "output_type": "display_data"
    },
    {
     "name": "stderr",
     "output_type": "stream",
     "text": [
      "16:35:42 - cmdstanpy - INFO - Chain [1] start processing\n",
      "16:35:42 - cmdstanpy - INFO - Chain [1] done processing\n",
      "16:35:43 - cmdstanpy - INFO - Chain [1] start processing\n",
      "16:35:43 - cmdstanpy - INFO - Chain [1] done processing\n",
      "16:35:44 - cmdstanpy - INFO - Chain [1] start processing\n",
      "16:35:44 - cmdstanpy - INFO - Chain [1] done processing\n",
      "16:35:45 - cmdstanpy - INFO - Chain [1] start processing\n",
      "16:35:45 - cmdstanpy - INFO - Chain [1] done processing\n"
     ]
    },
    {
     "data": {
      "application/vnd.jupyter.widget-view+json": {
       "model_id": "85bef97c8f114d958e5500940dddde74",
       "version_major": 2,
       "version_minor": 0
      },
      "text/plain": [
       "  0%|          | 0/3 [00:00<?, ?it/s]"
      ]
     },
     "metadata": {},
     "output_type": "display_data"
    },
    {
     "name": "stderr",
     "output_type": "stream",
     "text": [
      "16:35:45 - cmdstanpy - INFO - Chain [1] start processing\n",
      "16:35:45 - cmdstanpy - INFO - Chain [1] done processing\n",
      "16:35:46 - cmdstanpy - INFO - Chain [1] start processing\n",
      "16:35:46 - cmdstanpy - INFO - Chain [1] done processing\n",
      "16:35:47 - cmdstanpy - INFO - Chain [1] start processing\n",
      "16:35:47 - cmdstanpy - INFO - Chain [1] done processing\n",
      "16:35:48 - cmdstanpy - INFO - Chain [1] start processing\n",
      "16:35:48 - cmdstanpy - INFO - Chain [1] done processing\n"
     ]
    },
    {
     "data": {
      "application/vnd.jupyter.widget-view+json": {
       "model_id": "65c884394a79462ba7cb723e19064675",
       "version_major": 2,
       "version_minor": 0
      },
      "text/plain": [
       "  0%|          | 0/3 [00:00<?, ?it/s]"
      ]
     },
     "metadata": {},
     "output_type": "display_data"
    },
    {
     "name": "stderr",
     "output_type": "stream",
     "text": [
      "16:35:48 - cmdstanpy - INFO - Chain [1] start processing\n",
      "16:35:48 - cmdstanpy - INFO - Chain [1] done processing\n",
      "16:35:49 - cmdstanpy - INFO - Chain [1] start processing\n",
      "16:35:49 - cmdstanpy - INFO - Chain [1] done processing\n",
      "16:35:50 - cmdstanpy - INFO - Chain [1] start processing\n",
      "16:35:50 - cmdstanpy - INFO - Chain [1] done processing\n",
      "16:35:51 - cmdstanpy - INFO - Chain [1] start processing\n",
      "16:35:52 - cmdstanpy - INFO - Chain [1] done processing\n"
     ]
    },
    {
     "data": {
      "application/vnd.jupyter.widget-view+json": {
       "model_id": "a3cfe4c3ae9a48fb961c87c57218d5d1",
       "version_major": 2,
       "version_minor": 0
      },
      "text/plain": [
       "  0%|          | 0/3 [00:00<?, ?it/s]"
      ]
     },
     "metadata": {},
     "output_type": "display_data"
    },
    {
     "name": "stderr",
     "output_type": "stream",
     "text": [
      "16:35:52 - cmdstanpy - INFO - Chain [1] start processing\n",
      "16:35:52 - cmdstanpy - INFO - Chain [1] done processing\n",
      "16:35:53 - cmdstanpy - INFO - Chain [1] start processing\n",
      "16:35:53 - cmdstanpy - INFO - Chain [1] done processing\n",
      "16:35:53 - cmdstanpy - INFO - Chain [1] start processing\n",
      "16:35:54 - cmdstanpy - INFO - Chain [1] done processing\n",
      "16:35:55 - cmdstanpy - INFO - Chain [1] start processing\n",
      "16:35:55 - cmdstanpy - INFO - Chain [1] done processing\n"
     ]
    },
    {
     "data": {
      "application/vnd.jupyter.widget-view+json": {
       "model_id": "984a9ea02107431fad834e795745af0e",
       "version_major": 2,
       "version_minor": 0
      },
      "text/plain": [
       "  0%|          | 0/3 [00:00<?, ?it/s]"
      ]
     },
     "metadata": {},
     "output_type": "display_data"
    },
    {
     "name": "stderr",
     "output_type": "stream",
     "text": [
      "16:35:55 - cmdstanpy - INFO - Chain [1] start processing\n",
      "16:35:55 - cmdstanpy - INFO - Chain [1] done processing\n",
      "16:35:56 - cmdstanpy - INFO - Chain [1] start processing\n",
      "16:35:56 - cmdstanpy - INFO - Chain [1] done processing\n",
      "16:35:57 - cmdstanpy - INFO - Chain [1] start processing\n",
      "16:35:57 - cmdstanpy - INFO - Chain [1] done processing\n",
      "16:35:58 - cmdstanpy - INFO - Chain [1] start processing\n",
      "16:35:58 - cmdstanpy - INFO - Chain [1] done processing\n"
     ]
    },
    {
     "data": {
      "application/vnd.jupyter.widget-view+json": {
       "model_id": "b03449623359440c8f3a9de99c76dd02",
       "version_major": 2,
       "version_minor": 0
      },
      "text/plain": [
       "  0%|          | 0/3 [00:00<?, ?it/s]"
      ]
     },
     "metadata": {},
     "output_type": "display_data"
    },
    {
     "name": "stderr",
     "output_type": "stream",
     "text": [
      "16:35:58 - cmdstanpy - INFO - Chain [1] start processing\n",
      "16:35:59 - cmdstanpy - INFO - Chain [1] done processing\n",
      "16:35:59 - cmdstanpy - INFO - Chain [1] start processing\n",
      "16:35:59 - cmdstanpy - INFO - Chain [1] done processing\n",
      "16:36:00 - cmdstanpy - INFO - Chain [1] start processing\n",
      "16:36:00 - cmdstanpy - INFO - Chain [1] done processing\n",
      "16:36:01 - cmdstanpy - INFO - Chain [1] start processing\n",
      "16:36:02 - cmdstanpy - INFO - Chain [1] done processing\n"
     ]
    },
    {
     "data": {
      "application/vnd.jupyter.widget-view+json": {
       "model_id": "dfd4deb4a382400b984a169e0db20681",
       "version_major": 2,
       "version_minor": 0
      },
      "text/plain": [
       "  0%|          | 0/3 [00:00<?, ?it/s]"
      ]
     },
     "metadata": {},
     "output_type": "display_data"
    },
    {
     "name": "stderr",
     "output_type": "stream",
     "text": [
      "16:36:02 - cmdstanpy - INFO - Chain [1] start processing\n",
      "16:36:02 - cmdstanpy - INFO - Chain [1] done processing\n",
      "16:36:03 - cmdstanpy - INFO - Chain [1] start processing\n",
      "16:36:03 - cmdstanpy - INFO - Chain [1] done processing\n",
      "16:36:03 - cmdstanpy - INFO - Chain [1] start processing\n",
      "16:36:03 - cmdstanpy - INFO - Chain [1] done processing\n",
      "16:36:05 - cmdstanpy - INFO - Chain [1] start processing\n",
      "16:36:05 - cmdstanpy - INFO - Chain [1] done processing\n"
     ]
    },
    {
     "data": {
      "application/vnd.jupyter.widget-view+json": {
       "model_id": "f607dce671dd49548195c12897762b13",
       "version_major": 2,
       "version_minor": 0
      },
      "text/plain": [
       "  0%|          | 0/3 [00:00<?, ?it/s]"
      ]
     },
     "metadata": {},
     "output_type": "display_data"
    },
    {
     "name": "stderr",
     "output_type": "stream",
     "text": [
      "16:36:05 - cmdstanpy - INFO - Chain [1] start processing\n",
      "16:36:05 - cmdstanpy - INFO - Chain [1] done processing\n",
      "16:36:06 - cmdstanpy - INFO - Chain [1] start processing\n",
      "16:36:06 - cmdstanpy - INFO - Chain [1] done processing\n",
      "16:36:07 - cmdstanpy - INFO - Chain [1] start processing\n",
      "16:36:07 - cmdstanpy - INFO - Chain [1] done processing\n",
      "16:36:08 - cmdstanpy - INFO - Chain [1] start processing\n",
      "16:36:08 - cmdstanpy - INFO - Chain [1] done processing\n"
     ]
    },
    {
     "data": {
      "application/vnd.jupyter.widget-view+json": {
       "model_id": "b1b6604899af4191b05ff867be5982d9",
       "version_major": 2,
       "version_minor": 0
      },
      "text/plain": [
       "  0%|          | 0/3 [00:00<?, ?it/s]"
      ]
     },
     "metadata": {},
     "output_type": "display_data"
    },
    {
     "name": "stderr",
     "output_type": "stream",
     "text": [
      "16:36:09 - cmdstanpy - INFO - Chain [1] start processing\n",
      "16:36:09 - cmdstanpy - INFO - Chain [1] done processing\n",
      "16:36:09 - cmdstanpy - INFO - Chain [1] start processing\n",
      "16:36:10 - cmdstanpy - INFO - Chain [1] done processing\n",
      "16:36:10 - cmdstanpy - INFO - Chain [1] start processing\n",
      "16:36:10 - cmdstanpy - INFO - Chain [1] done processing\n",
      "16:36:11 - cmdstanpy - INFO - Chain [1] start processing\n",
      "16:36:12 - cmdstanpy - INFO - Chain [1] done processing\n"
     ]
    },
    {
     "data": {
      "application/vnd.jupyter.widget-view+json": {
       "model_id": "eff7ddbbee144b6aa73bf441086e00a7",
       "version_major": 2,
       "version_minor": 0
      },
      "text/plain": [
       "  0%|          | 0/3 [00:00<?, ?it/s]"
      ]
     },
     "metadata": {},
     "output_type": "display_data"
    },
    {
     "name": "stderr",
     "output_type": "stream",
     "text": [
      "16:36:12 - cmdstanpy - INFO - Chain [1] start processing\n",
      "16:36:12 - cmdstanpy - INFO - Chain [1] done processing\n",
      "16:36:13 - cmdstanpy - INFO - Chain [1] start processing\n",
      "16:36:13 - cmdstanpy - INFO - Chain [1] done processing\n",
      "16:36:13 - cmdstanpy - INFO - Chain [1] start processing\n",
      "16:36:14 - cmdstanpy - INFO - Chain [1] done processing\n",
      "16:36:15 - cmdstanpy - INFO - Chain [1] start processing\n",
      "16:36:15 - cmdstanpy - INFO - Chain [1] done processing\n"
     ]
    },
    {
     "data": {
      "application/vnd.jupyter.widget-view+json": {
       "model_id": "bee8804073714856999a6d288a0bc4dd",
       "version_major": 2,
       "version_minor": 0
      },
      "text/plain": [
       "  0%|          | 0/3 [00:00<?, ?it/s]"
      ]
     },
     "metadata": {},
     "output_type": "display_data"
    },
    {
     "name": "stderr",
     "output_type": "stream",
     "text": [
      "16:36:15 - cmdstanpy - INFO - Chain [1] start processing\n",
      "16:36:15 - cmdstanpy - INFO - Chain [1] done processing\n",
      "16:36:16 - cmdstanpy - INFO - Chain [1] start processing\n",
      "16:36:16 - cmdstanpy - INFO - Chain [1] done processing\n",
      "16:36:17 - cmdstanpy - INFO - Chain [1] start processing\n",
      "16:36:17 - cmdstanpy - INFO - Chain [1] done processing\n",
      "16:36:18 - cmdstanpy - INFO - Chain [1] start processing\n",
      "16:36:18 - cmdstanpy - INFO - Chain [1] done processing\n"
     ]
    },
    {
     "data": {
      "application/vnd.jupyter.widget-view+json": {
       "model_id": "eb43ecbc811c477ebd18299960b516b5",
       "version_major": 2,
       "version_minor": 0
      },
      "text/plain": [
       "  0%|          | 0/3 [00:00<?, ?it/s]"
      ]
     },
     "metadata": {},
     "output_type": "display_data"
    },
    {
     "name": "stderr",
     "output_type": "stream",
     "text": [
      "16:36:18 - cmdstanpy - INFO - Chain [1] start processing\n",
      "16:36:19 - cmdstanpy - INFO - Chain [1] done processing\n",
      "16:36:19 - cmdstanpy - INFO - Chain [1] start processing\n",
      "16:36:19 - cmdstanpy - INFO - Chain [1] done processing\n",
      "16:36:20 - cmdstanpy - INFO - Chain [1] start processing\n",
      "16:36:20 - cmdstanpy - INFO - Chain [1] done processing\n",
      "16:36:21 - cmdstanpy - INFO - Chain [1] start processing\n",
      "16:36:22 - cmdstanpy - INFO - Chain [1] done processing\n"
     ]
    },
    {
     "data": {
      "application/vnd.jupyter.widget-view+json": {
       "model_id": "a23f9cad32d7446582e250146e155a62",
       "version_major": 2,
       "version_minor": 0
      },
      "text/plain": [
       "  0%|          | 0/3 [00:00<?, ?it/s]"
      ]
     },
     "metadata": {},
     "output_type": "display_data"
    },
    {
     "name": "stderr",
     "output_type": "stream",
     "text": [
      "16:36:22 - cmdstanpy - INFO - Chain [1] start processing\n",
      "16:36:22 - cmdstanpy - INFO - Chain [1] done processing\n",
      "16:36:23 - cmdstanpy - INFO - Chain [1] start processing\n",
      "16:36:23 - cmdstanpy - INFO - Chain [1] done processing\n",
      "16:36:24 - cmdstanpy - INFO - Chain [1] start processing\n",
      "16:36:24 - cmdstanpy - INFO - Chain [1] done processing\n",
      "16:36:25 - cmdstanpy - INFO - Chain [1] start processing\n",
      "16:36:25 - cmdstanpy - INFO - Chain [1] done processing\n"
     ]
    },
    {
     "data": {
      "application/vnd.jupyter.widget-view+json": {
       "model_id": "01adbd6788e74a988c68a5a0172b5709",
       "version_major": 2,
       "version_minor": 0
      },
      "text/plain": [
       "  0%|          | 0/3 [00:00<?, ?it/s]"
      ]
     },
     "metadata": {},
     "output_type": "display_data"
    },
    {
     "name": "stderr",
     "output_type": "stream",
     "text": [
      "16:36:26 - cmdstanpy - INFO - Chain [1] start processing\n",
      "16:36:26 - cmdstanpy - INFO - Chain [1] done processing\n",
      "16:36:27 - cmdstanpy - INFO - Chain [1] start processing\n",
      "16:36:27 - cmdstanpy - INFO - Chain [1] done processing\n",
      "16:36:27 - cmdstanpy - INFO - Chain [1] start processing\n",
      "16:36:28 - cmdstanpy - INFO - Chain [1] done processing\n",
      "16:36:29 - cmdstanpy - INFO - Chain [1] start processing\n",
      "16:36:29 - cmdstanpy - INFO - Chain [1] done processing\n"
     ]
    },
    {
     "data": {
      "application/vnd.jupyter.widget-view+json": {
       "model_id": "659189c0cb2c471e94f806020956c179",
       "version_major": 2,
       "version_minor": 0
      },
      "text/plain": [
       "  0%|          | 0/3 [00:00<?, ?it/s]"
      ]
     },
     "metadata": {},
     "output_type": "display_data"
    },
    {
     "name": "stderr",
     "output_type": "stream",
     "text": [
      "16:36:29 - cmdstanpy - INFO - Chain [1] start processing\n",
      "16:36:29 - cmdstanpy - INFO - Chain [1] done processing\n",
      "16:36:30 - cmdstanpy - INFO - Chain [1] start processing\n",
      "16:36:30 - cmdstanpy - INFO - Chain [1] done processing\n",
      "16:36:31 - cmdstanpy - INFO - Chain [1] start processing\n",
      "16:36:31 - cmdstanpy - INFO - Chain [1] done processing\n",
      "16:36:32 - cmdstanpy - INFO - Chain [1] start processing\n",
      "16:36:32 - cmdstanpy - INFO - Chain [1] done processing\n"
     ]
    },
    {
     "data": {
      "application/vnd.jupyter.widget-view+json": {
       "model_id": "eb9f413bffdb40b4b852e78148ca8086",
       "version_major": 2,
       "version_minor": 0
      },
      "text/plain": [
       "  0%|          | 0/3 [00:00<?, ?it/s]"
      ]
     },
     "metadata": {},
     "output_type": "display_data"
    },
    {
     "name": "stderr",
     "output_type": "stream",
     "text": [
      "16:36:32 - cmdstanpy - INFO - Chain [1] start processing\n",
      "16:36:32 - cmdstanpy - INFO - Chain [1] done processing\n",
      "16:36:33 - cmdstanpy - INFO - Chain [1] start processing\n",
      "16:36:33 - cmdstanpy - INFO - Chain [1] done processing\n",
      "16:36:34 - cmdstanpy - INFO - Chain [1] start processing\n",
      "16:36:34 - cmdstanpy - INFO - Chain [1] done processing\n",
      "16:36:36 - cmdstanpy - INFO - Chain [1] start processing\n"
     ]
    },
    {
     "name": "stdout",
     "output_type": "stream",
     "text": [
      "Best parameters: {'changepoint_prior_scale': 0.025, 'changepoint_range': 0.4}, Best RMSE: 28.83535738752637\n"
     ]
    },
    {
     "name": "stderr",
     "output_type": "stream",
     "text": [
      "16:36:36 - cmdstanpy - INFO - Chain [1] done processing\n"
     ]
    },
    {
     "name": "stdout",
     "output_type": "stream",
     "text": [
      "AAPL forecasted trend: 162.25413945927937\n"
     ]
    }
   ],
   "source": [
    "ticker = 'AAPL'\n",
    "start = '2020-01-01'\n",
    "end = '2024-01-01'\n",
    "days_to_predict = 92\n",
    "\n",
    "predicted_trend, predicted_cl = main_forecast(ticker, start, end, days_to_predict)\n",
    "\n",
    "print(f'{ticker} forecasted trend: {predicted_trend}')"
   ]
  },
  {
   "cell_type": "code",
   "execution_count": null,
   "id": "3f2dba6a",
   "metadata": {},
   "outputs": [],
   "source": []
  },
  {
   "cell_type": "code",
   "execution_count": 14,
   "id": "54dd4d0e",
   "metadata": {},
   "outputs": [
    {
     "name": "stderr",
     "output_type": "stream",
     "text": [
      "16:36:37 - cmdstanpy - INFO - Chain [1] start processing\n",
      "16:36:37 - cmdstanpy - INFO - Chain [1] done processing\n"
     ]
    },
    {
     "data": {
      "application/vnd.jupyter.widget-view+json": {
       "model_id": "7ad7693239e84d0b9061bb7750ac8a56",
       "version_major": 2,
       "version_minor": 0
      },
      "text/plain": [
       "  0%|          | 0/3 [00:00<?, ?it/s]"
      ]
     },
     "metadata": {},
     "output_type": "display_data"
    },
    {
     "name": "stderr",
     "output_type": "stream",
     "text": [
      "16:36:37 - cmdstanpy - INFO - Chain [1] start processing\n",
      "16:36:37 - cmdstanpy - INFO - Chain [1] done processing\n",
      "16:36:38 - cmdstanpy - INFO - Chain [1] start processing\n",
      "16:36:38 - cmdstanpy - INFO - Chain [1] done processing\n",
      "16:36:39 - cmdstanpy - INFO - Chain [1] start processing\n",
      "16:36:39 - cmdstanpy - INFO - Chain [1] done processing\n",
      "16:36:40 - cmdstanpy - INFO - Chain [1] start processing\n",
      "16:36:40 - cmdstanpy - INFO - Chain [1] done processing\n"
     ]
    },
    {
     "data": {
      "application/vnd.jupyter.widget-view+json": {
       "model_id": "48e693535be5463cb6b6fcb420a2f87e",
       "version_major": 2,
       "version_minor": 0
      },
      "text/plain": [
       "  0%|          | 0/3 [00:00<?, ?it/s]"
      ]
     },
     "metadata": {},
     "output_type": "display_data"
    },
    {
     "name": "stderr",
     "output_type": "stream",
     "text": [
      "16:36:40 - cmdstanpy - INFO - Chain [1] start processing\n",
      "16:36:40 - cmdstanpy - INFO - Chain [1] done processing\n",
      "16:36:41 - cmdstanpy - INFO - Chain [1] start processing\n",
      "16:36:41 - cmdstanpy - INFO - Chain [1] done processing\n",
      "16:36:42 - cmdstanpy - INFO - Chain [1] start processing\n",
      "16:36:42 - cmdstanpy - INFO - Chain [1] done processing\n",
      "16:36:43 - cmdstanpy - INFO - Chain [1] start processing\n",
      "16:36:43 - cmdstanpy - INFO - Chain [1] done processing\n"
     ]
    },
    {
     "data": {
      "application/vnd.jupyter.widget-view+json": {
       "model_id": "48827832dc83489f9029639bc0188895",
       "version_major": 2,
       "version_minor": 0
      },
      "text/plain": [
       "  0%|          | 0/3 [00:00<?, ?it/s]"
      ]
     },
     "metadata": {},
     "output_type": "display_data"
    },
    {
     "name": "stderr",
     "output_type": "stream",
     "text": [
      "16:36:43 - cmdstanpy - INFO - Chain [1] start processing\n",
      "16:36:43 - cmdstanpy - INFO - Chain [1] done processing\n",
      "16:36:44 - cmdstanpy - INFO - Chain [1] start processing\n",
      "16:36:44 - cmdstanpy - INFO - Chain [1] done processing\n",
      "16:36:45 - cmdstanpy - INFO - Chain [1] start processing\n",
      "16:36:45 - cmdstanpy - INFO - Chain [1] done processing\n",
      "16:36:46 - cmdstanpy - INFO - Chain [1] start processing\n",
      "16:36:47 - cmdstanpy - INFO - Chain [1] done processing\n"
     ]
    },
    {
     "data": {
      "application/vnd.jupyter.widget-view+json": {
       "model_id": "eddec9d1e02e43f4b81b1bcc6cc304b9",
       "version_major": 2,
       "version_minor": 0
      },
      "text/plain": [
       "  0%|          | 0/3 [00:00<?, ?it/s]"
      ]
     },
     "metadata": {},
     "output_type": "display_data"
    },
    {
     "name": "stderr",
     "output_type": "stream",
     "text": [
      "16:36:47 - cmdstanpy - INFO - Chain [1] start processing\n",
      "16:36:47 - cmdstanpy - INFO - Chain [1] done processing\n",
      "16:36:48 - cmdstanpy - INFO - Chain [1] start processing\n",
      "16:36:48 - cmdstanpy - INFO - Chain [1] done processing\n",
      "16:36:49 - cmdstanpy - INFO - Chain [1] start processing\n",
      "16:36:49 - cmdstanpy - INFO - Chain [1] done processing\n",
      "16:36:50 - cmdstanpy - INFO - Chain [1] start processing\n",
      "16:36:50 - cmdstanpy - INFO - Chain [1] done processing\n"
     ]
    },
    {
     "data": {
      "application/vnd.jupyter.widget-view+json": {
       "model_id": "4bd13a0233464eea97d7c336429e8729",
       "version_major": 2,
       "version_minor": 0
      },
      "text/plain": [
       "  0%|          | 0/3 [00:00<?, ?it/s]"
      ]
     },
     "metadata": {},
     "output_type": "display_data"
    },
    {
     "name": "stderr",
     "output_type": "stream",
     "text": [
      "16:36:50 - cmdstanpy - INFO - Chain [1] start processing\n",
      "16:36:50 - cmdstanpy - INFO - Chain [1] done processing\n",
      "16:36:51 - cmdstanpy - INFO - Chain [1] start processing\n",
      "16:36:51 - cmdstanpy - INFO - Chain [1] done processing\n",
      "16:36:52 - cmdstanpy - INFO - Chain [1] start processing\n",
      "16:36:52 - cmdstanpy - INFO - Chain [1] done processing\n",
      "16:36:53 - cmdstanpy - INFO - Chain [1] start processing\n",
      "16:36:53 - cmdstanpy - INFO - Chain [1] done processing\n"
     ]
    },
    {
     "data": {
      "application/vnd.jupyter.widget-view+json": {
       "model_id": "571ff42d3cb847cfae5105ace4c9a8c6",
       "version_major": 2,
       "version_minor": 0
      },
      "text/plain": [
       "  0%|          | 0/3 [00:00<?, ?it/s]"
      ]
     },
     "metadata": {},
     "output_type": "display_data"
    },
    {
     "name": "stderr",
     "output_type": "stream",
     "text": [
      "16:36:53 - cmdstanpy - INFO - Chain [1] start processing\n",
      "16:36:53 - cmdstanpy - INFO - Chain [1] done processing\n",
      "16:36:54 - cmdstanpy - INFO - Chain [1] start processing\n",
      "16:36:54 - cmdstanpy - INFO - Chain [1] done processing\n",
      "16:36:55 - cmdstanpy - INFO - Chain [1] start processing\n",
      "16:36:55 - cmdstanpy - INFO - Chain [1] done processing\n",
      "16:36:56 - cmdstanpy - INFO - Chain [1] start processing\n",
      "16:36:56 - cmdstanpy - INFO - Chain [1] done processing\n"
     ]
    },
    {
     "data": {
      "application/vnd.jupyter.widget-view+json": {
       "model_id": "eeb5199d925e4fd9a78e927b18583c4a",
       "version_major": 2,
       "version_minor": 0
      },
      "text/plain": [
       "  0%|          | 0/3 [00:00<?, ?it/s]"
      ]
     },
     "metadata": {},
     "output_type": "display_data"
    },
    {
     "name": "stderr",
     "output_type": "stream",
     "text": [
      "16:36:56 - cmdstanpy - INFO - Chain [1] start processing\n",
      "16:36:57 - cmdstanpy - INFO - Chain [1] done processing\n",
      "16:36:57 - cmdstanpy - INFO - Chain [1] start processing\n",
      "16:36:57 - cmdstanpy - INFO - Chain [1] done processing\n",
      "16:36:58 - cmdstanpy - INFO - Chain [1] start processing\n",
      "16:36:58 - cmdstanpy - INFO - Chain [1] done processing\n",
      "16:36:59 - cmdstanpy - INFO - Chain [1] start processing\n",
      "16:36:59 - cmdstanpy - INFO - Chain [1] done processing\n"
     ]
    },
    {
     "data": {
      "application/vnd.jupyter.widget-view+json": {
       "model_id": "440ee6dc919540cdbf96753f83af1813",
       "version_major": 2,
       "version_minor": 0
      },
      "text/plain": [
       "  0%|          | 0/3 [00:00<?, ?it/s]"
      ]
     },
     "metadata": {},
     "output_type": "display_data"
    },
    {
     "name": "stderr",
     "output_type": "stream",
     "text": [
      "16:37:00 - cmdstanpy - INFO - Chain [1] start processing\n",
      "16:37:00 - cmdstanpy - INFO - Chain [1] done processing\n",
      "16:37:01 - cmdstanpy - INFO - Chain [1] start processing\n",
      "16:37:01 - cmdstanpy - INFO - Chain [1] done processing\n",
      "16:37:01 - cmdstanpy - INFO - Chain [1] start processing\n",
      "16:37:02 - cmdstanpy - INFO - Chain [1] done processing\n",
      "16:37:03 - cmdstanpy - INFO - Chain [1] start processing\n",
      "16:37:03 - cmdstanpy - INFO - Chain [1] done processing\n"
     ]
    },
    {
     "data": {
      "application/vnd.jupyter.widget-view+json": {
       "model_id": "58fffe49396644dea4b4b6136a74fa13",
       "version_major": 2,
       "version_minor": 0
      },
      "text/plain": [
       "  0%|          | 0/3 [00:00<?, ?it/s]"
      ]
     },
     "metadata": {},
     "output_type": "display_data"
    },
    {
     "name": "stderr",
     "output_type": "stream",
     "text": [
      "16:37:03 - cmdstanpy - INFO - Chain [1] start processing\n",
      "16:37:03 - cmdstanpy - INFO - Chain [1] done processing\n",
      "16:37:04 - cmdstanpy - INFO - Chain [1] start processing\n",
      "16:37:04 - cmdstanpy - INFO - Chain [1] done processing\n",
      "16:37:05 - cmdstanpy - INFO - Chain [1] start processing\n",
      "16:37:05 - cmdstanpy - INFO - Chain [1] done processing\n",
      "16:37:06 - cmdstanpy - INFO - Chain [1] start processing\n",
      "16:37:06 - cmdstanpy - INFO - Chain [1] done processing\n"
     ]
    },
    {
     "data": {
      "application/vnd.jupyter.widget-view+json": {
       "model_id": "05eb028b16884149a5c595e1ba7eced1",
       "version_major": 2,
       "version_minor": 0
      },
      "text/plain": [
       "  0%|          | 0/3 [00:00<?, ?it/s]"
      ]
     },
     "metadata": {},
     "output_type": "display_data"
    },
    {
     "name": "stderr",
     "output_type": "stream",
     "text": [
      "16:37:06 - cmdstanpy - INFO - Chain [1] start processing\n",
      "16:37:06 - cmdstanpy - INFO - Chain [1] done processing\n",
      "16:37:07 - cmdstanpy - INFO - Chain [1] start processing\n",
      "16:37:07 - cmdstanpy - INFO - Chain [1] done processing\n",
      "16:37:08 - cmdstanpy - INFO - Chain [1] start processing\n",
      "16:37:08 - cmdstanpy - INFO - Chain [1] done processing\n",
      "16:37:09 - cmdstanpy - INFO - Chain [1] start processing\n",
      "16:37:09 - cmdstanpy - INFO - Chain [1] done processing\n"
     ]
    },
    {
     "data": {
      "application/vnd.jupyter.widget-view+json": {
       "model_id": "4c49b904c3c84a8cbe4d175d799d1082",
       "version_major": 2,
       "version_minor": 0
      },
      "text/plain": [
       "  0%|          | 0/3 [00:00<?, ?it/s]"
      ]
     },
     "metadata": {},
     "output_type": "display_data"
    },
    {
     "name": "stderr",
     "output_type": "stream",
     "text": [
      "16:37:09 - cmdstanpy - INFO - Chain [1] start processing\n",
      "16:37:10 - cmdstanpy - INFO - Chain [1] done processing\n",
      "16:37:10 - cmdstanpy - INFO - Chain [1] start processing\n",
      "16:37:10 - cmdstanpy - INFO - Chain [1] done processing\n",
      "16:37:11 - cmdstanpy - INFO - Chain [1] start processing\n",
      "16:37:11 - cmdstanpy - INFO - Chain [1] done processing\n",
      "16:37:13 - cmdstanpy - INFO - Chain [1] start processing\n",
      "16:37:13 - cmdstanpy - INFO - Chain [1] done processing\n"
     ]
    },
    {
     "data": {
      "application/vnd.jupyter.widget-view+json": {
       "model_id": "4ae2e3b4061446d496a692599d0d2bcd",
       "version_major": 2,
       "version_minor": 0
      },
      "text/plain": [
       "  0%|          | 0/3 [00:00<?, ?it/s]"
      ]
     },
     "metadata": {},
     "output_type": "display_data"
    },
    {
     "name": "stderr",
     "output_type": "stream",
     "text": [
      "16:37:13 - cmdstanpy - INFO - Chain [1] start processing\n",
      "16:37:13 - cmdstanpy - INFO - Chain [1] done processing\n",
      "16:37:14 - cmdstanpy - INFO - Chain [1] start processing\n",
      "16:37:14 - cmdstanpy - INFO - Chain [1] done processing\n",
      "16:37:15 - cmdstanpy - INFO - Chain [1] start processing\n",
      "16:37:15 - cmdstanpy - INFO - Chain [1] done processing\n",
      "16:37:16 - cmdstanpy - INFO - Chain [1] start processing\n",
      "16:37:16 - cmdstanpy - INFO - Chain [1] done processing\n"
     ]
    },
    {
     "data": {
      "application/vnd.jupyter.widget-view+json": {
       "model_id": "73fe3681a19c4e1d8827c85a5b7c2b53",
       "version_major": 2,
       "version_minor": 0
      },
      "text/plain": [
       "  0%|          | 0/3 [00:00<?, ?it/s]"
      ]
     },
     "metadata": {},
     "output_type": "display_data"
    },
    {
     "name": "stderr",
     "output_type": "stream",
     "text": [
      "16:37:17 - cmdstanpy - INFO - Chain [1] start processing\n",
      "16:37:17 - cmdstanpy - INFO - Chain [1] done processing\n",
      "16:37:17 - cmdstanpy - INFO - Chain [1] start processing\n",
      "16:37:18 - cmdstanpy - INFO - Chain [1] done processing\n",
      "16:37:18 - cmdstanpy - INFO - Chain [1] start processing\n",
      "16:37:19 - cmdstanpy - INFO - Chain [1] done processing\n",
      "16:37:20 - cmdstanpy - INFO - Chain [1] start processing\n",
      "16:37:20 - cmdstanpy - INFO - Chain [1] done processing\n"
     ]
    },
    {
     "data": {
      "application/vnd.jupyter.widget-view+json": {
       "model_id": "4c567edd191e49f590bc8f0c78ff5e03",
       "version_major": 2,
       "version_minor": 0
      },
      "text/plain": [
       "  0%|          | 0/3 [00:00<?, ?it/s]"
      ]
     },
     "metadata": {},
     "output_type": "display_data"
    },
    {
     "name": "stderr",
     "output_type": "stream",
     "text": [
      "16:37:20 - cmdstanpy - INFO - Chain [1] start processing\n",
      "16:37:20 - cmdstanpy - INFO - Chain [1] done processing\n",
      "16:37:21 - cmdstanpy - INFO - Chain [1] start processing\n",
      "16:37:21 - cmdstanpy - INFO - Chain [1] done processing\n",
      "16:37:22 - cmdstanpy - INFO - Chain [1] start processing\n",
      "16:37:22 - cmdstanpy - INFO - Chain [1] done processing\n",
      "16:37:23 - cmdstanpy - INFO - Chain [1] start processing\n",
      "16:37:24 - cmdstanpy - INFO - Chain [1] done processing\n"
     ]
    },
    {
     "data": {
      "application/vnd.jupyter.widget-view+json": {
       "model_id": "8fc8650fba8d40e08b4776debed6b33b",
       "version_major": 2,
       "version_minor": 0
      },
      "text/plain": [
       "  0%|          | 0/3 [00:00<?, ?it/s]"
      ]
     },
     "metadata": {},
     "output_type": "display_data"
    },
    {
     "name": "stderr",
     "output_type": "stream",
     "text": [
      "16:37:24 - cmdstanpy - INFO - Chain [1] start processing\n",
      "16:37:24 - cmdstanpy - INFO - Chain [1] done processing\n",
      "16:37:25 - cmdstanpy - INFO - Chain [1] start processing\n",
      "16:37:25 - cmdstanpy - INFO - Chain [1] done processing\n",
      "16:37:25 - cmdstanpy - INFO - Chain [1] start processing\n",
      "16:37:25 - cmdstanpy - INFO - Chain [1] done processing\n",
      "16:37:26 - cmdstanpy - INFO - Chain [1] start processing\n",
      "16:37:27 - cmdstanpy - INFO - Chain [1] done processing\n"
     ]
    },
    {
     "data": {
      "application/vnd.jupyter.widget-view+json": {
       "model_id": "e51464d480764019bfb5e110df7672d0",
       "version_major": 2,
       "version_minor": 0
      },
      "text/plain": [
       "  0%|          | 0/3 [00:00<?, ?it/s]"
      ]
     },
     "metadata": {},
     "output_type": "display_data"
    },
    {
     "name": "stderr",
     "output_type": "stream",
     "text": [
      "16:37:27 - cmdstanpy - INFO - Chain [1] start processing\n",
      "16:37:27 - cmdstanpy - INFO - Chain [1] done processing\n",
      "16:37:28 - cmdstanpy - INFO - Chain [1] start processing\n",
      "16:37:28 - cmdstanpy - INFO - Chain [1] done processing\n",
      "16:37:29 - cmdstanpy - INFO - Chain [1] start processing\n",
      "16:37:29 - cmdstanpy - INFO - Chain [1] done processing\n",
      "16:37:30 - cmdstanpy - INFO - Chain [1] start processing\n"
     ]
    },
    {
     "name": "stdout",
     "output_type": "stream",
     "text": [
      "Best parameters: {'changepoint_prior_scale': 0.025, 'changepoint_range': 0.4}, Best RMSE: 28.83535738752637\n"
     ]
    },
    {
     "name": "stderr",
     "output_type": "stream",
     "text": [
      "16:37:30 - cmdstanpy - INFO - Chain [1] done processing\n"
     ]
    }
   ],
   "source": [
    "sym = 'AAPL'\n",
    "start = '2020-01-01'\n",
    "end = '2024-01-01'\n",
    "num_days = 92\n",
    "\n",
    "model, fc_apple, fc_all, fc_trend = gen_stock_forecast(sym, start, end, num_days)"
   ]
  },
  {
   "cell_type": "code",
   "execution_count": 15,
   "id": "8608c9ac",
   "metadata": {},
   "outputs": [
    {
     "data": {
      "text/plain": [
       "30.078585283326056"
      ]
     },
     "execution_count": 15,
     "metadata": {},
     "output_type": "execute_result"
    }
   ],
   "source": [
    "fc_cl = (fc_apple['yhat_upper'] - fc_apple['yhat_lower']).mean()\n",
    "fc_cl"
   ]
  },
  {
   "cell_type": "code",
   "execution_count": 16,
   "id": "893b435a",
   "metadata": {},
   "outputs": [
    {
     "name": "stderr",
     "output_type": "stream",
     "text": [
      "16:37:31 - cmdstanpy - INFO - Chain [1] start processing\n",
      "16:37:31 - cmdstanpy - INFO - Chain [1] done processing\n"
     ]
    },
    {
     "data": {
      "application/vnd.jupyter.widget-view+json": {
       "model_id": "bea3eb67de4142f5b92191990a55991f",
       "version_major": 2,
       "version_minor": 0
      },
      "text/plain": [
       "  0%|          | 0/3 [00:00<?, ?it/s]"
      ]
     },
     "metadata": {},
     "output_type": "display_data"
    },
    {
     "name": "stderr",
     "output_type": "stream",
     "text": [
      "16:37:32 - cmdstanpy - INFO - Chain [1] start processing\n",
      "16:37:32 - cmdstanpy - INFO - Chain [1] done processing\n",
      "16:37:32 - cmdstanpy - INFO - Chain [1] start processing\n",
      "16:37:33 - cmdstanpy - INFO - Chain [1] done processing\n",
      "16:37:33 - cmdstanpy - INFO - Chain [1] start processing\n",
      "16:37:33 - cmdstanpy - INFO - Chain [1] done processing\n",
      "16:37:34 - cmdstanpy - INFO - Chain [1] start processing\n",
      "16:37:35 - cmdstanpy - INFO - Chain [1] done processing\n"
     ]
    },
    {
     "data": {
      "application/vnd.jupyter.widget-view+json": {
       "model_id": "1972ca131fe24a05af9d3139c8de2fa5",
       "version_major": 2,
       "version_minor": 0
      },
      "text/plain": [
       "  0%|          | 0/3 [00:00<?, ?it/s]"
      ]
     },
     "metadata": {},
     "output_type": "display_data"
    },
    {
     "name": "stderr",
     "output_type": "stream",
     "text": [
      "16:37:35 - cmdstanpy - INFO - Chain [1] start processing\n",
      "16:37:35 - cmdstanpy - INFO - Chain [1] done processing\n",
      "16:37:36 - cmdstanpy - INFO - Chain [1] start processing\n",
      "16:37:36 - cmdstanpy - INFO - Chain [1] done processing\n",
      "16:37:36 - cmdstanpy - INFO - Chain [1] start processing\n",
      "16:37:37 - cmdstanpy - INFO - Chain [1] done processing\n",
      "16:37:38 - cmdstanpy - INFO - Chain [1] start processing\n",
      "16:37:38 - cmdstanpy - INFO - Chain [1] done processing\n"
     ]
    },
    {
     "data": {
      "application/vnd.jupyter.widget-view+json": {
       "model_id": "3d5d189f2db041af9706a9070f56f544",
       "version_major": 2,
       "version_minor": 0
      },
      "text/plain": [
       "  0%|          | 0/3 [00:00<?, ?it/s]"
      ]
     },
     "metadata": {},
     "output_type": "display_data"
    },
    {
     "name": "stderr",
     "output_type": "stream",
     "text": [
      "16:37:38 - cmdstanpy - INFO - Chain [1] start processing\n",
      "16:37:38 - cmdstanpy - INFO - Chain [1] done processing\n",
      "16:37:39 - cmdstanpy - INFO - Chain [1] start processing\n",
      "16:37:39 - cmdstanpy - INFO - Chain [1] done processing\n",
      "16:37:40 - cmdstanpy - INFO - Chain [1] start processing\n",
      "16:37:40 - cmdstanpy - INFO - Chain [1] done processing\n",
      "16:37:41 - cmdstanpy - INFO - Chain [1] start processing\n",
      "16:37:41 - cmdstanpy - INFO - Chain [1] done processing\n"
     ]
    },
    {
     "data": {
      "application/vnd.jupyter.widget-view+json": {
       "model_id": "3294e44e5eb148729648545faba49056",
       "version_major": 2,
       "version_minor": 0
      },
      "text/plain": [
       "  0%|          | 0/3 [00:00<?, ?it/s]"
      ]
     },
     "metadata": {},
     "output_type": "display_data"
    },
    {
     "name": "stderr",
     "output_type": "stream",
     "text": [
      "16:37:41 - cmdstanpy - INFO - Chain [1] start processing\n",
      "16:37:41 - cmdstanpy - INFO - Chain [1] done processing\n",
      "16:37:42 - cmdstanpy - INFO - Chain [1] start processing\n",
      "16:37:42 - cmdstanpy - INFO - Chain [1] done processing\n",
      "16:37:43 - cmdstanpy - INFO - Chain [1] start processing\n",
      "16:37:43 - cmdstanpy - INFO - Chain [1] done processing\n",
      "16:37:44 - cmdstanpy - INFO - Chain [1] start processing\n",
      "16:37:45 - cmdstanpy - INFO - Chain [1] done processing\n"
     ]
    },
    {
     "data": {
      "application/vnd.jupyter.widget-view+json": {
       "model_id": "81dd393aff7249558d65312c4f62380b",
       "version_major": 2,
       "version_minor": 0
      },
      "text/plain": [
       "  0%|          | 0/3 [00:00<?, ?it/s]"
      ]
     },
     "metadata": {},
     "output_type": "display_data"
    },
    {
     "name": "stderr",
     "output_type": "stream",
     "text": [
      "16:37:45 - cmdstanpy - INFO - Chain [1] start processing\n",
      "16:37:45 - cmdstanpy - INFO - Chain [1] done processing\n",
      "16:37:46 - cmdstanpy - INFO - Chain [1] start processing\n",
      "16:37:46 - cmdstanpy - INFO - Chain [1] done processing\n",
      "16:37:46 - cmdstanpy - INFO - Chain [1] start processing\n",
      "16:37:46 - cmdstanpy - INFO - Chain [1] done processing\n",
      "16:37:47 - cmdstanpy - INFO - Chain [1] start processing\n",
      "16:37:48 - cmdstanpy - INFO - Chain [1] done processing\n"
     ]
    },
    {
     "data": {
      "application/vnd.jupyter.widget-view+json": {
       "model_id": "12971cdbee744cfeb79b93783884d894",
       "version_major": 2,
       "version_minor": 0
      },
      "text/plain": [
       "  0%|          | 0/3 [00:00<?, ?it/s]"
      ]
     },
     "metadata": {},
     "output_type": "display_data"
    },
    {
     "name": "stderr",
     "output_type": "stream",
     "text": [
      "16:37:48 - cmdstanpy - INFO - Chain [1] start processing\n",
      "16:37:48 - cmdstanpy - INFO - Chain [1] done processing\n",
      "16:37:49 - cmdstanpy - INFO - Chain [1] start processing\n",
      "16:37:49 - cmdstanpy - INFO - Chain [1] done processing\n",
      "16:37:50 - cmdstanpy - INFO - Chain [1] start processing\n",
      "16:37:50 - cmdstanpy - INFO - Chain [1] done processing\n",
      "16:37:51 - cmdstanpy - INFO - Chain [1] start processing\n",
      "16:37:51 - cmdstanpy - INFO - Chain [1] done processing\n"
     ]
    },
    {
     "data": {
      "application/vnd.jupyter.widget-view+json": {
       "model_id": "20e80a741e1b4119a7d6b634d0891ba7",
       "version_major": 2,
       "version_minor": 0
      },
      "text/plain": [
       "  0%|          | 0/3 [00:00<?, ?it/s]"
      ]
     },
     "metadata": {},
     "output_type": "display_data"
    },
    {
     "name": "stderr",
     "output_type": "stream",
     "text": [
      "16:37:51 - cmdstanpy - INFO - Chain [1] start processing\n",
      "16:37:51 - cmdstanpy - INFO - Chain [1] done processing\n",
      "16:37:52 - cmdstanpy - INFO - Chain [1] start processing\n",
      "16:37:52 - cmdstanpy - INFO - Chain [1] done processing\n",
      "16:37:53 - cmdstanpy - INFO - Chain [1] start processing\n",
      "16:37:53 - cmdstanpy - INFO - Chain [1] done processing\n",
      "16:37:54 - cmdstanpy - INFO - Chain [1] start processing\n",
      "16:37:55 - cmdstanpy - INFO - Chain [1] done processing\n"
     ]
    },
    {
     "data": {
      "application/vnd.jupyter.widget-view+json": {
       "model_id": "b2f696949f7b420f9a087805de2db6d9",
       "version_major": 2,
       "version_minor": 0
      },
      "text/plain": [
       "  0%|          | 0/3 [00:00<?, ?it/s]"
      ]
     },
     "metadata": {},
     "output_type": "display_data"
    },
    {
     "name": "stderr",
     "output_type": "stream",
     "text": [
      "16:37:55 - cmdstanpy - INFO - Chain [1] start processing\n",
      "16:37:55 - cmdstanpy - INFO - Chain [1] done processing\n",
      "16:37:56 - cmdstanpy - INFO - Chain [1] start processing\n",
      "16:37:56 - cmdstanpy - INFO - Chain [1] done processing\n",
      "16:37:56 - cmdstanpy - INFO - Chain [1] start processing\n",
      "16:37:57 - cmdstanpy - INFO - Chain [1] done processing\n",
      "16:37:58 - cmdstanpy - INFO - Chain [1] start processing\n",
      "16:37:58 - cmdstanpy - INFO - Chain [1] done processing\n"
     ]
    },
    {
     "data": {
      "application/vnd.jupyter.widget-view+json": {
       "model_id": "4bfe42760037428ba312194c17652e54",
       "version_major": 2,
       "version_minor": 0
      },
      "text/plain": [
       "  0%|          | 0/3 [00:00<?, ?it/s]"
      ]
     },
     "metadata": {},
     "output_type": "display_data"
    },
    {
     "name": "stderr",
     "output_type": "stream",
     "text": [
      "16:37:58 - cmdstanpy - INFO - Chain [1] start processing\n",
      "16:37:58 - cmdstanpy - INFO - Chain [1] done processing\n",
      "16:37:59 - cmdstanpy - INFO - Chain [1] start processing\n",
      "16:37:59 - cmdstanpy - INFO - Chain [1] done processing\n",
      "16:38:00 - cmdstanpy - INFO - Chain [1] start processing\n",
      "16:38:00 - cmdstanpy - INFO - Chain [1] done processing\n",
      "16:38:01 - cmdstanpy - INFO - Chain [1] start processing\n",
      "16:38:01 - cmdstanpy - INFO - Chain [1] done processing\n"
     ]
    },
    {
     "data": {
      "application/vnd.jupyter.widget-view+json": {
       "model_id": "72e6323fc86d4322baa8286aa8905177",
       "version_major": 2,
       "version_minor": 0
      },
      "text/plain": [
       "  0%|          | 0/3 [00:00<?, ?it/s]"
      ]
     },
     "metadata": {},
     "output_type": "display_data"
    },
    {
     "name": "stderr",
     "output_type": "stream",
     "text": [
      "16:38:01 - cmdstanpy - INFO - Chain [1] start processing\n",
      "16:38:01 - cmdstanpy - INFO - Chain [1] done processing\n",
      "16:38:02 - cmdstanpy - INFO - Chain [1] start processing\n",
      "16:38:02 - cmdstanpy - INFO - Chain [1] done processing\n",
      "16:38:03 - cmdstanpy - INFO - Chain [1] start processing\n",
      "16:38:03 - cmdstanpy - INFO - Chain [1] done processing\n",
      "16:38:04 - cmdstanpy - INFO - Chain [1] start processing\n",
      "16:38:04 - cmdstanpy - INFO - Chain [1] done processing\n"
     ]
    },
    {
     "data": {
      "application/vnd.jupyter.widget-view+json": {
       "model_id": "b2cd9870670a42e7b03f55578de928aa",
       "version_major": 2,
       "version_minor": 0
      },
      "text/plain": [
       "  0%|          | 0/3 [00:00<?, ?it/s]"
      ]
     },
     "metadata": {},
     "output_type": "display_data"
    },
    {
     "name": "stderr",
     "output_type": "stream",
     "text": [
      "16:38:04 - cmdstanpy - INFO - Chain [1] start processing\n",
      "16:38:05 - cmdstanpy - INFO - Chain [1] done processing\n",
      "16:38:05 - cmdstanpy - INFO - Chain [1] start processing\n",
      "16:38:05 - cmdstanpy - INFO - Chain [1] done processing\n",
      "16:38:06 - cmdstanpy - INFO - Chain [1] start processing\n",
      "16:38:06 - cmdstanpy - INFO - Chain [1] done processing\n",
      "16:38:07 - cmdstanpy - INFO - Chain [1] start processing\n",
      "16:38:08 - cmdstanpy - INFO - Chain [1] done processing\n"
     ]
    },
    {
     "data": {
      "application/vnd.jupyter.widget-view+json": {
       "model_id": "b0b2ef1c270b45299d6f9715efb8823c",
       "version_major": 2,
       "version_minor": 0
      },
      "text/plain": [
       "  0%|          | 0/3 [00:00<?, ?it/s]"
      ]
     },
     "metadata": {},
     "output_type": "display_data"
    },
    {
     "name": "stderr",
     "output_type": "stream",
     "text": [
      "16:38:08 - cmdstanpy - INFO - Chain [1] start processing\n",
      "16:38:08 - cmdstanpy - INFO - Chain [1] done processing\n",
      "16:38:09 - cmdstanpy - INFO - Chain [1] start processing\n",
      "16:38:09 - cmdstanpy - INFO - Chain [1] done processing\n",
      "16:38:10 - cmdstanpy - INFO - Chain [1] start processing\n",
      "16:38:10 - cmdstanpy - INFO - Chain [1] done processing\n",
      "16:38:11 - cmdstanpy - INFO - Chain [1] start processing\n",
      "16:38:11 - cmdstanpy - INFO - Chain [1] done processing\n"
     ]
    },
    {
     "data": {
      "application/vnd.jupyter.widget-view+json": {
       "model_id": "8177fa3e96ca4db0a96b8fe710aaf181",
       "version_major": 2,
       "version_minor": 0
      },
      "text/plain": [
       "  0%|          | 0/3 [00:00<?, ?it/s]"
      ]
     },
     "metadata": {},
     "output_type": "display_data"
    },
    {
     "name": "stderr",
     "output_type": "stream",
     "text": [
      "16:38:12 - cmdstanpy - INFO - Chain [1] start processing\n",
      "16:38:12 - cmdstanpy - INFO - Chain [1] done processing\n",
      "16:38:12 - cmdstanpy - INFO - Chain [1] start processing\n",
      "16:38:13 - cmdstanpy - INFO - Chain [1] done processing\n",
      "16:38:13 - cmdstanpy - INFO - Chain [1] start processing\n",
      "16:38:13 - cmdstanpy - INFO - Chain [1] done processing\n",
      "16:38:14 - cmdstanpy - INFO - Chain [1] start processing\n",
      "16:38:15 - cmdstanpy - INFO - Chain [1] done processing\n"
     ]
    },
    {
     "data": {
      "application/vnd.jupyter.widget-view+json": {
       "model_id": "98644bc1da8b4576a1c25d89803d333c",
       "version_major": 2,
       "version_minor": 0
      },
      "text/plain": [
       "  0%|          | 0/3 [00:00<?, ?it/s]"
      ]
     },
     "metadata": {},
     "output_type": "display_data"
    },
    {
     "name": "stderr",
     "output_type": "stream",
     "text": [
      "16:38:15 - cmdstanpy - INFO - Chain [1] start processing\n",
      "16:38:15 - cmdstanpy - INFO - Chain [1] done processing\n",
      "16:38:16 - cmdstanpy - INFO - Chain [1] start processing\n",
      "16:38:16 - cmdstanpy - INFO - Chain [1] done processing\n",
      "16:38:17 - cmdstanpy - INFO - Chain [1] start processing\n",
      "16:38:17 - cmdstanpy - INFO - Chain [1] done processing\n",
      "16:38:18 - cmdstanpy - INFO - Chain [1] start processing\n",
      "16:38:18 - cmdstanpy - INFO - Chain [1] done processing\n"
     ]
    },
    {
     "data": {
      "application/vnd.jupyter.widget-view+json": {
       "model_id": "c6ca43c9ebb3425baeac122c26fb6939",
       "version_major": 2,
       "version_minor": 0
      },
      "text/plain": [
       "  0%|          | 0/3 [00:00<?, ?it/s]"
      ]
     },
     "metadata": {},
     "output_type": "display_data"
    },
    {
     "name": "stderr",
     "output_type": "stream",
     "text": [
      "16:38:18 - cmdstanpy - INFO - Chain [1] start processing\n",
      "16:38:18 - cmdstanpy - INFO - Chain [1] done processing\n",
      "16:38:19 - cmdstanpy - INFO - Chain [1] start processing\n",
      "16:38:19 - cmdstanpy - INFO - Chain [1] done processing\n",
      "16:38:20 - cmdstanpy - INFO - Chain [1] start processing\n",
      "16:38:20 - cmdstanpy - INFO - Chain [1] done processing\n",
      "16:38:21 - cmdstanpy - INFO - Chain [1] start processing\n",
      "16:38:22 - cmdstanpy - INFO - Chain [1] done processing\n"
     ]
    },
    {
     "data": {
      "application/vnd.jupyter.widget-view+json": {
       "model_id": "04451c889a6f4efb8ee34bfc65aa0882",
       "version_major": 2,
       "version_minor": 0
      },
      "text/plain": [
       "  0%|          | 0/3 [00:00<?, ?it/s]"
      ]
     },
     "metadata": {},
     "output_type": "display_data"
    },
    {
     "name": "stderr",
     "output_type": "stream",
     "text": [
      "16:38:22 - cmdstanpy - INFO - Chain [1] start processing\n",
      "16:38:22 - cmdstanpy - INFO - Chain [1] done processing\n",
      "16:38:23 - cmdstanpy - INFO - Chain [1] start processing\n",
      "16:38:23 - cmdstanpy - INFO - Chain [1] done processing\n",
      "16:38:24 - cmdstanpy - INFO - Chain [1] start processing\n",
      "16:38:24 - cmdstanpy - INFO - Chain [1] done processing\n",
      "16:38:25 - cmdstanpy - INFO - Chain [1] start processing\n"
     ]
    },
    {
     "name": "stdout",
     "output_type": "stream",
     "text": [
      "Best parameters: {'changepoint_prior_scale': 0.015, 'changepoint_range': 0.4}, Best RMSE: 44.48570016135032\n"
     ]
    },
    {
     "name": "stderr",
     "output_type": "stream",
     "text": [
      "16:38:25 - cmdstanpy - INFO - Chain [1] done processing\n"
     ]
    }
   ],
   "source": [
    "sym = 'AMZN'\n",
    "start = '2020-01-01'\n",
    "end = '2024-01-01'\n",
    "num_days = 92\n",
    "\n",
    "model, fc_amzn, fc_all, fc_trend = gen_stock_forecast(sym, start, end, num_days)"
   ]
  },
  {
   "cell_type": "code",
   "execution_count": 17,
   "id": "96c488da",
   "metadata": {},
   "outputs": [
    {
     "data": {
      "text/plain": [
       "44.96275626980718"
      ]
     },
     "execution_count": 17,
     "metadata": {},
     "output_type": "execute_result"
    }
   ],
   "source": [
    "fc_cl2 = (fc_amzn['yhat_upper'] - fc_amzn['yhat_lower']).mean()\n",
    "fc_cl2"
   ]
  },
  {
   "cell_type": "code",
   "execution_count": null,
   "id": "fec1583a",
   "metadata": {},
   "outputs": [],
   "source": []
  },
  {
   "cell_type": "code",
   "execution_count": null,
   "id": "6509b49e",
   "metadata": {},
   "outputs": [],
   "source": []
  },
  {
   "cell_type": "code",
   "execution_count": null,
   "id": "d76b2e25",
   "metadata": {},
   "outputs": [],
   "source": []
  },
  {
   "cell_type": "code",
   "execution_count": null,
   "id": "938635dd",
   "metadata": {},
   "outputs": [],
   "source": []
  },
  {
   "cell_type": "code",
   "execution_count": null,
   "id": "be620a41",
   "metadata": {},
   "outputs": [],
   "source": []
  },
  {
   "cell_type": "code",
   "execution_count": null,
   "id": "10acee7f",
   "metadata": {},
   "outputs": [],
   "source": []
  },
  {
   "cell_type": "code",
   "execution_count": null,
   "id": "0d8535cb",
   "metadata": {},
   "outputs": [],
   "source": []
  },
  {
   "cell_type": "code",
   "execution_count": null,
   "id": "ddcb237a",
   "metadata": {},
   "outputs": [],
   "source": []
  },
  {
   "cell_type": "code",
   "execution_count": null,
   "id": "b502b75d",
   "metadata": {},
   "outputs": [],
   "source": []
  },
  {
   "cell_type": "code",
   "execution_count": null,
   "id": "33844c8c",
   "metadata": {},
   "outputs": [],
   "source": []
  },
  {
   "cell_type": "code",
   "execution_count": 7,
   "id": "c09f298b",
   "metadata": {},
   "outputs": [
    {
     "data": {
      "text/html": [
       "<div>\n",
       "<style scoped>\n",
       "    .dataframe tbody tr th:only-of-type {\n",
       "        vertical-align: middle;\n",
       "    }\n",
       "\n",
       "    .dataframe tbody tr th {\n",
       "        vertical-align: top;\n",
       "    }\n",
       "\n",
       "    .dataframe thead th {\n",
       "        text-align: right;\n",
       "    }\n",
       "</style>\n",
       "<table border=\"1\" class=\"dataframe\">\n",
       "  <thead>\n",
       "    <tr style=\"text-align: right;\">\n",
       "      <th></th>\n",
       "      <th>ds</th>\n",
       "      <th>trend</th>\n",
       "      <th>yhat_lower</th>\n",
       "      <th>yhat_upper</th>\n",
       "      <th>trend_lower</th>\n",
       "      <th>trend_upper</th>\n",
       "      <th>Christmas Day</th>\n",
       "      <th>Christmas Day_lower</th>\n",
       "      <th>Christmas Day_upper</th>\n",
       "      <th>Christmas Day (observed)</th>\n",
       "      <th>...</th>\n",
       "      <th>yearly</th>\n",
       "      <th>yearly_lower</th>\n",
       "      <th>yearly_upper</th>\n",
       "      <th>multiplicative_terms</th>\n",
       "      <th>multiplicative_terms_lower</th>\n",
       "      <th>multiplicative_terms_upper</th>\n",
       "      <th>yhat</th>\n",
       "      <th>date</th>\n",
       "      <th>day_of_week</th>\n",
       "      <th>day_of_year</th>\n",
       "    </tr>\n",
       "  </thead>\n",
       "  <tbody>\n",
       "    <tr>\n",
       "      <th>0</th>\n",
       "      <td>2020-01-02</td>\n",
       "      <td>92.733745</td>\n",
       "      <td>81.533914</td>\n",
       "      <td>99.386962</td>\n",
       "      <td>92.733745</td>\n",
       "      <td>92.733745</td>\n",
       "      <td>0.0</td>\n",
       "      <td>0.0</td>\n",
       "      <td>0.0</td>\n",
       "      <td>0.0</td>\n",
       "      <td>...</td>\n",
       "      <td>-2.261110</td>\n",
       "      <td>-2.261110</td>\n",
       "      <td>-2.261110</td>\n",
       "      <td>0.0</td>\n",
       "      <td>0.0</td>\n",
       "      <td>0.0</td>\n",
       "      <td>90.826143</td>\n",
       "      <td>2020-01-02</td>\n",
       "      <td>Thursday</td>\n",
       "      <td>January 2</td>\n",
       "    </tr>\n",
       "    <tr>\n",
       "      <th>1</th>\n",
       "      <td>2020-01-03</td>\n",
       "      <td>92.948864</td>\n",
       "      <td>82.183923</td>\n",
       "      <td>99.614544</td>\n",
       "      <td>92.948864</td>\n",
       "      <td>92.948864</td>\n",
       "      <td>0.0</td>\n",
       "      <td>0.0</td>\n",
       "      <td>0.0</td>\n",
       "      <td>0.0</td>\n",
       "      <td>...</td>\n",
       "      <td>-2.276163</td>\n",
       "      <td>-2.276163</td>\n",
       "      <td>-2.276163</td>\n",
       "      <td>0.0</td>\n",
       "      <td>0.0</td>\n",
       "      <td>0.0</td>\n",
       "      <td>90.772472</td>\n",
       "      <td>2020-01-03</td>\n",
       "      <td>Friday</td>\n",
       "      <td>January 3</td>\n",
       "    </tr>\n",
       "    <tr>\n",
       "      <th>2</th>\n",
       "      <td>2020-01-06</td>\n",
       "      <td>93.594218</td>\n",
       "      <td>82.241949</td>\n",
       "      <td>99.734757</td>\n",
       "      <td>93.594218</td>\n",
       "      <td>93.594218</td>\n",
       "      <td>0.0</td>\n",
       "      <td>0.0</td>\n",
       "      <td>0.0</td>\n",
       "      <td>0.0</td>\n",
       "      <td>...</td>\n",
       "      <td>-2.684443</td>\n",
       "      <td>-2.684443</td>\n",
       "      <td>-2.684443</td>\n",
       "      <td>0.0</td>\n",
       "      <td>0.0</td>\n",
       "      <td>0.0</td>\n",
       "      <td>91.192828</td>\n",
       "      <td>2020-01-06</td>\n",
       "      <td>Monday</td>\n",
       "      <td>January 6</td>\n",
       "    </tr>\n",
       "    <tr>\n",
       "      <th>3</th>\n",
       "      <td>2020-01-07</td>\n",
       "      <td>93.809336</td>\n",
       "      <td>82.248685</td>\n",
       "      <td>100.018940</td>\n",
       "      <td>93.809336</td>\n",
       "      <td>93.809336</td>\n",
       "      <td>0.0</td>\n",
       "      <td>0.0</td>\n",
       "      <td>0.0</td>\n",
       "      <td>0.0</td>\n",
       "      <td>...</td>\n",
       "      <td>-2.931520</td>\n",
       "      <td>-2.931520</td>\n",
       "      <td>-2.931520</td>\n",
       "      <td>0.0</td>\n",
       "      <td>0.0</td>\n",
       "      <td>0.0</td>\n",
       "      <td>91.199702</td>\n",
       "      <td>2020-01-07</td>\n",
       "      <td>Tuesday</td>\n",
       "      <td>January 7</td>\n",
       "    </tr>\n",
       "    <tr>\n",
       "      <th>4</th>\n",
       "      <td>2020-01-08</td>\n",
       "      <td>94.024455</td>\n",
       "      <td>82.057732</td>\n",
       "      <td>99.546609</td>\n",
       "      <td>94.024455</td>\n",
       "      <td>94.024455</td>\n",
       "      <td>0.0</td>\n",
       "      <td>0.0</td>\n",
       "      <td>0.0</td>\n",
       "      <td>0.0</td>\n",
       "      <td>...</td>\n",
       "      <td>-3.224703</td>\n",
       "      <td>-3.224703</td>\n",
       "      <td>-3.224703</td>\n",
       "      <td>0.0</td>\n",
       "      <td>0.0</td>\n",
       "      <td>0.0</td>\n",
       "      <td>91.198343</td>\n",
       "      <td>2020-01-08</td>\n",
       "      <td>Wednesday</td>\n",
       "      <td>January 8</td>\n",
       "    </tr>\n",
       "  </tbody>\n",
       "</table>\n",
       "<p>5 rows × 76 columns</p>\n",
       "</div>"
      ],
      "text/plain": [
       "          ds      trend  yhat_lower  yhat_upper  trend_lower  trend_upper  \\\n",
       "0 2020-01-02  92.733745   81.533914   99.386962    92.733745    92.733745   \n",
       "1 2020-01-03  92.948864   82.183923   99.614544    92.948864    92.948864   \n",
       "2 2020-01-06  93.594218   82.241949   99.734757    93.594218    93.594218   \n",
       "3 2020-01-07  93.809336   82.248685  100.018940    93.809336    93.809336   \n",
       "4 2020-01-08  94.024455   82.057732   99.546609    94.024455    94.024455   \n",
       "\n",
       "   Christmas Day  Christmas Day_lower  Christmas Day_upper  \\\n",
       "0            0.0                  0.0                  0.0   \n",
       "1            0.0                  0.0                  0.0   \n",
       "2            0.0                  0.0                  0.0   \n",
       "3            0.0                  0.0                  0.0   \n",
       "4            0.0                  0.0                  0.0   \n",
       "\n",
       "   Christmas Day (observed)  ...    yearly  yearly_lower  yearly_upper  \\\n",
       "0                       0.0  ... -2.261110     -2.261110     -2.261110   \n",
       "1                       0.0  ... -2.276163     -2.276163     -2.276163   \n",
       "2                       0.0  ... -2.684443     -2.684443     -2.684443   \n",
       "3                       0.0  ... -2.931520     -2.931520     -2.931520   \n",
       "4                       0.0  ... -3.224703     -3.224703     -3.224703   \n",
       "\n",
       "   multiplicative_terms  multiplicative_terms_lower  \\\n",
       "0                   0.0                         0.0   \n",
       "1                   0.0                         0.0   \n",
       "2                   0.0                         0.0   \n",
       "3                   0.0                         0.0   \n",
       "4                   0.0                         0.0   \n",
       "\n",
       "   multiplicative_terms_upper       yhat       date  day_of_week  day_of_year  \n",
       "0                         0.0  90.826143 2020-01-02     Thursday    January 2  \n",
       "1                         0.0  90.772472 2020-01-03       Friday    January 3  \n",
       "2                         0.0  91.192828 2020-01-06       Monday    January 6  \n",
       "3                         0.0  91.199702 2020-01-07      Tuesday    January 7  \n",
       "4                         0.0  91.198343 2020-01-08    Wednesday    January 8  \n",
       "\n",
       "[5 rows x 76 columns]"
      ]
     },
     "execution_count": 7,
     "metadata": {},
     "output_type": "execute_result"
    }
   ],
   "source": [
    "def num_to_day(i):\n",
    "    dct = ['Monday', 'Tuesday', 'Wednesday', 'Thursday', 'Friday', 'Saturday', 'Sunday']\n",
    "    \n",
    "    return dct[i]\n",
    "def date_to_day(dt):\n",
    "    month = ['January', 'February', 'March', 'April', 'May', 'June', 'July', 'August', 'September', 'October', 'November', 'December']\n",
    "    day = ''\n",
    "    \n",
    "#     if dt.dayofyear <= 9:\n",
    "#         day = '0' + str(dt.dayofyear)\n",
    "#     else:\n",
    "#         day = str(dt.dayofyear)\n",
    "    \n",
    "    day = str(dt.day)\n",
    "        \n",
    "    return month[dt.month - 1] + ' ' + day\n",
    "amzn_all['date'] = pd.to_datetime(amzn_all['ds'])\n",
    "amzn_all['day_of_week'] = amzn_all['date'].dt.dayofweek\n",
    "amzn_all['day_of_week'] = amzn_all['day_of_week'].apply(num_to_day)\n",
    "amzn_all['day_of_year'] = amzn_all['date'].apply(date_to_day)\n",
    "\n",
    "amzn_all.head()"
   ]
  },
  {
   "cell_type": "code",
   "execution_count": 5,
   "id": "868fed97",
   "metadata": {
    "scrolled": true
   },
   "outputs": [],
   "source": [
    "# plt.figure(1, figsize=(12, 5))\n",
    "# plt.plot(np.array(amzn_all['ds']), np.array(amzn_all['trend']), label='trend vs ds', color='blue')\n",
    "\n",
    "# plt.figure(2, figsize=(12, 5))\n",
    "# temp1 = amzn_all.groupby('day_of_week', sort=False).mean(numeric_only=True)['weekly']\n",
    "# plt.plot(np.array(temp1.index), np.array(temp1.values), label='day_of_week', color='green')\n",
    "\n",
    "# plt.figure(3, figsize=(20, 5))\n",
    "# temp2 = amzn_all.groupby('day_of_year', sort=False).mean(numeric_only=True)['yearly']\n",
    "# upd_labs = []\n",
    "# for dt in np.array(temp2.index):\n",
    "#     labels = ['January 1', 'February 1', 'March 1', 'April 1', 'May 1', 'June 1', 'July 1', 'August 1', 'September 1', 'October 1', 'November 1', 'December 1']\n",
    "#     if dt in labels:\n",
    "#         upd_labs.append(dt)\n",
    "#     else:\n",
    "#         upd_labs.append('')\n",
    "# plt.plot(np.array(temp2.index), np.array(temp2.values), label='day_of_year', color='red')\n",
    "# plt.xticks(np.array(temp2.index), upd_labs, rotation=45, ha='right')\n",
    "\n",
    "# plt.figure(3, figsize=(12, 5))\n",
    "# plt.plot(np.array(amzn_all['ds']), np.array(amzn_all['daily']), label='trend vs ds', color='blue')\n",
    "pass"
   ]
  },
  {
   "cell_type": "code",
   "execution_count": null,
   "id": "a299e8ab",
   "metadata": {},
   "outputs": [],
   "source": []
  },
  {
   "cell_type": "code",
   "execution_count": null,
   "id": "3a1277f4",
   "metadata": {},
   "outputs": [],
   "source": []
  },
  {
   "cell_type": "code",
   "execution_count": null,
   "id": "a8602e6d",
   "metadata": {},
   "outputs": [],
   "source": []
  },
  {
   "cell_type": "code",
   "execution_count": null,
   "id": "2900c5a7",
   "metadata": {},
   "outputs": [],
   "source": []
  },
  {
   "cell_type": "code",
   "execution_count": null,
   "id": "72ecd80a",
   "metadata": {},
   "outputs": [],
   "source": []
  },
  {
   "cell_type": "code",
   "execution_count": 218,
   "id": "f4e3ad40",
   "metadata": {},
   "outputs": [],
   "source": [
    "# import itertools\n",
    "\n",
    "# param_grid = {\n",
    "#     'changepoint_prior_scale': [0.01, 0.05, 0.1],\n",
    "#     'holidays_prior_scale': [5, 10, 15],\n",
    "#     'seasonality_prior_scale': [5, 10, 15],\n",
    "#     'weekly_seasonality': [True, False],\n",
    "#     'yearly_seasonality': [True, False],\n",
    "#     'daily_seasonality': [True, False]\n",
    "# }\n",
    "\n",
    "# all_params = [dict(zip(param_grid.keys(), v)) for v in itertools.product(*param_grid.values())]\n",
    "# rmses = []  \n",
    "\n",
    "# for params in all_params:\n",
    "#     m = Prophet(**params).fit(df)  # Fit model with given params\n",
    "#     df_cv = cross_validation(m, cutoffs=cutoffs, horizon='30 days', parallel=\"processes\")\n",
    "#     df_p = performance_metrics(df_cv, rolling_window=1)\n",
    "#     rmses.append(df_p['rmse'].values[0])\n",
    "\n",
    "# tuning_results = pd.DataFrame(all_params)\n",
    "# tuning_results['rmse'] = rmses\n",
    "# print(tuning_results)\n"
   ]
  },
  {
   "cell_type": "code",
   "execution_count": null,
   "id": "dc4e651d",
   "metadata": {},
   "outputs": [],
   "source": []
  },
  {
   "cell_type": "code",
   "execution_count": null,
   "id": "b052da79",
   "metadata": {},
   "outputs": [],
   "source": []
  }
 ],
 "metadata": {
  "kernelspec": {
   "display_name": "Python 3 (ipykernel)",
   "language": "python",
   "name": "python3"
  },
  "language_info": {
   "codemirror_mode": {
    "name": "ipython",
    "version": 3
   },
   "file_extension": ".py",
   "mimetype": "text/x-python",
   "name": "python",
   "nbconvert_exporter": "python",
   "pygments_lexer": "ipython3",
   "version": "3.9.5"
  }
 },
 "nbformat": 4,
 "nbformat_minor": 5
}
