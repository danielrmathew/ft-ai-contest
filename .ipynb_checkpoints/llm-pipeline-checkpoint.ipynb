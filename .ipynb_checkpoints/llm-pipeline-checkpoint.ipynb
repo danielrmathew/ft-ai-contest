{
 "cells": [
  {
   "cell_type": "code",
   "execution_count": null,
   "id": "4234d763",
   "metadata": {},
   "outputs": [],
   "source": [
    "!pip install accelerate\n",
    "!pip install -i https://pypi.org/simple/ bitsandbytes\n",
    "\n",
    "!pip install llama-index-embeddings-huggingface\n",
    "\n",
    "!pip install llama-index\n",
    "\n",
    "!pip install llama-index-llms-huggingface"
   ]
  },
  {
   "cell_type": "code",
   "execution_count": 22,
   "id": "c8ba0413",
   "metadata": {},
   "outputs": [],
   "source": [
    "from llama_index.core import SimpleDirectoryReader, VectorStoreIndex\n",
    "from llama_index.core import set_global_tokenizer\n",
    "from transformers import AutoTokenizer\n",
    "from llama_index.embeddings.huggingface import HuggingFaceEmbedding"
   ]
  },
  {
   "cell_type": "code",
   "execution_count": null,
   "id": "fa8db847",
   "metadata": {},
   "outputs": [],
   "source": [
    "import time\n",
    "\n",
    "start = time.time()\n",
    "\n",
    "print(llm.complete(\"Write a simple Python script to print all even numbers between 0 and 10, inclusive\").text)\n",
    "\n",
    "time.time() - start"
   ]
  },
  {
   "cell_type": "code",
   "execution_count": 1,
   "id": "b4d6cb0d",
   "metadata": {},
   "outputs": [
    {
     "name": "stderr",
     "output_type": "stream",
     "text": [
      "/home/drmathew/.local/lib/python3.9/site-packages/pydantic/_internal/_fields.py:160: UserWarning: Field \"model_id\" has conflict with protected namespace \"model_\".\n",
      "\n",
      "You may be able to resolve this warning by setting `model_config['protected_namespaces'] = ()`.\n",
      "  warnings.warn(\n"
     ]
    }
   ],
   "source": [
    "import torch\n",
    "from llama_index.llms.huggingface import HuggingFaceLLM\n",
    "from llama_index.core import PromptTemplate"
   ]
  },
  {
   "cell_type": "code",
   "execution_count": 2,
   "id": "643d78a3",
   "metadata": {},
   "outputs": [],
   "source": [
    "LLAMA2_7B_CHAT = \"meta-llama/Llama-2-7b-chat-hf\""
   ]
  },
  {
   "cell_type": "code",
   "execution_count": 3,
   "id": "10e04263",
   "metadata": {},
   "outputs": [],
   "source": [
    "selected_model = LLAMA2_7B_CHAT"
   ]
  },
  {
   "cell_type": "code",
   "execution_count": 4,
   "id": "13df77e0",
   "metadata": {},
   "outputs": [
    {
     "name": "stderr",
     "output_type": "stream",
     "text": [
      "The `load_in_4bit` and `load_in_8bit` arguments are deprecated and will be removed in the future versions. Please, pass a `BitsAndBytesConfig` object in `quantization_config` argument instead.\n"
     ]
    },
    {
     "data": {
      "application/vnd.jupyter.widget-view+json": {
       "model_id": "6c8a3e9541554d08b069066762d100ce",
       "version_major": 2,
       "version_minor": 0
      },
      "text/plain": [
       "Loading checkpoint shards:   0%|          | 0/2 [00:00<?, ?it/s]"
      ]
     },
     "metadata": {},
     "output_type": "display_data"
    }
   ],
   "source": [
    "SYSTEM_PROMPT = \"\"\"You are an AI assistant that answers questions in a friendly manner, based on the given source documents. Here are some rules you always follow:\n",
    "- Generate human readable output, avoid creating output with gibberish text.\n",
    "- Generate only the requested output, don't include any other language before or after the requested output.\n",
    "- Never say thank you, that you are happy to help, that you are an AI agent, etc. Just answer directly.\n",
    "- Generate professional language typically used in business documents in North America.\n",
    "- Never generate offensive or foul language.\n",
    "\"\"\"\n",
    "\n",
    "query_wrapper_prompt = PromptTemplate(\n",
    "    \"[INST]<<SYS>>\\n\" + SYSTEM_PROMPT + \"<</SYS>>\\n\\n{query_str}[/INST] \"\n",
    ")\n",
    "\n",
    "llm = HuggingFaceLLM(\n",
    "    context_window=4096,\n",
    "    max_new_tokens=2048,\n",
    "    generate_kwargs={\"temperature\": 0.1, \"do_sample\": True},\n",
    "    query_wrapper_prompt=query_wrapper_prompt,\n",
    "    tokenizer_name=selected_model,\n",
    "    model_name=selected_model,\n",
    "    device_map=\"auto\",\n",
    "    # change these settings below depending on your GPU\n",
    "    model_kwargs={\"torch_dtype\": torch.float16, \"load_in_8bit\": True},\n",
    ")"
   ]
  },
  {
   "cell_type": "code",
   "execution_count": 18,
   "id": "fd220f07",
   "metadata": {},
   "outputs": [
    {
     "name": "stdout",
     "output_type": "stream",
     "text": [
      "Of course! Here is a function in Python that prints all even numbers between 0 and 10 inclusive:\n",
      "\n",
      "def print_even_numbers(nums):\n",
      "    for num in nums:\n",
      "        if num % 2 == 0:\n",
      "            print(num)\n",
      "\n",
      "# Test the function\n",
      "print_even_numbers([0, 2, 4, 6, 8, 10])\n",
      "\n",
      "I hope this helps! Let me know if you have any other questions.\n",
      "Time elapsed: 15.672654628753662\n"
     ]
    }
   ],
   "source": [
    "import time\n",
    "\n",
    "start = time.time()\n",
    "\n",
    "print(llm.complete(\"In Python, make a function that prints all even numbers between 0 and 10 inclusive.\").text)\n",
    "\n",
    "print(f\"Time elapsed: {time.time() - start}\")"
   ]
  },
  {
   "cell_type": "code",
   "execution_count": 19,
   "id": "318a0f03",
   "metadata": {},
   "outputs": [],
   "source": [
    "set_global_tokenizer(\n",
    "    AutoTokenizer.from_pretrained(\"NousResearch/Llama-2-7b-chat-hf\").encode\n",
    ")"
   ]
  },
  {
   "cell_type": "code",
   "execution_count": 20,
   "id": "f501ab62",
   "metadata": {},
   "outputs": [
    {
     "data": {
      "application/vnd.jupyter.widget-view+json": {
       "model_id": "5ed9382a11e4447c87c2f550a1b81800",
       "version_major": 2,
       "version_minor": 0
      },
      "text/plain": [
       "modules.json:   0%|          | 0.00/349 [00:00<?, ?B/s]"
      ]
     },
     "metadata": {},
     "output_type": "display_data"
    },
    {
     "data": {
      "application/vnd.jupyter.widget-view+json": {
       "model_id": "a46c969d586941f0b1ca6d20b6282edd",
       "version_major": 2,
       "version_minor": 0
      },
      "text/plain": [
       "config_sentence_transformers.json:   0%|          | 0.00/124 [00:00<?, ?B/s]"
      ]
     },
     "metadata": {},
     "output_type": "display_data"
    },
    {
     "data": {
      "application/vnd.jupyter.widget-view+json": {
       "model_id": "916a6637b1ca4396baa8fbe203ea2048",
       "version_major": 2,
       "version_minor": 0
      },
      "text/plain": [
       "README.md:   0%|          | 0.00/94.8k [00:00<?, ?B/s]"
      ]
     },
     "metadata": {},
     "output_type": "display_data"
    },
    {
     "data": {
      "application/vnd.jupyter.widget-view+json": {
       "model_id": "80e135b2bd8a4d47b0d69b48664332ea",
       "version_major": 2,
       "version_minor": 0
      },
      "text/plain": [
       "sentence_bert_config.json:   0%|          | 0.00/52.0 [00:00<?, ?B/s]"
      ]
     },
     "metadata": {},
     "output_type": "display_data"
    },
    {
     "data": {
      "application/vnd.jupyter.widget-view+json": {
       "model_id": "461c55be5eaf499698be69aa3cdff5b3",
       "version_major": 2,
       "version_minor": 0
      },
      "text/plain": [
       "config.json:   0%|          | 0.00/743 [00:00<?, ?B/s]"
      ]
     },
     "metadata": {},
     "output_type": "display_data"
    },
    {
     "data": {
      "application/vnd.jupyter.widget-view+json": {
       "model_id": "f4e64f574e7844af98b686675c800a03",
       "version_major": 2,
       "version_minor": 0
      },
      "text/plain": [
       "model.safetensors:   0%|          | 0.00/133M [00:00<?, ?B/s]"
      ]
     },
     "metadata": {},
     "output_type": "display_data"
    },
    {
     "data": {
      "application/vnd.jupyter.widget-view+json": {
       "model_id": "7cd54aa214a541e283f3a7ea6e038f52",
       "version_major": 2,
       "version_minor": 0
      },
      "text/plain": [
       "tokenizer_config.json:   0%|          | 0.00/366 [00:00<?, ?B/s]"
      ]
     },
     "metadata": {},
     "output_type": "display_data"
    },
    {
     "data": {
      "application/vnd.jupyter.widget-view+json": {
       "model_id": "01333a20437049b4b6858b4ebfbd7276",
       "version_major": 2,
       "version_minor": 0
      },
      "text/plain": [
       "vocab.txt:   0%|          | 0.00/232k [00:00<?, ?B/s]"
      ]
     },
     "metadata": {},
     "output_type": "display_data"
    },
    {
     "data": {
      "application/vnd.jupyter.widget-view+json": {
       "model_id": "eb908ea4b6fb49cea94fcee5edc1f377",
       "version_major": 2,
       "version_minor": 0
      },
      "text/plain": [
       "tokenizer.json:   0%|          | 0.00/711k [00:00<?, ?B/s]"
      ]
     },
     "metadata": {},
     "output_type": "display_data"
    },
    {
     "data": {
      "application/vnd.jupyter.widget-view+json": {
       "model_id": "476c3035d3ce4b1980114146a80e324e",
       "version_major": 2,
       "version_minor": 0
      },
      "text/plain": [
       "special_tokens_map.json:   0%|          | 0.00/125 [00:00<?, ?B/s]"
      ]
     },
     "metadata": {},
     "output_type": "display_data"
    },
    {
     "data": {
      "application/vnd.jupyter.widget-view+json": {
       "model_id": "38e6a344084c45d4bdc200e2b998177e",
       "version_major": 2,
       "version_minor": 0
      },
      "text/plain": [
       "1_Pooling/config.json:   0%|          | 0.00/190 [00:00<?, ?B/s]"
      ]
     },
     "metadata": {},
     "output_type": "display_data"
    }
   ],
   "source": [
    "embed_model = HuggingFaceEmbedding(model_name=\"BAAI/bge-small-en-v1.5\")"
   ]
  },
  {
   "cell_type": "code",
   "execution_count": 30,
   "id": "b24798c3",
   "metadata": {},
   "outputs": [],
   "source": [
    "document = SimpleDirectoryReader(input_files=[\"data/\" + 'essay.txt']).load_data()\n",
    "index = VectorStoreIndex.from_documents(document, embed_model=embed_model)\n",
    "query_engine = index.as_query_engine(llm=llm, streaming=True)"
   ]
  },
  {
   "cell_type": "code",
   "execution_count": 31,
   "id": "1c44b5ba",
   "metadata": {},
   "outputs": [
    {
     "name": "stdout",
     "output_type": "stream",
     "text": [
      "Based on the given context, the author grew up writing and programming outside of school. They wrote short stories and tried to write programs on the IBM 1401 computer in 9th grade, but they couldn't figure out what to do with it. Later, with the advent of microcomputers, the author began writing simple games, a program to predict how high model rockets would fly, and a word processor that their father used to write at least one book. The author also studied philosophy in college, but found it boring, and eventually switched to AI.19.30453372001648\n"
     ]
    }
   ],
   "source": [
    "start = time.time()\n",
    "r = query_engine.query(\"What did the author do growing up?\")\n",
    "r.print_response_stream()\n",
    "print()\n",
    "print(time.time() - start)"
   ]
  },
  {
   "cell_type": "code",
   "execution_count": 93,
   "id": "228811ed",
   "metadata": {},
   "outputs": [],
   "source": [
    "import requests\n",
    "import json\n",
    "from bs4 import BeautifulSoup\n",
    "import os"
   ]
  },
  {
   "cell_type": "code",
   "execution_count": 33,
   "id": "a402fc96",
   "metadata": {},
   "outputs": [],
   "source": [
    "API_TOKEN = \"rxfMXxfsdsKGb8urL8shecBbBp37ZBuvU5zo39sm\"\n",
    "API_ENDPOINT = f\"https://api.marketaux.com/v1/news/all\"\n",
    "\n",
    "payload = {\n",
    "    \"api_token\": API_TOKEN,\n",
    "    \"entity_types\": \"equity,index,etf\", # should include industries parameter\n",
    "    \"industries\": \"Technology\",\n",
    "    \"countries\": \"us\",\n",
    "    \"published_after\": \"2024-05-10T15:00\",\n",
    "    \"domains\": \"finance.yahoo.com\"\n",
    "}"
   ]
  },
  {
   "cell_type": "code",
   "execution_count": null,
   "id": "faf237f1",
   "metadata": {},
   "outputs": [],
   "source": [
    "payload = {\n",
    "    \"api_token\": API_TOKEN,\n",
    "    \"entity_types\": \"equity,index,etf\", # should include industries parameter\n",
    "#     \"industries\": \"Technology\",\n",
    "    \"countries\": \"us\",\n",
    "    \"published_after\": \"2024-05-10T13:00\",\n",
    "    \"published_before\": \"2024-05-10T14:00\",\n",
    "    \"domains\": \"finance.yahoo.com\"\n",
    "}"
   ]
  },
  {
   "cell_type": "code",
   "execution_count": 54,
   "id": "cbda32a4",
   "metadata": {},
   "outputs": [],
   "source": [
    "def get_urls(payload):\n",
    "    r = requests.get(\"https://api.marketaux.com/v1/news/all\", params=payload)\n",
    "    output = r.text\n",
    "    json_output = json.loads(output)\n",
    "    data = json_output['data']\n",
    "    \n",
    "    urls = []\n",
    "    \n",
    "    for i in range(len(data)):\n",
    "        url = data[i]['url']\n",
    "        if url.startswith(\"https://finance.yahoo.com/news\"):\n",
    "            urls.append(url)\n",
    "        \n",
    "    return urls"
   ]
  },
  {
   "cell_type": "code",
   "execution_count": 56,
   "id": "14925e30",
   "metadata": {},
   "outputs": [],
   "source": [
    "def get_article_content(url):\n",
    "    r = requests.get(url)\n",
    "    \n",
    "    if r.status_code != 200:\n",
    "        return 'Invalid Response'\n",
    "    \n",
    "    soup = BeautifulSoup(r.content)\n",
    "    body = soup.find('div', attrs={'class': 'caas-body'})\n",
    "    content = \"\"\n",
    "    \n",
    "    for text in body.find_all('p'):\n",
    "        content += text.text\n",
    "    \n",
    "    return content"
   ]
  },
  {
   "cell_type": "code",
   "execution_count": 58,
   "id": "6e6bdbf9",
   "metadata": {},
   "outputs": [],
   "source": [
    "def write_to_file(filename, content):\n",
    "    with open(, 'w') as file:\n",
    "        file.write(content)"
   ]
  },
  {
   "cell_type": "code",
   "execution_count": 95,
   "id": "0c76752e",
   "metadata": {},
   "outputs": [],
   "source": [
    "def create_documents():\n",
    "    payload = {\n",
    "        \"api_token\": API_TOKEN,\n",
    "        \"entity_types\": \"equity,index,etf\", # should include industries parameter\n",
    "    #     \"industries\": \"Technology\",\n",
    "        \"countries\": \"us\",\n",
    "#         \"published_after\": \"2024-05-10T13:00\",\n",
    "#         \"published_before\": \"2024-05-10T14:00\",\n",
    "        \"domains\": \"finance.yahoo.com\"\n",
    "    }\n",
    "    \n",
    "    for add_day in range(5):\n",
    "        for add_hour in range(7):\n",
    "            start = \"2024-05-\" + str(10 + add_day) + \"T\" + str(13 + add_hour) + \":00\"\n",
    "            finish = \"2024-05-\" + str(10 + add_day) + \"T\" + str(13 + add_hour + 1) + \":00\"\n",
    "            payload[\"published_after\"] = start\n",
    "            payload[\"published_before\"] = finish\n",
    "            \n",
    "            urls = get_urls(payload)\n",
    "            for i in range(len(urls)):\n",
    "                print(urls[i])\n",
    "                content = get_article_content(urls[i])\n",
    "                if content != \"Invalid Response\": \n",
    "                    filename = os.path.join(\"articles\", \"article\" + str(add_day) + str(add_hour) + str(i) + \".txt\")\n",
    "                    write_to_file(filename, content)\n",
    "                else:\n",
    "                    print(\"Above URL Skipped\")"
   ]
  },
  {
   "cell_type": "code",
   "execution_count": 59,
   "id": "c260c35c",
   "metadata": {
    "scrolled": true
   },
   "outputs": [
    {
     "name": "stdout",
     "output_type": "stream",
     "text": [
      "https://finance.yahoo.com/news/2-beaten-down-stocks-buy-134500970.html\n",
      "https://finance.yahoo.com/news/stock-market-today-stocks-rise-dow-eyes-8th-straight-win-as-rate-cut-hopes-abound-133123854.html\n",
      "https://finance.yahoo.com/news/3-rock-solid-dividend-stocks-133000363.html\n",
      "https://finance.yahoo.com/news/tsmcs-record-sales-surge-whats-144109570.html\n",
      "https://finance.yahoo.com/news/groupon-grpn-q1-earnings-revenues-143100508.html?.tsrc=rss\n",
      "https://finance.yahoo.com/news/cathie-wood-goes-bargain-hunting-154500669.html\n",
      "https://finance.yahoo.com/news/mcdonald-readies-5-meal-deal-160738126.html\n",
      "https://finance.yahoo.com/news/q1-2024-applied-optoelectronics-inc-163026968.html?.tsrc=rss\n",
      "Above URL Skipped\n",
      "https://finance.yahoo.com/news/openai-announce-chatgpt-product-updates-175757460.html?.tsrc=rss\n",
      "https://finance.yahoo.com/news/want-500-dividend-income-heres-175637541.html\n",
      "https://finance.yahoo.com/news/stock-market-today-dow-secures-eighth-straight-winning-session-183420207.html\n",
      "https://finance.yahoo.com/news/why-clean-energy-stocks-collapsed-181635592.html\n",
      "https://finance.yahoo.com/news/cvs-health-stock-bargain-buy-131500163.html\n",
      "https://finance.yahoo.com/news/3m-buy-sell-hold-130100365.html\n",
      "https://finance.yahoo.com/news/forget-energy-transfer-buy-magnificent-143800551.html\n",
      "https://finance.yahoo.com/news/600-billion-wall-debt-looms-143007739.html\n",
      "https://finance.yahoo.com/news/berkshire-hathaway-great-heres-why-142700894.html\n",
      "https://finance.yahoo.com/news/riot-platforms-stock-no-brainer-153500422.html\n",
      "https://finance.yahoo.com/news/2-nasdaq-stocks-could-crush-152700836.html\n",
      "https://finance.yahoo.com/news/good-news-rivian-investors-152300291.html\n",
      "https://finance.yahoo.com/news/missed-nvidia-incredibly-cheap-semiconductor-181500095.html\n",
      "https://finance.yahoo.com/news/inflation-and-consumer-spending-updates-ahead-what-to-know-this-week-133436286.html\n",
      "https://finance.yahoo.com/news/buy-3-highest-paying-dividend-131000087.html\n",
      "https://finance.yahoo.com/news/30-highest-paid-jobs-occupations-143636843.html?.tsrc=rss\n",
      "https://finance.yahoo.com/news/3-top-etfs-diversified-stock-143000071.html\n",
      "https://finance.yahoo.com/news/15-jobs-demand-2030-142925021.html?.tsrc=rss\n",
      "https://finance.yahoo.com/news/utility-stocks-are-on-fire--here-are-wall-street-analysts-top-picks-153808020.html\n",
      "https://finance.yahoo.com/news/forget-nvidia-2-tech-stocks-151300271.html\n",
      "https://finance.yahoo.com/news/smartest-semiconductor-etf-buy-1-165900425.html\n",
      "https://finance.yahoo.com/news/2-unbelievable-growth-stocks-buy-162000159.html\n",
      "https://finance.yahoo.com/news/forget-starbucks-buy-other-sizzling-160600826.html\n",
      "https://finance.yahoo.com/news/billionaire-jim-simons-owns-2-172500826.html\n",
      "https://finance.yahoo.com/news/paypal-stock-no-brainer-buy-183000496.html\n",
      "https://finance.yahoo.com/news/massive-news-plug-power-stock-135835149.html\n",
      "https://finance.yahoo.com/news/tesla-changing-front-eyes-133050549.html\n",
      "https://finance.yahoo.com/news/stock-market-today-stocks-edge-higher-with-inflation-data-in-focus-133034617.html\n",
      "https://finance.yahoo.com/news/30-hardest-colleges-us-144520753.html?.tsrc=rss\n",
      "https://finance.yahoo.com/news/gamestop-stock-gains-110-gets-halted-for-volatility-after-roaring-kitty-post-143738970.html\n",
      "https://finance.yahoo.com/news/gamestop-stock-gains-more-than-70-gets-halted-for-volatility-after-roaring-kitty-post-143738265.html\n",
      "https://finance.yahoo.com/news/stock-market-today-stocks-wobble-with-inflation-data-in-focus-133034726.html\n",
      "https://finance.yahoo.com/news/12-undervalued-stocks-just-raised-154424384.html?.tsrc=rss\n",
      "https://finance.yahoo.com/news/one-stock-is-dragging-down-the-sp-500s-earnings-growth-164113227.html\n",
      "https://finance.yahoo.com/news/why-virgin-galactic-stock-jumped-163026120.html\n",
      "https://finance.yahoo.com/news/rivian-stock-fire-too-buy-161944365.html\n",
      "https://finance.yahoo.com/news/why-solar-energy-stocks-soared-175722064.html\n",
      "https://finance.yahoo.com/news/buffett-gates-continue-holding-dividend-174131801.html\n",
      "https://finance.yahoo.com/news/huya-huya-q1-2024-earnings-173011577.html\n",
      "https://finance.yahoo.com/news/beyond-road-exploring-impact-potential-184600373.html\n",
      "https://finance.yahoo.com/news/why-nio-stock-climbing-today-183128560.html\n",
      "https://finance.yahoo.com/news/warren-buffett-dumping-apple-stock-190952748.html\n",
      "https://finance.yahoo.com/news/teslas-fire-hire-musk-brings-190815628.html?.tsrc=rss\n",
      "https://finance.yahoo.com/news/alphabet-ai-event-show-whether-135822264.html?.tsrc=rss\n",
      "https://finance.yahoo.com/news/amazon-names-matt-garman-aws-134659862.html?.tsrc=rss\n",
      "https://finance.yahoo.com/news/alibaba-stock-dips-huge-investment-143556914.html\n",
      "https://finance.yahoo.com/news/netflix-nflx-releases-trailer-latest-155300782.html?.tsrc=rss\n",
      "https://finance.yahoo.com/news/plug-power-stock-going-5-154633764.html\n",
      "https://finance.yahoo.com/news/q1-2024-tmc-metals-company-154405290.html?.tsrc=rss\n",
      "https://finance.yahoo.com/news/5-most-powerful-countries-world-175638657.html?.tsrc=rss\n",
      "https://finance.yahoo.com/news/asymmetric-opportunities-options-trade-top-174400191.html?.tsrc=rss\n",
      "https://finance.yahoo.com/news/prediction-uipaths-next-big-move-182230903.html\n",
      "https://finance.yahoo.com/news/why-aurora-cannabis-tilray-brands-195600437.html\n",
      "https://finance.yahoo.com/news/tesla-versus-swedish-union-sparks-194029038.html?.tsrc=rss\n",
      "https://finance.yahoo.com/news/charles-schwab-website-mess-hundreds-193600024.html\n"
     ]
    }
   ],
   "source": [
    "create_documents()"
   ]
  },
  {
   "cell_type": "code",
   "execution_count": 44,
   "id": "a6aac393",
   "metadata": {
    "scrolled": true
   },
   "outputs": [],
   "source": [
    "r = requests.get(\"https://finance.yahoo.com/video/apple-catching-ai-revolution-dan-142925403.html?.tsrc=rss\")\n",
    "s = BeautifulSoup(r.content)\n",
    "body = s.find('div', attrs={'class': 'caas-body'})\n",
    "body"
   ]
  },
  {
   "cell_type": "code",
   "execution_count": 53,
   "id": "972c6325",
   "metadata": {},
   "outputs": [
    {
     "data": {
      "text/plain": [
       "int"
      ]
     },
     "execution_count": 53,
     "metadata": {},
     "output_type": "execute_result"
    }
   ],
   "source": [
    "type(r.status_code)"
   ]
  },
  {
   "cell_type": "code",
   "execution_count": 47,
   "id": "705b8a82",
   "metadata": {},
   "outputs": [],
   "source": [
    "url = \"https://finance.yahoo.com/news/q1-2024-applied-optoelectronics-inc-163026968.html?.tsrc=rss\"\n",
    "r = requests.get(url)\n",
    "soup = BeautifulSoup(r.content)\n",
    "body = soup.find('div')"
   ]
  },
  {
   "cell_type": "code",
   "execution_count": 48,
   "id": "ceb3e074",
   "metadata": {
    "scrolled": true
   },
   "outputs": [
    {
     "data": {
      "text/plain": [
       "'Not Found'"
      ]
     },
     "execution_count": 48,
     "metadata": {},
     "output_type": "execute_result"
    }
   ],
   "source": [
    "r.reason"
   ]
  },
  {
   "cell_type": "code",
   "execution_count": 60,
   "id": "06d4509d",
   "metadata": {},
   "outputs": [],
   "source": [
    "yf_documents = SimpleDirectoryReader(input_dir=\"articles\").load_data()\n",
    "yf_index = VectorStoreIndex.from_documents(yf_documents, embed_model=embed_model)\n",
    "yf_query_engine = yf_index.as_query_engine(llm=llm, streaming=True)"
   ]
  },
  {
   "cell_type": "code",
   "execution_count": 77,
   "id": "f9c95eb6",
   "metadata": {
    "collapsed": true
   },
   "outputs": [
    {
     "name": "stdout",
     "output_type": "stream",
     "text": [
      "Based on the articles provided, the following are the best stocks to invest in and why:\n",
      "\n",
      "1. Bristol Myers Squibb (NYSE: BMY) - Bristol Myers has a strong pipeline of new medicines, including a subcutaneous version of "
     ]
    },
    {
     "ename": "KeyboardInterrupt",
     "evalue": "",
     "output_type": "error",
     "traceback": [
      "\u001b[0;31m---------------------------------------------------------------------------\u001b[0m",
      "\u001b[0;31mKeyboardInterrupt\u001b[0m                         Traceback (most recent call last)",
      "\u001b[0;32m/tmp/ipykernel_538/1934197686.py\u001b[0m in \u001b[0;36m<module>\u001b[0;34m\u001b[0m\n\u001b[1;32m      1\u001b[0m \u001b[0mstocks\u001b[0m \u001b[0;34m=\u001b[0m \u001b[0myf_query_engine\u001b[0m\u001b[0;34m.\u001b[0m\u001b[0mquery\u001b[0m\u001b[0;34m(\u001b[0m\u001b[0;34m\"Based on the ingested articles, return the best stocks to invest in and give reasons why.\"\u001b[0m\u001b[0;34m)\u001b[0m\u001b[0;34m\u001b[0m\u001b[0;34m\u001b[0m\u001b[0m\n\u001b[0;32m----> 2\u001b[0;31m \u001b[0mstocks\u001b[0m\u001b[0;34m.\u001b[0m\u001b[0mprint_response_stream\u001b[0m\u001b[0;34m(\u001b[0m\u001b[0;34m)\u001b[0m\u001b[0;34m\u001b[0m\u001b[0;34m\u001b[0m\u001b[0m\n\u001b[0m",
      "\u001b[0;32m~/.local/lib/python3.9/site-packages/llama_index/core/base/response/schema.py\u001b[0m in \u001b[0;36mprint_response_stream\u001b[0;34m(self)\u001b[0m\n\u001b[1;32m    140\u001b[0m         \u001b[0;32mif\u001b[0m \u001b[0mself\u001b[0m\u001b[0;34m.\u001b[0m\u001b[0mresponse_txt\u001b[0m \u001b[0;32mis\u001b[0m \u001b[0;32mNone\u001b[0m \u001b[0;32mand\u001b[0m \u001b[0mself\u001b[0m\u001b[0;34m.\u001b[0m\u001b[0mresponse_gen\u001b[0m \u001b[0;32mis\u001b[0m \u001b[0;32mnot\u001b[0m \u001b[0;32mNone\u001b[0m\u001b[0;34m:\u001b[0m\u001b[0;34m\u001b[0m\u001b[0;34m\u001b[0m\u001b[0m\n\u001b[1;32m    141\u001b[0m             \u001b[0mresponse_txt\u001b[0m \u001b[0;34m=\u001b[0m \u001b[0;34m\"\"\u001b[0m\u001b[0;34m\u001b[0m\u001b[0;34m\u001b[0m\u001b[0m\n\u001b[0;32m--> 142\u001b[0;31m             \u001b[0;32mfor\u001b[0m \u001b[0mtext\u001b[0m \u001b[0;32min\u001b[0m \u001b[0mself\u001b[0m\u001b[0;34m.\u001b[0m\u001b[0mresponse_gen\u001b[0m\u001b[0;34m:\u001b[0m\u001b[0;34m\u001b[0m\u001b[0;34m\u001b[0m\u001b[0m\n\u001b[0m\u001b[1;32m    143\u001b[0m                 \u001b[0mprint\u001b[0m\u001b[0;34m(\u001b[0m\u001b[0mtext\u001b[0m\u001b[0;34m,\u001b[0m \u001b[0mend\u001b[0m\u001b[0;34m=\u001b[0m\u001b[0;34m\"\"\u001b[0m\u001b[0;34m,\u001b[0m \u001b[0mflush\u001b[0m\u001b[0;34m=\u001b[0m\u001b[0;32mTrue\u001b[0m\u001b[0;34m)\u001b[0m\u001b[0;34m\u001b[0m\u001b[0;34m\u001b[0m\u001b[0m\n\u001b[1;32m    144\u001b[0m                 \u001b[0mresponse_txt\u001b[0m \u001b[0;34m+=\u001b[0m \u001b[0mtext\u001b[0m\u001b[0;34m\u001b[0m\u001b[0;34m\u001b[0m\u001b[0m\n",
      "\u001b[0;32m~/.local/lib/python3.9/site-packages/llama_index/core/llms/llm.py\u001b[0m in \u001b[0;36mgen\u001b[0;34m()\u001b[0m\n\u001b[1;32m     97\u001b[0m \u001b[0;34m\u001b[0m\u001b[0m\n\u001b[1;32m     98\u001b[0m     \u001b[0;32mdef\u001b[0m \u001b[0mgen\u001b[0m\u001b[0;34m(\u001b[0m\u001b[0;34m)\u001b[0m \u001b[0;34m->\u001b[0m \u001b[0mTokenGen\u001b[0m\u001b[0;34m:\u001b[0m\u001b[0;34m\u001b[0m\u001b[0;34m\u001b[0m\u001b[0m\n\u001b[0;32m---> 99\u001b[0;31m         \u001b[0;32mfor\u001b[0m \u001b[0mresponse\u001b[0m \u001b[0;32min\u001b[0m \u001b[0mcompletion_response_gen\u001b[0m\u001b[0;34m:\u001b[0m\u001b[0;34m\u001b[0m\u001b[0;34m\u001b[0m\u001b[0m\n\u001b[0m\u001b[1;32m    100\u001b[0m             \u001b[0;32myield\u001b[0m \u001b[0mresponse\u001b[0m\u001b[0;34m.\u001b[0m\u001b[0mdelta\u001b[0m \u001b[0;32mor\u001b[0m \u001b[0;34m\"\"\u001b[0m\u001b[0;34m\u001b[0m\u001b[0;34m\u001b[0m\u001b[0m\n\u001b[1;32m    101\u001b[0m \u001b[0;34m\u001b[0m\u001b[0m\n",
      "\u001b[0;32m~/.local/lib/python3.9/site-packages/llama_index/core/llms/callbacks.py\u001b[0m in \u001b[0;36mwrapped_gen\u001b[0;34m()\u001b[0m\n\u001b[1;32m    334\u001b[0m                     \u001b[0;32mdef\u001b[0m \u001b[0mwrapped_gen\u001b[0m\u001b[0;34m(\u001b[0m\u001b[0;34m)\u001b[0m \u001b[0;34m->\u001b[0m \u001b[0mCompletionResponseGen\u001b[0m\u001b[0;34m:\u001b[0m\u001b[0;34m\u001b[0m\u001b[0;34m\u001b[0m\u001b[0m\n\u001b[1;32m    335\u001b[0m                         \u001b[0mlast_response\u001b[0m \u001b[0;34m=\u001b[0m \u001b[0;32mNone\u001b[0m\u001b[0;34m\u001b[0m\u001b[0;34m\u001b[0m\u001b[0m\n\u001b[0;32m--> 336\u001b[0;31m                         \u001b[0;32mfor\u001b[0m \u001b[0mx\u001b[0m \u001b[0;32min\u001b[0m \u001b[0mf_return_val\u001b[0m\u001b[0;34m:\u001b[0m\u001b[0;34m\u001b[0m\u001b[0;34m\u001b[0m\u001b[0m\n\u001b[0m\u001b[1;32m    337\u001b[0m                             dispatcher.event(\n\u001b[1;32m    338\u001b[0m                                 LLMCompletionEndEvent(\n",
      "\u001b[0;32m~/.local/lib/python3.9/site-packages/llama_index/llms/huggingface/base.py\u001b[0m in \u001b[0;36mgen\u001b[0;34m()\u001b[0m\n\u001b[1;32m    408\u001b[0m         \u001b[0;32mdef\u001b[0m \u001b[0mgen\u001b[0m\u001b[0;34m(\u001b[0m\u001b[0;34m)\u001b[0m \u001b[0;34m->\u001b[0m \u001b[0mCompletionResponseGen\u001b[0m\u001b[0;34m:\u001b[0m\u001b[0;34m\u001b[0m\u001b[0;34m\u001b[0m\u001b[0m\n\u001b[1;32m    409\u001b[0m             \u001b[0mtext\u001b[0m \u001b[0;34m=\u001b[0m \u001b[0;34m\"\"\u001b[0m\u001b[0;34m\u001b[0m\u001b[0;34m\u001b[0m\u001b[0m\n\u001b[0;32m--> 410\u001b[0;31m             \u001b[0;32mfor\u001b[0m \u001b[0mx\u001b[0m \u001b[0;32min\u001b[0m \u001b[0mstreamer\u001b[0m\u001b[0;34m:\u001b[0m\u001b[0;34m\u001b[0m\u001b[0;34m\u001b[0m\u001b[0m\n\u001b[0m\u001b[1;32m    411\u001b[0m                 \u001b[0mtext\u001b[0m \u001b[0;34m+=\u001b[0m \u001b[0mx\u001b[0m\u001b[0;34m\u001b[0m\u001b[0;34m\u001b[0m\u001b[0m\n\u001b[1;32m    412\u001b[0m                 \u001b[0;32myield\u001b[0m \u001b[0mCompletionResponse\u001b[0m\u001b[0;34m(\u001b[0m\u001b[0mtext\u001b[0m\u001b[0;34m=\u001b[0m\u001b[0mtext\u001b[0m\u001b[0;34m,\u001b[0m \u001b[0mdelta\u001b[0m\u001b[0;34m=\u001b[0m\u001b[0mx\u001b[0m\u001b[0;34m)\u001b[0m\u001b[0;34m\u001b[0m\u001b[0;34m\u001b[0m\u001b[0m\n",
      "\u001b[0;32m/opt/conda/lib/python3.9/site-packages/transformers/generation/streamers.py\u001b[0m in \u001b[0;36m__next__\u001b[0;34m(self)\u001b[0m\n\u001b[1;32m    221\u001b[0m \u001b[0;34m\u001b[0m\u001b[0m\n\u001b[1;32m    222\u001b[0m     \u001b[0;32mdef\u001b[0m \u001b[0m__next__\u001b[0m\u001b[0;34m(\u001b[0m\u001b[0mself\u001b[0m\u001b[0;34m)\u001b[0m\u001b[0;34m:\u001b[0m\u001b[0;34m\u001b[0m\u001b[0;34m\u001b[0m\u001b[0m\n\u001b[0;32m--> 223\u001b[0;31m         \u001b[0mvalue\u001b[0m \u001b[0;34m=\u001b[0m \u001b[0mself\u001b[0m\u001b[0;34m.\u001b[0m\u001b[0mtext_queue\u001b[0m\u001b[0;34m.\u001b[0m\u001b[0mget\u001b[0m\u001b[0;34m(\u001b[0m\u001b[0mtimeout\u001b[0m\u001b[0;34m=\u001b[0m\u001b[0mself\u001b[0m\u001b[0;34m.\u001b[0m\u001b[0mtimeout\u001b[0m\u001b[0;34m)\u001b[0m\u001b[0;34m\u001b[0m\u001b[0;34m\u001b[0m\u001b[0m\n\u001b[0m\u001b[1;32m    224\u001b[0m         \u001b[0;32mif\u001b[0m \u001b[0mvalue\u001b[0m \u001b[0;34m==\u001b[0m \u001b[0mself\u001b[0m\u001b[0;34m.\u001b[0m\u001b[0mstop_signal\u001b[0m\u001b[0;34m:\u001b[0m\u001b[0;34m\u001b[0m\u001b[0;34m\u001b[0m\u001b[0m\n\u001b[1;32m    225\u001b[0m             \u001b[0;32mraise\u001b[0m \u001b[0mStopIteration\u001b[0m\u001b[0;34m(\u001b[0m\u001b[0;34m)\u001b[0m\u001b[0;34m\u001b[0m\u001b[0;34m\u001b[0m\u001b[0m\n",
      "\u001b[0;32m/opt/conda/lib/python3.9/queue.py\u001b[0m in \u001b[0;36mget\u001b[0;34m(self, block, timeout)\u001b[0m\n\u001b[1;32m    169\u001b[0m             \u001b[0;32melif\u001b[0m \u001b[0mtimeout\u001b[0m \u001b[0;32mis\u001b[0m \u001b[0;32mNone\u001b[0m\u001b[0;34m:\u001b[0m\u001b[0;34m\u001b[0m\u001b[0;34m\u001b[0m\u001b[0m\n\u001b[1;32m    170\u001b[0m                 \u001b[0;32mwhile\u001b[0m \u001b[0;32mnot\u001b[0m \u001b[0mself\u001b[0m\u001b[0;34m.\u001b[0m\u001b[0m_qsize\u001b[0m\u001b[0;34m(\u001b[0m\u001b[0;34m)\u001b[0m\u001b[0;34m:\u001b[0m\u001b[0;34m\u001b[0m\u001b[0;34m\u001b[0m\u001b[0m\n\u001b[0;32m--> 171\u001b[0;31m                     \u001b[0mself\u001b[0m\u001b[0;34m.\u001b[0m\u001b[0mnot_empty\u001b[0m\u001b[0;34m.\u001b[0m\u001b[0mwait\u001b[0m\u001b[0;34m(\u001b[0m\u001b[0;34m)\u001b[0m\u001b[0;34m\u001b[0m\u001b[0;34m\u001b[0m\u001b[0m\n\u001b[0m\u001b[1;32m    172\u001b[0m             \u001b[0;32melif\u001b[0m \u001b[0mtimeout\u001b[0m \u001b[0;34m<\u001b[0m \u001b[0;36m0\u001b[0m\u001b[0;34m:\u001b[0m\u001b[0;34m\u001b[0m\u001b[0;34m\u001b[0m\u001b[0m\n\u001b[1;32m    173\u001b[0m                 \u001b[0;32mraise\u001b[0m \u001b[0mValueError\u001b[0m\u001b[0;34m(\u001b[0m\u001b[0;34m\"'timeout' must be a non-negative number\"\u001b[0m\u001b[0;34m)\u001b[0m\u001b[0;34m\u001b[0m\u001b[0;34m\u001b[0m\u001b[0m\n",
      "\u001b[0;32m/opt/conda/lib/python3.9/threading.py\u001b[0m in \u001b[0;36mwait\u001b[0;34m(self, timeout)\u001b[0m\n\u001b[1;32m    310\u001b[0m         \u001b[0;32mtry\u001b[0m\u001b[0;34m:\u001b[0m    \u001b[0;31m# restore state no matter what (e.g., KeyboardInterrupt)\u001b[0m\u001b[0;34m\u001b[0m\u001b[0;34m\u001b[0m\u001b[0m\n\u001b[1;32m    311\u001b[0m             \u001b[0;32mif\u001b[0m \u001b[0mtimeout\u001b[0m \u001b[0;32mis\u001b[0m \u001b[0;32mNone\u001b[0m\u001b[0;34m:\u001b[0m\u001b[0;34m\u001b[0m\u001b[0;34m\u001b[0m\u001b[0m\n\u001b[0;32m--> 312\u001b[0;31m                 \u001b[0mwaiter\u001b[0m\u001b[0;34m.\u001b[0m\u001b[0macquire\u001b[0m\u001b[0;34m(\u001b[0m\u001b[0;34m)\u001b[0m\u001b[0;34m\u001b[0m\u001b[0;34m\u001b[0m\u001b[0m\n\u001b[0m\u001b[1;32m    313\u001b[0m                 \u001b[0mgotit\u001b[0m \u001b[0;34m=\u001b[0m \u001b[0;32mTrue\u001b[0m\u001b[0;34m\u001b[0m\u001b[0;34m\u001b[0m\u001b[0m\n\u001b[1;32m    314\u001b[0m             \u001b[0;32melse\u001b[0m\u001b[0;34m:\u001b[0m\u001b[0;34m\u001b[0m\u001b[0;34m\u001b[0m\u001b[0m\n",
      "\u001b[0;31mKeyboardInterrupt\u001b[0m: "
     ]
    }
   ],
   "source": [
    "stocks = yf_query_engine.query(\"Based on the ingested articles, return the best stocks to invest in and give reasons why.\")\n",
    "stocks.print_response_stream()"
   ]
  },
  {
   "cell_type": "code",
   "execution_count": 78,
   "id": "a35451de",
   "metadata": {},
   "outputs": [
    {
     "name": "stdout",
     "output_type": "stream",
     "text": [
      "Based on the information provided in the articles, here are five stocks that could be considered as potential investments:\n",
      "\n",
      "1. Vertex Pharmaceuticals (NASDAQ: VRTX): Vertex has a strong track record of developing and commercializing innovative drugs for rare and underserved diseases, such as cystic fibrosis. The company's pipeline is also promising, with multiple new product launches planned before the end of the decade. Its strong balance sheet and market leadership in cystic fibrosis therapies provide a solid foundation for long-term growth.\n",
      "2. Bristol Myers Squibb (NYSE: BMY): Bristol Myers has a diversified portfolio of pharmaceutical products, including cancer drugs, and is investing in new medicines with potential blockbuster status. The company's recent patent cliffs are a concern, but it has a plan to address these issues and is developing a subcutaneous version of its Opdivo drug to expand its indications. Bristol Myers' dividend program is also attractive, with a forward yield of 5.46%.\n",
      "3. Pfizer (NYSE: PFE): While Pfizer's top line is currently declining due to the pandemic, the company's investment in COVID-19 products has paid off, and it has launched several new products in recent years. Pfizer's pipeline is also promising, with multiple potential blockbusters in development. The company's strong balance sheet and history of acquisitions and investments provide a solid foundation for long-term growth.\n",
      "4. e.l.f. Beauty (NYSE: ELF): e.l.f. Beauty has evolved from an online-only business to a cosmetics and skincare company with a strong focus on affordable, high-quality products. The company has a promising pipeline of new products and has demonstrated its ability to expand its market share through acquisitions and investments. Its strong balance sheet and history of profitability provide a solid foundation for long-term growth.\n",
      "5. Vertex Pharmaceuticals (NASDAQ: VRTX): Vertex has a strong track record of developing and commercializing innovative drugs for rare and underserved diseases, such as cystic fibrosis. The company's pipeline is also promising, with multiple new product launches planned before the end of the decade. Its strong balance sheet and market leadership in cystic fibrosis therapies provide a solid foundation for long-term growth.\n",
      "\n",
      "Reasons for investing in these stocks include:\n",
      "\n",
      "* Strong track records of innovation and commercialization in their respective industries\n",
      "* Promising pipelines with multiple potential blockbusters in development\n",
      "* Solid balance sheets and histories of profitability\n",
      "* Growing markets and increasing demand for their products and services\n",
      "* Ability to expand their market share through acquisitions and investments."
     ]
    }
   ],
   "source": [
    "response_2 = yf_query_engine.query(\"Based on the ingested articles, return the 5 best stocks to invest in and give reasons why.\")\n",
    "response_2.print_response_stream()"
   ]
  },
  {
   "cell_type": "code",
   "execution_count": 79,
   "id": "510ebacb",
   "metadata": {},
   "outputs": [
    {
     "name": "stdout",
     "output_type": "stream",
     "text": [
      "Based on the articles provided, here are three stocks that could potentially diversify a portfolio and provide good returns:\n",
      "\n",
      "1. CRISPR Therapeutics (CRSP): This biotechnology company is at the forefront of gene editing and has the potential to revolutionize the treatment of various diseases. According to The Motley Fool's Stock Advisor analyst team, CRISPR Therapeutics could produce monster returns in the coming years.\n",
      "2. Ulta Beauty (ULTA): As a leading beauty retailer, Ulta Beauty has a strong track record of growth and has been identified as a top stock for investors to buy now. The company has a diverse portfolio of brands and offers a wide range of products, making it well-positioned for continued success.\n",
      "3. e.l.f. Beauty (ELF): This cosmetics company has a strong presence in the growing e-commerce market and has been identified as a top stock for investors looking to diversify their portfolio. e.l.f. Beauty has a strong brand and has been successful in expanding its product line and increasing its online sales.\n",
      "\n",
      "It's important to note that these are just a few examples of stocks that could potentially diversify a portfolio and provide good returns. It's always important to conduct thorough research and consider your personal investment goals and risk tolerance before making any investment decisions."
     ]
    }
   ],
   "source": [
    "response_3 = yf_query_engine.query(\"Based on the ingested articles, return a set of stocks that would best diversify a portfolio with the best returns.\")\n",
    "response_3.print_response_stream()"
   ]
  },
  {
   "cell_type": "code",
   "execution_count": 90,
   "id": "e3de7168",
   "metadata": {},
   "outputs": [
    {
     "name": "stdout",
     "output_type": "stream",
     "text": [
      "Based on the provided context information, the following financial securities are mentioned positively across the articles:\n",
      "\n",
      "1. Stock: NVIDIA (NVDA) - Industry: Technology\n",
      "2. Stock: Advanced Micro Devices (AMD) - Industry: Technology\n",
      "3. Stock: Micron Technology (MU) - Industry: Technology\n",
      "4. ETF: iShares Semiconductor ETF (SOXX) - Industry: Technology\n",
      "5. Stock: Qualcomm (QCOM) - Industry: Technology\n",
      "6. Stock: Intel (INTC) - Industry: Technology\n",
      "7. Stock: Taiwan Semiconductor Manufacturing (TSM) - Industry: Technology\n",
      "8. Stock: Broadcom (AVGO) - Industry: Technology\n",
      "9. Stock: Intel (INTC) - Industry: Technology\n",
      "10. ETF: Vanguard S&P 500 ETF (VOO) - Industry: Finance\n",
      "\n",
      "These securities are from different industries, making up a diversified portfolio. Note that the performance of these securities is not guaranteed, and it's essential to conduct thorough research and consult with a financial advisor before making any investment decisions."
     ]
    }
   ],
   "source": [
    "new_prompt = \"Return the financial securities that are most mentioned across the articles in a positive sentiment.\" + \\\n",
    "\"The securities returned can be stocks or ETFs. Ensure that the securities returned are of different industries \" + \\\n",
    "\"that can be put together to make a diversified portfolio. List the stock and the industry associated with it\" + \\\n",
    "\"and double check that a majority of the industries aren't the same.\"\n",
    "\n",
    "response_3 = yf_query_engine.query(new_prompt)\n",
    "response_3.print_response_stream()"
   ]
  },
  {
   "cell_type": "code",
   "execution_count": 100,
   "id": "feb2bb72",
   "metadata": {},
   "outputs": [
    {
     "name": "stdout",
     "output_type": "stream",
     "text": [
      "Based on the provided articles, the following are the financial securities that are most mentioned in a positive sentiment:\n",
      "\n",
      "1. Nvidia (NVDA) - Technology\n",
      "2. Advanced Micro Devices (AMD) - Technology\n",
      "3. Intel (INTC) - Technology\n",
      "4. Micron Technology (MU) - Technology\n",
      "5. Qualcomm (QCOM) - Technology\n",
      "6. Broadcom (AVGO) - Technology\n",
      "7. Texas Instruments (TXN) - Technology\n",
      "8. Vanguard S&P 500 ETF (VOO) - Finance\n",
      "9. iShares Trust - iShares Semiconductor ETF (SOXX) - Technology\n",
      "10. SPDR S&P 500 ETF Trust (SPY) - Finance\n",
      "11. iShares Trust - iShares NASDAQ Biotechnology ETF (IBB) - Healthcare\n",
      "12. iShares Trust - iShares MSCI ACWI ETF (ACWI) - Finance\n",
      "\n",
      "Note: The industries listed are based on the classification of the securities by the articles and may not align with their exact industry classification.\n",
      "\n",
      "This list includes a mix of technology, healthcare, and finance sectors, which can be used to create a diversified portfolio. It's important to note that investing in a single security or industry can be risky, and it's always recommended to diversify your portfolio by investing in a mix of sectors and industries."
     ]
    }
   ],
   "source": [
    "new_prompt = \"Gather the financial securities that are most mentioned across the articles in a positive sentiment.\" + \\\n",
    "\"The securities gathered can be stocks or ETFs. Return a list of 12 securities in which no more than half of the \" + \\\n",
    "\"securities are from the same industry. Create this list so that they \" + \\\n",
    "\"can be put together to make a diversified portfolio. List the stock and the industry associated with it\" + \\\n",
    "\"and double check that a majority of the industries aren't the same.\"\n",
    "\n",
    "response_3 = yf_query_engine.query(new_prompt)\n",
    "response_3.print_response_stream()"
   ]
  },
  {
   "cell_type": "code",
   "execution_count": 101,
   "id": "a60013f0",
   "metadata": {},
   "outputs": [
    {
     "data": {
      "text/plain": [
       "\"Based on the provided articles, the following are the financial securities that are most mentioned in a positive sentiment:\\n\\n1. Nvidia (NVDA) - Technology\\n2. Advanced Micro Devices (AMD) - Technology\\n3. Intel (INTC) - Technology\\n4. Micron Technology (MU) - Technology\\n5. Qualcomm (QCOM) - Technology\\n6. Broadcom (AVGO) - Technology\\n7. Texas Instruments (TXN) - Technology\\n8. Vanguard S&P 500 ETF (VOO) - Finance\\n9. iShares Trust - iShares Semiconductor ETF (SOXX) - Technology\\n10. SPDR S&P 500 ETF Trust (SPY) - Finance\\n11. iShares Trust - iShares NASDAQ Biotechnology ETF (IBB) - Healthcare\\n12. iShares Trust - iShares MSCI ACWI ETF (ACWI) - Finance\\n\\nNote: The industries listed are based on the classification of the securities by the articles and may not align with their exact industry classification.\\n\\nThis list includes a mix of technology, healthcare, and finance sectors, which can be used to create a diversified portfolio. It's important to note that investing in a single security or industry can be risky, and it's always recommended to diversify your portfolio by investing in a mix of sectors and industries.\""
      ]
     },
     "execution_count": 101,
     "metadata": {},
     "output_type": "execute_result"
    }
   ],
   "source": [
    "response_3.response_txt"
   ]
  },
  {
   "cell_type": "code",
   "execution_count": 124,
   "id": "36b5d979",
   "metadata": {},
   "outputs": [
    {
     "name": "stdout",
     "output_type": "stream",
     "text": [
      "Based on the provided articles, the following are the financial securities that are most mentioned in a positive sentiment:\n",
      "\n",
      "1. Vanguard S&P 500 ETF (VOO) - Industry: Financials\n",
      "2. iShares Trust - iShares Semiconductor ETF (SOXX) - Industry: Technology\n",
      "3. SPDR S&P 500 ETF Trust (SPY) - Industry: Financials\n",
      "4. Micron Technology, Inc. (MU) - Industry: Technology\n",
      "5. Nvidia Corporation (NVDA) - Industry: Technology\n",
      "6. Qualcomm Incorporated (QCOM) - Industry: Technology\n",
      "7. Taiwan Semiconductor Manufacturing Company Limited (TSM) - Industry: Technology\n",
      "8. Advanced Micro Devices, Inc. (AMD) - Industry: Technology\n",
      "9. Intel Corporation (INTC) - Industry: Technology\n",
      "10. Broadcom Inc. (AVGO) - Industry: Technology\n",
      "11. Cisco Systems, Inc. (CSCO) - Industry: Technology\n",
      "12. Procter & Gamble Company (PG) - Industry: Consumer Goods\n",
      "\n",
      "Notes:\n",
      "\n",
      "* No more than half of the securities are from the same industry.\n",
      "* The securities are tailored to a very risk-averse investor who is more focused on stability instead of rapid growth.\n",
      "* The list of securities can be used to create a diversified portfolio.\n",
      "\n",
      "It's important to note that this list is based on the information provided in the articles and may not reflect the current market conditions or the overall investment landscape. It's always recommended to consult with a financial advisor or conduct thorough research before making any investment decisions."
     ]
    }
   ],
   "source": [
    "new_prompt_risk_averse = \"Gather the financial securities that are most mentioned across the articles in a positive sentiment.\" + \\\n",
    "\"The securities gathered can be stocks or ETFs. Return a list of 12 securities in which no more than half of the \" + \\\n",
    "\"securities are from the same industry. This list of securities should also be tailored to a very risk averse investor who \" + \\\n",
    "\"is more focused on stability instead of rapid growth. \" + \\\n",
    "\"Create this list so that they \" + \\\n",
    "\"can be put together to make a diversified portfolio. List the stock and the industry associated with it\" + \\\n",
    "\"and double check that a majority of the industries aren't the same.\"\n",
    "\n",
    "response_risk= yf_query_engine.query(new_prompt_risk_averse)\n",
    "response_risk.print_response_stream()"
   ]
  },
  {
   "cell_type": "code",
   "execution_count": 122,
   "id": "e431b466",
   "metadata": {},
   "outputs": [
    {
     "name": "stdout",
     "output_type": "stream",
     "text": [
      "['response_synthesizer:text_qa_template', 'response_synthesizer:refine_template']\n"
     ]
    }
   ],
   "source": [
    "prompts_dict = yf_query_engine.get_prompts()\n",
    "print(list(prompts_dict.keys()))"
   ]
  },
  {
   "cell_type": "code",
   "execution_count": 108,
   "id": "4a5f5028",
   "metadata": {},
   "outputs": [],
   "source": [
    "import re\n",
    "\n",
    "pattern = r'\\(([^)]+)\\)'\n",
    "matches = re.findall(pattern, response_3.response_txt)"
   ]
  },
  {
   "cell_type": "code",
   "execution_count": 109,
   "id": "07b58e1f",
   "metadata": {},
   "outputs": [
    {
     "data": {
      "text/plain": [
       "['NVDA',\n",
       " 'AMD',\n",
       " 'INTC',\n",
       " 'MU',\n",
       " 'QCOM',\n",
       " 'AVGO',\n",
       " 'TXN',\n",
       " 'VOO',\n",
       " 'SOXX',\n",
       " 'SPY',\n",
       " 'IBB',\n",
       " 'ACWI']"
      ]
     },
     "execution_count": 109,
     "metadata": {},
     "output_type": "execute_result"
    }
   ],
   "source": [
    "matches"
   ]
  },
  {
   "cell_type": "code",
   "execution_count": 117,
   "id": "00f72f29",
   "metadata": {},
   "outputs": [],
   "source": [
    "from llama_index.core import PromptTemplate\n",
    "\n",
    "text_qa_template_str = (\n",
    "    \"Context information is\"\n",
    "    \" below.\\n---------------------\\n{context_str}\\n---------------------\\nUsing\"\n",
    "    \" both the context information and also using your own knowledge, answer\"\n",
    "    \" the question: {query_str}\\nIf the context isn't helpful, you can also\"\n",
    "    \" answer the question on your own.\\n\"\n",
    ")\n",
    "text_qa_template = PromptTemplate(text_qa_template_str)\n",
    "\n",
    "refine_template_str = (\n",
    "    \"The original question is as follows: {query_str}\\nWe have provided an\"\n",
    "    \" existing answer: {existing_answer}\\nWe have the opportunity to refine\"\n",
    "    \" the existing answer (only if needed) with some more context\"\n",
    "    \" below.\\n------------\\n{context_msg}\\n------------\\nUsing both the new\"\n",
    "    \" context and your own knowledge, update or repeat the existing answer.\\n\"\n",
    ")\n",
    "refine_template = PromptTemplate(refine_template_str)"
   ]
  },
  {
   "cell_type": "code",
   "execution_count": 111,
   "id": "a211e700",
   "metadata": {},
   "outputs": [],
   "source": [
    "text_qa_template_str = (\n",
    "    \"Context information is\"\n",
    "    \" below.\\n---------------------\\n{context_str}\\n---------------------\\nUsing\"\n",
    "    \" both the context information and also using your own knowledge, answer\"\n",
    "    \" the question: {query_str}\\nIf the context isn't helpful, you can also\"\n",
    "    \" answer the question on your own.\\n\"\n",
    ")"
   ]
  },
  {
   "cell_type": "code",
   "execution_count": 116,
   "id": "d00c20d6",
   "metadata": {},
   "outputs": [
    {
     "name": "stdout",
     "output_type": "stream",
     "text": [
      "Context information is below.\n",
      "---------------------\n",
      "{context_str}\n",
      "---------------------\n",
      "Using both the context information and also using your own knowledge, answer the question: {query_str}\n",
      "If the context isn't helpful, you can also answer the question on your own.\n",
      "\n"
     ]
    }
   ],
   "source": [
    "print(text_qa_template_str)"
   ]
  },
  {
   "cell_type": "code",
   "execution_count": 120,
   "id": "4ec01d01",
   "metadata": {},
   "outputs": [],
   "source": [
    "# should test adding system prompt and incorporating user preferences like risk aversion and industry preferences"
   ]
  },
  {
   "cell_type": "code",
   "execution_count": null,
   "id": "08fee3f9",
   "metadata": {},
   "outputs": [],
   "source": []
  }
 ],
 "metadata": {
  "kernelspec": {
   "display_name": "Python 3 (ipykernel)",
   "language": "python",
   "name": "python3"
  },
  "language_info": {
   "codemirror_mode": {
    "name": "ipython",
    "version": 3
   },
   "file_extension": ".py",
   "mimetype": "text/x-python",
   "name": "python",
   "nbconvert_exporter": "python",
   "pygments_lexer": "ipython3",
   "version": "3.9.5"
  }
 },
 "nbformat": 4,
 "nbformat_minor": 5
}
