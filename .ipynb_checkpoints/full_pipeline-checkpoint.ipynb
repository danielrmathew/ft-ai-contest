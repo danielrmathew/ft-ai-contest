{
 "cells": [
  {
   "cell_type": "code",
   "execution_count": 1,
   "id": "06c0cc80",
   "metadata": {
    "scrolled": true
   },
   "outputs": [
    {
     "ename": "ModuleNotFoundError",
     "evalue": "No module named 'dual_dcf_model_main'",
     "output_type": "error",
     "traceback": [
      "\u001b[0;31m---------------------------------------------------------------------------\u001b[0m",
      "\u001b[0;31mModuleNotFoundError\u001b[0m                       Traceback (most recent call last)",
      "\u001b[0;32m/tmp/ipykernel_2047/1743853526.py\u001b[0m in \u001b[0;36m<module>\u001b[0;34m\u001b[0m\n\u001b[0;32m----> 1\u001b[0;31m \u001b[0;32mfrom\u001b[0m \u001b[0mdual_dcf_model_main\u001b[0m \u001b[0;32mimport\u001b[0m \u001b[0mportfolio_dist\u001b[0m\u001b[0;34m\u001b[0m\u001b[0;34m\u001b[0m\u001b[0m\n\u001b[0m",
      "\u001b[0;31mModuleNotFoundError\u001b[0m: No module named 'dual_dcf_model_main'"
     ]
    }
   ],
   "source": [
    "from dual_dcf_model_main import portfolio_dist"
   ]
  },
  {
   "cell_type": "code",
   "execution_count": null,
   "id": "ba387662",
   "metadata": {},
   "outputs": [],
   "source": [
    "from stock_forecast_main import stock_options_weights"
   ]
  },
  {
   "cell_type": "code",
   "execution_count": null,
   "id": "4c6bc5cf",
   "metadata": {},
   "outputs": [],
   "source": [
    "from llm_pipeline_main import get_llm, get_stocks"
   ]
  },
  {
   "cell_type": "code",
   "execution_count": null,
   "id": "643d78a3",
   "metadata": {},
   "outputs": [],
   "source": [
    "LLAMA2_7B_CHAT = \"meta-llama/Llama-2-7b-chat-hf\"\n",
    "selected_model = LLAMA2_7B_CHAT"
   ]
  },
  {
   "cell_type": "code",
   "execution_count": null,
   "id": "f3d14130",
   "metadata": {},
   "outputs": [],
   "source": [
    "risk_options = [\"conservative\", \"moderate\", \"aggressive\"]\n",
    "industry_options = [\"Energy\", \"Materials\", \"Industrials\", \"Utilities\", \"Healthcare\", \"Financials\", \"Consumer Discretionary\",\n",
    "                    \"Consumer Staples\", \"Technology\", \"Communication Services\", \"Real Estate\"]\n",
    "return_goals = []\n",
    "user_prefs = {\n",
    "    \"num_stocks\": None, \n",
    "    \"risk\": None, \n",
    "    \"industries\": None, \n",
    "    \"return_goals\": None\n",
    "}"
   ]
  },
  {
   "cell_type": "code",
   "execution_count": null,
   "id": "42e39d56",
   "metadata": {},
   "outputs": [],
   "source": [
    "user_prefs = {\"num_stocks\": 10, \"risk\": \"conservative\", \"industries\": None, \"return_goals\": None}"
   ]
  },
  {
   "cell_type": "code",
   "execution_count": null,
   "id": "8dca625c",
   "metadata": {},
   "outputs": [],
   "source": [
    "llm = get_llm(selected_model)\n",
    "stocks = get_stocks(llm, user_prefs)"
   ]
  },
  {
   "cell_type": "code",
   "execution_count": null,
   "id": "62c5296a",
   "metadata": {},
   "outputs": [],
   "source": [
    "start = '2020-01-01'\n",
    "end = '2024-01-01'\n",
    "days_to_predict = 92\n",
    "stock_prediction = stock_options_weights(stocks, start, end, days_to_predict)"
   ]
  },
  {
   "cell_type": "code",
   "execution_count": null,
   "id": "9ad70b4a",
   "metadata": {},
   "outputs": [],
   "source": [
    "stock_prediction"
   ]
  },
  {
   "cell_type": "code",
   "execution_count": null,
   "id": "8ce131c6",
   "metadata": {},
   "outputs": [],
   "source": [
    "stock_recs, stock_weights = portfolio_dist(stocks, user_prefs[\"risk\"])"
   ]
  },
  {
   "cell_type": "code",
   "execution_count": null,
   "id": "f835544a",
   "metadata": {},
   "outputs": [],
   "source": []
  }
 ],
 "metadata": {
  "kernelspec": {
   "display_name": "Python 3 (ipykernel)",
   "language": "python",
   "name": "python3"
  },
  "language_info": {
   "codemirror_mode": {
    "name": "ipython",
    "version": 3
   },
   "file_extension": ".py",
   "mimetype": "text/x-python",
   "name": "python",
   "nbconvert_exporter": "python",
   "pygments_lexer": "ipython3",
   "version": "3.9.5"
  }
 },
 "nbformat": 4,
 "nbformat_minor": 5
}
