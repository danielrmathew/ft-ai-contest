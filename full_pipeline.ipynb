{
 "cells": [
  {
   "cell_type": "code",
   "execution_count": 1,
   "id": "5c2d2ac5",
   "metadata": {},
   "outputs": [],
   "source": [
    "from components.modules.dual_dcf_model_main import portfolio_dist "
   ]
  },
  {
   "cell_type": "code",
   "execution_count": 2,
   "id": "ba387662",
   "metadata": {},
   "outputs": [],
   "source": [
    "from components.modules.stock_forecast_main import stock_options_weights"
   ]
  },
  {
   "cell_type": "code",
   "execution_count": 3,
   "id": "4c6bc5cf",
   "metadata": {},
   "outputs": [
    {
     "name": "stderr",
     "output_type": "stream",
     "text": [
      "/home/drmathew/.local/lib/python3.9/site-packages/pydantic/_internal/_fields.py:160: UserWarning: Field \"model_id\" has conflict with protected namespace \"model_\".\n",
      "\n",
      "You may be able to resolve this warning by setting `model_config['protected_namespaces'] = ()`.\n",
      "  warnings.warn(\n"
     ]
    }
   ],
   "source": [
    "from components.modules.llm_pipeline_main import get_llm, get_stocks, create_documents"
   ]
  },
  {
   "cell_type": "code",
   "execution_count": null,
   "id": "643d78a3",
   "metadata": {},
   "outputs": [],
   "source": [
    "LLAMA2_7B_CHAT = \"meta-llama/Llama-2-7b-chat-hf\"\n",
    "selected_model = LLAMA2_7B_CHAT"
   ]
  },
  {
   "cell_type": "code",
   "execution_count": null,
   "id": "f2d9d00b",
   "metadata": {},
   "outputs": [],
   "source": [
    "risk_options = [\"conservative\", \"moderate\", \"aggressive\"]\n",
    "industry_options = [\"Energy\", \"Materials\", \"Industrials\", \"Utilities\", \"Healthcare\", \"Financials\", \"Consumer Discretionary\",\n",
    "                    \"Consumer Staples\", \"Technology\", \"Communication Services\", \"Real Estate\"]\n",
    "return_goals = []\n",
    "user_prefs = {\n",
    "    \"num_stocks\": None, \n",
    "    \"risk\": None, \n",
    "    \"industries\": None, \n",
    "    \"return_goals\": None\n",
    "}"
   ]
  },
  {
   "cell_type": "code",
   "execution_count": null,
   "id": "42e39d56",
   "metadata": {},
   "outputs": [],
   "source": [
    "user_prefs = {\"num_stocks\": 10, \"risk\": \"conservative\", \"industries\": None, \"return_goals\": None}"
   ]
  },
  {
   "cell_type": "code",
   "execution_count": null,
   "id": "8dca625c",
   "metadata": {},
   "outputs": [],
   "source": [
    "llm = get_llm(selected_model)\n",
    "stocks = get_stocks(llm, user_prefs)"
   ]
  },
  {
   "cell_type": "code",
   "execution_count": null,
   "id": "62c5296a",
   "metadata": {},
   "outputs": [],
   "source": [
    "start = '2020-01-01'\n",
    "end = '2024-01-01'\n",
    "days_to_predict = 92\n",
    "stock_prediction = stock_options_weights(stocks, start, end, days_to_predict)"
   ]
  },
  {
   "cell_type": "code",
   "execution_count": null,
   "id": "9ad70b4a",
   "metadata": {},
   "outputs": [],
   "source": [
    "stock_prediction"
   ]
  },
  {
   "cell_type": "code",
   "execution_count": null,
   "id": "8ce131c6",
   "metadata": {},
   "outputs": [],
   "source": [
    "stock_recs, stock_weights = portfolio_dist(stocks, user_prefs[\"risk\"])"
   ]
  }
 ],
 "metadata": {
  "kernelspec": {
   "display_name": "Python 3 (ipykernel)",
   "language": "python",
   "name": "python3"
  },
  "language_info": {
   "codemirror_mode": {
    "name": "ipython",
    "version": 3
   },
   "file_extension": ".py",
   "mimetype": "text/x-python",
   "name": "python",
   "nbconvert_exporter": "python",
   "pygments_lexer": "ipython3",
   "version": "3.9.5"
  }
 },
 "nbformat": 4,
 "nbformat_minor": 5
}
