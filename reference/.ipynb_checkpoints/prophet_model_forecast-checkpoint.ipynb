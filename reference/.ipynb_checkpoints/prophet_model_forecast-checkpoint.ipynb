{
 "cells": [
  {
   "cell_type": "code",
   "execution_count": 1,
   "id": "b49da47d",
   "metadata": {},
   "outputs": [],
   "source": [
    "# !pip install prophet"
   ]
  },
  {
   "cell_type": "code",
   "execution_count": 92,
   "id": "e8ab8c3f",
   "metadata": {},
   "outputs": [],
   "source": [
    "import yfinance as yf\n",
    "import pandas as pd\n",
    "import matplotlib.pyplot as plt\n",
    "import numpy as np\n",
    "from datetime import datetime, timedelta\n",
    "\n",
    "from prophet import Prophet\n",
    "from prophet.diagnostics import cross_validation, performance_metrics\n",
    "from sklearn.model_selection import ParameterGrid\n"
   ]
  },
  {
   "cell_type": "code",
   "execution_count": 86,
   "id": "2303f34f",
   "metadata": {},
   "outputs": [],
   "source": [
    "def fetch_stock_data(symbol, start_date, end_date):\n",
    "    \"\"\"\n",
    "    Fetches historical stock prices for a given symbol from start_date to end_date.\n",
    "    Dates are exclusive\n",
    "    \n",
    "    :param symbol: str, stock symbol\n",
    "    :param start_date: str, start date (YYYY-MM-DD format)\n",
    "    :param end_date: str, end date (YYYY-MM-DD format)\n",
    "    :return: DataFrame with historical stock data\n",
    "    \"\"\"\n",
    "    stock = yf.Ticker(symbol)\n",
    "    data = stock.history(start=start_date, end=end_date)\n",
    "    data.reset_index(inplace=True) \n",
    "    data['ds'] = data['Date'].dt.tz_localize(None)\n",
    "    data.rename(columns={'Close': 'y'}, inplace=True)\n",
    "    data = data[['ds', 'y']]\n",
    "    data.drop_duplicates(subset=['ds'], inplace=True)\n",
    "    return data\n",
    "\n",
    "\n",
    "def model_param_evaluation(data, params):\n",
    "    model = Prophet(\n",
    "        changepoint_prior_scale=params['changepoint_prior_scale'],\n",
    "        changepoint_range=params['changepoint_range'],\n",
    "        holidays_prior_scale=25,\n",
    "        seasonality_prior_scale=10,\n",
    "        weekly_seasonality=True,\n",
    "        yearly_seasonality=True,\n",
    "        daily_seasonality=False\n",
    "    )\n",
    "    model.add_country_holidays(country_name='US')\n",
    "    model.fit(data)\n",
    "    \n",
    "    # Perform cross-validation\n",
    "    df_cv = cross_validation(model, initial='730 days', period='180 days', horizon = '365 days')\n",
    "    df_p = performance_metrics(df_cv)\n",
    "    return df_p['rmse'].mean()\n",
    "\n",
    "\n",
    "def hyperparameter_tuning(data, param_grid):\n",
    "    grid = ParameterGrid(param_grid)\n",
    "    best_params = None\n",
    "    best_rmse = float('inf')\n",
    "    \n",
    "    for params in grid:\n",
    "        rmse = model_param_evaluation(data, params)\n",
    "#         print(f\"Tested params: {params}, RMSE: {rmse}\")\n",
    "        \n",
    "        if rmse < best_rmse:\n",
    "            best_rmse = rmse\n",
    "            best_params = params\n",
    "    \n",
    "    print(f\"Best parameters: {best_params}, Best RMSE: {best_rmse}\")\n",
    "    return best_params\n",
    "\n",
    "\n",
    "\n",
    "def train_prophet_model(data):\n",
    "    param_grid = {\n",
    "    'changepoint_prior_scale': [0.01, 0.015, 0.020, 0.025],\n",
    "    'changepoint_range': [0.2, 0.4, 0.5, 0.8]\n",
    "\n",
    "    }\n",
    "    \n",
    "    best_params = hyperparameter_tuning(data, param_grid)\n",
    "\n",
    "    model = Prophet(\n",
    "        changepoint_prior_scale=best_params['changepoint_prior_scale'],\n",
    "        changepoint_range=best_params['changepoint_range'],\n",
    "        holidays_prior_scale=25,\n",
    "        seasonality_prior_scale=10,\n",
    "        weekly_seasonality=True,\n",
    "        yearly_seasonality=True,\n",
    "        daily_seasonality=False\n",
    "    )\n",
    "    \n",
    "    model.add_country_holidays(country_name='US')\n",
    "    model.fit(data)\n",
    "    return model\n",
    "\n",
    "def train_prophet_original_model(data):\n",
    "\n",
    "    model = Prophet(\n",
    "        changepoint_prior_scale=0.02,\n",
    "        changepoint_range=0.4,\n",
    "        holidays_prior_scale=25,\n",
    "        seasonality_prior_scale=10,\n",
    "        weekly_seasonality=True,\n",
    "        yearly_seasonality=True,\n",
    "        daily_seasonality=False\n",
    "    )\n",
    "    \n",
    "    model.add_country_holidays(country_name='US')\n",
    "    model.fit(data)\n",
    "    return model    \n",
    "    \n",
    "\n",
    "def gen_stock_forecast(symbol, start_date, end_date, num_days):\n",
    "    # Fetch data\n",
    "    data = fetch_stock_data(symbol, start_date, end_date)\n",
    "\n",
    "    # Train Prophet model\n",
    "    model = train_prophet_model(data)\n",
    "\n",
    "    # Make future dataframe for prediction\n",
    "    future = model.make_future_dataframe(periods=num_days)\n",
    "\n",
    "    # Predict future values\n",
    "    forecast = model.predict(future)\n",
    "    \n",
    "    prev_avg = data.tail(num_days)['y'].mean()\n",
    "    next_avg = forecast['yhat'].mean()\n",
    "    \n",
    "    trend = (prev_avg + next_avg) / 2\n",
    "#     model.plot(forecast.to_numpy())\n",
    "\n",
    "    return model, forecast[['ds', 'yhat', 'yhat_lower', 'yhat_upper']].tail(num_days), forecast, trend\n",
    "\n",
    "def gen_stock_forecast_original(symbol, start_date, end_date, num_days):\n",
    "    # Fetch data\n",
    "    data = fetch_stock_data(symbol, start_date, end_date)\n",
    "\n",
    "    # Train Prophet model\n",
    "    model = train_prophet_original_model(data)\n",
    "\n",
    "    # Make future dataframe for prediction\n",
    "    future = model.make_future_dataframe(periods=num_days)\n",
    "\n",
    "    # Predict future values\n",
    "    forecast = model.predict(future)\n",
    "    \n",
    "    prev_avg = data.tail(num_days)['y'].mean()\n",
    "    next_avg = forecast['yhat'].mean()\n",
    "    \n",
    "    trend = (prev_avg + next_avg) / 2\n",
    "#     model.plot(forecast.to_numpy())\n",
    "\n",
    "    return model, forecast[['ds', 'yhat', 'yhat_lower', 'yhat_upper']].tail(num_days), forecast, trend\n",
    "\n",
    "\n",
    "    "
   ]
  },
  {
   "cell_type": "code",
   "execution_count": 78,
   "id": "276d003a",
   "metadata": {},
   "outputs": [
    {
     "name": "stderr",
     "output_type": "stream",
     "text": [
      "06:18:50 - cmdstanpy - INFO - Chain [1] start processing\n",
      "06:18:50 - cmdstanpy - INFO - Chain [1] done processing\n"
     ]
    },
    {
     "data": {
      "image/png": "[encoded data removed]",
      "text/plain": [
       "<Figure size 720x360 with 1 Axes>"
      ]
     },
     "metadata": {
      "needs_background": "light"
     },
     "output_type": "display_data"
    }
   ],
   "source": [
    "sym = 'AMZN'\n",
    "start = '2020-01-01'\n",
    "end = '2024-01-01'\n",
    "num_days = 92\n",
    "\n",
    "model, amzn_fc, amzn_all, amzn_trend = gen_stock_forecast_original(sym, start, end, num_days)\n",
    "amzn_true = fetch_stock_data('AMZN', '2024-01-01', '2024-05-01')\n",
    "\n",
    "plt.figure(figsize=(10, 5))\n",
    "\n",
    "\n",
    "plt.plot(np.array(amzn_fc['ds']), np.array(amzn_fc['yhat']), label='Forecast', color='blue')\n",
    "plt.plot(np.array(amzn_true['ds']), np.array(amzn_true['y']), label='True Y', color='green')\n",
    "\n",
    "plt.title('Stock Price Forecast')\n",
    "plt.xlabel('Date')\n",
    "plt.ylabel('Price')\n",
    "plt.legend()\n",
    "plt.show()"
   ]
  },
  {
   "cell_type": "code",
   "execution_count": 73,
   "id": "87a54be6",
   "metadata": {},
   "outputs": [
    {
     "name": "stderr",
     "output_type": "stream",
     "text": [
      "06:16:14 - cmdstanpy - INFO - Chain [1] start processing\n",
      "06:16:14 - cmdstanpy - INFO - Chain [1] done processing\n"
     ]
    },
    {
     "data": {
      "application/vnd.jupyter.widget-view+json": {
       "model_id": "e60480bc771741ed947638eedf135159",
       "version_major": 2,
       "version_minor": 0
      },
      "text/plain": [
       "  0%|          | 0/3 [00:00<?, ?it/s]"
      ]
     },
     "metadata": {},
     "output_type": "display_data"
    },
    {
     "name": "stderr",
     "output_type": "stream",
     "text": [
      "06:16:14 - cmdstanpy - INFO - Chain [1] start processing\n",
      "06:16:14 - cmdstanpy - INFO - Chain [1] done processing\n",
      "06:16:14 - cmdstanpy - INFO - Chain [1] start processing\n",
      "06:16:14 - cmdstanpy - INFO - Chain [1] done processing\n",
      "06:16:15 - cmdstanpy - INFO - Chain [1] start processing\n",
      "06:16:15 - cmdstanpy - INFO - Chain [1] done processing\n",
      "06:16:15 - cmdstanpy - INFO - Chain [1] start processing\n",
      "06:16:16 - cmdstanpy - INFO - Chain [1] done processing\n"
     ]
    },
    {
     "data": {
      "application/vnd.jupyter.widget-view+json": {
       "model_id": "57b00ba36aac4c04876b07e974194b65",
       "version_major": 2,
       "version_minor": 0
      },
      "text/plain": [
       "  0%|          | 0/3 [00:00<?, ?it/s]"
      ]
     },
     "metadata": {},
     "output_type": "display_data"
    },
    {
     "name": "stderr",
     "output_type": "stream",
     "text": [
      "06:16:16 - cmdstanpy - INFO - Chain [1] start processing\n",
      "06:16:16 - cmdstanpy - INFO - Chain [1] done processing\n",
      "06:16:16 - cmdstanpy - INFO - Chain [1] start processing\n",
      "06:16:16 - cmdstanpy - INFO - Chain [1] done processing\n",
      "06:16:17 - cmdstanpy - INFO - Chain [1] start processing\n",
      "06:16:17 - cmdstanpy - INFO - Chain [1] done processing\n",
      "06:16:17 - cmdstanpy - INFO - Chain [1] start processing\n",
      "06:16:18 - cmdstanpy - INFO - Chain [1] done processing\n"
     ]
    },
    {
     "data": {
      "application/vnd.jupyter.widget-view+json": {
       "model_id": "ad3f5f170f8c43d7b1c3242055634491",
       "version_major": 2,
       "version_minor": 0
      },
      "text/plain": [
       "  0%|          | 0/3 [00:00<?, ?it/s]"
      ]
     },
     "metadata": {},
     "output_type": "display_data"
    },
    {
     "name": "stderr",
     "output_type": "stream",
     "text": [
      "06:16:18 - cmdstanpy - INFO - Chain [1] start processing\n",
      "06:16:18 - cmdstanpy - INFO - Chain [1] done processing\n",
      "06:16:18 - cmdstanpy - INFO - Chain [1] start processing\n",
      "06:16:18 - cmdstanpy - INFO - Chain [1] done processing\n",
      "06:16:19 - cmdstanpy - INFO - Chain [1] start processing\n",
      "06:16:19 - cmdstanpy - INFO - Chain [1] done processing\n",
      "06:16:19 - cmdstanpy - INFO - Chain [1] start processing\n",
      "06:16:20 - cmdstanpy - INFO - Chain [1] done processing\n"
     ]
    },
    {
     "data": {
      "application/vnd.jupyter.widget-view+json": {
       "model_id": "c524af9c08b643e4936c9e700ad71dc6",
       "version_major": 2,
       "version_minor": 0
      },
      "text/plain": [
       "  0%|          | 0/3 [00:00<?, ?it/s]"
      ]
     },
     "metadata": {},
     "output_type": "display_data"
    },
    {
     "name": "stderr",
     "output_type": "stream",
     "text": [
      "06:16:20 - cmdstanpy - INFO - Chain [1] start processing\n",
      "06:16:20 - cmdstanpy - INFO - Chain [1] done processing\n",
      "06:16:20 - cmdstanpy - INFO - Chain [1] start processing\n",
      "06:16:20 - cmdstanpy - INFO - Chain [1] done processing\n",
      "06:16:21 - cmdstanpy - INFO - Chain [1] start processing\n",
      "06:16:21 - cmdstanpy - INFO - Chain [1] done processing\n",
      "06:16:21 - cmdstanpy - INFO - Chain [1] start processing\n",
      "06:16:21 - cmdstanpy - INFO - Chain [1] done processing\n"
     ]
    },
    {
     "data": {
      "application/vnd.jupyter.widget-view+json": {
       "model_id": "9ab43f827cd0439fa5644e0dae59fba1",
       "version_major": 2,
       "version_minor": 0
      },
      "text/plain": [
       "  0%|          | 0/3 [00:00<?, ?it/s]"
      ]
     },
     "metadata": {},
     "output_type": "display_data"
    },
    {
     "name": "stderr",
     "output_type": "stream",
     "text": [
      "06:16:22 - cmdstanpy - INFO - Chain [1] start processing\n",
      "06:16:22 - cmdstanpy - INFO - Chain [1] done processing\n",
      "06:16:22 - cmdstanpy - INFO - Chain [1] start processing\n",
      "06:16:22 - cmdstanpy - INFO - Chain [1] done processing\n",
      "06:16:23 - cmdstanpy - INFO - Chain [1] start processing\n",
      "06:16:23 - cmdstanpy - INFO - Chain [1] done processing\n",
      "06:16:23 - cmdstanpy - INFO - Chain [1] start processing\n",
      "06:16:23 - cmdstanpy - INFO - Chain [1] done processing\n"
     ]
    },
    {
     "data": {
      "application/vnd.jupyter.widget-view+json": {
       "model_id": "51ce2b38b3f94a509553d25f693d71d5",
       "version_major": 2,
       "version_minor": 0
      },
      "text/plain": [
       "  0%|          | 0/3 [00:00<?, ?it/s]"
      ]
     },
     "metadata": {},
     "output_type": "display_data"
    },
    {
     "name": "stderr",
     "output_type": "stream",
     "text": [
      "06:16:23 - cmdstanpy - INFO - Chain [1] start processing\n",
      "06:16:24 - cmdstanpy - INFO - Chain [1] done processing\n",
      "06:16:24 - cmdstanpy - INFO - Chain [1] start processing\n",
      "06:16:24 - cmdstanpy - INFO - Chain [1] done processing\n",
      "06:16:25 - cmdstanpy - INFO - Chain [1] start processing\n",
      "06:16:25 - cmdstanpy - INFO - Chain [1] done processing\n",
      "06:16:25 - cmdstanpy - INFO - Chain [1] start processing\n",
      "06:16:25 - cmdstanpy - INFO - Chain [1] done processing\n"
     ]
    },
    {
     "data": {
      "application/vnd.jupyter.widget-view+json": {
       "model_id": "1efbac8263bd4e00b7bf2856b227d670",
       "version_major": 2,
       "version_minor": 0
      },
      "text/plain": [
       "  0%|          | 0/3 [00:00<?, ?it/s]"
      ]
     },
     "metadata": {},
     "output_type": "display_data"
    },
    {
     "name": "stderr",
     "output_type": "stream",
     "text": [
      "06:16:25 - cmdstanpy - INFO - Chain [1] start processing\n",
      "06:16:25 - cmdstanpy - INFO - Chain [1] done processing\n",
      "06:16:26 - cmdstanpy - INFO - Chain [1] start processing\n",
      "06:16:26 - cmdstanpy - INFO - Chain [1] done processing\n",
      "06:16:27 - cmdstanpy - INFO - Chain [1] start processing\n",
      "06:16:27 - cmdstanpy - INFO - Chain [1] done processing\n",
      "06:16:27 - cmdstanpy - INFO - Chain [1] start processing\n",
      "06:16:27 - cmdstanpy - INFO - Chain [1] done processing\n"
     ]
    },
    {
     "data": {
      "application/vnd.jupyter.widget-view+json": {
       "model_id": "ea7c1addf1744e72ace046e5f17b85ec",
       "version_major": 2,
       "version_minor": 0
      },
      "text/plain": [
       "  0%|          | 0/3 [00:00<?, ?it/s]"
      ]
     },
     "metadata": {},
     "output_type": "display_data"
    },
    {
     "name": "stderr",
     "output_type": "stream",
     "text": [
      "06:16:27 - cmdstanpy - INFO - Chain [1] start processing\n",
      "06:16:28 - cmdstanpy - INFO - Chain [1] done processing\n",
      "06:16:28 - cmdstanpy - INFO - Chain [1] start processing\n",
      "06:16:28 - cmdstanpy - INFO - Chain [1] done processing\n",
      "06:16:29 - cmdstanpy - INFO - Chain [1] start processing\n",
      "06:16:29 - cmdstanpy - INFO - Chain [1] done processing\n",
      "06:16:29 - cmdstanpy - INFO - Chain [1] start processing\n",
      "06:16:29 - cmdstanpy - INFO - Chain [1] done processing\n"
     ]
    },
    {
     "name": "stdout",
     "output_type": "stream",
     "text": [
      "Best parameters: {'changepoint_prior_scale': 0.02, 'changepoint_range': 0.4}, Best RMSE: 44.49927463519368\n"
     ]
    },
    {
     "data": {
      "image/png": "[encoded data removed]",
      "text/plain": [
       "<Figure size 720x360 with 1 Axes>"
      ]
     },
     "metadata": {
      "needs_background": "light"
     },
     "output_type": "display_data"
    }
   ],
   "source": [
    "sym = 'AMZN'\n",
    "start = '2020-01-01'\n",
    "end = '2024-01-01'\n",
    "num_days = 100\n",
    "\n",
    "model, amzn_fc, amzn_all, amzn_trend = gen_stock_forecast(sym, start, end, num_days)\n",
    "amzn_true = fetch_stock_data('AMZN', '2024-01-01', '2024-05-01')\n",
    "\n",
    "plt.figure(figsize=(10, 5))\n",
    "\n",
    "\n",
    "plt.plot(np.array(amzn_fc['ds']), np.array(amzn_fc['yhat']), label='Forecast', color='blue')\n",
    "plt.plot(np.array(amzn_true['ds']), np.array(amzn_true['y']), label='True Y', color='green')\n",
    "\n",
    "plt.title('Stock Price Forecast')\n",
    "plt.xlabel('Date')\n",
    "plt.ylabel('Price')\n",
    "plt.legend()\n",
    "plt.show()"
   ]
  },
  {
   "cell_type": "code",
   "execution_count": 75,
   "id": "fdf10c83",
   "metadata": {},
   "outputs": [
    {
     "name": "stderr",
     "output_type": "stream",
     "text": [
      "06:17:35 - cmdstanpy - INFO - Chain [1] start processing\n",
      "06:17:36 - cmdstanpy - INFO - Chain [1] done processing\n"
     ]
    },
    {
     "data": {
      "application/vnd.jupyter.widget-view+json": {
       "model_id": "c7a421b765a748eba21c7c0e3a4711f3",
       "version_major": 2,
       "version_minor": 0
      },
      "text/plain": [
       "  0%|          | 0/3 [00:00<?, ?it/s]"
      ]
     },
     "metadata": {},
     "output_type": "display_data"
    },
    {
     "name": "stderr",
     "output_type": "stream",
     "text": [
      "06:17:36 - cmdstanpy - INFO - Chain [1] start processing\n",
      "06:17:36 - cmdstanpy - INFO - Chain [1] done processing\n",
      "06:17:36 - cmdstanpy - INFO - Chain [1] start processing\n",
      "06:17:36 - cmdstanpy - INFO - Chain [1] done processing\n",
      "06:17:37 - cmdstanpy - INFO - Chain [1] start processing\n",
      "06:17:37 - cmdstanpy - INFO - Chain [1] done processing\n",
      "06:17:38 - cmdstanpy - INFO - Chain [1] start processing\n",
      "06:17:38 - cmdstanpy - INFO - Chain [1] done processing\n"
     ]
    },
    {
     "data": {
      "application/vnd.jupyter.widget-view+json": {
       "model_id": "db8513f915b644aabd86f6bab64ab86f",
       "version_major": 2,
       "version_minor": 0
      },
      "text/plain": [
       "  0%|          | 0/3 [00:00<?, ?it/s]"
      ]
     },
     "metadata": {},
     "output_type": "display_data"
    },
    {
     "name": "stderr",
     "output_type": "stream",
     "text": [
      "06:17:38 - cmdstanpy - INFO - Chain [1] start processing\n",
      "06:17:38 - cmdstanpy - INFO - Chain [1] done processing\n",
      "06:17:38 - cmdstanpy - INFO - Chain [1] start processing\n",
      "06:17:38 - cmdstanpy - INFO - Chain [1] done processing\n",
      "06:17:39 - cmdstanpy - INFO - Chain [1] start processing\n",
      "06:17:39 - cmdstanpy - INFO - Chain [1] done processing\n",
      "06:17:39 - cmdstanpy - INFO - Chain [1] start processing\n",
      "06:17:40 - cmdstanpy - INFO - Chain [1] done processing\n"
     ]
    },
    {
     "data": {
      "application/vnd.jupyter.widget-view+json": {
       "model_id": "ed646f02817347c693765cfe1311ef95",
       "version_major": 2,
       "version_minor": 0
      },
      "text/plain": [
       "  0%|          | 0/3 [00:00<?, ?it/s]"
      ]
     },
     "metadata": {},
     "output_type": "display_data"
    },
    {
     "name": "stderr",
     "output_type": "stream",
     "text": [
      "06:17:40 - cmdstanpy - INFO - Chain [1] start processing\n",
      "06:17:40 - cmdstanpy - INFO - Chain [1] done processing\n",
      "06:17:40 - cmdstanpy - INFO - Chain [1] start processing\n",
      "06:17:40 - cmdstanpy - INFO - Chain [1] done processing\n",
      "06:17:41 - cmdstanpy - INFO - Chain [1] start processing\n",
      "06:17:41 - cmdstanpy - INFO - Chain [1] done processing\n",
      "06:17:41 - cmdstanpy - INFO - Chain [1] start processing\n",
      "06:17:42 - cmdstanpy - INFO - Chain [1] done processing\n"
     ]
    },
    {
     "data": {
      "application/vnd.jupyter.widget-view+json": {
       "model_id": "3c7bf8afbf7c4f2b9abfe94fba1e25fd",
       "version_major": 2,
       "version_minor": 0
      },
      "text/plain": [
       "  0%|          | 0/3 [00:00<?, ?it/s]"
      ]
     },
     "metadata": {},
     "output_type": "display_data"
    },
    {
     "name": "stderr",
     "output_type": "stream",
     "text": [
      "06:17:42 - cmdstanpy - INFO - Chain [1] start processing\n",
      "06:17:42 - cmdstanpy - INFO - Chain [1] done processing\n",
      "06:17:42 - cmdstanpy - INFO - Chain [1] start processing\n",
      "06:17:42 - cmdstanpy - INFO - Chain [1] done processing\n",
      "06:17:43 - cmdstanpy - INFO - Chain [1] start processing\n",
      "06:17:43 - cmdstanpy - INFO - Chain [1] done processing\n",
      "06:17:43 - cmdstanpy - INFO - Chain [1] start processing\n",
      "06:17:44 - cmdstanpy - INFO - Chain [1] done processing\n"
     ]
    },
    {
     "data": {
      "application/vnd.jupyter.widget-view+json": {
       "model_id": "a0c44ff28ff145c9be3b0ef4ac5ba491",
       "version_major": 2,
       "version_minor": 0
      },
      "text/plain": [
       "  0%|          | 0/3 [00:00<?, ?it/s]"
      ]
     },
     "metadata": {},
     "output_type": "display_data"
    },
    {
     "name": "stderr",
     "output_type": "stream",
     "text": [
      "06:17:44 - cmdstanpy - INFO - Chain [1] start processing\n",
      "06:17:44 - cmdstanpy - INFO - Chain [1] done processing\n",
      "06:17:44 - cmdstanpy - INFO - Chain [1] start processing\n",
      "06:17:44 - cmdstanpy - INFO - Chain [1] done processing\n",
      "06:17:45 - cmdstanpy - INFO - Chain [1] start processing\n",
      "06:17:45 - cmdstanpy - INFO - Chain [1] done processing\n",
      "06:17:45 - cmdstanpy - INFO - Chain [1] start processing\n",
      "06:17:46 - cmdstanpy - INFO - Chain [1] done processing\n"
     ]
    },
    {
     "data": {
      "application/vnd.jupyter.widget-view+json": {
       "model_id": "901dfe7bf3f94c469ed451978ba83ceb",
       "version_major": 2,
       "version_minor": 0
      },
      "text/plain": [
       "  0%|          | 0/3 [00:00<?, ?it/s]"
      ]
     },
     "metadata": {},
     "output_type": "display_data"
    },
    {
     "name": "stderr",
     "output_type": "stream",
     "text": [
      "06:17:46 - cmdstanpy - INFO - Chain [1] start processing\n",
      "06:17:46 - cmdstanpy - INFO - Chain [1] done processing\n",
      "06:17:46 - cmdstanpy - INFO - Chain [1] start processing\n",
      "06:17:46 - cmdstanpy - INFO - Chain [1] done processing\n",
      "06:17:47 - cmdstanpy - INFO - Chain [1] start processing\n",
      "06:17:47 - cmdstanpy - INFO - Chain [1] done processing\n",
      "06:17:47 - cmdstanpy - INFO - Chain [1] start processing\n",
      "06:17:47 - cmdstanpy - INFO - Chain [1] done processing\n"
     ]
    },
    {
     "data": {
      "application/vnd.jupyter.widget-view+json": {
       "model_id": "8ebe209ff0324e6b847df27cb11f3643",
       "version_major": 2,
       "version_minor": 0
      },
      "text/plain": [
       "  0%|          | 0/3 [00:00<?, ?it/s]"
      ]
     },
     "metadata": {},
     "output_type": "display_data"
    },
    {
     "name": "stderr",
     "output_type": "stream",
     "text": [
      "06:17:47 - cmdstanpy - INFO - Chain [1] start processing\n",
      "06:17:48 - cmdstanpy - INFO - Chain [1] done processing\n",
      "06:17:48 - cmdstanpy - INFO - Chain [1] start processing\n",
      "06:17:48 - cmdstanpy - INFO - Chain [1] done processing\n",
      "06:17:49 - cmdstanpy - INFO - Chain [1] start processing\n",
      "06:17:49 - cmdstanpy - INFO - Chain [1] done processing\n",
      "06:17:49 - cmdstanpy - INFO - Chain [1] start processing\n",
      "06:17:49 - cmdstanpy - INFO - Chain [1] done processing\n"
     ]
    },
    {
     "data": {
      "application/vnd.jupyter.widget-view+json": {
       "model_id": "b0da7ee97f06432c9dc94a2dba274eaa",
       "version_major": 2,
       "version_minor": 0
      },
      "text/plain": [
       "  0%|          | 0/3 [00:00<?, ?it/s]"
      ]
     },
     "metadata": {},
     "output_type": "display_data"
    },
    {
     "name": "stderr",
     "output_type": "stream",
     "text": [
      "06:17:49 - cmdstanpy - INFO - Chain [1] start processing\n",
      "06:17:49 - cmdstanpy - INFO - Chain [1] done processing\n",
      "06:17:50 - cmdstanpy - INFO - Chain [1] start processing\n",
      "06:17:50 - cmdstanpy - INFO - Chain [1] done processing\n",
      "06:17:51 - cmdstanpy - INFO - Chain [1] start processing\n",
      "06:17:51 - cmdstanpy - INFO - Chain [1] done processing\n",
      "06:17:51 - cmdstanpy - INFO - Chain [1] start processing\n",
      "06:17:51 - cmdstanpy - INFO - Chain [1] done processing\n"
     ]
    },
    {
     "name": "stdout",
     "output_type": "stream",
     "text": [
      "Best parameters: {'changepoint_prior_scale': 0.02, 'changepoint_range': 0.4}, Best RMSE: 28.92008096672948\n"
     ]
    },
    {
     "data": {
      "image/png": "[encoded data removed]",
      "text/plain": [
       "<Figure size 720x360 with 1 Axes>"
      ]
     },
     "metadata": {
      "needs_background": "light"
     },
     "output_type": "display_data"
    }
   ],
   "source": [
    "sym = 'AAPL'\n",
    "start = '2020-01-01'\n",
    "end = '2024-01-01'\n",
    "num_days = 92\n",
    "\n",
    "model, aapl_fc, aapl_all, aapl_trend = gen_stock_forecast(sym, start, end, num_days)\n",
    "aapl_true = fetch_stock_data('AAPL', '2024-01-01', '2024-05-01')\n",
    "\n",
    "plt.figure(figsize=(10, 5))\n",
    "plt.plot(np.array(aapl_fc['ds']), np.array(aapl_fc['yhat']), label='Forecast', color='blue')\n",
    "plt.plot(np.array(aapl_true['ds']), np.array(aapl_true['y']), label='True Y', color='green')\n",
    "\n",
    "plt.title('Stock Price Forecast')\n",
    "plt.xlabel('Date')\n",
    "plt.ylabel('Price')\n",
    "plt.legend()\n",
    "plt.show()"
   ]
  },
  {
   "cell_type": "code",
   "execution_count": 85,
   "id": "ceb3c800",
   "metadata": {},
   "outputs": [
    {
     "name": "stderr",
     "output_type": "stream",
     "text": [
      "06:19:59 - cmdstanpy - INFO - Chain [1] start processing\n",
      "06:19:59 - cmdstanpy - INFO - Chain [1] done processing\n"
     ]
    },
    {
     "data": {
      "image/png": "[encoded data removed]",
      "text/plain": [
       "<Figure size 720x360 with 1 Axes>"
      ]
     },
     "metadata": {
      "needs_background": "light"
     },
     "output_type": "display_data"
    }
   ],
   "source": [
    "sym = 'AAPL'\n",
    "start = '2020-01-01'\n",
    "end = '2024-01-01'\n",
    "num_days = 92\n",
    "\n",
    "model, aapl_fc, aapl_all, aapl_trend = gen_stock_forecast_original(sym, start, end, num_days)\n",
    "aapl_true = fetch_stock_data('AAPL', '2024-01-01', '2024-05-01')\n",
    "\n",
    "plt.figure(figsize=(10, 5))\n",
    "plt.plot(np.array(aapl_fc['ds']), np.array(aapl_fc['yhat']), label='Forecast', color='blue')\n",
    "plt.plot(np.array(aapl_true['ds']), np.array(aapl_true['y']), label='True Y', color='green')\n",
    "\n",
    "plt.title('Stock Price Forecast')\n",
    "plt.xlabel('Date')\n",
    "plt.ylabel('Price')\n",
    "plt.legend()\n",
    "plt.show()"
   ]
  },
  {
   "cell_type": "code",
   "execution_count": 87,
   "id": "83e57d24",
   "metadata": {},
   "outputs": [
    {
     "data": {
      "text/plain": [
       "135.94020266572358"
      ]
     },
     "execution_count": 87,
     "metadata": {},
     "output_type": "execute_result"
    }
   ],
   "source": [
    "amzn_trend"
   ]
  },
  {
   "cell_type": "code",
   "execution_count": 88,
   "id": "2d76fd1f",
   "metadata": {},
   "outputs": [
    {
     "data": {
      "text/plain": [
       "162.25303257757693"
      ]
     },
     "execution_count": 88,
     "metadata": {},
     "output_type": "execute_result"
    }
   ],
   "source": [
    "aapl_trend"
   ]
  },
  {
   "cell_type": "code",
   "execution_count": null,
   "id": "8e97931d",
   "metadata": {},
   "outputs": [],
   "source": []
  },
  {
   "cell_type": "code",
   "execution_count": 98,
   "id": "5d22d766",
   "metadata": {},
   "outputs": [],
   "source": [
    "def main_forecast(ticker, start_date, end_date, days_to_predict):\n",
    "    model, fc, fc_all, fc_trend = gen_stock_forecast(ticker, start_date, end_date, days_to_predict)\n",
    "    \n",
    "    pred_date = datetime.strptime(end_date, '%Y-%m-%d') + timedelta(days=92)\n",
    "    pred_date = pred_date.strftime('%Y-%m-%d')\n",
    "    \n",
    "    \n",
    "    fc_true = fetch_stock_data(ticker, end_date, pred_date)\n",
    "\n",
    "    \n",
    "    plt.figure(figsize=(10, 5))\n",
    "    plt.plot(np.array(fc['ds']), np.array(fc['yhat']), label='Forecast', color='blue')\n",
    "    plt.plot(np.array(fc_true['ds']), np.array(fc_true['y']), label='True Y', color='green')\n",
    "\n",
    "    plt.title(f'{ticker} Price Forecast')\n",
    "    plt.xlabel('Date')\n",
    "    plt.ylabel('Price')\n",
    "    plt.legend()\n",
    "    plt.show()\n",
    "    \n",
    "    return fc_trend"
   ]
  },
  {
   "cell_type": "code",
   "execution_count": 100,
   "id": "c601c96f",
   "metadata": {},
   "outputs": [
    {
     "name": "stderr",
     "output_type": "stream",
     "text": [
      "06:38:09 - cmdstanpy - INFO - Chain [1] start processing\n",
      "06:38:09 - cmdstanpy - INFO - Chain [1] done processing\n"
     ]
    },
    {
     "data": {
      "application/vnd.jupyter.widget-view+json": {
       "model_id": "1f9b51045470415b8888f3a712b5e1e5",
       "version_major": 2,
       "version_minor": 0
      },
      "text/plain": [
       "  0%|          | 0/3 [00:00<?, ?it/s]"
      ]
     },
     "metadata": {},
     "output_type": "display_data"
    },
    {
     "name": "stderr",
     "output_type": "stream",
     "text": [
      "06:38:09 - cmdstanpy - INFO - Chain [1] start processing\n",
      "06:38:09 - cmdstanpy - INFO - Chain [1] done processing\n",
      "06:38:09 - cmdstanpy - INFO - Chain [1] start processing\n",
      "06:38:09 - cmdstanpy - INFO - Chain [1] done processing\n",
      "06:38:10 - cmdstanpy - INFO - Chain [1] start processing\n",
      "06:38:10 - cmdstanpy - INFO - Chain [1] done processing\n",
      "06:38:11 - cmdstanpy - INFO - Chain [1] start processing\n",
      "06:38:11 - cmdstanpy - INFO - Chain [1] done processing\n"
     ]
    },
    {
     "data": {
      "application/vnd.jupyter.widget-view+json": {
       "model_id": "d15846336cb54b33b8d11970c529d836",
       "version_major": 2,
       "version_minor": 0
      },
      "text/plain": [
       "  0%|          | 0/3 [00:00<?, ?it/s]"
      ]
     },
     "metadata": {},
     "output_type": "display_data"
    },
    {
     "name": "stderr",
     "output_type": "stream",
     "text": [
      "06:38:11 - cmdstanpy - INFO - Chain [1] start processing\n",
      "06:38:11 - cmdstanpy - INFO - Chain [1] done processing\n",
      "06:38:11 - cmdstanpy - INFO - Chain [1] start processing\n",
      "06:38:11 - cmdstanpy - INFO - Chain [1] done processing\n",
      "06:38:12 - cmdstanpy - INFO - Chain [1] start processing\n",
      "06:38:12 - cmdstanpy - INFO - Chain [1] done processing\n",
      "06:38:12 - cmdstanpy - INFO - Chain [1] start processing\n",
      "06:38:13 - cmdstanpy - INFO - Chain [1] done processing\n"
     ]
    },
    {
     "data": {
      "application/vnd.jupyter.widget-view+json": {
       "model_id": "a17c998ef2a64a8d88cd1229766b6621",
       "version_major": 2,
       "version_minor": 0
      },
      "text/plain": [
       "  0%|          | 0/3 [00:00<?, ?it/s]"
      ]
     },
     "metadata": {},
     "output_type": "display_data"
    },
    {
     "name": "stderr",
     "output_type": "stream",
     "text": [
      "06:38:13 - cmdstanpy - INFO - Chain [1] start processing\n",
      "06:38:13 - cmdstanpy - INFO - Chain [1] done processing\n",
      "06:38:13 - cmdstanpy - INFO - Chain [1] start processing\n",
      "06:38:13 - cmdstanpy - INFO - Chain [1] done processing\n",
      "06:38:14 - cmdstanpy - INFO - Chain [1] start processing\n",
      "06:38:14 - cmdstanpy - INFO - Chain [1] done processing\n",
      "06:38:14 - cmdstanpy - INFO - Chain [1] start processing\n",
      "06:38:15 - cmdstanpy - INFO - Chain [1] done processing\n"
     ]
    },
    {
     "data": {
      "application/vnd.jupyter.widget-view+json": {
       "model_id": "c79165216ccf4905a9de9b2f00f667d2",
       "version_major": 2,
       "version_minor": 0
      },
      "text/plain": [
       "  0%|          | 0/3 [00:00<?, ?it/s]"
      ]
     },
     "metadata": {},
     "output_type": "display_data"
    },
    {
     "name": "stderr",
     "output_type": "stream",
     "text": [
      "06:38:15 - cmdstanpy - INFO - Chain [1] start processing\n",
      "06:38:15 - cmdstanpy - INFO - Chain [1] done processing\n",
      "06:38:15 - cmdstanpy - INFO - Chain [1] start processing\n",
      "06:38:15 - cmdstanpy - INFO - Chain [1] done processing\n",
      "06:38:16 - cmdstanpy - INFO - Chain [1] start processing\n",
      "06:38:16 - cmdstanpy - INFO - Chain [1] done processing\n",
      "06:38:16 - cmdstanpy - INFO - Chain [1] start processing\n",
      "06:38:17 - cmdstanpy - INFO - Chain [1] done processing\n"
     ]
    },
    {
     "data": {
      "application/vnd.jupyter.widget-view+json": {
       "model_id": "47df7dec92594c4fba3cd1e089301cef",
       "version_major": 2,
       "version_minor": 0
      },
      "text/plain": [
       "  0%|          | 0/3 [00:00<?, ?it/s]"
      ]
     },
     "metadata": {},
     "output_type": "display_data"
    },
    {
     "name": "stderr",
     "output_type": "stream",
     "text": [
      "06:38:17 - cmdstanpy - INFO - Chain [1] start processing\n",
      "06:38:17 - cmdstanpy - INFO - Chain [1] done processing\n",
      "06:38:17 - cmdstanpy - INFO - Chain [1] start processing\n",
      "06:38:17 - cmdstanpy - INFO - Chain [1] done processing\n",
      "06:38:18 - cmdstanpy - INFO - Chain [1] start processing\n",
      "06:38:18 - cmdstanpy - INFO - Chain [1] done processing\n",
      "06:38:18 - cmdstanpy - INFO - Chain [1] start processing\n",
      "06:38:19 - cmdstanpy - INFO - Chain [1] done processing\n"
     ]
    },
    {
     "data": {
      "application/vnd.jupyter.widget-view+json": {
       "model_id": "cdf5e8c3eae94a8285b62b55944ac98f",
       "version_major": 2,
       "version_minor": 0
      },
      "text/plain": [
       "  0%|          | 0/3 [00:00<?, ?it/s]"
      ]
     },
     "metadata": {},
     "output_type": "display_data"
    },
    {
     "name": "stderr",
     "output_type": "stream",
     "text": [
      "06:38:19 - cmdstanpy - INFO - Chain [1] start processing\n",
      "06:38:19 - cmdstanpy - INFO - Chain [1] done processing\n",
      "06:38:19 - cmdstanpy - INFO - Chain [1] start processing\n",
      "06:38:19 - cmdstanpy - INFO - Chain [1] done processing\n",
      "06:38:20 - cmdstanpy - INFO - Chain [1] start processing\n",
      "06:38:20 - cmdstanpy - INFO - Chain [1] done processing\n",
      "06:38:20 - cmdstanpy - INFO - Chain [1] start processing\n",
      "06:38:20 - cmdstanpy - INFO - Chain [1] done processing\n"
     ]
    },
    {
     "data": {
      "application/vnd.jupyter.widget-view+json": {
       "model_id": "de4de252f43b46dab54c71cf08e9a0bd",
       "version_major": 2,
       "version_minor": 0
      },
      "text/plain": [
       "  0%|          | 0/3 [00:00<?, ?it/s]"
      ]
     },
     "metadata": {},
     "output_type": "display_data"
    },
    {
     "name": "stderr",
     "output_type": "stream",
     "text": [
      "06:38:21 - cmdstanpy - INFO - Chain [1] start processing\n",
      "06:38:21 - cmdstanpy - INFO - Chain [1] done processing\n",
      "06:38:21 - cmdstanpy - INFO - Chain [1] start processing\n",
      "06:38:21 - cmdstanpy - INFO - Chain [1] done processing\n",
      "06:38:22 - cmdstanpy - INFO - Chain [1] start processing\n",
      "06:38:22 - cmdstanpy - INFO - Chain [1] done processing\n",
      "06:38:22 - cmdstanpy - INFO - Chain [1] start processing\n",
      "06:38:22 - cmdstanpy - INFO - Chain [1] done processing\n"
     ]
    },
    {
     "data": {
      "application/vnd.jupyter.widget-view+json": {
       "model_id": "391bbc2c052f41d9bc7fba052a23465f",
       "version_major": 2,
       "version_minor": 0
      },
      "text/plain": [
       "  0%|          | 0/3 [00:00<?, ?it/s]"
      ]
     },
     "metadata": {},
     "output_type": "display_data"
    },
    {
     "name": "stderr",
     "output_type": "stream",
     "text": [
      "06:38:22 - cmdstanpy - INFO - Chain [1] start processing\n",
      "06:38:22 - cmdstanpy - INFO - Chain [1] done processing\n",
      "06:38:23 - cmdstanpy - INFO - Chain [1] start processing\n",
      "06:38:23 - cmdstanpy - INFO - Chain [1] done processing\n",
      "06:38:23 - cmdstanpy - INFO - Chain [1] start processing\n",
      "06:38:23 - cmdstanpy - INFO - Chain [1] done processing\n",
      "06:38:24 - cmdstanpy - INFO - Chain [1] start processing\n",
      "06:38:24 - cmdstanpy - INFO - Chain [1] done processing\n"
     ]
    },
    {
     "data": {
      "application/vnd.jupyter.widget-view+json": {
       "model_id": "20e759fe30b542118ca7537889e83faa",
       "version_major": 2,
       "version_minor": 0
      },
      "text/plain": [
       "  0%|          | 0/3 [00:00<?, ?it/s]"
      ]
     },
     "metadata": {},
     "output_type": "display_data"
    },
    {
     "name": "stderr",
     "output_type": "stream",
     "text": [
      "06:38:24 - cmdstanpy - INFO - Chain [1] start processing\n",
      "06:38:24 - cmdstanpy - INFO - Chain [1] done processing\n",
      "06:38:25 - cmdstanpy - INFO - Chain [1] start processing\n",
      "06:38:25 - cmdstanpy - INFO - Chain [1] done processing\n",
      "06:38:25 - cmdstanpy - INFO - Chain [1] start processing\n",
      "06:38:25 - cmdstanpy - INFO - Chain [1] done processing\n",
      "06:38:26 - cmdstanpy - INFO - Chain [1] start processing\n",
      "06:38:26 - cmdstanpy - INFO - Chain [1] done processing\n"
     ]
    },
    {
     "data": {
      "application/vnd.jupyter.widget-view+json": {
       "model_id": "34e1863555384652804c81ba27a42e3b",
       "version_major": 2,
       "version_minor": 0
      },
      "text/plain": [
       "  0%|          | 0/3 [00:00<?, ?it/s]"
      ]
     },
     "metadata": {},
     "output_type": "display_data"
    },
    {
     "name": "stderr",
     "output_type": "stream",
     "text": [
      "06:38:26 - cmdstanpy - INFO - Chain [1] start processing\n",
      "06:38:26 - cmdstanpy - INFO - Chain [1] done processing\n",
      "06:38:27 - cmdstanpy - INFO - Chain [1] start processing\n",
      "06:38:27 - cmdstanpy - INFO - Chain [1] done processing\n",
      "06:38:27 - cmdstanpy - INFO - Chain [1] start processing\n",
      "06:38:27 - cmdstanpy - INFO - Chain [1] done processing\n",
      "06:38:28 - cmdstanpy - INFO - Chain [1] start processing\n",
      "06:38:28 - cmdstanpy - INFO - Chain [1] done processing\n"
     ]
    },
    {
     "data": {
      "application/vnd.jupyter.widget-view+json": {
       "model_id": "a3b309f4f0b44ab6a51301dbb4cf759e",
       "version_major": 2,
       "version_minor": 0
      },
      "text/plain": [
       "  0%|          | 0/3 [00:00<?, ?it/s]"
      ]
     },
     "metadata": {},
     "output_type": "display_data"
    },
    {
     "name": "stderr",
     "output_type": "stream",
     "text": [
      "06:38:28 - cmdstanpy - INFO - Chain [1] start processing\n",
      "06:38:28 - cmdstanpy - INFO - Chain [1] done processing\n",
      "06:38:29 - cmdstanpy - INFO - Chain [1] start processing\n",
      "06:38:29 - cmdstanpy - INFO - Chain [1] done processing\n",
      "06:38:29 - cmdstanpy - INFO - Chain [1] start processing\n",
      "06:38:29 - cmdstanpy - INFO - Chain [1] done processing\n",
      "06:38:30 - cmdstanpy - INFO - Chain [1] start processing\n",
      "06:38:30 - cmdstanpy - INFO - Chain [1] done processing\n"
     ]
    },
    {
     "data": {
      "application/vnd.jupyter.widget-view+json": {
       "model_id": "0d4d8ffe2fa744c98c048448e40d4954",
       "version_major": 2,
       "version_minor": 0
      },
      "text/plain": [
       "  0%|          | 0/3 [00:00<?, ?it/s]"
      ]
     },
     "metadata": {},
     "output_type": "display_data"
    },
    {
     "name": "stderr",
     "output_type": "stream",
     "text": [
      "06:38:30 - cmdstanpy - INFO - Chain [1] start processing\n",
      "06:38:30 - cmdstanpy - INFO - Chain [1] done processing\n",
      "06:38:31 - cmdstanpy - INFO - Chain [1] start processing\n",
      "06:38:31 - cmdstanpy - INFO - Chain [1] done processing\n",
      "06:38:31 - cmdstanpy - INFO - Chain [1] start processing\n",
      "06:38:32 - cmdstanpy - INFO - Chain [1] done processing\n",
      "06:38:32 - cmdstanpy - INFO - Chain [1] start processing\n",
      "06:38:32 - cmdstanpy - INFO - Chain [1] done processing\n"
     ]
    },
    {
     "data": {
      "application/vnd.jupyter.widget-view+json": {
       "model_id": "c7869e79df81433c92d5b3208ee9915e",
       "version_major": 2,
       "version_minor": 0
      },
      "text/plain": [
       "  0%|          | 0/3 [00:00<?, ?it/s]"
      ]
     },
     "metadata": {},
     "output_type": "display_data"
    },
    {
     "name": "stderr",
     "output_type": "stream",
     "text": [
      "06:38:32 - cmdstanpy - INFO - Chain [1] start processing\n",
      "06:38:32 - cmdstanpy - INFO - Chain [1] done processing\n",
      "06:38:33 - cmdstanpy - INFO - Chain [1] start processing\n",
      "06:38:33 - cmdstanpy - INFO - Chain [1] done processing\n",
      "06:38:33 - cmdstanpy - INFO - Chain [1] start processing\n",
      "06:38:33 - cmdstanpy - INFO - Chain [1] done processing\n",
      "06:38:34 - cmdstanpy - INFO - Chain [1] start processing\n",
      "06:38:34 - cmdstanpy - INFO - Chain [1] done processing\n"
     ]
    },
    {
     "data": {
      "application/vnd.jupyter.widget-view+json": {
       "model_id": "3c3532489b004469bd0f314af68ccfdd",
       "version_major": 2,
       "version_minor": 0
      },
      "text/plain": [
       "  0%|          | 0/3 [00:00<?, ?it/s]"
      ]
     },
     "metadata": {},
     "output_type": "display_data"
    },
    {
     "name": "stderr",
     "output_type": "stream",
     "text": [
      "06:38:34 - cmdstanpy - INFO - Chain [1] start processing\n",
      "06:38:34 - cmdstanpy - INFO - Chain [1] done processing\n",
      "06:38:35 - cmdstanpy - INFO - Chain [1] start processing\n",
      "06:38:35 - cmdstanpy - INFO - Chain [1] done processing\n",
      "06:38:35 - cmdstanpy - INFO - Chain [1] start processing\n",
      "06:38:35 - cmdstanpy - INFO - Chain [1] done processing\n",
      "06:38:36 - cmdstanpy - INFO - Chain [1] start processing\n",
      "06:38:36 - cmdstanpy - INFO - Chain [1] done processing\n"
     ]
    },
    {
     "data": {
      "application/vnd.jupyter.widget-view+json": {
       "model_id": "831e0228e85043739bc78dff23111a46",
       "version_major": 2,
       "version_minor": 0
      },
      "text/plain": [
       "  0%|          | 0/3 [00:00<?, ?it/s]"
      ]
     },
     "metadata": {},
     "output_type": "display_data"
    },
    {
     "name": "stderr",
     "output_type": "stream",
     "text": [
      "06:38:36 - cmdstanpy - INFO - Chain [1] start processing\n",
      "06:38:36 - cmdstanpy - INFO - Chain [1] done processing\n",
      "06:38:36 - cmdstanpy - INFO - Chain [1] start processing\n",
      "06:38:36 - cmdstanpy - INFO - Chain [1] done processing\n",
      "06:38:37 - cmdstanpy - INFO - Chain [1] start processing\n",
      "06:38:37 - cmdstanpy - INFO - Chain [1] done processing\n",
      "06:38:38 - cmdstanpy - INFO - Chain [1] start processing\n",
      "06:38:38 - cmdstanpy - INFO - Chain [1] done processing\n"
     ]
    },
    {
     "data": {
      "application/vnd.jupyter.widget-view+json": {
       "model_id": "43b7a0399ee8466da3e8ead0eaa15ef2",
       "version_major": 2,
       "version_minor": 0
      },
      "text/plain": [
       "  0%|          | 0/3 [00:00<?, ?it/s]"
      ]
     },
     "metadata": {},
     "output_type": "display_data"
    },
    {
     "name": "stderr",
     "output_type": "stream",
     "text": [
      "06:38:38 - cmdstanpy - INFO - Chain [1] start processing\n",
      "06:38:38 - cmdstanpy - INFO - Chain [1] done processing\n",
      "06:38:38 - cmdstanpy - INFO - Chain [1] start processing\n",
      "06:38:38 - cmdstanpy - INFO - Chain [1] done processing\n",
      "06:38:39 - cmdstanpy - INFO - Chain [1] start processing\n",
      "06:38:39 - cmdstanpy - INFO - Chain [1] done processing\n",
      "06:38:40 - cmdstanpy - INFO - Chain [1] start processing\n",
      "06:38:40 - cmdstanpy - INFO - Chain [1] done processing\n"
     ]
    },
    {
     "name": "stdout",
     "output_type": "stream",
     "text": [
      "Best parameters: {'changepoint_prior_scale': 0.015, 'changepoint_range': 0.4}, Best RMSE: 28.91617235135067\n"
     ]
    },
    {
     "data": {
      "image/png": "[encoded data removed]",
      "text/plain": [
       "<Figure size 720x360 with 1 Axes>"
      ]
     },
     "metadata": {
      "needs_background": "light"
     },
     "output_type": "display_data"
    },
    {
     "name": "stdout",
     "output_type": "stream",
     "text": [
      "AAPL forecasted trend: 162.22508190402277\n"
     ]
    }
   ],
   "source": [
    "ticker = 'AAPL'\n",
    "start = '2020-01-01'\n",
    "end = '2024-01-01'\n",
    "days_to_predict = 92\n",
    "\n",
    "predicted_trend = main_forecast(ticker, start, end, days_to_predict)\n",
    "\n",
    "print(f'{ticker} forecasted trend: {predicted_trend}')"
   ]
  },
  {
   "cell_type": "code",
   "execution_count": null,
   "id": "3f2dba6a",
   "metadata": {},
   "outputs": [],
   "source": []
  },
  {
   "cell_type": "code",
   "execution_count": null,
   "id": "54dd4d0e",
   "metadata": {},
   "outputs": [],
   "source": []
  },
  {
   "cell_type": "code",
   "execution_count": null,
   "id": "fec1583a",
   "metadata": {},
   "outputs": [],
   "source": []
  },
  {
   "cell_type": "code",
   "execution_count": null,
   "id": "6509b49e",
   "metadata": {},
   "outputs": [],
   "source": []
  },
  {
   "cell_type": "code",
   "execution_count": null,
   "id": "d76b2e25",
   "metadata": {},
   "outputs": [],
   "source": []
  },
  {
   "cell_type": "code",
   "execution_count": null,
   "id": "938635dd",
   "metadata": {},
   "outputs": [],
   "source": []
  },
  {
   "cell_type": "code",
   "execution_count": null,
   "id": "be620a41",
   "metadata": {},
   "outputs": [],
   "source": []
  },
  {
   "cell_type": "code",
   "execution_count": null,
   "id": "10acee7f",
   "metadata": {},
   "outputs": [],
   "source": []
  },
  {
   "cell_type": "code",
   "execution_count": null,
   "id": "0d8535cb",
   "metadata": {},
   "outputs": [],
   "source": []
  },
  {
   "cell_type": "code",
   "execution_count": null,
   "id": "ddcb237a",
   "metadata": {},
   "outputs": [],
   "source": []
  },
  {
   "cell_type": "code",
   "execution_count": null,
   "id": "b502b75d",
   "metadata": {},
   "outputs": [],
   "source": []
  },
  {
   "cell_type": "code",
   "execution_count": null,
   "id": "33844c8c",
   "metadata": {},
   "outputs": [],
   "source": []
  },
  {
   "cell_type": "code",
   "execution_count": 7,
   "id": "c09f298b",
   "metadata": {},
   "outputs": [
    {
     "data": {
      "text/html": [
       "<div>\n",
       "<style scoped>\n",
       "    .dataframe tbody tr th:only-of-type {\n",
       "        vertical-align: middle;\n",
       "    }\n",
       "\n",
       "    .dataframe tbody tr th {\n",
       "        vertical-align: top;\n",
       "    }\n",
       "\n",
       "    .dataframe thead th {\n",
       "        text-align: right;\n",
       "    }\n",
       "</style>\n",
       "<table border=\"1\" class=\"dataframe\">\n",
       "  <thead>\n",
       "    <tr style=\"text-align: right;\">\n",
       "      <th></th>\n",
       "      <th>ds</th>\n",
       "      <th>trend</th>\n",
       "      <th>yhat_lower</th>\n",
       "      <th>yhat_upper</th>\n",
       "      <th>trend_lower</th>\n",
       "      <th>trend_upper</th>\n",
       "      <th>Christmas Day</th>\n",
       "      <th>Christmas Day_lower</th>\n",
       "      <th>Christmas Day_upper</th>\n",
       "      <th>Christmas Day (observed)</th>\n",
       "      <th>...</th>\n",
       "      <th>yearly</th>\n",
       "      <th>yearly_lower</th>\n",
       "      <th>yearly_upper</th>\n",
       "      <th>multiplicative_terms</th>\n",
       "      <th>multiplicative_terms_lower</th>\n",
       "      <th>multiplicative_terms_upper</th>\n",
       "      <th>yhat</th>\n",
       "      <th>date</th>\n",
       "      <th>day_of_week</th>\n",
       "      <th>day_of_year</th>\n",
       "    </tr>\n",
       "  </thead>\n",
       "  <tbody>\n",
       "    <tr>\n",
       "      <th>0</th>\n",
       "      <td>2020-01-02</td>\n",
       "      <td>92.733745</td>\n",
       "      <td>81.533914</td>\n",
       "      <td>99.386962</td>\n",
       "      <td>92.733745</td>\n",
       "      <td>92.733745</td>\n",
       "      <td>0.0</td>\n",
       "      <td>0.0</td>\n",
       "      <td>0.0</td>\n",
       "      <td>0.0</td>\n",
       "      <td>...</td>\n",
       "      <td>-2.261110</td>\n",
       "      <td>-2.261110</td>\n",
       "      <td>-2.261110</td>\n",
       "      <td>0.0</td>\n",
       "      <td>0.0</td>\n",
       "      <td>0.0</td>\n",
       "      <td>90.826143</td>\n",
       "      <td>2020-01-02</td>\n",
       "      <td>Thursday</td>\n",
       "      <td>January 2</td>\n",
       "    </tr>\n",
       "    <tr>\n",
       "      <th>1</th>\n",
       "      <td>2020-01-03</td>\n",
       "      <td>92.948864</td>\n",
       "      <td>82.183923</td>\n",
       "      <td>99.614544</td>\n",
       "      <td>92.948864</td>\n",
       "      <td>92.948864</td>\n",
       "      <td>0.0</td>\n",
       "      <td>0.0</td>\n",
       "      <td>0.0</td>\n",
       "      <td>0.0</td>\n",
       "      <td>...</td>\n",
       "      <td>-2.276163</td>\n",
       "      <td>-2.276163</td>\n",
       "      <td>-2.276163</td>\n",
       "      <td>0.0</td>\n",
       "      <td>0.0</td>\n",
       "      <td>0.0</td>\n",
       "      <td>90.772472</td>\n",
       "      <td>2020-01-03</td>\n",
       "      <td>Friday</td>\n",
       "      <td>January 3</td>\n",
       "    </tr>\n",
       "    <tr>\n",
       "      <th>2</th>\n",
       "      <td>2020-01-06</td>\n",
       "      <td>93.594218</td>\n",
       "      <td>82.241949</td>\n",
       "      <td>99.734757</td>\n",
       "      <td>93.594218</td>\n",
       "      <td>93.594218</td>\n",
       "      <td>0.0</td>\n",
       "      <td>0.0</td>\n",
       "      <td>0.0</td>\n",
       "      <td>0.0</td>\n",
       "      <td>...</td>\n",
       "      <td>-2.684443</td>\n",
       "      <td>-2.684443</td>\n",
       "      <td>-2.684443</td>\n",
       "      <td>0.0</td>\n",
       "      <td>0.0</td>\n",
       "      <td>0.0</td>\n",
       "      <td>91.192828</td>\n",
       "      <td>2020-01-06</td>\n",
       "      <td>Monday</td>\n",
       "      <td>January 6</td>\n",
       "    </tr>\n",
       "    <tr>\n",
       "      <th>3</th>\n",
       "      <td>2020-01-07</td>\n",
       "      <td>93.809336</td>\n",
       "      <td>82.248685</td>\n",
       "      <td>100.018940</td>\n",
       "      <td>93.809336</td>\n",
       "      <td>93.809336</td>\n",
       "      <td>0.0</td>\n",
       "      <td>0.0</td>\n",
       "      <td>0.0</td>\n",
       "      <td>0.0</td>\n",
       "      <td>...</td>\n",
       "      <td>-2.931520</td>\n",
       "      <td>-2.931520</td>\n",
       "      <td>-2.931520</td>\n",
       "      <td>0.0</td>\n",
       "      <td>0.0</td>\n",
       "      <td>0.0</td>\n",
       "      <td>91.199702</td>\n",
       "      <td>2020-01-07</td>\n",
       "      <td>Tuesday</td>\n",
       "      <td>January 7</td>\n",
       "    </tr>\n",
       "    <tr>\n",
       "      <th>4</th>\n",
       "      <td>2020-01-08</td>\n",
       "      <td>94.024455</td>\n",
       "      <td>82.057732</td>\n",
       "      <td>99.546609</td>\n",
       "      <td>94.024455</td>\n",
       "      <td>94.024455</td>\n",
       "      <td>0.0</td>\n",
       "      <td>0.0</td>\n",
       "      <td>0.0</td>\n",
       "      <td>0.0</td>\n",
       "      <td>...</td>\n",
       "      <td>-3.224703</td>\n",
       "      <td>-3.224703</td>\n",
       "      <td>-3.224703</td>\n",
       "      <td>0.0</td>\n",
       "      <td>0.0</td>\n",
       "      <td>0.0</td>\n",
       "      <td>91.198343</td>\n",
       "      <td>2020-01-08</td>\n",
       "      <td>Wednesday</td>\n",
       "      <td>January 8</td>\n",
       "    </tr>\n",
       "  </tbody>\n",
       "</table>\n",
       "<p>5 rows × 76 columns</p>\n",
       "</div>"
      ],
      "text/plain": [
       "          ds      trend  yhat_lower  yhat_upper  trend_lower  trend_upper  \\\n",
       "0 2020-01-02  92.733745   81.533914   99.386962    92.733745    92.733745   \n",
       "1 2020-01-03  92.948864   82.183923   99.614544    92.948864    92.948864   \n",
       "2 2020-01-06  93.594218   82.241949   99.734757    93.594218    93.594218   \n",
       "3 2020-01-07  93.809336   82.248685  100.018940    93.809336    93.809336   \n",
       "4 2020-01-08  94.024455   82.057732   99.546609    94.024455    94.024455   \n",
       "\n",
       "   Christmas Day  Christmas Day_lower  Christmas Day_upper  \\\n",
       "0            0.0                  0.0                  0.0   \n",
       "1            0.0                  0.0                  0.0   \n",
       "2            0.0                  0.0                  0.0   \n",
       "3            0.0                  0.0                  0.0   \n",
       "4            0.0                  0.0                  0.0   \n",
       "\n",
       "   Christmas Day (observed)  ...    yearly  yearly_lower  yearly_upper  \\\n",
       "0                       0.0  ... -2.261110     -2.261110     -2.261110   \n",
       "1                       0.0  ... -2.276163     -2.276163     -2.276163   \n",
       "2                       0.0  ... -2.684443     -2.684443     -2.684443   \n",
       "3                       0.0  ... -2.931520     -2.931520     -2.931520   \n",
       "4                       0.0  ... -3.224703     -3.224703     -3.224703   \n",
       "\n",
       "   multiplicative_terms  multiplicative_terms_lower  \\\n",
       "0                   0.0                         0.0   \n",
       "1                   0.0                         0.0   \n",
       "2                   0.0                         0.0   \n",
       "3                   0.0                         0.0   \n",
       "4                   0.0                         0.0   \n",
       "\n",
       "   multiplicative_terms_upper       yhat       date  day_of_week  day_of_year  \n",
       "0                         0.0  90.826143 2020-01-02     Thursday    January 2  \n",
       "1                         0.0  90.772472 2020-01-03       Friday    January 3  \n",
       "2                         0.0  91.192828 2020-01-06       Monday    January 6  \n",
       "3                         0.0  91.199702 2020-01-07      Tuesday    January 7  \n",
       "4                         0.0  91.198343 2020-01-08    Wednesday    January 8  \n",
       "\n",
       "[5 rows x 76 columns]"
      ]
     },
     "execution_count": 7,
     "metadata": {},
     "output_type": "execute_result"
    }
   ],
   "source": [
    "def num_to_day(i):\n",
    "    dct = ['Monday', 'Tuesday', 'Wednesday', 'Thursday', 'Friday', 'Saturday', 'Sunday']\n",
    "    \n",
    "    return dct[i]\n",
    "def date_to_day(dt):\n",
    "    month = ['January', 'February', 'March', 'April', 'May', 'June', 'July', 'August', 'September', 'October', 'November', 'December']\n",
    "    day = ''\n",
    "    \n",
    "#     if dt.dayofyear <= 9:\n",
    "#         day = '0' + str(dt.dayofyear)\n",
    "#     else:\n",
    "#         day = str(dt.dayofyear)\n",
    "    \n",
    "    day = str(dt.day)\n",
    "        \n",
    "    return month[dt.month - 1] + ' ' + day\n",
    "amzn_all['date'] = pd.to_datetime(amzn_all['ds'])\n",
    "amzn_all['day_of_week'] = amzn_all['date'].dt.dayofweek\n",
    "amzn_all['day_of_week'] = amzn_all['day_of_week'].apply(num_to_day)\n",
    "amzn_all['day_of_year'] = amzn_all['date'].apply(date_to_day)\n",
    "\n",
    "amzn_all.head()"
   ]
  },
  {
   "cell_type": "code",
   "execution_count": 5,
   "id": "868fed97",
   "metadata": {
    "scrolled": true
   },
   "outputs": [],
   "source": [
    "# plt.figure(1, figsize=(12, 5))\n",
    "# plt.plot(np.array(amzn_all['ds']), np.array(amzn_all['trend']), label='trend vs ds', color='blue')\n",
    "\n",
    "# plt.figure(2, figsize=(12, 5))\n",
    "# temp1 = amzn_all.groupby('day_of_week', sort=False).mean(numeric_only=True)['weekly']\n",
    "# plt.plot(np.array(temp1.index), np.array(temp1.values), label='day_of_week', color='green')\n",
    "\n",
    "# plt.figure(3, figsize=(20, 5))\n",
    "# temp2 = amzn_all.groupby('day_of_year', sort=False).mean(numeric_only=True)['yearly']\n",
    "# upd_labs = []\n",
    "# for dt in np.array(temp2.index):\n",
    "#     labels = ['January 1', 'February 1', 'March 1', 'April 1', 'May 1', 'June 1', 'July 1', 'August 1', 'September 1', 'October 1', 'November 1', 'December 1']\n",
    "#     if dt in labels:\n",
    "#         upd_labs.append(dt)\n",
    "#     else:\n",
    "#         upd_labs.append('')\n",
    "# plt.plot(np.array(temp2.index), np.array(temp2.values), label='day_of_year', color='red')\n",
    "# plt.xticks(np.array(temp2.index), upd_labs, rotation=45, ha='right')\n",
    "\n",
    "# plt.figure(3, figsize=(12, 5))\n",
    "# plt.plot(np.array(amzn_all['ds']), np.array(amzn_all['daily']), label='trend vs ds', color='blue')\n",
    "pass"
   ]
  },
  {
   "cell_type": "code",
   "execution_count": null,
   "id": "a299e8ab",
   "metadata": {},
   "outputs": [],
   "source": []
  },
  {
   "cell_type": "code",
   "execution_count": null,
   "id": "3a1277f4",
   "metadata": {},
   "outputs": [],
   "source": []
  },
  {
   "cell_type": "code",
   "execution_count": null,
   "id": "a8602e6d",
   "metadata": {},
   "outputs": [],
   "source": []
  },
  {
   "cell_type": "code",
   "execution_count": null,
   "id": "2900c5a7",
   "metadata": {},
   "outputs": [],
   "source": []
  },
  {
   "cell_type": "code",
   "execution_count": null,
   "id": "72ecd80a",
   "metadata": {},
   "outputs": [],
   "source": []
  },
  {
   "cell_type": "code",
   "execution_count": 218,
   "id": "f4e3ad40",
   "metadata": {},
   "outputs": [],
   "source": [
    "# import itertools\n",
    "\n",
    "# param_grid = {\n",
    "#     'changepoint_prior_scale': [0.01, 0.05, 0.1],\n",
    "#     'holidays_prior_scale': [5, 10, 15],\n",
    "#     'seasonality_prior_scale': [5, 10, 15],\n",
    "#     'weekly_seasonality': [True, False],\n",
    "#     'yearly_seasonality': [True, False],\n",
    "#     'daily_seasonality': [True, False]\n",
    "# }\n",
    "\n",
    "# all_params = [dict(zip(param_grid.keys(), v)) for v in itertools.product(*param_grid.values())]\n",
    "# rmses = []  \n",
    "\n",
    "# for params in all_params:\n",
    "#     m = Prophet(**params).fit(df)  # Fit model with given params\n",
    "#     df_cv = cross_validation(m, cutoffs=cutoffs, horizon='30 days', parallel=\"processes\")\n",
    "#     df_p = performance_metrics(df_cv, rolling_window=1)\n",
    "#     rmses.append(df_p['rmse'].values[0])\n",
    "\n",
    "# tuning_results = pd.DataFrame(all_params)\n",
    "# tuning_results['rmse'] = rmses\n",
    "# print(tuning_results)\n"
   ]
  },
  {
   "cell_type": "code",
   "execution_count": null,
   "id": "dc4e651d",
   "metadata": {},
   "outputs": [],
   "source": []
  },
  {
   "cell_type": "code",
   "execution_count": null,
   "id": "b052da79",
   "metadata": {},
   "outputs": [],
   "source": []
  }
 ],
 "metadata": {
  "kernelspec": {
   "display_name": "Python 3 (ipykernel)",
   "language": "python",
   "name": "python3"
  },
  "language_info": {
   "codemirror_mode": {
    "name": "ipython",
    "version": 3
   },
   "file_extension": ".py",
   "mimetype": "text/x-python",
   "name": "python",
   "nbconvert_exporter": "python",
   "pygments_lexer": "ipython3",
   "version": "3.9.5"
  }
 },
 "nbformat": 4,
 "nbformat_minor": 5
}
