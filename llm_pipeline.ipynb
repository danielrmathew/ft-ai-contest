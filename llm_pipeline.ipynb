{
 "cells": [
  {
   "cell_type": "code",
   "execution_count": 1,
   "id": "4234d763",
   "metadata": {},
   "outputs": [],
   "source": [
    "# !pip install accelerate\n",
    "# !pip install -i https://pypi.org/simple/ bitsandbytes\n",
    "\n",
    "# !pip install llama-index-embeddings-huggingface\n",
    "\n",
    "# !pip install llama-index\n",
    "\n",
    "# !pip install llama-index-llms-huggingface"
   ]
  },
  {
   "cell_type": "code",
   "execution_count": 35,
   "id": "28193354",
   "metadata": {},
   "outputs": [],
   "source": [
    "import time\n",
    "import re"
   ]
  },
  {
   "cell_type": "code",
   "execution_count": 2,
   "id": "c8ba0413",
   "metadata": {},
   "outputs": [],
   "source": [
    "from llama_index.core import SimpleDirectoryReader, VectorStoreIndex\n",
    "from llama_index.core import set_global_tokenizer\n",
    "from transformers import AutoTokenizer\n",
    "from llama_index.embeddings.huggingface import HuggingFaceEmbedding"
   ]
  },
  {
   "cell_type": "code",
   "execution_count": 3,
   "id": "b4d6cb0d",
   "metadata": {},
   "outputs": [
    {
     "name": "stderr",
     "output_type": "stream",
     "text": [
      "/home/drmathew/.local/lib/python3.9/site-packages/pydantic/_internal/_fields.py:160: UserWarning: Field \"model_id\" has conflict with protected namespace \"model_\".\n",
      "\n",
      "You may be able to resolve this warning by setting `model_config['protected_namespaces'] = ()`.\n",
      "  warnings.warn(\n"
     ]
    }
   ],
   "source": [
    "import torch\n",
    "from llama_index.llms.huggingface import HuggingFaceLLM\n",
    "from llama_index.core import PromptTemplate"
   ]
  },
  {
   "cell_type": "code",
   "execution_count": 133,
   "id": "64e51541",
   "metadata": {},
   "outputs": [],
   "source": [
    "def get_llm(selected_model):\n",
    "    SYSTEM_PROMPT = \"\"\"You are an AI assistant that answers questions in a friendly manner, based on the given source documents. Here are some rules you always follow:\n",
    "    - Generate human readable output, avoid creating output with gibberish text.\n",
    "    - Generate only the requested output, don't include any other language before or after the requested output.\n",
    "    - Never say thank you, that you are happy to help, that you are an AI agent, etc. Just answer directly.\n",
    "    - Generate professional language typically used in business documents in North America.\n",
    "    - Never generate offensive or foul language.\n",
    "    \"\"\"\n",
    "\n",
    "    query_wrapper_prompt = PromptTemplate(\n",
    "        \"[INST]<<SYS>>\\n\" + SYSTEM_PROMPT + \"<</SYS>>\\n\\n{query_str}[/INST] \"\n",
    "    )\n",
    "\n",
    "    llm = HuggingFaceLLM(\n",
    "        context_window=4096,\n",
    "        max_new_tokens=2048,\n",
    "        generate_kwargs={\"temperature\": 0.1, \"do_sample\": True},\n",
    "        query_wrapper_prompt=query_wrapper_prompt,\n",
    "        tokenizer_name=selected_model,\n",
    "        model_name=selected_model,\n",
    "        device_map=\"auto\",\n",
    "        # change these settings below depending on your GPU\n",
    "        model_kwargs={\"torch_dtype\": torch.float16, \"load_in_8bit\": True},\n",
    "    )\n",
    "        \n",
    "    return llm"
   ]
  },
  {
   "cell_type": "code",
   "execution_count": 13,
   "id": "228811ed",
   "metadata": {},
   "outputs": [],
   "source": [
    "import requests\n",
    "import json\n",
    "from bs4 import BeautifulSoup\n",
    "import os"
   ]
  },
  {
   "cell_type": "code",
   "execution_count": 14,
   "id": "a402fc96",
   "metadata": {},
   "outputs": [],
   "source": [
    "API_TOKEN = \"rxfMXxfsdsKGb8urL8shecBbBp37ZBuvU5zo39sm\"\n",
    "API_ENDPOINT = f\"https://api.marketaux.com/v1/news/all\"\n",
    "\n",
    "payload = {\n",
    "    \"api_token\": API_TOKEN,\n",
    "    \"entity_types\": \"equity,index,etf\", # should include industries parameter\n",
    "    \"industries\": \"Technology\",\n",
    "    \"countries\": \"us\",\n",
    "    \"published_after\": \"2024-05-10T15:00\",\n",
    "    \"domains\": \"finance.yahoo.com\"\n",
    "}"
   ]
  },
  {
   "cell_type": "code",
   "execution_count": 15,
   "id": "faf237f1",
   "metadata": {},
   "outputs": [],
   "source": [
    "payload = {\n",
    "    \"api_token\": API_TOKEN,\n",
    "    \"entity_types\": \"equity,index,etf\", # should include industries parameter\n",
    "#     \"industries\": \"Technology\",\n",
    "    \"countries\": \"us\",\n",
    "    \"published_after\": \"2024-05-10T13:00\",\n",
    "    \"published_before\": \"2024-05-10T14:00\",\n",
    "    \"domains\": \"finance.yahoo.com\"\n",
    "}"
   ]
  },
  {
   "cell_type": "code",
   "execution_count": 16,
   "id": "cbda32a4",
   "metadata": {},
   "outputs": [],
   "source": [
    "def get_urls(payload):\n",
    "    r = requests.get(\"https://api.marketaux.com/v1/news/all\", params=payload)\n",
    "    output = r.text\n",
    "    json_output = json.loads(output)\n",
    "    data = json_output['data']\n",
    "    \n",
    "    urls = []\n",
    "    \n",
    "    for i in range(len(data)):\n",
    "        url = data[i]['url']\n",
    "        if url.startswith(\"https://finance.yahoo.com/news\"):\n",
    "            urls.append(url)\n",
    "        \n",
    "    return urls"
   ]
  },
  {
   "cell_type": "code",
   "execution_count": 17,
   "id": "14925e30",
   "metadata": {},
   "outputs": [],
   "source": [
    "def get_article_content(url):\n",
    "    r = requests.get(url)\n",
    "    \n",
    "    if r.status_code != 200:\n",
    "        return 'Invalid Response'\n",
    "    \n",
    "    soup = BeautifulSoup(r.content)\n",
    "    body = soup.find('div', attrs={'class': 'caas-body'})\n",
    "    content = \"\"\n",
    "    \n",
    "    for text in body.find_all('p'):\n",
    "        content += text.text\n",
    "    \n",
    "    return content"
   ]
  },
  {
   "cell_type": "code",
   "execution_count": 18,
   "id": "6e6bdbf9",
   "metadata": {},
   "outputs": [],
   "source": [
    "def write_to_file(filename, content):\n",
    "    with open(filename, 'w', encoding='utf-8') as file:\n",
    "        file.write(content)"
   ]
  },
  {
   "cell_type": "code",
   "execution_count": 19,
   "id": "0c76752e",
   "metadata": {},
   "outputs": [],
   "source": [
    "def create_documents():\n",
    "    payload = {\n",
    "        \"api_token\": API_TOKEN,\n",
    "        \"entity_types\": \"equity,index,etf\", # should include industries parameter\n",
    "    #     \"industries\": \"Technology\",\n",
    "        \"countries\": \"us\",\n",
    "#         \"published_after\": \"2024-05-10T13:00\",\n",
    "#         \"published_before\": \"2024-05-10T14:00\",\n",
    "        \"domains\": \"finance.yahoo.com\"\n",
    "    }\n",
    "    \n",
    "    for add_day in range(3): # edit this number to decide how many days after the start day to get articles for\n",
    "        for add_hour in range(7): \n",
    "            start = \"2024-05-\" + str(20 + add_day) + \"T\" + str(13 + add_hour) + \":00\" # edit str(xx) for start day\n",
    "            finish = \"2024-05-\" + str(20 + add_day) + \"T\" + str(13 + add_hour + 1) + \":00\"\n",
    "            payload[\"published_after\"] = start\n",
    "            payload[\"published_before\"] = finish\n",
    "            \n",
    "            urls = get_urls(payload)\n",
    "            for i in range(len(urls)):\n",
    "                print(urls[i])\n",
    "                content = get_article_content(urls[i])\n",
    "                if content != \"Invalid Response\": \n",
    "                    filename = os.path.join(\"articles\", \"article\" + str(add_day) + str(add_hour) + str(i) + \"__.txt\")\n",
    "                    write_to_file(filename, content)\n",
    "                else:\n",
    "                    print(\"Above URL Skipped\")"
   ]
  },
  {
   "cell_type": "code",
   "execution_count": 20,
   "id": "aab81ff5",
   "metadata": {
    "scrolled": true
   },
   "outputs": [
    {
     "name": "stdout",
     "output_type": "stream",
     "text": [
      "https://finance.yahoo.com/news/computer-technology-stocks-lagging-commvault-134012588.html?.tsrc=rss\n",
      "https://finance.yahoo.com/news/chinese-ev-maker-li-auto-132326529.html\n",
      "https://finance.yahoo.com/news/history-says-nvidia-stock-split-143051089.html\n",
      "https://finance.yahoo.com/news/jim-cramer-destroys-starbucks-ceo-143019932.html\n",
      "https://finance.yahoo.com/news/buy-snowflake-snow-stock-ahead-155900617.html?.tsrc=rss\n",
      "https://finance.yahoo.com/news/googles-1-1b-boost-finnish-155809461.html?.tsrc=rss\n",
      "https://finance.yahoo.com/news/billionaire-bill-ackman-10-8-155759546.html\n",
      "https://finance.yahoo.com/news/microsoft-corporation-nasdaq-msft-best-164343928.html?.tsrc=rss\n",
      "https://finance.yahoo.com/news/blackrock-whistleblower-alleges-cover-search-164044668.html\n",
      "https://finance.yahoo.com/news/jeff-bezos-quietly-enters-residential-163142437.html\n",
      "https://finance.yahoo.com/news/tesla-layoffs-continue-june-morale-175645606.html?.tsrc=rss\n",
      "https://finance.yahoo.com/news/warren-buffett-says-rains-gold-173145894.html\n",
      "https://finance.yahoo.com/news/investors-buy-amd-stock-instead-180502800.html\n",
      "https://finance.yahoo.com/news/microsoft-unveil-surface-devices-redmond-180340234.html?.tsrc=rss\n",
      "https://finance.yahoo.com/news/5-reasons-buy-palo-alto-180159024.html\n",
      "https://finance.yahoo.com/news/tipranks-perfect-10-list-2-135212317.html\n",
      "https://finance.yahoo.com/news/heres-why-alphabet-googl-strong-134505705.html?.tsrc=rss\n",
      "https://finance.yahoo.com/news/stock-market-today-nasdaq-slips-after-record-as-investors-await-nvidia-earnings-133241377.html\n",
      "https://finance.yahoo.com/news/despite-us-china-tensions-baidu-144356948.html?.tsrc=rss\n",
      "https://finance.yahoo.com/news/peloton-launches-1-billion-loan-201759119.html\n",
      "https://finance.yahoo.com/news/new-peacock-netflix-apple-tv-streaming-bundle-will-cost-15-a-month-comcast-says-155110203.html?.tsrc=rss\n",
      "https://finance.yahoo.com/news/microsoft-msft-debuts-copilot-pcs-155000737.html?.tsrc=rss\n",
      "https://finance.yahoo.com/news/1-ridiculously-undervalued-artificial-intelligence-154345444.html\n",
      "https://finance.yahoo.com/news/3-high-yield-stocks-raised-165614142.html\n",
      "https://finance.yahoo.com/news/what-nvidia-says-about-ai-chip-demand-could-matter-for-more-than-just-the-tech-trade-165226749.html?.tsrc=rss\n",
      "https://finance.yahoo.com/news/apple-takes-steps-toward-asking-174043718.html?.tsrc=rss\n",
      "https://finance.yahoo.com/news/raid-inheritance-tax-electric-cars-171444443.html\n",
      "https://finance.yahoo.com/news/apple-vs-spotify-iphone-maker-184023566.html?.tsrc=rss\n",
      "https://finance.yahoo.com/news/amd-unveils-cost-effective-epyc-193713381.html?.tsrc=rss\n",
      "https://finance.yahoo.com/news/why-bloom-energy-surged-today-191328306.html\n",
      "https://finance.yahoo.com/news/2-incredible-growth-stocks-could-135300957.html\n",
      "https://finance.yahoo.com/news/supermicro-amd-roll-multi-node-135144085.html?.tsrc=rss\n",
      "https://finance.yahoo.com/news/better-buy-inovio-pharmaceuticals-vs-134500139.html\n",
      "https://finance.yahoo.com/news/autodesk-adsk-acquires-wonder-dynamics-145700223.html?.tsrc=rss\n",
      "https://finance.yahoo.com/news/amazon-invest-15-7-billion-153547224.html?.tsrc=rss\n",
      "https://finance.yahoo.com/news/heres-why-sapiens-spns-must-152700353.html?.tsrc=rss\n",
      "https://finance.yahoo.com/news/amd-expands-smb-footprint-latest-152500005.html?.tsrc=rss\n",
      "https://finance.yahoo.com/news/3-reasons-why-growth-investors-164506280.html?.tsrc=rss\n",
      "https://finance.yahoo.com/news/stock-market-today-stocks-take-leg-lower-after-fed-minutes-with-nvidia-earnings-on-deck-112520746.html\n",
      "https://finance.yahoo.com/news/why-rivian-quantumscape-blink-charging-180400196.html\n"
     ]
    }
   ],
   "source": [
    "create_documents()"
   ]
  },
  {
   "cell_type": "code",
   "execution_count": 128,
   "id": "10e04263",
   "metadata": {},
   "outputs": [],
   "source": [
    "def get_query_engine(llm):\n",
    "    set_global_tokenizer(\n",
    "        AutoTokenizer.from_pretrained(\"NousResearch/Llama-2-7b-chat-hf\").encode\n",
    "    )\n",
    "    embed_model = HuggingFaceEmbedding(model_name=\"BAAI/bge-small-en-v1.5\")\n",
    "    \n",
    "    yf_documents = SimpleDirectoryReader(input_dir=\"articles\").load_data()\n",
    "    yf_index = VectorStoreIndex.from_documents(yf_documents, embed_model=embed_model)\n",
    "    yf_query_engine = yf_index.as_query_engine(llm=llm)\n",
    "    \n",
    "    return yf_documents, yf_index, yf_query_engine"
   ]
  },
  {
   "cell_type": "code",
   "execution_count": 132,
   "id": "41425cea",
   "metadata": {},
   "outputs": [],
   "source": [
    "def get_stocks(llm, user_prefs):\n",
    "    docs, index, query_engine = get_query_engine(llm)\n",
    "    \n",
    "    risk_averse_prompt = \"Gather the financial securities that are most mentioned across the articles in a positive sentiment.\" + \\\n",
    "    f\"The securities gathered can be stocks or ETFs. Return a list of {user_prefs['num_stocks']} securities in which no more than half of the \" + \\\n",
    "    \"securities are from the same industry. This list of securities should also be tailored to a very risk averse investor who \" + \\\n",
    "    \"is more focused on stability instead of rapid growth. \"\n",
    "    if user_prefs['industries']:\n",
    "        risk_averse_prompt += f\"Include multiple stocks with a strong focus on the following industry or industries: {user_prefs['industries']}. \"\n",
    "    risk_averse_prompt += \"Create this list so that they can be put together to make a diversified portfolio. \" + \\\n",
    "    \"List the stock name, stock ticker in parentheses, and the industry associated with it\" + \\\n",
    "    \"and double check that a majority of the industries aren't the same.\"\n",
    "    \n",
    "    risk_neutral_prompt = \"Gather the financial securities that are most mentioned across the articles in a positive sentiment.\" + \\\n",
    "    f\"The securities gathered can be stocks or ETFs. Return a list of {user_prefs['num_stocks']} securities in which no more than half of the \" + \\\n",
    "    \"securities are from the same industry. \"\n",
    "    if user_prefs['industries']:\n",
    "        risk_averse_prompt += f\"Include multiple stocks with a strong focus on the following industry or industries: {user_prefs['industries']}. \"\n",
    "    risk_averse_prompt += \"Create this list so that they can be put together to make a diversified portfolio. \" + \\\n",
    "    \"List the stock name, stock ticker in parentheses, and the industry associated with it\" + \\\n",
    "    \"and double check that a majority of the industries aren't the same.\"\n",
    "    \n",
    "    risk_tolerant_prompt = \"Gather the financial securities that are most mentioned across the articles in a positive sentiment.\" + \\\n",
    "    f\"The securities gathered can be stocks or ETFs. Return a list of {user_prefs['num_stocks']} securities in which no more than half of the \" + \\\n",
    "    \"securities are from the same industry. This list of securities should also be tailored to a very risk tolerant investor who \" + \\\n",
    "    \"is more focused on rapid growth instead of stability. This list should include growth stocks with high expected returns \" + \\\n",
    "    \"with the potential for greater risk. Create this list so that they can be put together to make a diversified portfolio. \"\n",
    "    if user_prefs['industries']:\n",
    "        risk_tolerant_prompt += f\"Include multiple stocks with a strong focus on the following industry or industries: {industries}. \" \n",
    "    risk_tolerant_prompt += \"List the stock name, stock ticker in parentheses, and the industry associated with it\" + \\\n",
    "    \"and double check that a majority of the industries aren't the same.\"\n",
    "    \n",
    "    prompt_dict = {\n",
    "        \"risk_averse\": risk_averse_prompt, \n",
    "        \"risk_neutral\": risk_neutral_prompt,\n",
    "        \"risk_tolerant\": risk_tolerant_prompt\n",
    "    }\n",
    "    prompt = None\n",
    "    \n",
    "    if user_prefs[\"risk\"] == \"conservative\":\n",
    "        prompt = prompt_dict[\"risk_averse\"]\n",
    "    elif user_prefs[\"risk\"] == \"aggressive\":\n",
    "        prompt = prompt_dict[\"risk_tolerant\"]\n",
    "    else:\n",
    "        prompt = prompt_dict[\"risk_neutral\"]\n",
    "    \n",
    "    response = query_engine.query(prompt)\n",
    "    \n",
    "    pattern = r'\\(([A-Za-z]+)\\)'\n",
    "    stocks = re.findall(pattern, response.response)\n",
    "    \n",
    "    return stocks"
   ]
  },
  {
   "cell_type": "code",
   "execution_count": 99,
   "id": "a348efa6",
   "metadata": {},
   "outputs": [],
   "source": [
    "risk_options = [\"conservative\", \"moderate\", \"aggressive\"]\n",
    "industry_options = [\"Energy\", \"Materials\", \"Industrials\", \"Utilities\", \"Healthcare\", \"Financials\", \"Consumer Discretionary\",\n",
    "                    \"Consumer Staples\", \"Technology\", \"Communication Services\", \"Real Estate\"]\n",
    "return_goals = []\n",
    "user_prefs = {\n",
    "    \"num_stocks\": None, \n",
    "    \"risk\": None, \n",
    "    \"industries\": None, \n",
    "    \"return_goals\": None\n",
    "}"
   ]
  },
  {
   "cell_type": "code",
   "execution_count": 33,
   "id": "643d78a3",
   "metadata": {},
   "outputs": [],
   "source": [
    "LLAMA2_7B_CHAT = \"meta-llama/Llama-2-7b-chat-hf\"\n",
    "selected_model = LLAMA2_7B_CHAT"
   ]
  },
  {
   "cell_type": "code",
   "execution_count": 103,
   "id": "a38a9936",
   "metadata": {},
   "outputs": [],
   "source": [
    "user_prefs = {\"num_stocks\": 10, \"risk\": \"conservative\", \"industries\": None, \"return_goals\": None}"
   ]
  },
  {
   "cell_type": "code",
   "execution_count": 130,
   "id": "775a0e81",
   "metadata": {},
   "outputs": [
    {
     "data": {
      "text/plain": [
       "['VOO', 'SPY', 'ACWI', 'EEM', 'VTI', 'IWM', 'DIA', 'REIT', 'VNQ', 'ACWX']"
      ]
     },
     "execution_count": 130,
     "metadata": {},
     "output_type": "execute_result"
    }
   ],
   "source": [
    "# llm = get_llm(selected_model)\n",
    "get_stocks(llm, user_prefs)"
   ]
  },
  {
   "cell_type": "code",
   "execution_count": null,
   "id": "de2742cb",
   "metadata": {},
   "outputs": [],
   "source": []
  },
  {
   "cell_type": "code",
   "execution_count": null,
   "id": "6fa65c65",
   "metadata": {},
   "outputs": [],
   "source": []
  },
  {
   "cell_type": "code",
   "execution_count": null,
   "id": "3c6437f8",
   "metadata": {},
   "outputs": [],
   "source": []
  },
  {
   "cell_type": "code",
   "execution_count": null,
   "id": "0f572991",
   "metadata": {},
   "outputs": [],
   "source": []
  },
  {
   "cell_type": "code",
   "execution_count": null,
   "id": "0ea56b7d",
   "metadata": {},
   "outputs": [],
   "source": []
  },
  {
   "cell_type": "code",
   "execution_count": null,
   "id": "3b514ba1",
   "metadata": {},
   "outputs": [],
   "source": []
  },
  {
   "cell_type": "code",
   "execution_count": null,
   "id": "69e9a88f",
   "metadata": {},
   "outputs": [],
   "source": []
  },
  {
   "cell_type": "code",
   "execution_count": null,
   "id": "fa4e9507",
   "metadata": {},
   "outputs": [],
   "source": []
  },
  {
   "cell_type": "code",
   "execution_count": null,
   "id": "d5976b4e",
   "metadata": {},
   "outputs": [],
   "source": []
  },
  {
   "cell_type": "code",
   "execution_count": null,
   "id": "62798377",
   "metadata": {},
   "outputs": [],
   "source": []
  },
  {
   "cell_type": "code",
   "execution_count": null,
   "id": "f452a656",
   "metadata": {},
   "outputs": [],
   "source": [
    "# only tech stocks except for one\n",
    "# after getting new data, outputted 5 stocks with good variance"
   ]
  },
  {
   "cell_type": "code",
   "execution_count": 26,
   "id": "e3de7168",
   "metadata": {
    "scrolled": true
   },
   "outputs": [
    {
     "name": "stdout",
     "output_type": "stream",
     "text": [
      "Based on the provided context information, the financial securities that are most mentioned in a positive sentiment across the articles are:\n",
      "\n",
      "1. Stock: Vanguard S&P 500 ETF (VOO) - Industry: Finance\n",
      "2. Stock: Nvidia (NVDA) - Industry: Technology\n",
      "3. Stock: SPDR S&P 500 ETF Trust (SPY) - Industry: Finance\n",
      "4. Stock: MPLX LP (MPLX) - Industry: Energy\n",
      "5. Stock: Vanguard Total Stock Market ETF (VTI) - Industry: Finance\n",
      "\n",
      "These securities are from different industries, and a diversified portfolio can be created by investing in them. VOO and SPY are large-cap ETFs that track the S&P 500 index, which covers a wide range of industries. NVDA is a technology stock that has been a top performer in recent years. MPLX is an energy midstream company that has a high-yield dividend and has been actively acquiring and growing its business. VTI is a total stock market ETF that invests in a broad range of stocks across different industries.\n",
      "\n",
      "Note: The information provided is based on the articles provided in the context, and it is not a personalized investment advice. It is important to consult with a financial advisor before making any investment decisions."
     ]
    }
   ],
   "source": [
    "prompt = \"Return the financial securities that are most mentioned across the articles in a positive sentiment.\" + \\\n",
    "\"The securities returned can be stocks or ETFs. Ensure that the securities returned are of different industries \" + \\\n",
    "\"that can be put together to make a diversified portfolio. List the stock and the industry associated with it\" + \\\n",
    "\"and double check that a majority of the industries aren't the same.\"\n",
    "\n",
    "response_3 = yf_query_engine.query(prompt)\n",
    "response_3.print_response_stream()"
   ]
  },
  {
   "cell_type": "code",
   "execution_count": null,
   "id": "ce276170",
   "metadata": {},
   "outputs": [],
   "source": [
    "# this prompt only gave tech stocks excpet for one"
   ]
  },
  {
   "cell_type": "code",
   "execution_count": 27,
   "id": "feb2bb72",
   "metadata": {},
   "outputs": [
    {
     "name": "stdout",
     "output_type": "stream",
     "text": [
      "Based on the articles provided, the following are the financial securities that are most mentioned in a positive sentiment:\n",
      "\n",
      "1. SPDR S&P 500 ETF Trust (Stock - Industry: Financials)\n",
      "2. Vanguard S&P 500 ETF (Stock - Industry: Financials)\n",
      "3. MPLX LP (Stock - Industry: Energy)\n",
      "4. NVIDIA Corporation (Stock - Industry: Technology)\n",
      "5. Vanguard Total Stock Market ETF (ETF - Industry: Financials)\n",
      "6. iShares MSCI ACWI ETF (ETF - Industry: Financials)\n",
      "7. SPDR Dow Jones Industrial Average ETF (ETF - Industry: Industrials)\n",
      "8. Invesco QQQ ETF (ETF - Industry: Technology)\n",
      "9. Vanguard Real Estate ETF (ETF - Industry: Real Estate)\n",
      "10. iShares U.S. Medical Devices ETF (ETF - Industry: Healthcare)\n",
      "\n",
      "Notes:\n",
      "\n",
      "* No more than half of the securities are from the same industry.\n",
      "* The securities are listed in no particular order.\n",
      "* The industries are listed in alphabetical order.\n",
      "\n",
      "Double check:\n",
      "\n",
      "* The majority of the industries are not the same.\n",
      "\n",
      "These securities can be combined to create a diversified portfolio, with a mix of industries and sectors. It's important to note that past performance is not a guarantee of future results, and it's always important to do your own research and consider your own financial goals and risk tolerance before investing."
     ]
    }
   ],
   "source": [
    "prompt_2 = \"Gather the financial securities that are most mentioned across the articles in a positive sentiment.\" + \\\n",
    "\"The securities gathered can be stocks or ETFs. Return a list of 10 securities in which no more than half of the \" + \\\n",
    "\"securities are from the same industry. Create this list so that they \" + \\\n",
    "\"can be put together to make a diversified portfolio. List the stock and the industry associated with it\" + \\\n",
    "\"and double check that a majority of the industries aren't the same.\"\n",
    "\n",
    "response_4 = yf_query_engine.query(prompt_2)\n",
    "response_4.print_response_stream()"
   ]
  },
  {
   "cell_type": "code",
   "execution_count": null,
   "id": "bdeb96ba",
   "metadata": {},
   "outputs": [],
   "source": [
    "# below prompt seems to provide best portfolio so far"
   ]
  },
  {
   "cell_type": "code",
   "execution_count": 49,
   "id": "36b5d979",
   "metadata": {},
   "outputs": [
    {
     "name": "stdout",
     "output_type": "stream",
     "text": [
      "Based on the articles provided, here are 10 financial securities that are mentioned in a positive sentiment:\n",
      "\n",
      "1. Vanguard S&P 500 ETF (VOO) - Industry: Financials\n",
      "2. SPDR S&P 500 ETF Trust (SPY) - Industry: Financials\n",
      "3. iShares MSCI ACWI ETF (ACWI) - Industry: Financials\n",
      "4. iShares MSCI Emerging Markets ETF (EEM) - Industry: Materials\n",
      "5. Vanguard Total Stock Market ETF (VTI) - Industry: Utilities\n",
      "6. iShares Russell 2000 ETF (IWM) - Industry: Consumer Goods\n",
      "7. SPDR Dow Jones Industrial Average ETF (DIA) - Industry: Consumer Goods\n",
      "8. iShares NAASDAQ Biotechnology ETF (BBTH) - Industry: Healthcare\n",
      "9. Vanguard Real Estate ETF (VNQ) - Industry: Real Estate\n",
      "10. iShares TIPS Bond ETF (TIP) - Industry: Utilities\n",
      "\n",
      "Notes:\n",
      "\n",
      "* No more than half of the securities are from the same industry.\n",
      "* The securities are tailored to a very risk-averse investor who is more focused on stability instead of rapid growth.\n",
      "* The list is diversified across different industries to minimize risk.\n",
      "* The securities are well-established and have a strong track record of performance.\n",
      "\n",
      "It's important to note that this list is not a comprehensive or personalized investment advice. It's always recommended to consult with a financial advisor or a registered investment professional before making any investment decisions."
     ]
    }
   ],
   "source": [
    "new_prompt_risk_averse = \"Gather the financial securities that are most mentioned across the articles in a positive sentiment.\" + \\\n",
    "\"The securities gathered can be stocks or ETFs. Return a list of 10 securities in which no more than half of the \" + \\\n",
    "\"securities are from the same industry. This list of securities should also be tailored to a very risk averse investor who \" + \\\n",
    "\"is more focused on stability instead of rapid growth. \" + \\\n",
    "\"Create this list so that they \" + \\\n",
    "\"can be put together to make a diversified portfolio. List the stock name, stock ticker in parentheses, and the industry associated with it\" + \\\n",
    "\"and double check that a majority of the industries aren't the same.\"\n",
    "\n",
    "response_risk = yf_query_engine.query(new_prompt_risk_averse)\n",
    "response_risk.print_response_stream()"
   ]
  },
  {
   "cell_type": "code",
   "execution_count": 58,
   "id": "f9f21c86",
   "metadata": {
    "scrolled": true
   },
   "outputs": [
    {
     "name": "stderr",
     "output_type": "stream",
     "text": [
      "Exception in thread Thread-15:\n",
      "Traceback (most recent call last):\n",
      "  File \"/opt/conda/lib/python3.9/threading.py\", line 954, in _bootstrap_inner\n",
      "    self.run()\n",
      "  File \"/opt/conda/lib/python3.9/threading.py\", line 892, in run\n",
      "    self._target(*self._args, **self._kwargs)\n",
      "  File \"/opt/conda/lib/python3.9/site-packages/torch/utils/_contextlib.py\", line 115, in decorate_context\n",
      "    return func(*args, **kwargs)\n",
      "  File \"/opt/conda/lib/python3.9/site-packages/transformers/generation/utils.py\", line 1592, in generate\n",
      "    return self.sample(\n",
      "  File \"/opt/conda/lib/python3.9/site-packages/transformers/generation/utils.py\", line 2696, in sample\n",
      "    outputs = self(\n",
      "  File \"/opt/conda/lib/python3.9/site-packages/torch/nn/modules/module.py\", line 1518, in _wrapped_call_impl\n",
      "    return self._call_impl(*args, **kwargs)\n",
      "  File \"/opt/conda/lib/python3.9/site-packages/torch/nn/modules/module.py\", line 1527, in _call_impl\n",
      "    return forward_call(*args, **kwargs)\n",
      "  File \"/opt/conda/lib/python3.9/site-packages/accelerate/hooks.py\", line 166, in new_forward\n",
      "    output = module._old_forward(*args, **kwargs)\n",
      "  File \"/opt/conda/lib/python3.9/site-packages/transformers/models/llama/modeling_llama.py\", line 1176, in forward\n",
      "    outputs = self.model(\n",
      "  File \"/opt/conda/lib/python3.9/site-packages/torch/nn/modules/module.py\", line 1518, in _wrapped_call_impl\n",
      "    return self._call_impl(*args, **kwargs)\n",
      "  File \"/opt/conda/lib/python3.9/site-packages/torch/nn/modules/module.py\", line 1527, in _call_impl\n",
      "    return forward_call(*args, **kwargs)\n",
      "  File \"/opt/conda/lib/python3.9/site-packages/accelerate/hooks.py\", line 166, in new_forward\n",
      "    output = module._old_forward(*args, **kwargs)\n",
      "  File \"/opt/conda/lib/python3.9/site-packages/transformers/models/llama/modeling_llama.py\", line 1019, in forward\n",
      "    layer_outputs = decoder_layer(\n",
      "  File \"/opt/conda/lib/python3.9/site-packages/torch/nn/modules/module.py\", line 1518, in _wrapped_call_impl\n",
      "    return self._call_impl(*args, **kwargs)\n",
      "  File \"/opt/conda/lib/python3.9/site-packages/torch/nn/modules/module.py\", line 1527, in _call_impl\n",
      "    return forward_call(*args, **kwargs)\n",
      "  File \"/opt/conda/lib/python3.9/site-packages/accelerate/hooks.py\", line 166, in new_forward\n",
      "    output = module._old_forward(*args, **kwargs)\n",
      "  File \"/opt/conda/lib/python3.9/site-packages/transformers/models/llama/modeling_llama.py\", line 740, in forward\n",
      "    hidden_states, self_attn_weights, present_key_value = self.self_attn(\n",
      "  File \"/opt/conda/lib/python3.9/site-packages/torch/nn/modules/module.py\", line 1518, in _wrapped_call_impl\n",
      "    return self._call_impl(*args, **kwargs)\n",
      "  File \"/opt/conda/lib/python3.9/site-packages/torch/nn/modules/module.py\", line 1527, in _call_impl\n",
      "    return forward_call(*args, **kwargs)\n",
      "  File \"/opt/conda/lib/python3.9/site-packages/accelerate/hooks.py\", line 166, in new_forward\n",
      "    output = module._old_forward(*args, **kwargs)\n",
      "  File \"/opt/conda/lib/python3.9/site-packages/transformers/models/llama/modeling_llama.py\", line 655, in forward\n",
      "    key_states, value_states = past_key_value.update(key_states, value_states, self.layer_idx, cache_kwargs)\n",
      "  File \"/opt/conda/lib/python3.9/site-packages/transformers/cache_utils.py\", line 131, in update\n",
      "    self.key_cache[layer_idx] = torch.cat([self.key_cache[layer_idx], key_states], dim=-2)\n",
      "RuntimeError: NVML_SUCCESS == r INTERNAL ASSERT FAILED at \"../c10/cuda/CUDACachingAllocator.cpp\":1154, please report a bug to PyTorch. \n"
     ]
    },
    {
     "name": "stdout",
     "output_type": "stream",
     "text": [
      "Based on the articles provided, the following are the financial securities that are most mentioned in a positive sentiment:\n",
      "\n",
      "1. Vanguard S&P 500 ETF (VOO) - Industry: Financials\n",
      "2. SPDR S&P 500 ETF Trust (SPY) - Industry: Financials\n",
      "3. NVIDIA Corporation (NVDA) - Industry: Technology\n",
      "4. Vanguard Information Technology ETF (VIT) - Industry: Technology\n",
      "5. iShares MSCI ACWI ETF (ACWI) - Industry: Financials\n",
      "6. Invesco QQQ ETF (QQQ) - Industry: Technology\n",
      "7. iShares PHLX SOX ETF (SOXX) - Industry: Technology\n",
      "8. ProShares UltraPro QQQ (TQQQ) - Industry: Technology\n",
      "9. Vanguard FTSE Europe ETF (VGK) - Industry: Financials\n",
      "10. iShares MSCI Emerging Markets ETF (EEM) - Industry: Financials\n",
      "\n",
      "Note: The industries listed are based on the primary sector associated with each security, and may not reflect the security's exact industry classification.\n",
      "\n",
      "This list of securities is tailored to a very risk tolerant investor who is more focused on rapid growth instead of stability. The majority of the industries are not the same, and the list includes a mix of technology, financials, and international stocks to create a diversified portfolio."
     ]
    }
   ],
   "source": [
    "new_prompt_risk_tolerant = \"Gather the financial securities that are most mentioned across the articles in a positive sentiment.\" + \\\n",
    "\"The securities gathered can be stocks or ETFs. Return a list of 10 securities in which no more than half of the \" + \\\n",
    "\"securities are from the same industry. This list of securities should also be tailored to a very risk tolerant investor who \" + \\\n",
    "\"is more focused on rapid growth instead of stability. \" + \\\n",
    "\"Create this list so that they \" + \\\n",
    "\"can be put together to make a diversified portfolio. List the stock name, stock ticker in parentheses, and the industry associated with it\" + \\\n",
    "\"and double check that a majority of the industries aren't the same.\"\n",
    "\n",
    "response_no_risk = yf_query_engine.query(new_prompt_risk_tolerant)\n",
    "response_no_risk.print_response_stream()"
   ]
  },
  {
   "cell_type": "code",
   "execution_count": 82,
   "id": "30cda5b9",
   "metadata": {},
   "outputs": [],
   "source": [
    "industries = [\"industrials\", \"communication services\", \"real estate\"]"
   ]
  },
  {
   "cell_type": "code",
   "execution_count": 83,
   "id": "701c8c2b",
   "metadata": {},
   "outputs": [
    {
     "name": "stdout",
     "output_type": "stream",
     "text": [
      "Based on the provided articles, the following are the financial securities that are most mentioned in a positive sentiment:\n",
      "\n",
      "1. SPDR S&P 500 ETF Trust (SPY) - Industry: Industrials\n",
      "2. Vanguard S&P 500 ETF (VOO) - Industry: Industrials\n",
      "3. NVIDIA Corporation (NVDA) - Industry: Technology\n",
      "4. Amazon.com, Inc. (AMZN) - Industry: Technology\n",
      "5. Microsoft Corporation (MSFT) - Industry: Technology\n",
      "6. Alphabet Inc. (GOOGL) - Industry: Technology\n",
      "7. Facebook, Inc. (FB) - Industry: Communication Services\n",
      "8. Johnson & Johnson (JNJ) - Industry: Healthcare\n",
      "9. Procter & Gamble Company (PG) - Industry: Consumer Goods\n",
      "10. Real Estate Select Sector SPDR Fund (XLRE) - Industry: Real Estate\n",
      "\n",
      "Note: The list of securities is tailored to a very risk-tolerant investor who is more focused on rapid growth instead of stability. The list includes growth stocks with high expected returns, but also includes some stable companies from different industries to provide diversification."
     ]
    }
   ],
   "source": [
    "new_prompt_risk_tolerant = \"Gather the financial securities that are most mentioned across the articles in a positive sentiment.\" + \\\n",
    "\"The securities gathered can be stocks or ETFs. Return a list of 10 securities in which no more than half of the \" + \\\n",
    "\"securities are from the same industry. This list of securities should also be tailored to a very risk tolerant investor who \" + \\\n",
    "\"is more focused on rapid growth instead of stability. This list should include growth stocks with high expected returns \" + \\\n",
    "\"with the potential for greater risk. Create this list so that they \" + \\\n",
    "\"can be put together to make a diversified portfolio. Include multiple stocks with a strong focus on the \" + \\\n",
    "f\"following industry or industries: {industries}. \" + \\\n",
    "\"List the stock name, stock ticker in parentheses, and the industry associated with it\" + \\\n",
    "\"and double check that a majority of the industries aren't the same.\"\n",
    "\n",
    "response_no_risk = yf_query_engine.query(new_prompt_risk_tolerant)\n",
    "response_no_risk.print_response_stream()"
   ]
  },
  {
   "cell_type": "code",
   "execution_count": 56,
   "id": "e431b466",
   "metadata": {},
   "outputs": [
    {
     "name": "stdout",
     "output_type": "stream",
     "text": [
      "['response_synthesizer:text_qa_template', 'response_synthesizer:refine_template']\n"
     ]
    }
   ],
   "source": [
    "prompts_dict = yf_query_engine.get_prompts()\n",
    "print(list(prompts_dict.keys()))"
   ]
  },
  {
   "cell_type": "code",
   "execution_count": 60,
   "id": "00f72f29",
   "metadata": {},
   "outputs": [],
   "source": [
    "from llama_index.core import PromptTemplate"
   ]
  },
  {
   "cell_type": "code",
   "execution_count": 65,
   "id": "a211e700",
   "metadata": {},
   "outputs": [],
   "source": [
    "text_qa_template_str = (\n",
    "    \"Context information is\"\n",
    "    \" below.\\n---------------------\\n{context_str}\\n---------------------\\nUsing\"\n",
    "    \" both the context information and also using your own knowledge, answer\"\n",
    "    \" the request about portfolio recommendations: {query_str}\\nIf the context isn't helpful, you can also\"\n",
    "    \" answer the request on your own.\\nWhen answering,\"\n",
    "    \" respond in the following format:\\nSTOCK NAME (STOCK TICKER) - INDUSTRY\\n and\"\n",
    "    \" follow that format for each stock in the portfolio. The words in all capitals should be replaced with\"\n",
    "    \" the actual stock name, the stock ticker, and industry, respectively. Only include the stock recommendations,\"\n",
    "    \" do not include any filler text or notes at the beginning or end of the response.\"\n",
    ")\n",
    "text_qa_template = PromptTemplate(text_qa_template_str)"
   ]
  },
  {
   "cell_type": "code",
   "execution_count": 66,
   "id": "4ec01d01",
   "metadata": {},
   "outputs": [],
   "source": [
    "# should test adding system prompt and incorporating user preferences like risk aversion and industry preferences"
   ]
  },
  {
   "cell_type": "code",
   "execution_count": 67,
   "id": "08fee3f9",
   "metadata": {},
   "outputs": [],
   "source": [
    "yf_query_engine_prompt = yf_index.as_query_engine(llm=llm, streaming=True, text_qa_template=text_qa_template)"
   ]
  },
  {
   "cell_type": "code",
   "execution_count": 64,
   "id": "161f10fe",
   "metadata": {},
   "outputs": [
    {
     "name": "stdout",
     "output_type": "stream",
     "text": [
      "Based on the articles provided, here are 10 financial securities that are mentioned in a positive sentiment:\n",
      "\n",
      "1. Vanguard S&P 500 ETF (VOO) - Industry: Financials\n",
      "2. SPDR S&P 500 ETF Trust (SPY) - Industry: Financials\n",
      "3. iShares MSCI ACWI ETF (ACWI) - Industry: Financials\n",
      "4. iShares MSCI Emerging Markets ETF (EEM) - Industry: Materials\n",
      "5. Vanguard Total Stock Market ETF (VTI) - Industry: Utilities\n",
      "6. iShares Core S&P Total U.S. Stock Market ETF (ITOT) - Industry: Consumer Goods\n",
      "7. SPDR Dow Jones Industrial Average ETF (DIA) - Industry: Consumer Goods\n",
      "8. iShares NAREIT ETF (REIT) - Industry: Real Estate\n",
      "9. Vanguard Real Estate ETF (VNQ) - Industry: Real Estate\n",
      "10. iShares MSCI ACWI ex US ETF (ACWX) - Industry: Healthcare\n",
      "\n",
      "Notes:\n",
      "\n",
      "* No more than half of the securities are from the same industry.\n",
      "* The securities are tailored to a very risk-averse investor who is more focused on stability instead of rapid growth.\n",
      "* The list is diversified across different industries to minimize risk.\n",
      "* The securities are well-established and have a strong track record of performance.\n",
      "\n",
      "It's important to note that this is just a sample list and not a personalized investment advice. It's always recommended to consult with a financial advisor or a registered investment professional before making any investment decisions."
     ]
    }
   ],
   "source": [
    "response_risk_prompt = yf_query_engine.query(new_prompt_risk_averse)\n",
    "response_risk_prompt.print_response_stream()"
   ]
  },
  {
   "cell_type": "code",
   "execution_count": 68,
   "id": "7830c9f0",
   "metadata": {},
   "outputs": [
    {
     "name": "stdout",
     "output_type": "stream",
     "text": [
      "Based on the provided context, here are 10 stock recommendations for a diversified portfolio of growth stocks with high expected returns and potential for greater risk:\n",
      "\n",
      "1. Alibaba Group Holding Limited (BABA) - Technology\n",
      "2. Amazon.com, Inc. (AMZN) - Technology\n",
      "3. Netflix, Inc. (NFLX) - Technology\n",
      "4. Alphabet Inc. (GOOGL) - Technology\n",
      "5. NVIDIA Corporation (NVDA) - Technology\n",
      "6. Tesla, Inc. (TSLA) - Technology\n",
      "7. Square, Inc. (SQ) - Finance\n",
      "8. Shopify Inc. (SHOP) - E-commerce\n",
      "9. Zoom Video Communications, Inc. (ZM) - Technology\n",
      "10. CrowdStrike Holdings, Inc. (CRWD) - Technology\n",
      "\n",
      "These stocks are from different industries and are expected to have high growth potential, but they also come with a higher level of risk. It's important to note that this is just a sample list and it's always recommended to do your own research and consult with a financial advisor before making any investment decisions."
     ]
    }
   ],
   "source": [
    "response_no_risk_prompt = yf_query_engine_prompt.query(new_prompt_risk_tolerant)\n",
    "response_no_risk_prompt.print_response_stream()"
   ]
  },
  {
   "cell_type": "code",
   "execution_count": null,
   "id": "1029162b",
   "metadata": {},
   "outputs": [],
   "source": []
  },
  {
   "cell_type": "code",
   "execution_count": null,
   "id": "33056a44",
   "metadata": {},
   "outputs": [],
   "source": []
  },
  {
   "cell_type": "code",
   "execution_count": null,
   "id": "4ef03dc2",
   "metadata": {},
   "outputs": [],
   "source": []
  },
  {
   "cell_type": "code",
   "execution_count": null,
   "id": "ff8c7f91",
   "metadata": {},
   "outputs": [],
   "source": []
  },
  {
   "cell_type": "code",
   "execution_count": 29,
   "id": "a3f27f06",
   "metadata": {},
   "outputs": [
    {
     "name": "stderr",
     "output_type": "stream",
     "text": [
      "huggingface/tokenizers: The current process just got forked, after parallelism has already been used. Disabling parallelism to avoid deadlocks...\n",
      "To disable this warning, you can either:\n",
      "\t- Avoid using `tokenizers` before the fork if possible\n",
      "\t- Explicitly set the environment variable TOKENIZERS_PARALLELISM=(true | false)\n"
     ]
    },
    {
     "name": "stdout",
     "output_type": "stream",
     "text": [
      "Defaulting to user installation because normal site-packages is not writeable\n",
      "Requirement already satisfied: sec-api in /home/drmathew/.local/lib/python3.9/site-packages (1.0.18)\n",
      "Requirement already satisfied: yfinance in /home/drmathew/.local/lib/python3.9/site-packages (0.2.40)\n",
      "Requirement already satisfied: requests in /home/drmathew/.local/lib/python3.9/site-packages (from sec-api) (2.31.0)\n",
      "Requirement already satisfied: platformdirs>=2.0.0 in /opt/conda/lib/python3.9/site-packages (from yfinance) (4.2.0)\n",
      "Requirement already satisfied: pytz>=2022.5 in /home/drmathew/.local/lib/python3.9/site-packages (from yfinance) (2024.1)\n",
      "Requirement already satisfied: beautifulsoup4>=4.11.1 in /home/drmathew/.local/lib/python3.9/site-packages (from yfinance) (4.12.3)\n",
      "Requirement already satisfied: lxml>=4.9.1 in /home/drmathew/.local/lib/python3.9/site-packages (from yfinance) (5.2.2)\n",
      "Requirement already satisfied: numpy>=1.16.5 in /opt/conda/lib/python3.9/site-packages (from yfinance) (1.22.4)\n",
      "Requirement already satisfied: frozendict>=2.3.4 in /home/drmathew/.local/lib/python3.9/site-packages (from yfinance) (2.4.4)\n",
      "Requirement already satisfied: pandas>=1.3.0 in /opt/conda/lib/python3.9/site-packages (from yfinance) (2.2.0)\n",
      "Requirement already satisfied: html5lib>=1.1 in /home/drmathew/.local/lib/python3.9/site-packages (from yfinance) (1.1)\n",
      "Requirement already satisfied: multitasking>=0.0.7 in /home/drmathew/.local/lib/python3.9/site-packages (from yfinance) (0.0.11)\n",
      "Requirement already satisfied: peewee>=3.16.2 in /home/drmathew/.local/lib/python3.9/site-packages (from yfinance) (3.17.5)\n",
      "Requirement already satisfied: soupsieve>1.2 in /opt/conda/lib/python3.9/site-packages (from beautifulsoup4>=4.11.1->yfinance) (2.0.1)\n",
      "Requirement already satisfied: six>=1.9 in /opt/conda/lib/python3.9/site-packages (from html5lib>=1.1->yfinance) (1.16.0)\n",
      "Requirement already satisfied: webencodings in /opt/conda/lib/python3.9/site-packages (from html5lib>=1.1->yfinance) (0.5.1)\n",
      "Requirement already satisfied: python-dateutil>=2.8.2 in /opt/conda/lib/python3.9/site-packages (from pandas>=1.3.0->yfinance) (2.8.2)\n",
      "Requirement already satisfied: tzdata>=2022.7 in /opt/conda/lib/python3.9/site-packages (from pandas>=1.3.0->yfinance) (2024.1)\n",
      "Requirement already satisfied: idna<4,>=2.5 in /opt/conda/lib/python3.9/site-packages (from requests->sec-api) (3.1)\n",
      "Requirement already satisfied: urllib3<3,>=1.21.1 in /opt/conda/lib/python3.9/site-packages (from requests->sec-api) (1.26.6)\n",
      "Requirement already satisfied: charset-normalizer<4,>=2 in /opt/conda/lib/python3.9/site-packages (from requests->sec-api) (2.0.0)\n",
      "Requirement already satisfied: certifi>=2017.4.17 in /opt/conda/lib/python3.9/site-packages (from requests->sec-api) (2024.2.2)\n",
      "GE Aerospace\n",
      "industrials\n",
      "aerospace-defense\n",
      "X Unavailable Cash Flow: AccountsPayableCurrent\n",
      "X Strong Sell 0\n",
      "AAPL Unavailable Cash Flow: AccountsReceivableNetCurrent\n",
      "AAPL Strong Buy 3\n",
      "META Strong Buy 5\n",
      "MA Sell 0\n",
      "BA Strong Buy 3\n"
     ]
    }
   ],
   "source": [
    "from dual_dcf_model import discounted_cash_flow"
   ]
  }
 ],
 "metadata": {
  "kernelspec": {
   "display_name": "Python 3 (ipykernel)",
   "language": "python",
   "name": "python3"
  },
  "language_info": {
   "codemirror_mode": {
    "name": "ipython",
    "version": 3
   },
   "file_extension": ".py",
   "mimetype": "text/x-python",
   "name": "python",
   "nbconvert_exporter": "python",
   "pygments_lexer": "ipython3",
   "version": "3.9.5"
  }
 },
 "nbformat": 4,
 "nbformat_minor": 5
}
