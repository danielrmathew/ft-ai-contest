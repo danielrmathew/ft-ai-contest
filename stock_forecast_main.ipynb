{
 "cells": [
  {
   "cell_type": "code",
   "execution_count": 3,
   "id": "e8ab8c3f",
   "metadata": {},
   "outputs": [],
   "source": [
    "import yfinance as yf\n",
    "import pandas as pd\n",
    "import matplotlib.pyplot as plt\n",
    "import numpy as np\n",
    "from datetime import datetime, timedelta\n",
    "\n",
    "from prophet import Prophet\n",
    "from prophet.diagnostics import cross_validation, performance_metrics\n",
    "from sklearn.model_selection import ParameterGrid\n"
   ]
  },
  {
   "cell_type": "code",
   "execution_count": 14,
   "id": "2303f34f",
   "metadata": {},
   "outputs": [],
   "source": [
    "def fetch_stock_data(symbol, start_date, end_date):\n",
    "    \"\"\"\n",
    "    Fetches historical stock prices for a given symbol from start_date to end_date.\n",
    "    Dates are exclusive\n",
    "    \n",
    "    :param symbol: str, stock symbol\n",
    "    :param start_date: str, start date (YYYY-MM-DD format)\n",
    "    :param end_date: str, end date (YYYY-MM-DD format)\n",
    "    :return: DataFrame with historical stock data\n",
    "    \"\"\"\n",
    "    stock = yf.Ticker(symbol)\n",
    "    data = stock.history(start=start_date, end=end_date)\n",
    "    data.reset_index(inplace=True) \n",
    "    data['ds'] = data['Date'].dt.tz_localize(None)  # Convert Date to ds and remove timezone info\n",
    "    data.rename(columns={'Close': 'y'}, inplace=True)  # Rename Close to y for Prophet\n",
    "    data = data[['ds', 'y']]\n",
    "    data.drop_duplicates(subset=['ds'], inplace=True)  # Remove duplicate dates\n",
    "    return data\n",
    "\n",
    "#-------------------------------------------------------------------------------------------------\n",
    "\n",
    "def model_param_evaluation(data, params):\n",
    "    \"\"\"\n",
    "    Evaluates Prophet model parameters using cross-validation.\n",
    "    \n",
    "    :param data: DataFrame, historical stock data\n",
    "    :param params: dict, model parameters to test\n",
    "    :return: float, mean RMSE from cross-validation\n",
    "    \"\"\"\n",
    "    # Initialize Prophet model with given parameters\n",
    "    model = Prophet(\n",
    "        changepoint_prior_scale=params['changepoint_prior_scale'],\n",
    "        changepoint_range=params['changepoint_range'],\n",
    "        holidays_prior_scale=25,\n",
    "        seasonality_prior_scale=10,\n",
    "        weekly_seasonality=True,\n",
    "        yearly_seasonality=True,\n",
    "        daily_seasonality=False\n",
    "    )\n",
    "    model.add_country_holidays(country_name='US')  # Add US holidays to model\n",
    "    model.fit(data)  # Fit model to data\n",
    "    \n",
    "    # Perform cross-validation\n",
    "    df_cv = cross_validation(model, initial='730 days', period='180 days', horizon='365 days')\n",
    "    df_p = performance_metrics(df_cv)\n",
    "    return df_p['rmse'].mean()  # Return mean RMSE\n",
    "\n",
    "#-------------------------------------------------------------------------------------------------\n",
    "\n",
    "def hyperparameter_tuning(data, param_grid):\n",
    "    \"\"\"\n",
    "    Performs hyperparameter tuning to find the best parameters for the Prophet model.\n",
    "    \n",
    "    :param data: DataFrame, historical stock data\n",
    "    :param param_grid: dict, grid of parameters to search\n",
    "    :return: dict, best parameters found\n",
    "    \"\"\"\n",
    "    grid = ParameterGrid(param_grid)\n",
    "    best_params = None\n",
    "    best_rmse = float('inf')\n",
    "    \n",
    "    # Iterate over each combination of parameters\n",
    "    for params in grid:\n",
    "        rmse = model_param_evaluation(data, params)\n",
    "        \n",
    "        # Update best parameters if current RMSE is lower\n",
    "        if rmse < best_rmse:\n",
    "            best_rmse = rmse\n",
    "            best_params = params\n",
    "    \n",
    "    print(f\"Best parameters: {best_params}, Best RMSE: {best_rmse}\")\n",
    "    return best_params\n",
    "\n",
    "#-------------------------------------------------------------------------------------------------\n",
    "\n",
    "def train_prophet_model(data):\n",
    "    \"\"\"\n",
    "    Trains a Prophet model using the best hyperparameters found.\n",
    "    \n",
    "    :param data: DataFrame, historical stock data\n",
    "    :return: Prophet model trained with the best parameters\n",
    "    \"\"\"\n",
    "    param_grid = {\n",
    "        'changepoint_prior_scale': [0.01, 0.015, 0.020, 0.025],\n",
    "        'changepoint_range': [0.2, 0.4, 0.5, 0.8]\n",
    "    }\n",
    "    \n",
    "    # Find best parameters\n",
    "    best_params = hyperparameter_tuning(data, param_grid)\n",
    "\n",
    "    # Initialize and train the Prophet model with best parameters\n",
    "    model = Prophet(\n",
    "        changepoint_prior_scale=best_params['changepoint_prior_scale'],\n",
    "        changepoint_range=best_params['changepoint_range'],\n",
    "        holidays_prior_scale=25,\n",
    "        seasonality_prior_scale=10,\n",
    "        weekly_seasonality=True,\n",
    "        yearly_seasonality=True,\n",
    "        daily_seasonality=False\n",
    "    )\n",
    "    \n",
    "    model.add_country_holidays(country_name='US')\n",
    "    model.fit(data)\n",
    "    return model\n",
    "\n",
    "#-------------------------------------------------------------------------------------------------\n",
    "\n",
    "def gen_stock_forecast(symbol, start_date, end_date, num_days):\n",
    "    \"\"\"\n",
    "    Generates a stock price forecast for a given number of days.\n",
    "    \n",
    "    :param symbol: str, stock symbol\n",
    "    :param start_date: str, start date (YYYY-MM-DD format)\n",
    "    :param end_date: str, end date (YYYY-MM-DD format)\n",
    "    :param num_days: int, number of days to forecast\n",
    "    :return: trained Prophet model, DataFrame with forecast, full forecast DataFrame, trend value\n",
    "    \"\"\"\n",
    "    # Fetch historical stock data\n",
    "    data = fetch_stock_data(symbol, start_date, end_date)\n",
    "\n",
    "    # Train the Prophet model\n",
    "    model = train_prophet_model(data)\n",
    "\n",
    "    # Create future dataframe for prediction\n",
    "    future = model.make_future_dataframe(periods=num_days)\n",
    "\n",
    "    # Predict future values\n",
    "    forecast = model.predict(future)\n",
    "    \n",
    "    # Calculate the average of the last 'num_days' actual values\n",
    "    prev_avg = data.tail(num_days)['y'].mean()\n",
    "    # Calculate the average of the forecasted values\n",
    "    next_avg = forecast['yhat'].mean()\n",
    "    \n",
    "    # Calculate the trend as the average of the previous and next average values\n",
    "    trend = (prev_avg + next_avg) / 2\n",
    "#     model.plot(forecast.to_numpy())\n",
    "\n",
    "    return model, forecast[['ds', 'yhat', 'yhat_lower', 'yhat_upper']].tail(num_days), forecast, trend\n"
   ]
  },
  {
   "cell_type": "code",
   "execution_count": 15,
   "id": "5d22d766",
   "metadata": {},
   "outputs": [],
   "source": [
    "def main_forecast(ticker, start_date, end_date, days_to_predict):\n",
    "    \"\"\"\n",
    "    Generates a stock price forecast and returns the forecast trend and average confidence interval length.\n",
    "    \n",
    "    :param ticker: str, stock symbol\n",
    "    :param start_date: str, start date (YYYY-MM-DD format)\n",
    "    :param end_date: str, end date (YYYY-MM-DD format)\n",
    "    :param days_to_predict: int, number of days to forecast\n",
    "    :return: tuple, (forecast trend, average confidence interval length)\n",
    "    \"\"\"\n",
    "    # Generate stock forecast using the specified parameters\n",
    "    model, fc, fc_all, fc_trend = gen_stock_forecast(ticker, start_date, end_date, days_to_predict)\n",
    "    \n",
    "    # Calculate the predicted date 92 days after the end date\n",
    "    pred_date = datetime.strptime(end_date, '%Y-%m-%d') + timedelta(days=92)\n",
    "    pred_date = pred_date.strftime('%Y-%m-%d')\n",
    "    \n",
    "    # Calculate the average confidence interval length\n",
    "    cl = (fc['yhat_upper'] - fc['yhat_lower']).mean()\n",
    "    \n",
    "    return fc_trend, cl"
   ]
  },
  {
   "cell_type": "code",
   "execution_count": 16,
   "id": "bcc892ce",
   "metadata": {},
   "outputs": [],
   "source": [
    "def stock_options_weights(tickers, start_date, end_date, days_to_predict):\n",
    "    \"\"\"\n",
    "    Calculates the forecast trends and weights for a list of stock tickers based on their predicted trends and confidence intervals.\n",
    "    \n",
    "    :param tickers: list of str, stock symbols\n",
    "    :param start_date: str, start date (YYYY-MM-DD format)\n",
    "    :param end_date: str, end date (YYYY-MM-DD format)\n",
    "    :param days_to_predict: int, number of days to forecast\n",
    "    :return: dict, mapping each ticker to its forecast trend and calculated weight\n",
    "    \"\"\"\n",
    "    \n",
    "    def calculate_weights(xs):\n",
    "        \"\"\"\n",
    "        Calculates weights based on the inverse of each value in xs.\n",
    "        \n",
    "        :param xs: array-like, values to calculate weights for\n",
    "        :return: array, calculated weights\n",
    "        \"\"\"\n",
    "        # Calculate the inverse of each value, adding a small constant to avoid division by zero\n",
    "        inverses = 1 / (xs + 1e-10)\n",
    "\n",
    "        # Sum of inverses\n",
    "        total_inverse = sum(inverses)\n",
    "\n",
    "        # Calculate weights as the proportion of each inverse over the total inverse\n",
    "        weights = inverses / total_inverse\n",
    "\n",
    "        return weights\n",
    "    \n",
    "    trends_cls = []\n",
    "    \n",
    "    # Loop through each ticker to calculate its trend and confidence interval length\n",
    "    for ticker in tickers:\n",
    "        trends_cls.append(main_forecast(ticker, start_date, end_date, days_to_predict))\n",
    "        \n",
    "    # Convert list to numpy array for easier manipulation\n",
    "    trends_cls = np.array(trends_cls)\n",
    "    \n",
    "    # Extract trends and confidence interval lengths\n",
    "    trends = trends_cls[:, 0]\n",
    "    cls = trends_cls[:, 1]\n",
    "\n",
    "    # Calculate weights based on confidence interval lengths\n",
    "    weights = calculate_weights(cls)\n",
    "\n",
    "    # Create a dictionary mapping each ticker to its trend and weight\n",
    "    return {tickers[i]: (trends[i], weights[i]) for i in range(len(tickers))}\n"
   ]
  },
  {
   "cell_type": "code",
   "execution_count": 11,
   "id": "3bbe30c5",
   "metadata": {},
   "outputs": [
    {
     "name": "stderr",
     "output_type": "stream",
     "text": [
      "20:23:49 - cmdstanpy - INFO - Chain [1] start processing\n",
      "20:23:49 - cmdstanpy - INFO - Chain [1] done processing\n"
     ]
    },
    {
     "data": {
      "application/vnd.jupyter.widget-view+json": {
       "model_id": "4d7ad28dd17a4c2aaa9e48b7a97dbc23",
       "version_major": 2,
       "version_minor": 0
      },
      "text/plain": [
       "  0%|          | 0/3 [00:00<?, ?it/s]"
      ]
     },
     "metadata": {},
     "output_type": "display_data"
    },
    {
     "name": "stderr",
     "output_type": "stream",
     "text": [
      "20:23:50 - cmdstanpy - INFO - Chain [1] start processing\n",
      "20:23:50 - cmdstanpy - INFO - Chain [1] done processing\n",
      "20:23:50 - cmdstanpy - INFO - Chain [1] start processing\n",
      "20:23:50 - cmdstanpy - INFO - Chain [1] done processing\n",
      "20:23:51 - cmdstanpy - INFO - Chain [1] start processing\n",
      "20:23:51 - cmdstanpy - INFO - Chain [1] done processing\n",
      "20:23:51 - cmdstanpy - INFO - Chain [1] start processing\n",
      "20:23:51 - cmdstanpy - INFO - Chain [1] done processing\n"
     ]
    },
    {
     "data": {
      "application/vnd.jupyter.widget-view+json": {
       "model_id": "7ee86f9eac9e440ea7a89f423292a98c",
       "version_major": 2,
       "version_minor": 0
      },
      "text/plain": [
       "  0%|          | 0/3 [00:00<?, ?it/s]"
      ]
     },
     "metadata": {},
     "output_type": "display_data"
    },
    {
     "name": "stderr",
     "output_type": "stream",
     "text": [
      "20:23:51 - cmdstanpy - INFO - Chain [1] start processing\n",
      "20:23:52 - cmdstanpy - INFO - Chain [1] done processing\n",
      "20:23:52 - cmdstanpy - INFO - Chain [1] start processing\n",
      "20:23:52 - cmdstanpy - INFO - Chain [1] done processing\n",
      "20:23:53 - cmdstanpy - INFO - Chain [1] start processing\n",
      "20:23:53 - cmdstanpy - INFO - Chain [1] done processing\n",
      "20:23:53 - cmdstanpy - INFO - Chain [1] start processing\n",
      "20:23:53 - cmdstanpy - INFO - Chain [1] done processing\n"
     ]
    },
    {
     "data": {
      "application/vnd.jupyter.widget-view+json": {
       "model_id": "e5700c90bbbd47fab1c3f4fb0ec6b28c",
       "version_major": 2,
       "version_minor": 0
      },
      "text/plain": [
       "  0%|          | 0/3 [00:00<?, ?it/s]"
      ]
     },
     "metadata": {},
     "output_type": "display_data"
    },
    {
     "name": "stderr",
     "output_type": "stream",
     "text": [
      "20:23:53 - cmdstanpy - INFO - Chain [1] start processing\n",
      "20:23:54 - cmdstanpy - INFO - Chain [1] done processing\n",
      "20:23:54 - cmdstanpy - INFO - Chain [1] start processing\n",
      "20:23:54 - cmdstanpy - INFO - Chain [1] done processing\n",
      "20:23:55 - cmdstanpy - INFO - Chain [1] start processing\n",
      "20:23:55 - cmdstanpy - INFO - Chain [1] done processing\n",
      "20:23:55 - cmdstanpy - INFO - Chain [1] start processing\n",
      "20:23:55 - cmdstanpy - INFO - Chain [1] done processing\n"
     ]
    },
    {
     "data": {
      "application/vnd.jupyter.widget-view+json": {
       "model_id": "c3547160cbca45d48b103b1979cb8d35",
       "version_major": 2,
       "version_minor": 0
      },
      "text/plain": [
       "  0%|          | 0/3 [00:00<?, ?it/s]"
      ]
     },
     "metadata": {},
     "output_type": "display_data"
    },
    {
     "name": "stderr",
     "output_type": "stream",
     "text": [
      "20:23:55 - cmdstanpy - INFO - Chain [1] start processing\n",
      "20:23:55 - cmdstanpy - INFO - Chain [1] done processing\n",
      "20:23:56 - cmdstanpy - INFO - Chain [1] start processing\n",
      "20:23:56 - cmdstanpy - INFO - Chain [1] done processing\n",
      "20:23:56 - cmdstanpy - INFO - Chain [1] start processing\n",
      "20:23:56 - cmdstanpy - INFO - Chain [1] done processing\n",
      "20:23:57 - cmdstanpy - INFO - Chain [1] start processing\n",
      "20:23:57 - cmdstanpy - INFO - Chain [1] done processing\n"
     ]
    },
    {
     "data": {
      "application/vnd.jupyter.widget-view+json": {
       "model_id": "d3ad9dc7f453441888cb4e29b92bede2",
       "version_major": 2,
       "version_minor": 0
      },
      "text/plain": [
       "  0%|          | 0/3 [00:00<?, ?it/s]"
      ]
     },
     "metadata": {},
     "output_type": "display_data"
    },
    {
     "name": "stderr",
     "output_type": "stream",
     "text": [
      "20:23:57 - cmdstanpy - INFO - Chain [1] start processing\n",
      "20:23:57 - cmdstanpy - INFO - Chain [1] done processing\n",
      "20:23:58 - cmdstanpy - INFO - Chain [1] start processing\n",
      "20:23:58 - cmdstanpy - INFO - Chain [1] done processing\n",
      "20:23:58 - cmdstanpy - INFO - Chain [1] start processing\n",
      "20:23:58 - cmdstanpy - INFO - Chain [1] done processing\n",
      "20:23:59 - cmdstanpy - INFO - Chain [1] start processing\n",
      "20:23:59 - cmdstanpy - INFO - Chain [1] done processing\n"
     ]
    },
    {
     "data": {
      "application/vnd.jupyter.widget-view+json": {
       "model_id": "6e709359eea44c67866eed6114d715b1",
       "version_major": 2,
       "version_minor": 0
      },
      "text/plain": [
       "  0%|          | 0/3 [00:00<?, ?it/s]"
      ]
     },
     "metadata": {},
     "output_type": "display_data"
    },
    {
     "name": "stderr",
     "output_type": "stream",
     "text": [
      "20:23:59 - cmdstanpy - INFO - Chain [1] start processing\n",
      "20:23:59 - cmdstanpy - INFO - Chain [1] done processing\n",
      "20:23:59 - cmdstanpy - INFO - Chain [1] start processing\n",
      "20:24:00 - cmdstanpy - INFO - Chain [1] done processing\n",
      "20:24:00 - cmdstanpy - INFO - Chain [1] start processing\n",
      "20:24:00 - cmdstanpy - INFO - Chain [1] done processing\n",
      "20:24:01 - cmdstanpy - INFO - Chain [1] start processing\n",
      "20:24:01 - cmdstanpy - INFO - Chain [1] done processing\n"
     ]
    },
    {
     "data": {
      "application/vnd.jupyter.widget-view+json": {
       "model_id": "ab2f0380045e4e2ebc7754bb91e09361",
       "version_major": 2,
       "version_minor": 0
      },
      "text/plain": [
       "  0%|          | 0/3 [00:00<?, ?it/s]"
      ]
     },
     "metadata": {},
     "output_type": "display_data"
    },
    {
     "name": "stderr",
     "output_type": "stream",
     "text": [
      "20:24:01 - cmdstanpy - INFO - Chain [1] start processing\n",
      "20:24:01 - cmdstanpy - INFO - Chain [1] done processing\n",
      "20:24:01 - cmdstanpy - INFO - Chain [1] start processing\n",
      "20:24:01 - cmdstanpy - INFO - Chain [1] done processing\n",
      "20:24:02 - cmdstanpy - INFO - Chain [1] start processing\n",
      "20:24:02 - cmdstanpy - INFO - Chain [1] done processing\n",
      "20:24:02 - cmdstanpy - INFO - Chain [1] start processing\n",
      "20:24:03 - cmdstanpy - INFO - Chain [1] done processing\n"
     ]
    },
    {
     "data": {
      "application/vnd.jupyter.widget-view+json": {
       "model_id": "6e95c21170d24a37b5c4c5b056351e30",
       "version_major": 2,
       "version_minor": 0
      },
      "text/plain": [
       "  0%|          | 0/3 [00:00<?, ?it/s]"
      ]
     },
     "metadata": {},
     "output_type": "display_data"
    },
    {
     "name": "stderr",
     "output_type": "stream",
     "text": [
      "20:24:03 - cmdstanpy - INFO - Chain [1] start processing\n",
      "20:24:03 - cmdstanpy - INFO - Chain [1] done processing\n",
      "20:24:03 - cmdstanpy - INFO - Chain [1] start processing\n",
      "20:24:03 - cmdstanpy - INFO - Chain [1] done processing\n",
      "20:24:03 - cmdstanpy - INFO - Chain [1] start processing\n",
      "20:24:04 - cmdstanpy - INFO - Chain [1] done processing\n",
      "20:24:04 - cmdstanpy - INFO - Chain [1] start processing\n",
      "20:24:04 - cmdstanpy - INFO - Chain [1] done processing\n"
     ]
    },
    {
     "data": {
      "application/vnd.jupyter.widget-view+json": {
       "model_id": "89448b97b16246c4a461fb034536f37a",
       "version_major": 2,
       "version_minor": 0
      },
      "text/plain": [
       "  0%|          | 0/3 [00:00<?, ?it/s]"
      ]
     },
     "metadata": {},
     "output_type": "display_data"
    },
    {
     "name": "stderr",
     "output_type": "stream",
     "text": [
      "20:24:04 - cmdstanpy - INFO - Chain [1] start processing\n",
      "20:24:04 - cmdstanpy - INFO - Chain [1] done processing\n",
      "20:24:05 - cmdstanpy - INFO - Chain [1] start processing\n",
      "20:24:05 - cmdstanpy - INFO - Chain [1] done processing\n",
      "20:24:05 - cmdstanpy - INFO - Chain [1] start processing\n",
      "20:24:05 - cmdstanpy - INFO - Chain [1] done processing\n",
      "20:24:06 - cmdstanpy - INFO - Chain [1] start processing\n",
      "20:24:06 - cmdstanpy - INFO - Chain [1] done processing\n"
     ]
    },
    {
     "data": {
      "application/vnd.jupyter.widget-view+json": {
       "model_id": "0bf869c157c1408c83734910c2f173cb",
       "version_major": 2,
       "version_minor": 0
      },
      "text/plain": [
       "  0%|          | 0/3 [00:00<?, ?it/s]"
      ]
     },
     "metadata": {},
     "output_type": "display_data"
    },
    {
     "name": "stderr",
     "output_type": "stream",
     "text": [
      "20:24:06 - cmdstanpy - INFO - Chain [1] start processing\n",
      "20:24:06 - cmdstanpy - INFO - Chain [1] done processing\n",
      "20:24:07 - cmdstanpy - INFO - Chain [1] start processing\n",
      "20:24:07 - cmdstanpy - INFO - Chain [1] done processing\n",
      "20:24:07 - cmdstanpy - INFO - Chain [1] start processing\n",
      "20:24:07 - cmdstanpy - INFO - Chain [1] done processing\n",
      "20:24:08 - cmdstanpy - INFO - Chain [1] start processing\n",
      "20:24:08 - cmdstanpy - INFO - Chain [1] done processing\n"
     ]
    },
    {
     "data": {
      "application/vnd.jupyter.widget-view+json": {
       "model_id": "bc61bc006e934287808fc2563ebbe487",
       "version_major": 2,
       "version_minor": 0
      },
      "text/plain": [
       "  0%|          | 0/3 [00:00<?, ?it/s]"
      ]
     },
     "metadata": {},
     "output_type": "display_data"
    },
    {
     "name": "stderr",
     "output_type": "stream",
     "text": [
      "20:24:08 - cmdstanpy - INFO - Chain [1] start processing\n",
      "20:24:08 - cmdstanpy - INFO - Chain [1] done processing\n",
      "20:24:09 - cmdstanpy - INFO - Chain [1] start processing\n",
      "20:24:09 - cmdstanpy - INFO - Chain [1] done processing\n",
      "20:24:09 - cmdstanpy - INFO - Chain [1] start processing\n",
      "20:24:09 - cmdstanpy - INFO - Chain [1] done processing\n",
      "20:24:10 - cmdstanpy - INFO - Chain [1] start processing\n",
      "20:24:10 - cmdstanpy - INFO - Chain [1] done processing\n"
     ]
    },
    {
     "data": {
      "application/vnd.jupyter.widget-view+json": {
       "model_id": "121ce2a76c534315ba4b6f98e3905d71",
       "version_major": 2,
       "version_minor": 0
      },
      "text/plain": [
       "  0%|          | 0/3 [00:00<?, ?it/s]"
      ]
     },
     "metadata": {},
     "output_type": "display_data"
    },
    {
     "name": "stderr",
     "output_type": "stream",
     "text": [
      "20:24:10 - cmdstanpy - INFO - Chain [1] start processing\n",
      "20:24:10 - cmdstanpy - INFO - Chain [1] done processing\n",
      "20:24:11 - cmdstanpy - INFO - Chain [1] start processing\n",
      "20:24:11 - cmdstanpy - INFO - Chain [1] done processing\n",
      "20:24:11 - cmdstanpy - INFO - Chain [1] start processing\n",
      "20:24:11 - cmdstanpy - INFO - Chain [1] done processing\n",
      "20:24:12 - cmdstanpy - INFO - Chain [1] start processing\n",
      "20:24:12 - cmdstanpy - INFO - Chain [1] done processing\n"
     ]
    },
    {
     "data": {
      "application/vnd.jupyter.widget-view+json": {
       "model_id": "2f2dc275993d4369bfab8f60767ab029",
       "version_major": 2,
       "version_minor": 0
      },
      "text/plain": [
       "  0%|          | 0/3 [00:00<?, ?it/s]"
      ]
     },
     "metadata": {},
     "output_type": "display_data"
    },
    {
     "name": "stderr",
     "output_type": "stream",
     "text": [
      "20:24:12 - cmdstanpy - INFO - Chain [1] start processing\n",
      "20:24:12 - cmdstanpy - INFO - Chain [1] done processing\n",
      "20:24:13 - cmdstanpy - INFO - Chain [1] start processing\n",
      "20:24:13 - cmdstanpy - INFO - Chain [1] done processing\n",
      "20:24:13 - cmdstanpy - INFO - Chain [1] start processing\n",
      "20:24:13 - cmdstanpy - INFO - Chain [1] done processing\n",
      "20:24:14 - cmdstanpy - INFO - Chain [1] start processing\n",
      "20:24:14 - cmdstanpy - INFO - Chain [1] done processing\n"
     ]
    },
    {
     "data": {
      "application/vnd.jupyter.widget-view+json": {
       "model_id": "9a69359cc1e345bebcf6968d7b9ea6dc",
       "version_major": 2,
       "version_minor": 0
      },
      "text/plain": [
       "  0%|          | 0/3 [00:00<?, ?it/s]"
      ]
     },
     "metadata": {},
     "output_type": "display_data"
    },
    {
     "name": "stderr",
     "output_type": "stream",
     "text": [
      "20:24:14 - cmdstanpy - INFO - Chain [1] start processing\n",
      "20:24:14 - cmdstanpy - INFO - Chain [1] done processing\n",
      "20:24:15 - cmdstanpy - INFO - Chain [1] start processing\n",
      "20:24:15 - cmdstanpy - INFO - Chain [1] done processing\n",
      "20:24:15 - cmdstanpy - INFO - Chain [1] start processing\n",
      "20:24:15 - cmdstanpy - INFO - Chain [1] done processing\n",
      "20:24:16 - cmdstanpy - INFO - Chain [1] start processing\n",
      "20:24:16 - cmdstanpy - INFO - Chain [1] done processing\n"
     ]
    },
    {
     "data": {
      "application/vnd.jupyter.widget-view+json": {
       "model_id": "afad8a490d3445a0993009026283b102",
       "version_major": 2,
       "version_minor": 0
      },
      "text/plain": [
       "  0%|          | 0/3 [00:00<?, ?it/s]"
      ]
     },
     "metadata": {},
     "output_type": "display_data"
    },
    {
     "name": "stderr",
     "output_type": "stream",
     "text": [
      "20:24:16 - cmdstanpy - INFO - Chain [1] start processing\n",
      "20:24:16 - cmdstanpy - INFO - Chain [1] done processing\n",
      "20:24:17 - cmdstanpy - INFO - Chain [1] start processing\n",
      "20:24:17 - cmdstanpy - INFO - Chain [1] done processing\n",
      "20:24:17 - cmdstanpy - INFO - Chain [1] start processing\n",
      "20:24:17 - cmdstanpy - INFO - Chain [1] done processing\n",
      "20:24:18 - cmdstanpy - INFO - Chain [1] start processing\n",
      "20:24:18 - cmdstanpy - INFO - Chain [1] done processing\n"
     ]
    },
    {
     "data": {
      "application/vnd.jupyter.widget-view+json": {
       "model_id": "b1ae5ff76dd74d49bb2a52e4d2c4946c",
       "version_major": 2,
       "version_minor": 0
      },
      "text/plain": [
       "  0%|          | 0/3 [00:00<?, ?it/s]"
      ]
     },
     "metadata": {},
     "output_type": "display_data"
    },
    {
     "name": "stderr",
     "output_type": "stream",
     "text": [
      "20:24:18 - cmdstanpy - INFO - Chain [1] start processing\n",
      "20:24:18 - cmdstanpy - INFO - Chain [1] done processing\n",
      "20:24:19 - cmdstanpy - INFO - Chain [1] start processing\n",
      "20:24:19 - cmdstanpy - INFO - Chain [1] done processing\n",
      "20:24:19 - cmdstanpy - INFO - Chain [1] start processing\n",
      "20:24:19 - cmdstanpy - INFO - Chain [1] done processing\n",
      "20:24:20 - cmdstanpy - INFO - Chain [1] start processing\n",
      "20:24:20 - cmdstanpy - INFO - Chain [1] done processing\n"
     ]
    },
    {
     "name": "stdout",
     "output_type": "stream",
     "text": [
      "Best parameters: {'changepoint_prior_scale': 0.02, 'changepoint_range': 0.4}, Best RMSE: 28.882350731688703\n"
     ]
    },
    {
     "name": "stderr",
     "output_type": "stream",
     "text": [
      "20:24:21 - cmdstanpy - INFO - Chain [1] start processing\n",
      "20:24:21 - cmdstanpy - INFO - Chain [1] done processing\n"
     ]
    },
    {
     "data": {
      "application/vnd.jupyter.widget-view+json": {
       "model_id": "82f81adb07a7481bb95064ebc034018d",
       "version_major": 2,
       "version_minor": 0
      },
      "text/plain": [
       "  0%|          | 0/3 [00:00<?, ?it/s]"
      ]
     },
     "metadata": {},
     "output_type": "display_data"
    },
    {
     "name": "stderr",
     "output_type": "stream",
     "text": [
      "20:24:21 - cmdstanpy - INFO - Chain [1] start processing\n",
      "20:24:21 - cmdstanpy - INFO - Chain [1] done processing\n",
      "20:24:21 - cmdstanpy - INFO - Chain [1] start processing\n",
      "20:24:21 - cmdstanpy - INFO - Chain [1] done processing\n",
      "20:24:22 - cmdstanpy - INFO - Chain [1] start processing\n",
      "20:24:22 - cmdstanpy - INFO - Chain [1] done processing\n",
      "20:24:22 - cmdstanpy - INFO - Chain [1] start processing\n",
      "20:24:23 - cmdstanpy - INFO - Chain [1] done processing\n"
     ]
    },
    {
     "data": {
      "application/vnd.jupyter.widget-view+json": {
       "model_id": "c03a7bfe882049f9b9b1edd46a37f682",
       "version_major": 2,
       "version_minor": 0
      },
      "text/plain": [
       "  0%|          | 0/3 [00:00<?, ?it/s]"
      ]
     },
     "metadata": {},
     "output_type": "display_data"
    },
    {
     "name": "stderr",
     "output_type": "stream",
     "text": [
      "20:24:23 - cmdstanpy - INFO - Chain [1] start processing\n",
      "20:24:23 - cmdstanpy - INFO - Chain [1] done processing\n",
      "20:24:23 - cmdstanpy - INFO - Chain [1] start processing\n",
      "20:24:23 - cmdstanpy - INFO - Chain [1] done processing\n",
      "20:24:24 - cmdstanpy - INFO - Chain [1] start processing\n",
      "20:24:24 - cmdstanpy - INFO - Chain [1] done processing\n",
      "20:24:24 - cmdstanpy - INFO - Chain [1] start processing\n",
      "20:24:24 - cmdstanpy - INFO - Chain [1] done processing\n"
     ]
    },
    {
     "data": {
      "application/vnd.jupyter.widget-view+json": {
       "model_id": "ca29d2c836b247d8962ecaf496f00d88",
       "version_major": 2,
       "version_minor": 0
      },
      "text/plain": [
       "  0%|          | 0/3 [00:00<?, ?it/s]"
      ]
     },
     "metadata": {},
     "output_type": "display_data"
    },
    {
     "name": "stderr",
     "output_type": "stream",
     "text": [
      "20:24:24 - cmdstanpy - INFO - Chain [1] start processing\n",
      "20:24:25 - cmdstanpy - INFO - Chain [1] done processing\n",
      "20:24:25 - cmdstanpy - INFO - Chain [1] start processing\n",
      "20:24:25 - cmdstanpy - INFO - Chain [1] done processing\n",
      "20:24:26 - cmdstanpy - INFO - Chain [1] start processing\n",
      "20:24:26 - cmdstanpy - INFO - Chain [1] done processing\n",
      "20:24:26 - cmdstanpy - INFO - Chain [1] start processing\n",
      "20:24:27 - cmdstanpy - INFO - Chain [1] done processing\n"
     ]
    },
    {
     "data": {
      "application/vnd.jupyter.widget-view+json": {
       "model_id": "21a03c565be54b6f84fb2a9b33fdfc39",
       "version_major": 2,
       "version_minor": 0
      },
      "text/plain": [
       "  0%|          | 0/3 [00:00<?, ?it/s]"
      ]
     },
     "metadata": {},
     "output_type": "display_data"
    },
    {
     "name": "stderr",
     "output_type": "stream",
     "text": [
      "20:24:27 - cmdstanpy - INFO - Chain [1] start processing\n",
      "20:24:27 - cmdstanpy - INFO - Chain [1] done processing\n",
      "20:24:27 - cmdstanpy - INFO - Chain [1] start processing\n",
      "20:24:27 - cmdstanpy - INFO - Chain [1] done processing\n",
      "20:24:28 - cmdstanpy - INFO - Chain [1] start processing\n",
      "20:24:28 - cmdstanpy - INFO - Chain [1] done processing\n",
      "20:24:28 - cmdstanpy - INFO - Chain [1] start processing\n",
      "20:24:29 - cmdstanpy - INFO - Chain [1] done processing\n"
     ]
    },
    {
     "data": {
      "application/vnd.jupyter.widget-view+json": {
       "model_id": "0a5aad2b18514e42b07cd7e2f63e6448",
       "version_major": 2,
       "version_minor": 0
      },
      "text/plain": [
       "  0%|          | 0/3 [00:00<?, ?it/s]"
      ]
     },
     "metadata": {},
     "output_type": "display_data"
    },
    {
     "name": "stderr",
     "output_type": "stream",
     "text": [
      "20:24:29 - cmdstanpy - INFO - Chain [1] start processing\n",
      "20:24:29 - cmdstanpy - INFO - Chain [1] done processing\n",
      "20:24:29 - cmdstanpy - INFO - Chain [1] start processing\n",
      "20:24:29 - cmdstanpy - INFO - Chain [1] done processing\n",
      "20:24:30 - cmdstanpy - INFO - Chain [1] start processing\n",
      "20:24:30 - cmdstanpy - INFO - Chain [1] done processing\n",
      "20:24:30 - cmdstanpy - INFO - Chain [1] start processing\n",
      "20:24:30 - cmdstanpy - INFO - Chain [1] done processing\n"
     ]
    },
    {
     "data": {
      "application/vnd.jupyter.widget-view+json": {
       "model_id": "0fe7c9bbcf164b9992b9c8bd923b40dc",
       "version_major": 2,
       "version_minor": 0
      },
      "text/plain": [
       "  0%|          | 0/3 [00:00<?, ?it/s]"
      ]
     },
     "metadata": {},
     "output_type": "display_data"
    },
    {
     "name": "stderr",
     "output_type": "stream",
     "text": [
      "20:24:31 - cmdstanpy - INFO - Chain [1] start processing\n",
      "20:24:31 - cmdstanpy - INFO - Chain [1] done processing\n",
      "20:24:31 - cmdstanpy - INFO - Chain [1] start processing\n",
      "20:24:31 - cmdstanpy - INFO - Chain [1] done processing\n",
      "20:24:31 - cmdstanpy - INFO - Chain [1] start processing\n",
      "20:24:32 - cmdstanpy - INFO - Chain [1] done processing\n",
      "20:24:32 - cmdstanpy - INFO - Chain [1] start processing\n",
      "20:24:32 - cmdstanpy - INFO - Chain [1] done processing\n"
     ]
    },
    {
     "data": {
      "application/vnd.jupyter.widget-view+json": {
       "model_id": "d7d6e73f70b74fb290f2f92897012908",
       "version_major": 2,
       "version_minor": 0
      },
      "text/plain": [
       "  0%|          | 0/3 [00:00<?, ?it/s]"
      ]
     },
     "metadata": {},
     "output_type": "display_data"
    },
    {
     "name": "stderr",
     "output_type": "stream",
     "text": [
      "20:24:32 - cmdstanpy - INFO - Chain [1] start processing\n",
      "20:24:32 - cmdstanpy - INFO - Chain [1] done processing\n",
      "20:24:33 - cmdstanpy - INFO - Chain [1] start processing\n",
      "20:24:33 - cmdstanpy - INFO - Chain [1] done processing\n",
      "20:24:33 - cmdstanpy - INFO - Chain [1] start processing\n",
      "20:24:33 - cmdstanpy - INFO - Chain [1] done processing\n",
      "20:24:34 - cmdstanpy - INFO - Chain [1] start processing\n",
      "20:24:34 - cmdstanpy - INFO - Chain [1] done processing\n"
     ]
    },
    {
     "data": {
      "application/vnd.jupyter.widget-view+json": {
       "model_id": "7e39858b16414871b92d1755c332e5d0",
       "version_major": 2,
       "version_minor": 0
      },
      "text/plain": [
       "  0%|          | 0/3 [00:00<?, ?it/s]"
      ]
     },
     "metadata": {},
     "output_type": "display_data"
    },
    {
     "name": "stderr",
     "output_type": "stream",
     "text": [
      "20:24:34 - cmdstanpy - INFO - Chain [1] start processing\n",
      "20:24:35 - cmdstanpy - INFO - Chain [1] done processing\n",
      "20:24:35 - cmdstanpy - INFO - Chain [1] start processing\n",
      "20:24:35 - cmdstanpy - INFO - Chain [1] done processing\n",
      "20:24:36 - cmdstanpy - INFO - Chain [1] start processing\n",
      "20:24:36 - cmdstanpy - INFO - Chain [1] done processing\n",
      "20:24:36 - cmdstanpy - INFO - Chain [1] start processing\n",
      "20:24:36 - cmdstanpy - INFO - Chain [1] done processing\n"
     ]
    },
    {
     "data": {
      "application/vnd.jupyter.widget-view+json": {
       "model_id": "cdb41da44c324fd09447c9e6b33d4782",
       "version_major": 2,
       "version_minor": 0
      },
      "text/plain": [
       "  0%|          | 0/3 [00:00<?, ?it/s]"
      ]
     },
     "metadata": {},
     "output_type": "display_data"
    },
    {
     "name": "stderr",
     "output_type": "stream",
     "text": [
      "20:24:36 - cmdstanpy - INFO - Chain [1] start processing\n",
      "20:24:36 - cmdstanpy - INFO - Chain [1] done processing\n",
      "20:24:37 - cmdstanpy - INFO - Chain [1] start processing\n",
      "20:24:37 - cmdstanpy - INFO - Chain [1] done processing\n",
      "20:24:37 - cmdstanpy - INFO - Chain [1] start processing\n",
      "20:24:37 - cmdstanpy - INFO - Chain [1] done processing\n",
      "20:24:38 - cmdstanpy - INFO - Chain [1] start processing\n",
      "20:24:38 - cmdstanpy - INFO - Chain [1] done processing\n"
     ]
    },
    {
     "data": {
      "application/vnd.jupyter.widget-view+json": {
       "model_id": "22f559793298429dbb19dc6fdfacb290",
       "version_major": 2,
       "version_minor": 0
      },
      "text/plain": [
       "  0%|          | 0/3 [00:00<?, ?it/s]"
      ]
     },
     "metadata": {},
     "output_type": "display_data"
    },
    {
     "name": "stderr",
     "output_type": "stream",
     "text": [
      "20:24:38 - cmdstanpy - INFO - Chain [1] start processing\n",
      "20:24:38 - cmdstanpy - INFO - Chain [1] done processing\n",
      "20:24:39 - cmdstanpy - INFO - Chain [1] start processing\n",
      "20:24:39 - cmdstanpy - INFO - Chain [1] done processing\n",
      "20:24:39 - cmdstanpy - INFO - Chain [1] start processing\n",
      "20:24:39 - cmdstanpy - INFO - Chain [1] done processing\n",
      "20:24:40 - cmdstanpy - INFO - Chain [1] start processing\n",
      "20:24:40 - cmdstanpy - INFO - Chain [1] done processing\n"
     ]
    },
    {
     "data": {
      "application/vnd.jupyter.widget-view+json": {
       "model_id": "9dea0f472ccd483dbc38c391d3abbfb3",
       "version_major": 2,
       "version_minor": 0
      },
      "text/plain": [
       "  0%|          | 0/3 [00:00<?, ?it/s]"
      ]
     },
     "metadata": {},
     "output_type": "display_data"
    },
    {
     "name": "stderr",
     "output_type": "stream",
     "text": [
      "20:24:40 - cmdstanpy - INFO - Chain [1] start processing\n",
      "20:24:40 - cmdstanpy - INFO - Chain [1] done processing\n",
      "20:24:41 - cmdstanpy - INFO - Chain [1] start processing\n",
      "20:24:41 - cmdstanpy - INFO - Chain [1] done processing\n",
      "20:24:41 - cmdstanpy - INFO - Chain [1] start processing\n",
      "20:24:41 - cmdstanpy - INFO - Chain [1] done processing\n",
      "20:24:42 - cmdstanpy - INFO - Chain [1] start processing\n",
      "20:24:42 - cmdstanpy - INFO - Chain [1] done processing\n"
     ]
    },
    {
     "data": {
      "application/vnd.jupyter.widget-view+json": {
       "model_id": "ae7f04494f794442bda713e84cbcec22",
       "version_major": 2,
       "version_minor": 0
      },
      "text/plain": [
       "  0%|          | 0/3 [00:00<?, ?it/s]"
      ]
     },
     "metadata": {},
     "output_type": "display_data"
    },
    {
     "name": "stderr",
     "output_type": "stream",
     "text": [
      "20:24:42 - cmdstanpy - INFO - Chain [1] start processing\n",
      "20:24:42 - cmdstanpy - INFO - Chain [1] done processing\n",
      "20:24:43 - cmdstanpy - INFO - Chain [1] start processing\n",
      "20:24:43 - cmdstanpy - INFO - Chain [1] done processing\n",
      "20:24:43 - cmdstanpy - INFO - Chain [1] start processing\n",
      "20:24:43 - cmdstanpy - INFO - Chain [1] done processing\n",
      "20:24:44 - cmdstanpy - INFO - Chain [1] start processing\n",
      "20:24:44 - cmdstanpy - INFO - Chain [1] done processing\n"
     ]
    },
    {
     "data": {
      "application/vnd.jupyter.widget-view+json": {
       "model_id": "03bd2589b65b4f33b1e58473885b6ca3",
       "version_major": 2,
       "version_minor": 0
      },
      "text/plain": [
       "  0%|          | 0/3 [00:00<?, ?it/s]"
      ]
     },
     "metadata": {},
     "output_type": "display_data"
    },
    {
     "name": "stderr",
     "output_type": "stream",
     "text": [
      "20:24:44 - cmdstanpy - INFO - Chain [1] start processing\n",
      "20:24:44 - cmdstanpy - INFO - Chain [1] done processing\n",
      "20:24:45 - cmdstanpy - INFO - Chain [1] start processing\n",
      "20:24:45 - cmdstanpy - INFO - Chain [1] done processing\n",
      "20:24:45 - cmdstanpy - INFO - Chain [1] start processing\n",
      "20:24:45 - cmdstanpy - INFO - Chain [1] done processing\n",
      "20:24:46 - cmdstanpy - INFO - Chain [1] start processing\n",
      "20:24:46 - cmdstanpy - INFO - Chain [1] done processing\n"
     ]
    },
    {
     "data": {
      "application/vnd.jupyter.widget-view+json": {
       "model_id": "3777811c1e584574b0cb9870ce467979",
       "version_major": 2,
       "version_minor": 0
      },
      "text/plain": [
       "  0%|          | 0/3 [00:00<?, ?it/s]"
      ]
     },
     "metadata": {},
     "output_type": "display_data"
    },
    {
     "name": "stderr",
     "output_type": "stream",
     "text": [
      "20:24:46 - cmdstanpy - INFO - Chain [1] start processing\n",
      "20:24:46 - cmdstanpy - INFO - Chain [1] done processing\n",
      "20:24:47 - cmdstanpy - INFO - Chain [1] start processing\n",
      "20:24:47 - cmdstanpy - INFO - Chain [1] done processing\n",
      "20:24:47 - cmdstanpy - INFO - Chain [1] start processing\n",
      "20:24:47 - cmdstanpy - INFO - Chain [1] done processing\n",
      "20:24:48 - cmdstanpy - INFO - Chain [1] start processing\n",
      "20:24:48 - cmdstanpy - INFO - Chain [1] done processing\n"
     ]
    },
    {
     "data": {
      "application/vnd.jupyter.widget-view+json": {
       "model_id": "6e300a67d83049a4a1f3d36bfc2099b8",
       "version_major": 2,
       "version_minor": 0
      },
      "text/plain": [
       "  0%|          | 0/3 [00:00<?, ?it/s]"
      ]
     },
     "metadata": {},
     "output_type": "display_data"
    },
    {
     "name": "stderr",
     "output_type": "stream",
     "text": [
      "20:24:48 - cmdstanpy - INFO - Chain [1] start processing\n",
      "20:24:48 - cmdstanpy - INFO - Chain [1] done processing\n",
      "20:24:48 - cmdstanpy - INFO - Chain [1] start processing\n",
      "20:24:48 - cmdstanpy - INFO - Chain [1] done processing\n",
      "20:24:49 - cmdstanpy - INFO - Chain [1] start processing\n",
      "20:24:49 - cmdstanpy - INFO - Chain [1] done processing\n",
      "20:24:50 - cmdstanpy - INFO - Chain [1] start processing\n",
      "20:24:50 - cmdstanpy - INFO - Chain [1] done processing\n"
     ]
    },
    {
     "data": {
      "application/vnd.jupyter.widget-view+json": {
       "model_id": "b46fe505cb694b15813693b1b877a62c",
       "version_major": 2,
       "version_minor": 0
      },
      "text/plain": [
       "  0%|          | 0/3 [00:00<?, ?it/s]"
      ]
     },
     "metadata": {},
     "output_type": "display_data"
    },
    {
     "name": "stderr",
     "output_type": "stream",
     "text": [
      "20:24:50 - cmdstanpy - INFO - Chain [1] start processing\n",
      "20:24:50 - cmdstanpy - INFO - Chain [1] done processing\n",
      "20:24:50 - cmdstanpy - INFO - Chain [1] start processing\n",
      "20:24:51 - cmdstanpy - INFO - Chain [1] done processing\n",
      "20:24:51 - cmdstanpy - INFO - Chain [1] start processing\n",
      "20:24:51 - cmdstanpy - INFO - Chain [1] done processing\n",
      "20:24:52 - cmdstanpy - INFO - Chain [1] start processing\n"
     ]
    },
    {
     "name": "stdout",
     "output_type": "stream",
     "text": [
      "Best parameters: {'changepoint_prior_scale': 0.015, 'changepoint_range': 0.4}, Best RMSE: 44.48570016135034\n"
     ]
    },
    {
     "name": "stderr",
     "output_type": "stream",
     "text": [
      "20:24:52 - cmdstanpy - INFO - Chain [1] done processing\n",
      "20:24:53 - cmdstanpy - INFO - Chain [1] start processing\n",
      "20:24:53 - cmdstanpy - INFO - Chain [1] done processing\n"
     ]
    },
    {
     "data": {
      "application/vnd.jupyter.widget-view+json": {
       "model_id": "a712c44c416c41129b30a6b221f694d4",
       "version_major": 2,
       "version_minor": 0
      },
      "text/plain": [
       "  0%|          | 0/3 [00:00<?, ?it/s]"
      ]
     },
     "metadata": {},
     "output_type": "display_data"
    },
    {
     "name": "stderr",
     "output_type": "stream",
     "text": [
      "20:24:53 - cmdstanpy - INFO - Chain [1] start processing\n",
      "20:24:53 - cmdstanpy - INFO - Chain [1] done processing\n",
      "20:24:53 - cmdstanpy - INFO - Chain [1] start processing\n",
      "20:24:53 - cmdstanpy - INFO - Chain [1] done processing\n",
      "20:24:54 - cmdstanpy - INFO - Chain [1] start processing\n",
      "20:24:54 - cmdstanpy - INFO - Chain [1] done processing\n",
      "20:24:54 - cmdstanpy - INFO - Chain [1] start processing\n",
      "20:24:54 - cmdstanpy - INFO - Chain [1] done processing\n"
     ]
    },
    {
     "data": {
      "application/vnd.jupyter.widget-view+json": {
       "model_id": "8a884e3c414d49348c761c5974cdc2c0",
       "version_major": 2,
       "version_minor": 0
      },
      "text/plain": [
       "  0%|          | 0/3 [00:00<?, ?it/s]"
      ]
     },
     "metadata": {},
     "output_type": "display_data"
    },
    {
     "name": "stderr",
     "output_type": "stream",
     "text": [
      "20:24:55 - cmdstanpy - INFO - Chain [1] start processing\n",
      "20:24:55 - cmdstanpy - INFO - Chain [1] done processing\n",
      "20:24:55 - cmdstanpy - INFO - Chain [1] start processing\n",
      "20:24:55 - cmdstanpy - INFO - Chain [1] done processing\n",
      "20:24:56 - cmdstanpy - INFO - Chain [1] start processing\n",
      "20:24:56 - cmdstanpy - INFO - Chain [1] done processing\n",
      "20:24:56 - cmdstanpy - INFO - Chain [1] start processing\n",
      "20:24:56 - cmdstanpy - INFO - Chain [1] done processing\n"
     ]
    },
    {
     "data": {
      "application/vnd.jupyter.widget-view+json": {
       "model_id": "d8b4d3e7e27f4140862dcacfa38ebb35",
       "version_major": 2,
       "version_minor": 0
      },
      "text/plain": [
       "  0%|          | 0/3 [00:00<?, ?it/s]"
      ]
     },
     "metadata": {},
     "output_type": "display_data"
    },
    {
     "name": "stderr",
     "output_type": "stream",
     "text": [
      "20:24:56 - cmdstanpy - INFO - Chain [1] start processing\n",
      "20:24:57 - cmdstanpy - INFO - Chain [1] done processing\n",
      "20:24:57 - cmdstanpy - INFO - Chain [1] start processing\n",
      "20:24:57 - cmdstanpy - INFO - Chain [1] done processing\n",
      "20:24:57 - cmdstanpy - INFO - Chain [1] start processing\n",
      "20:24:57 - cmdstanpy - INFO - Chain [1] done processing\n",
      "20:24:58 - cmdstanpy - INFO - Chain [1] start processing\n",
      "20:24:58 - cmdstanpy - INFO - Chain [1] done processing\n"
     ]
    },
    {
     "data": {
      "application/vnd.jupyter.widget-view+json": {
       "model_id": "e0fa61f584504dd8aab4046a1cdf99b5",
       "version_major": 2,
       "version_minor": 0
      },
      "text/plain": [
       "  0%|          | 0/3 [00:00<?, ?it/s]"
      ]
     },
     "metadata": {},
     "output_type": "display_data"
    },
    {
     "name": "stderr",
     "output_type": "stream",
     "text": [
      "20:24:58 - cmdstanpy - INFO - Chain [1] start processing\n",
      "20:24:58 - cmdstanpy - INFO - Chain [1] done processing\n",
      "20:24:59 - cmdstanpy - INFO - Chain [1] start processing\n",
      "20:24:59 - cmdstanpy - INFO - Chain [1] done processing\n",
      "20:24:59 - cmdstanpy - INFO - Chain [1] start processing\n",
      "20:24:59 - cmdstanpy - INFO - Chain [1] done processing\n",
      "20:25:00 - cmdstanpy - INFO - Chain [1] start processing\n",
      "20:25:00 - cmdstanpy - INFO - Chain [1] done processing\n"
     ]
    },
    {
     "data": {
      "application/vnd.jupyter.widget-view+json": {
       "model_id": "1916fb261d194c618bda7e333dd0a0a1",
       "version_major": 2,
       "version_minor": 0
      },
      "text/plain": [
       "  0%|          | 0/3 [00:00<?, ?it/s]"
      ]
     },
     "metadata": {},
     "output_type": "display_data"
    },
    {
     "name": "stderr",
     "output_type": "stream",
     "text": [
      "20:25:00 - cmdstanpy - INFO - Chain [1] start processing\n",
      "20:25:00 - cmdstanpy - INFO - Chain [1] done processing\n",
      "20:25:01 - cmdstanpy - INFO - Chain [1] start processing\n",
      "20:25:01 - cmdstanpy - INFO - Chain [1] done processing\n",
      "20:25:01 - cmdstanpy - INFO - Chain [1] start processing\n",
      "20:25:01 - cmdstanpy - INFO - Chain [1] done processing\n",
      "20:25:02 - cmdstanpy - INFO - Chain [1] start processing\n",
      "20:25:02 - cmdstanpy - INFO - Chain [1] done processing\n"
     ]
    },
    {
     "data": {
      "application/vnd.jupyter.widget-view+json": {
       "model_id": "96b5a5d49df94181a31d3602c7bcf04a",
       "version_major": 2,
       "version_minor": 0
      },
      "text/plain": [
       "  0%|          | 0/3 [00:00<?, ?it/s]"
      ]
     },
     "metadata": {},
     "output_type": "display_data"
    },
    {
     "name": "stderr",
     "output_type": "stream",
     "text": [
      "20:25:02 - cmdstanpy - INFO - Chain [1] start processing\n",
      "20:25:02 - cmdstanpy - INFO - Chain [1] done processing\n",
      "20:25:02 - cmdstanpy - INFO - Chain [1] start processing\n",
      "20:25:03 - cmdstanpy - INFO - Chain [1] done processing\n",
      "20:25:03 - cmdstanpy - INFO - Chain [1] start processing\n",
      "20:25:03 - cmdstanpy - INFO - Chain [1] done processing\n",
      "20:25:04 - cmdstanpy - INFO - Chain [1] start processing\n",
      "20:25:04 - cmdstanpy - INFO - Chain [1] done processing\n"
     ]
    },
    {
     "data": {
      "application/vnd.jupyter.widget-view+json": {
       "model_id": "ef4b735e825245fd8ff6a3547795ff7d",
       "version_major": 2,
       "version_minor": 0
      },
      "text/plain": [
       "  0%|          | 0/3 [00:00<?, ?it/s]"
      ]
     },
     "metadata": {},
     "output_type": "display_data"
    },
    {
     "name": "stderr",
     "output_type": "stream",
     "text": [
      "20:25:04 - cmdstanpy - INFO - Chain [1] start processing\n",
      "20:25:04 - cmdstanpy - INFO - Chain [1] done processing\n",
      "20:25:04 - cmdstanpy - INFO - Chain [1] start processing\n",
      "20:25:04 - cmdstanpy - INFO - Chain [1] done processing\n",
      "20:25:05 - cmdstanpy - INFO - Chain [1] start processing\n",
      "20:25:05 - cmdstanpy - INFO - Chain [1] done processing\n",
      "20:25:06 - cmdstanpy - INFO - Chain [1] start processing\n",
      "20:25:06 - cmdstanpy - INFO - Chain [1] done processing\n"
     ]
    },
    {
     "data": {
      "application/vnd.jupyter.widget-view+json": {
       "model_id": "3d09981b59c54535ac03c70cff0cdb04",
       "version_major": 2,
       "version_minor": 0
      },
      "text/plain": [
       "  0%|          | 0/3 [00:00<?, ?it/s]"
      ]
     },
     "metadata": {},
     "output_type": "display_data"
    },
    {
     "name": "stderr",
     "output_type": "stream",
     "text": [
      "20:25:06 - cmdstanpy - INFO - Chain [1] start processing\n",
      "20:25:06 - cmdstanpy - INFO - Chain [1] done processing\n",
      "20:25:06 - cmdstanpy - INFO - Chain [1] start processing\n",
      "20:25:06 - cmdstanpy - INFO - Chain [1] done processing\n",
      "20:25:07 - cmdstanpy - INFO - Chain [1] start processing\n",
      "20:25:07 - cmdstanpy - INFO - Chain [1] done processing\n",
      "20:25:07 - cmdstanpy - INFO - Chain [1] start processing\n",
      "20:25:07 - cmdstanpy - INFO - Chain [1] done processing\n"
     ]
    },
    {
     "data": {
      "application/vnd.jupyter.widget-view+json": {
       "model_id": "eeee921bfe3242bea4e64c0d14ce08e5",
       "version_major": 2,
       "version_minor": 0
      },
      "text/plain": [
       "  0%|          | 0/3 [00:00<?, ?it/s]"
      ]
     },
     "metadata": {},
     "output_type": "display_data"
    },
    {
     "name": "stderr",
     "output_type": "stream",
     "text": [
      "20:25:08 - cmdstanpy - INFO - Chain [1] start processing\n",
      "20:25:08 - cmdstanpy - INFO - Chain [1] done processing\n",
      "20:25:08 - cmdstanpy - INFO - Chain [1] start processing\n",
      "20:25:08 - cmdstanpy - INFO - Chain [1] done processing\n",
      "20:25:09 - cmdstanpy - INFO - Chain [1] start processing\n",
      "20:25:09 - cmdstanpy - INFO - Chain [1] done processing\n",
      "20:25:09 - cmdstanpy - INFO - Chain [1] start processing\n",
      "20:25:09 - cmdstanpy - INFO - Chain [1] done processing\n"
     ]
    },
    {
     "data": {
      "application/vnd.jupyter.widget-view+json": {
       "model_id": "6636a5a4ef5b4e87a5e50fab7c5a8005",
       "version_major": 2,
       "version_minor": 0
      },
      "text/plain": [
       "  0%|          | 0/3 [00:00<?, ?it/s]"
      ]
     },
     "metadata": {},
     "output_type": "display_data"
    },
    {
     "name": "stderr",
     "output_type": "stream",
     "text": [
      "20:25:10 - cmdstanpy - INFO - Chain [1] start processing\n",
      "20:25:10 - cmdstanpy - INFO - Chain [1] done processing\n",
      "20:25:10 - cmdstanpy - INFO - Chain [1] start processing\n",
      "20:25:10 - cmdstanpy - INFO - Chain [1] done processing\n",
      "20:25:11 - cmdstanpy - INFO - Chain [1] start processing\n",
      "20:25:11 - cmdstanpy - INFO - Chain [1] done processing\n",
      "20:25:11 - cmdstanpy - INFO - Chain [1] start processing\n",
      "20:25:11 - cmdstanpy - INFO - Chain [1] done processing\n"
     ]
    },
    {
     "data": {
      "application/vnd.jupyter.widget-view+json": {
       "model_id": "a979f898b9ca4fb798fa7ef420c0e3be",
       "version_major": 2,
       "version_minor": 0
      },
      "text/plain": [
       "  0%|          | 0/3 [00:00<?, ?it/s]"
      ]
     },
     "metadata": {},
     "output_type": "display_data"
    },
    {
     "name": "stderr",
     "output_type": "stream",
     "text": [
      "20:25:11 - cmdstanpy - INFO - Chain [1] start processing\n",
      "20:25:11 - cmdstanpy - INFO - Chain [1] done processing\n",
      "20:25:12 - cmdstanpy - INFO - Chain [1] start processing\n",
      "20:25:12 - cmdstanpy - INFO - Chain [1] done processing\n",
      "20:25:12 - cmdstanpy - INFO - Chain [1] start processing\n",
      "20:25:12 - cmdstanpy - INFO - Chain [1] done processing\n",
      "20:25:13 - cmdstanpy - INFO - Chain [1] start processing\n",
      "20:25:13 - cmdstanpy - INFO - Chain [1] done processing\n"
     ]
    },
    {
     "data": {
      "application/vnd.jupyter.widget-view+json": {
       "model_id": "ec4a3cbc993b4404b9fde8932af77364",
       "version_major": 2,
       "version_minor": 0
      },
      "text/plain": [
       "  0%|          | 0/3 [00:00<?, ?it/s]"
      ]
     },
     "metadata": {},
     "output_type": "display_data"
    },
    {
     "name": "stderr",
     "output_type": "stream",
     "text": [
      "20:25:13 - cmdstanpy - INFO - Chain [1] start processing\n",
      "20:25:13 - cmdstanpy - INFO - Chain [1] done processing\n",
      "20:25:14 - cmdstanpy - INFO - Chain [1] start processing\n",
      "20:25:14 - cmdstanpy - INFO - Chain [1] done processing\n",
      "20:25:14 - cmdstanpy - INFO - Chain [1] start processing\n",
      "20:25:14 - cmdstanpy - INFO - Chain [1] done processing\n",
      "20:25:15 - cmdstanpy - INFO - Chain [1] start processing\n",
      "20:25:15 - cmdstanpy - INFO - Chain [1] done processing\n"
     ]
    },
    {
     "data": {
      "application/vnd.jupyter.widget-view+json": {
       "model_id": "cf2451742a0e4cb78115ef1e987e295e",
       "version_major": 2,
       "version_minor": 0
      },
      "text/plain": [
       "  0%|          | 0/3 [00:00<?, ?it/s]"
      ]
     },
     "metadata": {},
     "output_type": "display_data"
    },
    {
     "name": "stderr",
     "output_type": "stream",
     "text": [
      "20:25:15 - cmdstanpy - INFO - Chain [1] start processing\n",
      "20:25:15 - cmdstanpy - INFO - Chain [1] done processing\n",
      "20:25:15 - cmdstanpy - INFO - Chain [1] start processing\n",
      "20:25:15 - cmdstanpy - INFO - Chain [1] done processing\n",
      "20:25:16 - cmdstanpy - INFO - Chain [1] start processing\n",
      "20:25:16 - cmdstanpy - INFO - Chain [1] done processing\n",
      "20:25:17 - cmdstanpy - INFO - Chain [1] start processing\n",
      "20:25:17 - cmdstanpy - INFO - Chain [1] done processing\n"
     ]
    },
    {
     "data": {
      "application/vnd.jupyter.widget-view+json": {
       "model_id": "85fc6b6ec76f482dbea39f4408771ecd",
       "version_major": 2,
       "version_minor": 0
      },
      "text/plain": [
       "  0%|          | 0/3 [00:00<?, ?it/s]"
      ]
     },
     "metadata": {},
     "output_type": "display_data"
    },
    {
     "name": "stderr",
     "output_type": "stream",
     "text": [
      "20:25:17 - cmdstanpy - INFO - Chain [1] start processing\n",
      "20:25:17 - cmdstanpy - INFO - Chain [1] done processing\n",
      "20:25:17 - cmdstanpy - INFO - Chain [1] start processing\n",
      "20:25:17 - cmdstanpy - INFO - Chain [1] done processing\n",
      "20:25:18 - cmdstanpy - INFO - Chain [1] start processing\n",
      "20:25:18 - cmdstanpy - INFO - Chain [1] done processing\n",
      "20:25:19 - cmdstanpy - INFO - Chain [1] start processing\n",
      "20:25:19 - cmdstanpy - INFO - Chain [1] done processing\n"
     ]
    },
    {
     "data": {
      "application/vnd.jupyter.widget-view+json": {
       "model_id": "82e342f0296643c894a796e272cef226",
       "version_major": 2,
       "version_minor": 0
      },
      "text/plain": [
       "  0%|          | 0/3 [00:00<?, ?it/s]"
      ]
     },
     "metadata": {},
     "output_type": "display_data"
    },
    {
     "name": "stderr",
     "output_type": "stream",
     "text": [
      "20:25:19 - cmdstanpy - INFO - Chain [1] start processing\n",
      "20:25:19 - cmdstanpy - INFO - Chain [1] done processing\n",
      "20:25:19 - cmdstanpy - INFO - Chain [1] start processing\n",
      "20:25:19 - cmdstanpy - INFO - Chain [1] done processing\n",
      "20:25:20 - cmdstanpy - INFO - Chain [1] start processing\n",
      "20:25:20 - cmdstanpy - INFO - Chain [1] done processing\n",
      "20:25:20 - cmdstanpy - INFO - Chain [1] start processing\n",
      "20:25:20 - cmdstanpy - INFO - Chain [1] done processing\n"
     ]
    },
    {
     "data": {
      "application/vnd.jupyter.widget-view+json": {
       "model_id": "87e209ab34874d01ac714ade9330e00b",
       "version_major": 2,
       "version_minor": 0
      },
      "text/plain": [
       "  0%|          | 0/3 [00:00<?, ?it/s]"
      ]
     },
     "metadata": {},
     "output_type": "display_data"
    },
    {
     "name": "stderr",
     "output_type": "stream",
     "text": [
      "20:25:20 - cmdstanpy - INFO - Chain [1] start processing\n",
      "20:25:20 - cmdstanpy - INFO - Chain [1] done processing\n",
      "20:25:21 - cmdstanpy - INFO - Chain [1] start processing\n",
      "20:25:21 - cmdstanpy - INFO - Chain [1] done processing\n",
      "20:25:21 - cmdstanpy - INFO - Chain [1] start processing\n",
      "20:25:21 - cmdstanpy - INFO - Chain [1] done processing\n",
      "20:25:22 - cmdstanpy - INFO - Chain [1] start processing\n",
      "20:25:22 - cmdstanpy - INFO - Chain [1] done processing\n"
     ]
    },
    {
     "name": "stdout",
     "output_type": "stream",
     "text": [
      "Best parameters: {'changepoint_prior_scale': 0.01, 'changepoint_range': 0.8}, Best RMSE: 132.5407964118087\n",
      "{'AAPL': (162.245201102818, 0.5117837203782618), 'AMZN': (135.83958120011582, 0.34235620705262426), 'TSLA': (225.47236766939122, 0.14586007256911399)}\n"
     ]
    }
   ],
   "source": [
    "tick1 = 'AAPL'\n",
    "tick2 = 'AMZN'\n",
    "tick3 = 'TSLA'\n",
    "tickers = [tick1, tick2, tick3]\n",
    "start = '2020-01-01'\n",
    "end = '2024-01-01'\n",
    "days_to_predict = 92\n",
    "\n",
    "stock_prediction = stock_options_weights(tickers, start, end, days_to_predict)\n",
    "\n",
    "print(stock_prediction)"
   ]
  },
  {
   "cell_type": "code",
   "execution_count": null,
   "id": "3f2dba6a",
   "metadata": {},
   "outputs": [],
   "source": []
  },
  {
   "cell_type": "code",
   "execution_count": null,
   "id": "6509b49e",
   "metadata": {},
   "outputs": [],
   "source": []
  },
  {
   "cell_type": "code",
   "execution_count": null,
   "id": "d76b2e25",
   "metadata": {},
   "outputs": [],
   "source": []
  },
  {
   "cell_type": "code",
   "execution_count": null,
   "id": "938635dd",
   "metadata": {},
   "outputs": [],
   "source": []
  }
 ],
 "metadata": {
  "kernelspec": {
   "display_name": "Python 3 (ipykernel)",
   "language": "python",
   "name": "python3"
  },
  "language_info": {
   "codemirror_mode": {
    "name": "ipython",
    "version": 3
   },
   "file_extension": ".py",
   "mimetype": "text/x-python",
   "name": "python",
   "nbconvert_exporter": "python",
   "pygments_lexer": "ipython3",
   "version": "3.9.5"
  }
 },
 "nbformat": 4,
 "nbformat_minor": 5
}
